{
  "nbformat": 4,
  "nbformat_minor": 0,
  "metadata": {
    "colab": {
      "name": "ccf ml gp",
      "provenance": [],
      "authorship_tag": "ABX9TyOx9yE7mV4iDBMJIqdOb1li",
      "include_colab_link": true
    },
    "kernelspec": {
      "name": "python3",
      "display_name": "Python 3"
    }
  },
  "cells": [
    {
      "cell_type": "markdown",
      "metadata": {
        "id": "view-in-github",
        "colab_type": "text"
      },
      "source": [
        "<a href=\"https://colab.research.google.com/github/toastmaker/ccf/blob/master/ccf_ml_gp.ipynb\" target=\"_parent\"><img src=\"https://colab.research.google.com/assets/colab-badge.svg\" alt=\"Open In Colab\"/></a>"
      ]
    },
    {
      "cell_type": "code",
      "metadata": {
        "id": "JsX6TetzOkDX",
        "colab_type": "code",
        "colab": {}
      },
      "source": [
        "import numpy as np\n",
        "import matplotlib.pyplot  as plt\n",
        "from keras.models import Sequential\n",
        "from keras.layers import Dense, Flatten, Dropout"
      ],
      "execution_count": null,
      "outputs": []
    },
    {
      "cell_type": "code",
      "metadata": {
        "id": "avHkAk9uQAJu",
        "colab_type": "code",
        "colab": {
          "base_uri": "https://localhost:8080/",
          "height": 54
        },
        "outputId": "e2aebb21-6cbd-4078-d1fa-7437096c7f28"
      },
      "source": [
        "from google.colab import drive\n",
        "drive.mount('/content/drive')"
      ],
      "execution_count": null,
      "outputs": [
        {
          "output_type": "stream",
          "text": [
            "Drive already mounted at /content/drive; to attempt to forcibly remount, call drive.mount(\"/content/drive\", force_remount=True).\n"
          ],
          "name": "stdout"
        }
      ]
    },
    {
      "cell_type": "code",
      "metadata": {
        "id": "uej-uT_9QkB3",
        "colab_type": "code",
        "colab": {
          "base_uri": "https://localhost:8080/",
          "height": 34
        },
        "outputId": "f69b1ff2-722c-448d-cc98-d8a85f822d93"
      },
      "source": [
        "copypath = '/content/drive/My Drive/data/lightcurve_array.npz'\n",
        "npz=np.load(copypath)\n",
        "xdata=npz['lc'][:,:-1] # to make the legth of the two concatenated light curves an even number\n",
        "ydata=npz['delay']\n",
        "xdata.shape"
      ],
      "execution_count": null,
      "outputs": [
        {
          "output_type": "execute_result",
          "data": {
            "text/plain": [
              "(9999, 9998)"
            ]
          },
          "metadata": {
            "tags": []
          },
          "execution_count": 3
        }
      ]
    },
    {
      "cell_type": "code",
      "metadata": {
        "id": "8SBH5qReaRFM",
        "colab_type": "code",
        "colab": {}
      },
      "source": [
        "xdata = xdata/np.max(xdata,axis=1)[:,np.newaxis]"
      ],
      "execution_count": null,
      "outputs": []
    },
    {
      "cell_type": "code",
      "metadata": {
        "id": "N9lFjPfsQ8Hd",
        "colab_type": "code",
        "colab": {
          "base_uri": "https://localhost:8080/",
          "height": 282
        },
        "outputId": "7dbe46ac-73f4-444a-bd91-85f478f2393c"
      },
      "source": [
        "lc0 = xdata[0]\n",
        "plt.plot(lc0)\n",
        "print(\"Delay is {:.3f}\".format(ydata[0]))"
      ],
      "execution_count": null,
      "outputs": [
        {
          "output_type": "stream",
          "text": [
            "Delay is 0.050\n"
          ],
          "name": "stdout"
        },
        {
          "output_type": "display_data",
          "data": {
            "image/png": "[encoded data removed]",
            "text/plain": [
              "<Figure size 432x288 with 1 Axes>"
            ]
          },
          "metadata": {
            "tags": [],
            "needs_background": "light"
          }
        }
      ]
    },
    {
      "cell_type": "code",
      "metadata": {
        "id": "AB0X72vnRGuR",
        "colab_type": "code",
        "colab": {}
      },
      "source": [
        "def ccf(x):\n",
        "  half = len(x)//2\n",
        "  a, b = x[0:half], x[half:]\n",
        "  a = (a - np.mean(a)) / (np.std(a) * len(a))\n",
        "  b = (b - np.mean(b)) / (np.std(b))\n",
        "  return np.correlate(a,b,'same')"
      ],
      "execution_count": null,
      "outputs": []
    },
    {
      "cell_type": "code",
      "metadata": {
        "id": "eNPbQ9ACRcUe",
        "colab_type": "code",
        "colab": {}
      },
      "source": [
        "def ccf_cumsum(x,dd=False):\n",
        "  half = len(x)//2 \n",
        "  cs1 = np.cumsum(x[0:half])\n",
        "  cs2 = np.cumsum(x[half:])\n",
        "  cs1 /= np.max(cs1)\n",
        "  cs2 /= np.max(cs2)\n",
        "  if dd:\n",
        "    cs1 = np.diff(np.diff(cs1))\n",
        "    cs2 = np.diff(np.diff(cs2))\n",
        "  return np.correlate(cs1,cs2,'same')"
      ],
      "execution_count": null,
      "outputs": []
    },
    {
      "cell_type": "code",
      "metadata": {
        "id": "BF4HOly3SWxh",
        "colab_type": "code",
        "colab": {
          "base_uri": "https://localhost:8080/",
          "height": 283
        },
        "outputId": "d734c7cc-d3c4-429c-d456-0ca39dfe2384"
      },
      "source": [
        "ccf_lc0 = ccf(lc0)\n",
        "plt.plot(ccf_lc0)\n",
        "np.argmax(ccf_lc0)"
      ],
      "execution_count": null,
      "outputs": [
        {
          "output_type": "execute_result",
          "data": {
            "text/plain": [
              "2448"
            ]
          },
          "metadata": {
            "tags": []
          },
          "execution_count": 8
        },
        {
          "output_type": "display_data",
          "data": {
            "image/png": "[encoded data removed]",
            "text/plain": [
              "<Figure size 432x288 with 1 Axes>"
            ]
          },
          "metadata": {
            "tags": [],
            "needs_background": "light"
          }
        }
      ]
    },
    {
      "cell_type": "code",
      "metadata": {
        "id": "KRwuccgFVwnD",
        "colab_type": "code",
        "colab": {}
      },
      "source": [
        "ccfdata = np.apply_along_axis(func1d=ccf, axis=1, arr=xdata)"
      ],
      "execution_count": null,
      "outputs": []
    },
    {
      "cell_type": "code",
      "metadata": {
        "id": "0ibW8H50S6to",
        "colab_type": "code",
        "colab": {
          "base_uri": "https://localhost:8080/",
          "height": 34
        },
        "outputId": "9b6555ee-df7c-41ee-d4cf-6fd93580be06"
      },
      "source": [
        "ccfdata.shape"
      ],
      "execution_count": 10,
      "outputs": [
        {
          "output_type": "execute_result",
          "data": {
            "text/plain": [
              "(9999, 4999)"
            ]
          },
          "metadata": {
            "tags": []
          },
          "execution_count": 10
        }
      ]
    },
    {
      "cell_type": "code",
      "metadata": {
        "id": "CxE6fE6-SgoR",
        "colab_type": "code",
        "colab": {}
      },
      "source": [
        ""
      ],
      "execution_count": null,
      "outputs": []
    },
    {
      "cell_type": "code",
      "metadata": {
        "id": "B7oHfLj0Ssbs",
        "colab_type": "code",
        "colab": {
          "base_uri": "https://localhost:8080/",
          "height": 283
        },
        "outputId": "6caa131a-a588-4375-fa03-debf30adf733"
      },
      "source": [
        "ccfdata_preview =  ccfdata[0]\n",
        "plt.plot(ccfdata_preview)"
      ],
      "execution_count": 11,
      "outputs": [
        {
          "output_type": "execute_result",
          "data": {
            "text/plain": [
              "[<matplotlib.lines.Line2D at 0x7fb21adf86d8>]"
            ]
          },
          "metadata": {
            "tags": []
          },
          "execution_count": 11
        },
        {
          "output_type": "display_data",
          "data": {
            "image/png": "[encoded data removed]",
            "text/plain": [
              "<Figure size 432x288 with 1 Axes>"
            ]
          },
          "metadata": {
            "tags": [],
            "needs_background": "light"
          }
        }
      ]
    },
    {
      "cell_type": "code",
      "metadata": {
        "id": "ViRWI3d8eiTB",
        "colab_type": "code",
        "colab": {
          "base_uri": "https://localhost:8080/",
          "height": 299
        },
        "outputId": "d24f50a4-44cf-425c-f735-4815a532afc3"
      },
      "source": [
        "nbins_full = ccfdata.shape[1]\n",
        "xtrain = np.copy(ccfdata[:,nbins_full//2-250:nbins_full//2+250])\n",
        "#z = (x - u) / s\n",
        "xtrain = (xtrain - np.mean(xtrain, axis=1)[:,None])/np.std(xtrain,axis=1)[:,None]\n",
        "plt.plot(xtrain[0])\n",
        "print(np.mean(xtrain[0]), np.std(xtrain[0]))\n",
        "xtrain.shape"
      ],
      "execution_count": 14,
      "outputs": [
        {
          "output_type": "stream",
          "text": [
            "8.526512829121202e-17 1.0\n"
          ],
          "name": "stdout"
        },
        {
          "output_type": "execute_result",
          "data": {
            "text/plain": [
              "(9999, 500)"
            ]
          },
          "metadata": {
            "tags": []
          },
          "execution_count": 14
        },
        {
          "output_type": "display_data",
          "data": {
            "image/png": "[encoded data removed]",
            "text/plain": [
              "<Figure size 432x288 with 1 Axes>"
            ]
          },
          "metadata": {
            "tags": [],
            "needs_background": "light"
          }
        }
      ]
    },
    {
      "cell_type": "code",
      "metadata": {
        "id": "lSRBsbeSgB72",
        "colab_type": "code",
        "colab": {}
      },
      "source": [
        "from sklearn.gaussian_process import GaussianProcessRegressor\n",
        "from sklearn.gaussian_process.kernels import RBF, DotProduct, WhiteKernel"
      ],
      "execution_count": 15,
      "outputs": []
    },
    {
      "cell_type": "code",
      "metadata": {
        "id": "eU4p03fqfFjU",
        "colab_type": "code",
        "colab": {}
      },
      "source": [
        "def gprocess(x, downsample=2):\n",
        "  n = len(x)\n",
        "  kernel = 1.0*RBF(2.0) + WhiteKernel()\n",
        "  gp = GaussianProcessRegressor(kernel=kernel, random_state=0)\n",
        "  X = np.atleast_2d(np.linspace(0,n,n)).T\n",
        "  y = np.atleast_2d(x).T\n",
        "  gp.fit(X,y)\n",
        "  X2 = np.atleast_2d(np.linspace(0, n, downsample*n)).T\n",
        "  f = gp.predict(X2)\n",
        "  return f.ravel()"
      ],
      "execution_count": 16,
      "outputs": []
    },
    {
      "cell_type": "code",
      "metadata": {
        "id": "usECdpVLgdMy",
        "colab_type": "code",
        "colab": {
          "base_uri": "https://localhost:8080/",
          "height": 282
        },
        "outputId": "523612bf-2a84-4b35-d09a-b0db4c50a3fa"
      },
      "source": [
        "downsample = 4\n",
        "gp_smooth = gprocess(xtrain[0], downsample=downsample)\n",
        "n = len(xtrain[0])\n",
        "plt.plot(np.linspace(0, n, n), xtrain[0])\n",
        "plt.plot(np.linspace(0, n, downsample*n), gp_smooth)"
      ],
      "execution_count": 17,
      "outputs": [
        {
          "output_type": "execute_result",
          "data": {
            "text/plain": [
              "[<matplotlib.lines.Line2D at 0x7fb21316af60>]"
            ]
          },
          "metadata": {
            "tags": []
          },
          "execution_count": 17
        },
        {
          "output_type": "display_data",
          "data": {
            "image/png": "[encoded data removed]",
            "text/plain": [
              "<Figure size 432x288 with 1 Axes>"
            ]
          },
          "metadata": {
            "tags": [],
            "needs_background": "light"
          }
        }
      ]
    },
    {
      "cell_type": "code",
      "metadata": {
        "id": "Z4ZGfOkOmHt8",
        "colab_type": "code",
        "colab": {
          "base_uri": "https://localhost:8080/",
          "height": 1000
        },
        "outputId": "5a6d238a-f86f-4332-b84b-5797c333caea"
      },
      "source": [
        "Nsamples = xtrain.shape[0]\n",
        "kernel = 1.0*RBF(2.0) + WhiteKernel()\n",
        "gp = GaussianProcessRegressor(kernel=kernel, random_state=0)\n",
        "X = np.atleast_2d(np.linspace(0,n,n)).T\n",
        "X2 = np.atleast_2d(np.linspace(0, n, downsample*n)).T\n",
        "xtrain_smooth = np.empty((Nsamples, downsample*n))\n",
        "for i in range(Nsamples):\n",
        "  y = xtrain[i,:]\n",
        "  gp.fit(X,y)\n",
        "  if i%100 == 0:\n",
        "    print(f'Step {i} of {Nsamples}')\n",
        "  xtrain_smooth[i,:] = gp.predict(X2)"
      ],
      "execution_count": 21,
      "outputs": [
        {
          "output_type": "stream",
          "text": [
            "Step 0 of 9999\n",
            "Step 100 of 9999\n",
            "Step 200 of 9999\n",
            "Step 300 of 9999\n",
            "Step 400 of 9999\n",
            "Step 500 of 9999\n",
            "Step 600 of 9999\n",
            "Step 700 of 9999\n",
            "Step 800 of 9999\n",
            "Step 900 of 9999\n",
            "Step 1000 of 9999\n",
            "Step 1100 of 9999\n",
            "Step 1200 of 9999\n",
            "Step 1300 of 9999\n",
            "Step 1400 of 9999\n",
            "Step 1500 of 9999\n",
            "Step 1600 of 9999\n",
            "Step 1700 of 9999\n",
            "Step 1800 of 9999\n",
            "Step 1900 of 9999\n",
            "Step 2000 of 9999\n",
            "Step 2100 of 9999\n",
            "Step 2200 of 9999\n",
            "Step 2300 of 9999\n",
            "Step 2400 of 9999\n",
            "Step 2500 of 9999\n",
            "Step 2600 of 9999\n",
            "Step 2700 of 9999\n",
            "Step 2800 of 9999\n",
            "Step 2900 of 9999\n",
            "Step 3000 of 9999\n",
            "Step 3100 of 9999\n",
            "Step 3200 of 9999\n",
            "Step 3300 of 9999\n",
            "Step 3400 of 9999\n",
            "Step 3500 of 9999\n",
            "Step 3600 of 9999\n",
            "Step 3700 of 9999\n",
            "Step 3800 of 9999\n",
            "Step 3900 of 9999\n",
            "Step 4000 of 9999\n",
            "Step 4100 of 9999\n",
            "Step 4200 of 9999\n",
            "Step 4300 of 9999\n",
            "Step 4400 of 9999\n",
            "Step 4500 of 9999\n",
            "Step 4600 of 9999\n"
          ],
          "name": "stdout"
        },
        {
          "output_type": "stream",
          "text": [
            "/usr/local/lib/python3.6/dist-packages/sklearn/gaussian_process/_gpr.py:494: ConvergenceWarning: lbfgs failed to converge (status=2):\n",
            "ABNORMAL_TERMINATION_IN_LNSRCH.\n",
            "\n",
            "Increase the number of iterations (max_iter) or scale the data as shown in:\n",
            "    https://scikit-learn.org/stable/modules/preprocessing.html\n",
            "  _check_optimize_result(\"lbfgs\", opt_res)\n"
          ],
          "name": "stderr"
        },
        {
          "output_type": "stream",
          "text": [
            "Step 4700 of 9999\n",
            "Step 4800 of 9999\n",
            "Step 4900 of 9999\n",
            "Step 5000 of 9999\n",
            "Step 5100 of 9999\n",
            "Step 5200 of 9999\n",
            "Step 5300 of 9999\n",
            "Step 5400 of 9999\n",
            "Step 5500 of 9999\n",
            "Step 5600 of 9999\n",
            "Step 5700 of 9999\n",
            "Step 5800 of 9999\n",
            "Step 5900 of 9999\n",
            "Step 6000 of 9999\n",
            "Step 6100 of 9999\n",
            "Step 6200 of 9999\n",
            "Step 6300 of 9999\n",
            "Step 6400 of 9999\n",
            "Step 6500 of 9999\n",
            "Step 6600 of 9999\n",
            "Step 6700 of 9999\n",
            "Step 6800 of 9999\n",
            "Step 6900 of 9999\n",
            "Step 7000 of 9999\n",
            "Step 7100 of 9999\n",
            "Step 7200 of 9999\n",
            "Step 7300 of 9999\n",
            "Step 7400 of 9999\n",
            "Step 7500 of 9999\n",
            "Step 7600 of 9999\n",
            "Step 7700 of 9999\n",
            "Step 7800 of 9999\n",
            "Step 7900 of 9999\n",
            "Step 8000 of 9999\n",
            "Step 8100 of 9999\n",
            "Step 8200 of 9999\n",
            "Step 8300 of 9999\n",
            "Step 8400 of 9999\n",
            "Step 8500 of 9999\n",
            "Step 8600 of 9999\n",
            "Step 8700 of 9999\n",
            "Step 8800 of 9999\n",
            "Step 8900 of 9999\n",
            "Step 9000 of 9999\n",
            "Step 9100 of 9999\n",
            "Step 9200 of 9999\n",
            "Step 9300 of 9999\n",
            "Step 9400 of 9999\n",
            "Step 9500 of 9999\n",
            "Step 9600 of 9999\n",
            "Step 9700 of 9999\n",
            "Step 9800 of 9999\n",
            "Step 9900 of 9999\n"
          ],
          "name": "stdout"
        }
      ]
    },
    {
      "cell_type": "code",
      "metadata": {
        "id": "NrOqbfN3S4UJ",
        "colab_type": "code",
        "colab": {}
      },
      "source": [
        "np.savez('/content/drive/My Drive/data/xtrain.npz',xtrain)"
      ],
      "execution_count": 23,
      "outputs": []
    },
    {
      "cell_type": "code",
      "metadata": {
        "id": "0WPC_oAcSVMQ",
        "colab_type": "code",
        "colab": {}
      },
      "source": [
        "np.savez('/content/drive/My Drive/data/xtrain_smooth.npz',xtrain_smooth)"
      ],
      "execution_count": 22,
      "outputs": []
    },
    {
      "cell_type": "code",
      "metadata": {
        "id": "5h8uY5vWgqZK",
        "colab_type": "code",
        "colab": {}
      },
      "source": [
        "# xtrain_smooth = np.apply_along_axis(func1d=gprocess, axis=1, arr=xtrain, downsample=4)"
      ],
      "execution_count": 24,
      "outputs": []
    },
    {
      "cell_type": "code",
      "metadata": {
        "id": "1HjtH9J7iijy",
        "colab_type": "code",
        "colab": {
          "base_uri": "https://localhost:8080/",
          "height": 34
        },
        "outputId": "6bad7daa-2121-4a7f-89f7-ced3947e5793"
      },
      "source": [
        "from sklearn.model_selection import train_test_split\n",
        "\n",
        "X_train, X_test, y_train, y_test = train_test_split(xtrain, ydata, test_size=0.33, random_state=42)\n",
        "orig_dim=X[0].shape\n",
        "X_train.shape, y_train.shape"
      ],
      "execution_count": 29,
      "outputs": [
        {
          "output_type": "execute_result",
          "data": {
            "text/plain": [
              "((6699, 500), (6699,))"
            ]
          },
          "metadata": {
            "tags": []
          },
          "execution_count": 29
        }
      ]
    },
    {
      "cell_type": "code",
      "metadata": {
        "id": "cxYUhw4dTl-x",
        "colab_type": "code",
        "colab": {}
      },
      "source": [
        "model = Sequential()\n",
        "model.add(Dense(units=48, input_shape=(orig_dim),activation='sigmoid'))\n",
        "model.add(Dropout(0.1))\n",
        "model.add(Dense(units=24,activation='sigmoid'))\n",
        "model.add(Dense(units=1))\n",
        "model.compile(loss='mean_squared_error', optimizer='adamax')"
      ],
      "execution_count": 26,
      "outputs": []
    },
    {
      "cell_type": "code",
      "metadata": {
        "id": "lImH6EcdUID3",
        "colab_type": "code",
        "colab": {
          "base_uri": "https://localhost:8080/",
          "height": 289
        },
        "outputId": "cbc5879c-f202-463c-8d2c-0aff171d5963"
      },
      "source": [
        "model.summary()"
      ],
      "execution_count": 27,
      "outputs": [
        {
          "output_type": "stream",
          "text": [
            "Model: \"sequential\"\n",
            "_________________________________________________________________\n",
            "Layer (type)                 Output Shape              Param #   \n",
            "=================================================================\n",
            "dense (Dense)                (None, 48)                24048     \n",
            "_________________________________________________________________\n",
            "dropout (Dropout)            (None, 48)                0         \n",
            "_________________________________________________________________\n",
            "dense_1 (Dense)              (None, 24)                1176      \n",
            "_________________________________________________________________\n",
            "dense_2 (Dense)              (None, 1)                 25        \n",
            "=================================================================\n",
            "Total params: 25,249\n",
            "Trainable params: 25,249\n",
            "Non-trainable params: 0\n",
            "_________________________________________________________________\n"
          ],
          "name": "stdout"
        }
      ]
    },
    {
      "cell_type": "code",
      "metadata": {
        "id": "F_L_2MkmUI61",
        "colab_type": "code",
        "colab": {
          "base_uri": "https://localhost:8080/",
          "height": 1000
        },
        "outputId": "9077fca6-bbe3-44af-9c18-fe56c0946489"
      },
      "source": [
        "nepochs = 100\n",
        "batch_size = 100\n",
        "history = model.fit(X_train,y_train,epochs=nepochs,batch_size=batch_size, validation_data=(X_test,y_test))"
      ],
      "execution_count": 30,
      "outputs": [
        {
          "output_type": "stream",
          "text": [
            "Epoch 1/100\n",
            "67/67 [==============================] - 0s 3ms/step - loss: 0.0519 - val_loss: 0.0010\n",
            "Epoch 2/100\n",
            "67/67 [==============================] - 0s 2ms/step - loss: 0.0038 - val_loss: 6.2480e-04\n",
            "Epoch 3/100\n",
            "67/67 [==============================] - 0s 2ms/step - loss: 0.0035 - val_loss: 4.8087e-04\n",
            "Epoch 4/100\n",
            "67/67 [==============================] - 0s 2ms/step - loss: 0.0031 - val_loss: 3.7248e-04\n",
            "Epoch 5/100\n",
            "67/67 [==============================] - 0s 2ms/step - loss: 0.0030 - val_loss: 2.8648e-04\n",
            "Epoch 6/100\n",
            "67/67 [==============================] - 0s 2ms/step - loss: 0.0027 - val_loss: 2.4381e-04\n",
            "Epoch 7/100\n",
            "67/67 [==============================] - 0s 2ms/step - loss: 0.0026 - val_loss: 2.2431e-04\n",
            "Epoch 8/100\n",
            "67/67 [==============================] - 0s 2ms/step - loss: 0.0026 - val_loss: 1.9695e-04\n",
            "Epoch 9/100\n",
            "67/67 [==============================] - 0s 2ms/step - loss: 0.0025 - val_loss: 1.9533e-04\n",
            "Epoch 10/100\n",
            "67/67 [==============================] - 0s 2ms/step - loss: 0.0023 - val_loss: 1.8077e-04\n",
            "Epoch 11/100\n",
            "67/67 [==============================] - 0s 2ms/step - loss: 0.0022 - val_loss: 1.7401e-04\n",
            "Epoch 12/100\n",
            "67/67 [==============================] - 0s 2ms/step - loss: 0.0021 - val_loss: 1.5238e-04\n",
            "Epoch 13/100\n",
            "67/67 [==============================] - 0s 2ms/step - loss: 0.0021 - val_loss: 1.4611e-04\n",
            "Epoch 14/100\n",
            "67/67 [==============================] - 0s 2ms/step - loss: 0.0019 - val_loss: 1.4113e-04\n",
            "Epoch 15/100\n",
            "67/67 [==============================] - 0s 2ms/step - loss: 0.0018 - val_loss: 1.2935e-04\n",
            "Epoch 16/100\n",
            "67/67 [==============================] - 0s 2ms/step - loss: 0.0017 - val_loss: 1.3610e-04\n",
            "Epoch 17/100\n",
            "67/67 [==============================] - 0s 2ms/step - loss: 0.0016 - val_loss: 1.1571e-04\n",
            "Epoch 18/100\n",
            "67/67 [==============================] - 0s 2ms/step - loss: 0.0016 - val_loss: 1.1562e-04\n",
            "Epoch 19/100\n",
            "67/67 [==============================] - 0s 2ms/step - loss: 0.0015 - val_loss: 1.0585e-04\n",
            "Epoch 20/100\n",
            "67/67 [==============================] - 0s 2ms/step - loss: 0.0014 - val_loss: 9.9702e-05\n",
            "Epoch 21/100\n",
            "67/67 [==============================] - 0s 2ms/step - loss: 0.0013 - val_loss: 9.4288e-05\n",
            "Epoch 22/100\n",
            "67/67 [==============================] - 0s 2ms/step - loss: 0.0012 - val_loss: 9.6820e-05\n",
            "Epoch 23/100\n",
            "67/67 [==============================] - 0s 2ms/step - loss: 0.0012 - val_loss: 9.5615e-05\n",
            "Epoch 24/100\n",
            "67/67 [==============================] - 0s 2ms/step - loss: 0.0011 - val_loss: 9.4090e-05\n",
            "Epoch 25/100\n",
            "67/67 [==============================] - 0s 2ms/step - loss: 9.8572e-04 - val_loss: 7.9251e-05\n",
            "Epoch 26/100\n",
            "67/67 [==============================] - 0s 2ms/step - loss: 9.2266e-04 - val_loss: 7.8269e-05\n",
            "Epoch 27/100\n",
            "67/67 [==============================] - 0s 2ms/step - loss: 8.7114e-04 - val_loss: 8.0370e-05\n",
            "Epoch 28/100\n",
            "67/67 [==============================] - 0s 2ms/step - loss: 7.8715e-04 - val_loss: 6.4273e-05\n",
            "Epoch 29/100\n",
            "67/67 [==============================] - 0s 2ms/step - loss: 7.2261e-04 - val_loss: 6.1065e-05\n",
            "Epoch 30/100\n",
            "67/67 [==============================] - 0s 2ms/step - loss: 6.8014e-04 - val_loss: 5.2923e-05\n",
            "Epoch 31/100\n",
            "67/67 [==============================] - 0s 2ms/step - loss: 5.9460e-04 - val_loss: 5.4207e-05\n",
            "Epoch 32/100\n",
            "67/67 [==============================] - 0s 2ms/step - loss: 5.5344e-04 - val_loss: 4.6336e-05\n",
            "Epoch 33/100\n",
            "67/67 [==============================] - 0s 2ms/step - loss: 5.0781e-04 - val_loss: 5.7296e-05\n",
            "Epoch 34/100\n",
            "67/67 [==============================] - 0s 2ms/step - loss: 4.5845e-04 - val_loss: 5.4204e-05\n",
            "Epoch 35/100\n",
            "67/67 [==============================] - 0s 2ms/step - loss: 3.9923e-04 - val_loss: 3.8505e-05\n",
            "Epoch 36/100\n",
            "67/67 [==============================] - 0s 2ms/step - loss: 3.5923e-04 - val_loss: 4.3154e-05\n",
            "Epoch 37/100\n",
            "67/67 [==============================] - 0s 2ms/step - loss: 3.1324e-04 - val_loss: 3.3557e-05\n",
            "Epoch 38/100\n",
            "67/67 [==============================] - 0s 2ms/step - loss: 2.8905e-04 - val_loss: 3.2544e-05\n",
            "Epoch 39/100\n",
            "67/67 [==============================] - 0s 2ms/step - loss: 2.6046e-04 - val_loss: 4.8869e-05\n",
            "Epoch 40/100\n",
            "67/67 [==============================] - 0s 2ms/step - loss: 2.2802e-04 - val_loss: 3.0575e-05\n",
            "Epoch 41/100\n",
            "67/67 [==============================] - 0s 2ms/step - loss: 1.9376e-04 - val_loss: 2.8005e-05\n",
            "Epoch 42/100\n",
            "67/67 [==============================] - 0s 2ms/step - loss: 1.7890e-04 - val_loss: 2.7965e-05\n",
            "Epoch 43/100\n",
            "67/67 [==============================] - 0s 2ms/step - loss: 1.5761e-04 - val_loss: 2.4846e-05\n",
            "Epoch 44/100\n",
            "67/67 [==============================] - 0s 2ms/step - loss: 1.4692e-04 - val_loss: 2.4719e-05\n",
            "Epoch 45/100\n",
            "67/67 [==============================] - 0s 2ms/step - loss: 1.2280e-04 - val_loss: 2.3932e-05\n",
            "Epoch 46/100\n",
            "67/67 [==============================] - 0s 2ms/step - loss: 1.1321e-04 - val_loss: 2.2000e-05\n",
            "Epoch 47/100\n",
            "67/67 [==============================] - 0s 2ms/step - loss: 1.0491e-04 - val_loss: 2.1336e-05\n",
            "Epoch 48/100\n",
            "67/67 [==============================] - 0s 2ms/step - loss: 9.6883e-05 - val_loss: 2.2256e-05\n",
            "Epoch 49/100\n",
            "67/67 [==============================] - 0s 2ms/step - loss: 8.6754e-05 - val_loss: 2.1612e-05\n",
            "Epoch 50/100\n",
            "67/67 [==============================] - 0s 2ms/step - loss: 7.7990e-05 - val_loss: 2.0343e-05\n",
            "Epoch 51/100\n",
            "67/67 [==============================] - 0s 2ms/step - loss: 7.4393e-05 - val_loss: 2.1050e-05\n",
            "Epoch 52/100\n",
            "67/67 [==============================] - 0s 2ms/step - loss: 6.8121e-05 - val_loss: 2.0521e-05\n",
            "Epoch 53/100\n",
            "67/67 [==============================] - 0s 2ms/step - loss: 7.1778e-05 - val_loss: 2.2073e-05\n",
            "Epoch 54/100\n",
            "67/67 [==============================] - 0s 2ms/step - loss: 6.4648e-05 - val_loss: 2.2009e-05\n",
            "Epoch 55/100\n",
            "67/67 [==============================] - 0s 2ms/step - loss: 5.9944e-05 - val_loss: 2.0216e-05\n",
            "Epoch 56/100\n",
            "67/67 [==============================] - 0s 2ms/step - loss: 6.0487e-05 - val_loss: 2.1075e-05\n",
            "Epoch 57/100\n",
            "67/67 [==============================] - 0s 2ms/step - loss: 5.4430e-05 - val_loss: 1.8116e-05\n",
            "Epoch 58/100\n",
            "67/67 [==============================] - 0s 2ms/step - loss: 5.2679e-05 - val_loss: 2.1108e-05\n",
            "Epoch 59/100\n",
            "67/67 [==============================] - 0s 2ms/step - loss: 5.4686e-05 - val_loss: 1.9577e-05\n",
            "Epoch 60/100\n",
            "67/67 [==============================] - 0s 2ms/step - loss: 5.4068e-05 - val_loss: 1.7573e-05\n",
            "Epoch 61/100\n",
            "67/67 [==============================] - 0s 2ms/step - loss: 5.4862e-05 - val_loss: 2.5337e-05\n",
            "Epoch 62/100\n",
            "67/67 [==============================] - 0s 2ms/step - loss: 5.0277e-05 - val_loss: 1.6414e-05\n",
            "Epoch 63/100\n",
            "67/67 [==============================] - 0s 2ms/step - loss: 5.1574e-05 - val_loss: 1.8205e-05\n",
            "Epoch 64/100\n",
            "67/67 [==============================] - 0s 2ms/step - loss: 5.0061e-05 - val_loss: 1.5845e-05\n",
            "Epoch 65/100\n",
            "67/67 [==============================] - 0s 2ms/step - loss: 5.0034e-05 - val_loss: 1.7221e-05\n",
            "Epoch 66/100\n",
            "67/67 [==============================] - 0s 2ms/step - loss: 4.5867e-05 - val_loss: 1.6202e-05\n",
            "Epoch 67/100\n",
            "67/67 [==============================] - 0s 2ms/step - loss: 4.7542e-05 - val_loss: 2.3590e-05\n",
            "Epoch 68/100\n",
            "67/67 [==============================] - 0s 2ms/step - loss: 4.7984e-05 - val_loss: 1.5287e-05\n",
            "Epoch 69/100\n",
            "67/67 [==============================] - 0s 2ms/step - loss: 4.8931e-05 - val_loss: 2.5842e-05\n",
            "Epoch 70/100\n",
            "67/67 [==============================] - 0s 2ms/step - loss: 4.5470e-05 - val_loss: 1.8364e-05\n",
            "Epoch 71/100\n",
            "67/67 [==============================] - 0s 2ms/step - loss: 4.5223e-05 - val_loss: 1.5665e-05\n",
            "Epoch 72/100\n",
            "67/67 [==============================] - 0s 2ms/step - loss: 4.3658e-05 - val_loss: 1.6805e-05\n",
            "Epoch 73/100\n",
            "67/67 [==============================] - 0s 2ms/step - loss: 4.2820e-05 - val_loss: 1.6819e-05\n",
            "Epoch 74/100\n",
            "67/67 [==============================] - 0s 2ms/step - loss: 4.0841e-05 - val_loss: 1.9790e-05\n",
            "Epoch 75/100\n",
            "67/67 [==============================] - 0s 2ms/step - loss: 4.1024e-05 - val_loss: 1.3104e-05\n",
            "Epoch 76/100\n",
            "67/67 [==============================] - 0s 2ms/step - loss: 3.6566e-05 - val_loss: 1.3859e-05\n",
            "Epoch 77/100\n",
            "67/67 [==============================] - 0s 2ms/step - loss: 3.7448e-05 - val_loss: 1.4134e-05\n",
            "Epoch 78/100\n",
            "67/67 [==============================] - 0s 2ms/step - loss: 3.5414e-05 - val_loss: 1.2432e-05\n",
            "Epoch 79/100\n",
            "67/67 [==============================] - 0s 2ms/step - loss: 3.7163e-05 - val_loss: 1.3022e-05\n",
            "Epoch 80/100\n",
            "67/67 [==============================] - 0s 2ms/step - loss: 3.8767e-05 - val_loss: 1.2451e-05\n",
            "Epoch 81/100\n",
            "67/67 [==============================] - 0s 2ms/step - loss: 3.5078e-05 - val_loss: 1.3247e-05\n",
            "Epoch 82/100\n",
            "67/67 [==============================] - 0s 2ms/step - loss: 3.4528e-05 - val_loss: 1.3848e-05\n",
            "Epoch 83/100\n",
            "67/67 [==============================] - 0s 2ms/step - loss: 3.4525e-05 - val_loss: 1.5371e-05\n",
            "Epoch 84/100\n",
            "67/67 [==============================] - 0s 2ms/step - loss: 3.2724e-05 - val_loss: 1.9259e-05\n",
            "Epoch 85/100\n",
            "67/67 [==============================] - 0s 2ms/step - loss: 3.1125e-05 - val_loss: 1.1818e-05\n",
            "Epoch 86/100\n",
            "67/67 [==============================] - 0s 2ms/step - loss: 3.0970e-05 - val_loss: 1.3340e-05\n",
            "Epoch 87/100\n",
            "67/67 [==============================] - 0s 2ms/step - loss: 3.1950e-05 - val_loss: 1.0520e-05\n",
            "Epoch 88/100\n",
            "67/67 [==============================] - 0s 2ms/step - loss: 3.1351e-05 - val_loss: 1.0854e-05\n",
            "Epoch 89/100\n",
            "67/67 [==============================] - 0s 2ms/step - loss: 3.1023e-05 - val_loss: 1.5293e-05\n",
            "Epoch 90/100\n",
            "67/67 [==============================] - 0s 2ms/step - loss: 3.1299e-05 - val_loss: 1.0569e-05\n",
            "Epoch 91/100\n",
            "67/67 [==============================] - 0s 2ms/step - loss: 2.9301e-05 - val_loss: 1.0003e-05\n",
            "Epoch 92/100\n",
            "67/67 [==============================] - 0s 2ms/step - loss: 2.9811e-05 - val_loss: 1.3080e-05\n",
            "Epoch 93/100\n",
            "67/67 [==============================] - 0s 2ms/step - loss: 2.7565e-05 - val_loss: 9.9463e-06\n",
            "Epoch 94/100\n",
            "67/67 [==============================] - 0s 2ms/step - loss: 2.7901e-05 - val_loss: 1.0051e-05\n",
            "Epoch 95/100\n",
            "67/67 [==============================] - 0s 2ms/step - loss: 2.6404e-05 - val_loss: 1.0419e-05\n",
            "Epoch 96/100\n",
            "67/67 [==============================] - 0s 2ms/step - loss: 2.5658e-05 - val_loss: 9.2339e-06\n",
            "Epoch 97/100\n",
            "67/67 [==============================] - 0s 2ms/step - loss: 2.4303e-05 - val_loss: 1.0138e-05\n",
            "Epoch 98/100\n",
            "67/67 [==============================] - 0s 2ms/step - loss: 2.3989e-05 - val_loss: 1.2627e-05\n",
            "Epoch 99/100\n",
            "67/67 [==============================] - 0s 2ms/step - loss: 2.2708e-05 - val_loss: 8.9445e-06\n",
            "Epoch 100/100\n",
            "67/67 [==============================] - 0s 2ms/step - loss: 2.2424e-05 - val_loss: 9.0368e-06\n"
          ],
          "name": "stdout"
        }
      ]
    },
    {
      "cell_type": "code",
      "metadata": {
        "id": "ScaUAmD_VgOf",
        "colab_type": "code",
        "colab": {
          "base_uri": "https://localhost:8080/",
          "height": 156
        },
        "outputId": "c85fc73a-6a11-47b6-f946-3c17383f59b9"
      },
      "source": [
        "model.save('/content/drive/My Drive/data/my_ccfmodel')"
      ],
      "execution_count": 31,
      "outputs": [
        {
          "output_type": "stream",
          "text": [
            "WARNING:tensorflow:From /usr/local/lib/python3.6/dist-packages/tensorflow/python/training/tracking/tracking.py:111: Model.state_updates (from tensorflow.python.keras.engine.training) is deprecated and will be removed in a future version.\n",
            "Instructions for updating:\n",
            "This property should not be used in TensorFlow 2.0, as updates are applied automatically.\n",
            "WARNING:tensorflow:From /usr/local/lib/python3.6/dist-packages/tensorflow/python/training/tracking/tracking.py:111: Layer.updates (from tensorflow.python.keras.engine.base_layer) is deprecated and will be removed in a future version.\n",
            "Instructions for updating:\n",
            "This property should not be used in TensorFlow 2.0, as updates are applied automatically.\n",
            "INFO:tensorflow:Assets written to: /content/drive/My Drive/data/my_ccfmodel/assets\n"
          ],
          "name": "stdout"
        }
      ]
    },
    {
      "cell_type": "code",
      "metadata": {
        "id": "gU3fge0LVm5y",
        "colab_type": "code",
        "colab": {
          "base_uri": "https://localhost:8080/",
          "height": 296
        },
        "outputId": "ecaf5398-326d-4925-f0ce-840651a1dbcb"
      },
      "source": [
        "y_pred = model.predict(X_test)\n",
        "plt.scatter(y_test,y_pred,color=\"r\")\n",
        "plt.xlabel(\"True delay\")\n",
        "plt.xlabel(\"ML delay\")\n",
        "plt.plot([-0.06,0.06],[-0.06,0.06],':')"
      ],
      "execution_count": 32,
      "outputs": [
        {
          "output_type": "execute_result",
          "data": {
            "text/plain": [
              "[<matplotlib.lines.Line2D at 0x7fb1f869d9b0>]"
            ]
          },
          "metadata": {
            "tags": []
          },
          "execution_count": 32
        },
        {
          "output_type": "display_data",
          "data": {
            "image/png": "[encoded data removed]",
            "text/plain": [
              "<Figure size 432x288 with 1 Axes>"
            ]
          },
          "metadata": {
            "tags": [],
            "needs_background": "light"
          }
        }
      ]
    },
    {
      "cell_type": "code",
      "metadata": {
        "id": "a9g9NgJgV4FZ",
        "colab_type": "code",
        "colab": {
          "base_uri": "https://localhost:8080/",
          "height": 265
        },
        "outputId": "e0ff90b5-55eb-45e4-a856-f9768f80efce"
      },
      "source": [
        "diff = y_test - y_pred.ravel()\n",
        "hist = plt.hist(diff)"
      ],
      "execution_count": 33,
      "outputs": [
        {
          "output_type": "display_data",
          "data": {
            "image/png": "[encoded data removed]",
            "text/plain": [
              "<Figure size 432x288 with 1 Axes>"
            ]
          },
          "metadata": {
            "tags": [],
            "needs_background": "light"
          }
        }
      ]
    },
    {
      "cell_type": "code",
      "metadata": {
        "id": "qkIovMohV_eq",
        "colab_type": "code",
        "colab": {}
      },
      "source": [
        "def howGoodAmI(y_test, y_pred):\n",
        "  diff = y_test - y_pred.ravel()\n",
        "  hist = plt.hist(diff)\n",
        "  bincentres = (hist[1][:-1]+hist[1][1:])/2.\n",
        "  weights = hist[0]\n",
        "  mu = np.average(bincentres,weights=weights)\n",
        "  sigma = np.average((bincentres-mu)**2, weights=weights)\n",
        "  return mu, sigma"
      ],
      "execution_count": 38,
      "outputs": []
    },
    {
      "cell_type": "code",
      "metadata": {
        "id": "BNS9vnG9WMeJ",
        "colab_type": "code",
        "colab": {
          "base_uri": "https://localhost:8080/",
          "height": 282
        },
        "outputId": "f633a9b9-847e-4dfe-d038-45d24b7b74a4"
      },
      "source": [
        "howGoodAmI(y_test, y_pred)"
      ],
      "execution_count": 39,
      "outputs": [
        {
          "output_type": "execute_result",
          "data": {
            "text/plain": [
              "(-0.0007090793071596902, 9.005434208675105e-06)"
            ]
          },
          "metadata": {
            "tags": []
          },
          "execution_count": 39
        },
        {
          "output_type": "display_data",
          "data": {
            "image/png": "[encoded data removed]",
            "text/plain": [
              "<Figure size 432x288 with 1 Axes>"
            ]
          },
          "metadata": {
            "tags": [],
            "needs_background": "light"
          }
        }
      ]
    },
    {
      "cell_type": "code",
      "metadata": {
        "id": "LBFi8VERYvdu",
        "colab_type": "code",
        "colab": {
          "base_uri": "https://localhost:8080/",
          "height": 312
        },
        "outputId": "8a5ef530-02a4-49b0-a0b7-50d6ffef5d3f"
      },
      "source": [
        "# summarize history for loss\n",
        "plt.plot(history.history['loss'], label='train')\n",
        "plt.plot(history.history['val_loss'], label='test')\n",
        "plt.title('model loss')\n",
        "plt.ylabel('loss')\n",
        "plt.xlabel('epoch')\n",
        "plt.legend()"
      ],
      "execution_count": 55,
      "outputs": [
        {
          "output_type": "execute_result",
          "data": {
            "text/plain": [
              "<matplotlib.legend.Legend at 0x7fb1e2814f28>"
            ]
          },
          "metadata": {
            "tags": []
          },
          "execution_count": 55
        },
        {
          "output_type": "display_data",
          "data": {
            "image/png": "[encoded data removed]",
            "text/plain": [
              "<Figure size 432x288 with 1 Axes>"
            ]
          },
          "metadata": {
            "tags": [],
            "needs_background": "light"
          }
        }
      ]
    },
    {
      "cell_type": "code",
      "metadata": {
        "id": "cFD_jMe-WQVf",
        "colab_type": "code",
        "colab": {}
      },
      "source": [
        "from sklearn.ensemble import GradientBoostingRegressor\n",
        "from sklearn.preprocessing import StandardScaler\n",
        "from sklearn.decomposition import PCA"
      ],
      "execution_count": 43,
      "outputs": []
    },
    {
      "cell_type": "code",
      "metadata": {
        "id": "p033c_qNXBxn",
        "colab_type": "code",
        "colab": {}
      },
      "source": [
        "#scaler = StandardScaler()\n",
        "#X_train_ = scaler.fit_transform(X_train)\n",
        "#pca = PCA(n_components=100)\n",
        "X_train_pca = pca.fit_transform(X_train)"
      ],
      "execution_count": 51,
      "outputs": []
    },
    {
      "cell_type": "code",
      "metadata": {
        "id": "4RWtQkkdW68_",
        "colab_type": "code",
        "colab": {
          "base_uri": "https://localhost:8080/",
          "height": 190
        },
        "outputId": "1548b241-c9da-4c06-f12d-0d5155f618e1"
      },
      "source": [
        "gbr = GradientBoostingRegressor(random_state=0)\n",
        "gbr.fit(X_train, y_train)"
      ],
      "execution_count": 53,
      "outputs": [
        {
          "output_type": "execute_result",
          "data": {
            "text/plain": [
              "GradientBoostingRegressor(alpha=0.9, ccp_alpha=0.0, criterion='friedman_mse',\n",
              "                          init=None, learning_rate=0.1, loss='ls', max_depth=3,\n",
              "                          max_features=None, max_leaf_nodes=None,\n",
              "                          min_impurity_decrease=0.0, min_impurity_split=None,\n",
              "                          min_samples_leaf=1, min_samples_split=2,\n",
              "                          min_weight_fraction_leaf=0.0, n_estimators=100,\n",
              "                          n_iter_no_change=None, presort='deprecated',\n",
              "                          random_state=0, subsample=1.0, tol=0.0001,\n",
              "                          validation_fraction=0.1, verbose=0, warm_start=False)"
            ]
          },
          "metadata": {
            "tags": []
          },
          "execution_count": 53
        }
      ]
    },
    {
      "cell_type": "code",
      "metadata": {
        "id": "HG2jDIkuXrmc",
        "colab_type": "code",
        "colab": {
          "base_uri": "https://localhost:8080/",
          "height": 286
        },
        "outputId": "39f62f67-03f5-47da-c88e-9cbc4b84a4c2"
      },
      "source": [
        "y_pred = gbr.predict(X_test)\n",
        "plt.scatter(y_test,y_pred,color=\"r\")\n",
        "plt.plot([-0.06,0.06],[-0.06,0.06],':')\n",
        "plt.xlim([-0.06,0.06])\n",
        "plt.ylim([-0.06,0.06])"
      ],
      "execution_count": 57,
      "outputs": [
        {
          "output_type": "execute_result",
          "data": {
            "text/plain": [
              "(-0.06, 0.06)"
            ]
          },
          "metadata": {
            "tags": []
          },
          "execution_count": 57
        },
        {
          "output_type": "display_data",
          "data": {
            "image/png": "[encoded data removed]",
            "text/plain": [
              "<Figure size 432x288 with 1 Axes>"
            ]
          },
          "metadata": {
            "tags": [],
            "needs_background": "light"
          }
        }
      ]
    },
    {
      "cell_type": "code",
      "metadata": {
        "id": "NM-nPqETX321",
        "colab_type": "code",
        "colab": {
          "base_uri": "https://localhost:8080/",
          "height": 282
        },
        "outputId": "11ac1256-04f6-4632-9065-d81c841f9706"
      },
      "source": [
        "howGoodAmI(y_test, y_pred)"
      ],
      "execution_count": 58,
      "outputs": [
        {
          "output_type": "execute_result",
          "data": {
            "text/plain": [
              "(-2.2205126762711542e-05, 4.57860436346896e-06)"
            ]
          },
          "metadata": {
            "tags": []
          },
          "execution_count": 58
        },
        {
          "output_type": "display_data",
          "data": {
            "image/png": "[encoded data removed]",
            "text/plain": [
              "<Figure size 432x288 with 1 Axes>"
            ]
          },
          "metadata": {
            "tags": [],
            "needs_background": "light"
          }
        }
      ]
    },
    {
      "cell_type": "code",
      "metadata": {
        "id": "8ofvFK5SX7Ir",
        "colab_type": "code",
        "colab": {
          "base_uri": "https://localhost:8080/",
          "height": 34
        },
        "outputId": "26a85892-f5a1-48a1-fb38-973fa2017c96"
      },
      "source": [
        "len(np.unique(ydata)), len(np.unique(np.around(ydata, decimals=4)))"
      ],
      "execution_count": 64,
      "outputs": [
        {
          "output_type": "execute_result",
          "data": {
            "text/plain": [
              "(9999, 1000)"
            ]
          },
          "metadata": {
            "tags": []
          },
          "execution_count": 64
        }
      ]
    },
    {
      "cell_type": "code",
      "metadata": {
        "id": "GDVQel_sZqdp",
        "colab_type": "code",
        "colab": {
          "base_uri": "https://localhost:8080/",
          "height": 34
        },
        "outputId": "d02bb74a-ce37-4f67-f540-eab1e2012de9"
      },
      "source": [
        "ydata[0], np.around(ydata[0], decimals=4)"
      ],
      "execution_count": 65,
      "outputs": [
        {
          "output_type": "execute_result",
          "data": {
            "text/plain": [
              "(0.0499741748906672, 0.05)"
            ]
          },
          "metadata": {
            "tags": []
          },
          "execution_count": 65
        }
      ]
    },
    {
      "cell_type": "code",
      "metadata": {
        "id": "ksCJ-2PRZxXO",
        "colab_type": "code",
        "colab": {}
      },
      "source": [
        ""
      ],
      "execution_count": null,
      "outputs": []
    }
  ]
}