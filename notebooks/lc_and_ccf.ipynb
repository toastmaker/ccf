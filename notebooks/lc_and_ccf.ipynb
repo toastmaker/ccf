{
  "nbformat": 4,
  "nbformat_minor": 0,
  "metadata": {
    "colab": {
      "name": "lc and ccf.ipynb",
      "provenance": [],
      "collapsed_sections": [],
      "authorship_tag": "ABX9TyMZfTSD+H7UsDnquJv7gHeJ"
    },
    "kernelspec": {
      "name": "python3",
      "display_name": "Python 3"
    }
  },
  "cells": [
    {
      "cell_type": "code",
      "metadata": {
        "id": "4DYIq28LhgDp"
      },
      "source": [
        "import numpy as np\n",
        "import matplotlib.pyplot  as plt\n",
        "from keras.models import Sequential, Model\n",
        "from keras.layers import Dense, Flatten, Dropout, Input, Concatenate\n",
        "from sklearn.model_selection import train_test_split\n",
        "from keras import metrics\n",
        "from sklearn.preprocessing import StandardScaler\n",
        "from google.colab import drive"
      ],
      "execution_count": 114,
      "outputs": []
    },
    {
      "cell_type": "code",
      "metadata": {
        "id": "cqu3E0cg-Wf4",
        "outputId": "7e433caa-a0e7-45cf-ee1a-f38870e9aab3",
        "colab": {
          "base_uri": "https://localhost:8080/",
          "height": 34
        }
      },
      "source": [
        "np.random.RandomState(seed=42)"
      ],
      "execution_count": 115,
      "outputs": [
        {
          "output_type": "execute_result",
          "data": {
            "text/plain": [
              "RandomState(MT19937) at 0x7FBA368E0888"
            ]
          },
          "metadata": {
            "tags": []
          },
          "execution_count": 115
        }
      ]
    },
    {
      "cell_type": "code",
      "metadata": {
        "id": "LBlc5nI4hs0I"
      },
      "source": [
        "def accuracy_plot(y_test, y_pred):\n",
        "  plt.scatter(y_test,y_pred,color=\"r\")\n",
        "  plt.xlabel(\"True delay\")\n",
        "  plt.xlabel(\"ML delay\")\n",
        "  plt.plot([-0.06*1e3,0.06*1e3],[-0.06*1e3,0.06*1e3],':')\n",
        "  plt.xlim([-0.06*1e3,0.06*1e3])\n",
        "  plt.ylim([-0.06*1e3,0.06*1e3])"
      ],
      "execution_count": 116,
      "outputs": []
    },
    {
      "cell_type": "code",
      "metadata": {
        "id": "BgfzQcEghqF4"
      },
      "source": [
        "def howGoodAmI(y_test, y_pred):\n",
        "  diff = y_test - y_pred.ravel()\n",
        "  hist = plt.hist(diff)\n",
        "  bincentres = (hist[1][:-1]+hist[1][1:])/2.\n",
        "  weights = hist[0]\n",
        "  mu = np.average(bincentres,weights=weights)\n",
        "  sigma = np.average((bincentres-mu)**2, weights=weights)\n",
        "  return mu, sigma"
      ],
      "execution_count": 117,
      "outputs": []
    },
    {
      "cell_type": "code",
      "metadata": {
        "id": "NaAoA3Hehqlp"
      },
      "source": [
        "def error_evolution(h):\n",
        "  # summarize history for loss\n",
        "  plt.plot(h.history['mean_squared_error'], label='train')\n",
        "  plt.plot(h.history['val_mean_squared_error'], label='test')\n",
        "  plt.title('model mse')\n",
        "  plt.ylabel('mse')\n",
        "  plt.xlabel('epoch')\n",
        "  plt.legend()"
      ],
      "execution_count": 118,
      "outputs": []
    },
    {
      "cell_type": "code",
      "metadata": {
        "id": "2avhsyTgiQFE"
      },
      "source": [
        "def ccf(x):\n",
        "  half = len(x)//2\n",
        "  a, b = x[0:half], x[half:]\n",
        "  a = (a - np.mean(a)) / (np.std(a) * len(a))\n",
        "  b = (b - np.mean(b)) / (np.std(b))\n",
        "  return np.correlate(a,b,'same')"
      ],
      "execution_count": 119,
      "outputs": []
    },
    {
      "cell_type": "code",
      "metadata": {
        "id": "Xyfw_JgGhsPj",
        "outputId": "e5f900fa-a357-4516-930c-808079626606",
        "colab": {
          "base_uri": "https://localhost:8080/",
          "height": 51
        }
      },
      "source": [
        "# load data\n",
        "drive.mount('/content/drive')\n",
        "copypath = '/content/drive/My Drive/data/lightcurve_array.npz'\n",
        "npz=np.load(copypath)\n",
        "xdata=npz['lc'][:,:-1] # to make the legth of the two concatenated light curves an even number\n",
        "ydata=npz['delay']*1e3 # convert to human read units\n",
        "xdata.shape"
      ],
      "execution_count": 127,
      "outputs": [
        {
          "output_type": "stream",
          "text": [
            "Drive already mounted at /content/drive; to attempt to forcibly remount, call drive.mount(\"/content/drive\", force_remount=True).\n"
          ],
          "name": "stdout"
        },
        {
          "output_type": "execute_result",
          "data": {
            "text/plain": [
              "(9999, 9998)"
            ]
          },
          "metadata": {
            "tags": []
          },
          "execution_count": 127
        }
      ]
    },
    {
      "cell_type": "code",
      "metadata": {
        "id": "mPfGlG9tsR0N",
        "outputId": "63609936-cbc7-4b97-a5c5-45d3ea680858",
        "colab": {
          "base_uri": "https://localhost:8080/",
          "height": 282
        }
      },
      "source": [
        "lc0 = xdata[0]\n",
        "plt.plot(lc0)\n",
        "print(\"Delay is {:.2f}\".format(ydata[0]))"
      ],
      "execution_count": 128,
      "outputs": [
        {
          "output_type": "stream",
          "text": [
            "Delay is 49.97\n"
          ],
          "name": "stdout"
        },
        {
          "output_type": "display_data",
          "data": {
            "image/png": "[encoded data removed]",
            "text/plain": [
              "<Figure size 432x288 with 1 Axes>"
            ]
          },
          "metadata": {
            "tags": [],
            "needs_background": "light"
          }
        }
      ]
    },
    {
      "cell_type": "code",
      "metadata": {
        "id": "XQ_RTV3Lmtuh",
        "outputId": "1eab5474-0fbe-4ddc-8a5e-4b66b1e55dbc",
        "colab": {
          "base_uri": "https://localhost:8080/",
          "height": 282
        }
      },
      "source": [
        "half = xdata.shape[1]//2\n",
        "xdata = np.concatenate([xdata[:,1000:2500], xdata[:,1000+half:2500+half]], axis=1)\n",
        "lc0 = xdata[0]\n",
        "plt.plot(lc0)\n",
        "print(\"Delay is {:.2f}\".format(ydata[0]))"
      ],
      "execution_count": 129,
      "outputs": [
        {
          "output_type": "stream",
          "text": [
            "Delay is 49.97\n"
          ],
          "name": "stdout"
        },
        {
          "output_type": "display_data",
          "data": {
            "image/png": "[encoded data removed]",
            "text/plain": [
              "<Figure size 432x288 with 1 Axes>"
            ]
          },
          "metadata": {
            "tags": [],
            "needs_background": "light"
          }
        }
      ]
    },
    {
      "cell_type": "code",
      "metadata": {
        "id": "5-A0cPwAhxF7",
        "outputId": "cd46bb42-b22a-46ac-ff2d-ca2617ad0a61",
        "colab": {
          "base_uri": "https://localhost:8080/",
          "height": 34
        }
      },
      "source": [
        "half = xdata.shape[1]//2\n",
        "xdata = xdata/np.max(xdata,axis=1)[:,np.newaxis]\n",
        "xdata[:,:half] = xdata[:,:half]/np.max(xdata[:,:half],axis=1)[:,np.newaxis]\n",
        "xdata[:,half:] = xdata[:,half:]/np.max(xdata[:,half:],axis=1)[:,np.newaxis]\n",
        "xdata.shape"
      ],
      "execution_count": 130,
      "outputs": [
        {
          "output_type": "execute_result",
          "data": {
            "text/plain": [
              "(9999, 3000)"
            ]
          },
          "metadata": {
            "tags": []
          },
          "execution_count": 130
        }
      ]
    },
    {
      "cell_type": "code",
      "metadata": {
        "id": "cp6Ph3uSh44-",
        "outputId": "ddd60c50-1983-453d-e814-fd84cbbdf454",
        "colab": {
          "base_uri": "https://localhost:8080/",
          "height": 282
        }
      },
      "source": [
        "lc0 = xdata[0]\n",
        "plt.plot(lc0)\n",
        "print(\"Delay is {:.2f}\".format(ydata[0]))"
      ],
      "execution_count": 131,
      "outputs": [
        {
          "output_type": "stream",
          "text": [
            "Delay is 49.97\n"
          ],
          "name": "stdout"
        },
        {
          "output_type": "display_data",
          "data": {
            "image/png": "[encoded data removed]",
            "text/plain": [
              "<Figure size 432x288 with 1 Axes>"
            ]
          },
          "metadata": {
            "tags": [],
            "needs_background": "light"
          }
        }
      ]
    },
    {
      "cell_type": "code",
      "metadata": {
        "id": "4CyWPvhmiNF7",
        "outputId": "0428fa7b-ec34-4104-e885-fcf234e0d2de",
        "colab": {
          "base_uri": "https://localhost:8080/",
          "height": 282
        }
      },
      "source": [
        "ccf_lc0 = ccf(lc0)\n",
        "plt.plot(ccf_lc0)\n",
        "np.argmax(ccf_lc0)"
      ],
      "execution_count": 132,
      "outputs": [
        {
          "output_type": "execute_result",
          "data": {
            "text/plain": [
              "699"
            ]
          },
          "metadata": {
            "tags": []
          },
          "execution_count": 132
        },
        {
          "output_type": "display_data",
          "data": {
            "image/png": "[encoded data removed]",
            "text/plain": [
              "<Figure size 432x288 with 1 Axes>"
            ]
          },
          "metadata": {
            "tags": [],
            "needs_background": "light"
          }
        }
      ]
    },
    {
      "cell_type": "code",
      "metadata": {
        "id": "4XuqS-GrjiNx"
      },
      "source": [
        "ccfdata = np.apply_along_axis(func1d=ccf, axis=1, arr=xdata)"
      ],
      "execution_count": 133,
      "outputs": []
    },
    {
      "cell_type": "code",
      "metadata": {
        "id": "MnVtYQCuisC5",
        "outputId": "375f4ca9-9d58-4e91-d10f-b91ac0ed5525",
        "colab": {
          "base_uri": "https://localhost:8080/",
          "height": 298
        }
      },
      "source": [
        "half_ccf = ccfdata.shape[1]//2\n",
        "window_size = 150\n",
        "ccfdata = ccfdata[:,half_ccf-window_size//2:half_ccf+window_size//2]\n",
        "ccfdata = (ccfdata - np.mean(ccfdata, axis=1)[:,None])/np.std(ccfdata,axis=1)[:,None]\n",
        "plt.plot(ccfdata[0])\n",
        "plt.title(\"Delay = %.2f\"%ydata[0])\n",
        "ccfdata.shape"
      ],
      "execution_count": 134,
      "outputs": [
        {
          "output_type": "execute_result",
          "data": {
            "text/plain": [
              "(9999, 150)"
            ]
          },
          "metadata": {
            "tags": []
          },
          "execution_count": 134
        },
        {
          "output_type": "display_data",
          "data": {
            "image/png": "[encoded data removed]",
            "text/plain": [
              "<Figure size 432x288 with 1 Axes>"
            ]
          },
          "metadata": {
            "tags": [],
            "needs_background": "light"
          }
        }
      ]
    },
    {
      "cell_type": "code",
      "metadata": {
        "id": "oy7WZ9QTh6li",
        "outputId": "0c7c54e8-a5bb-486e-e81e-f7259128b58f",
        "colab": {
          "base_uri": "https://localhost:8080/",
          "height": 34
        }
      },
      "source": [
        "# shuffling and splitting\n",
        "Nsamples = ydata.shape[0]\n",
        "shuffle_ind = np.arange(Nsamples)\n",
        "np.random.shuffle(shuffle_ind)\n",
        "\n",
        "ccfdata = ccfdata[shuffle_ind]\n",
        "xdata = xdata[shuffle_ind]\n",
        "ydata = ydata[shuffle_ind]\n",
        "\n",
        "xdata.shape, ccfdata.shape, ydata.shape"
      ],
      "execution_count": 135,
      "outputs": [
        {
          "output_type": "execute_result",
          "data": {
            "text/plain": [
              "((9999, 3000), (9999, 150), (9999,))"
            ]
          },
          "metadata": {
            "tags": []
          },
          "execution_count": 135
        }
      ]
    },
    {
      "cell_type": "code",
      "metadata": {
        "id": "1aWGohmEsLNk",
        "outputId": "f0627786-90eb-4f82-f7bd-1d771c2cc581",
        "colab": {
          "base_uri": "https://localhost:8080/",
          "height": 34
        }
      },
      "source": [
        "test_size= 0.3\n",
        "Ntrain = np.trunc(Nsamples*(1.-test_size)).astype(int)\n",
        "print(f'{Ntrain} out of {Nsamples} used for training')\n",
        "X_train1 = xdata[:Ntrain,:half] #lc1\n",
        "X_train2 = xdata[:Ntrain,half:] # lc2\n",
        "X_train3 = ccfdata[:Ntrain,:] # ccf\n",
        "\n",
        "X_test1 = xdata[Ntrain:,:half]\n",
        "X_test2 = xdata[Ntrain:,half:]\n",
        "X_test3 = ccfdata[Ntrain:,:]\n",
        "\n",
        "y_train = ydata[:Ntrain]\n",
        "y_test = ydata[Ntrain:]"
      ],
      "execution_count": 136,
      "outputs": [
        {
          "output_type": "stream",
          "text": [
            "6999 out of 9999 used for training\n"
          ],
          "name": "stdout"
        }
      ]
    },
    {
      "cell_type": "code",
      "metadata": {
        "id": "Y2kyNfsNrS9I",
        "outputId": "5e01d4f8-f865-43b2-a1d0-d5ecc37b6ee9",
        "colab": {
          "base_uri": "https://localhost:8080/",
          "height": 136
        }
      },
      "source": [
        "X_train1.shape, X_train2.shape, X_train3.shape, y_train.shape, X_test1.shape, X_test2.shape, X_test3.shape"
      ],
      "execution_count": 137,
      "outputs": [
        {
          "output_type": "execute_result",
          "data": {
            "text/plain": [
              "((6999, 1500),\n",
              " (6999, 1500),\n",
              " (6999, 150),\n",
              " (6999,),\n",
              " (3000, 1500),\n",
              " (3000, 1500),\n",
              " (3000, 150))"
            ]
          },
          "metadata": {
            "tags": []
          },
          "execution_count": 137
        }
      ]
    },
    {
      "cell_type": "code",
      "metadata": {
        "id": "o5SrdBYbmRnj",
        "outputId": "bf1a0048-b84c-458b-d14f-0de785767344",
        "colab": {
          "base_uri": "https://localhost:8080/",
          "height": 595
        }
      },
      "source": [
        "# Y shape network, two inputs layer 'dense' is common for both branches (same weights)\n",
        "lc1 = Input(shape=(X_train1[0].shape))\n",
        "lc2 = Input(shape=(X_train2[0].shape))\n",
        "ccf0 = Input(shape=(X_train3[0].shape))\n",
        "\n",
        "# 48, 24\n",
        "dense_lc1 = Dense(units=32, input_shape=X_train1[0].shape,activation='sigmoid')\n",
        "dense_lc2 = Dense(units=24, activation='sigmoid')\n",
        "\n",
        "branch1 = dense_lc1(lc1)\n",
        "branch1 = dense_lc2(branch1)\n",
        "branch2  = dense_lc1(lc2)\n",
        "branch2 = dense_lc2(branch2)\n",
        "\n",
        "# 32, 8\n",
        "branch3 = Dense(units=32, input_shape=X_train3[0].shape, activation='relu')(ccf0)\n",
        "branch3 = Dense(units=16, activation='relu')(branch3)\n",
        "\n",
        "merge_layer = Concatenate()([branch1, branch2, branch3])\n",
        "\n",
        "# 16\n",
        "mixer_layer = Dense(units=16, activation='sigmoid')(merge_layer)\n",
        "mixer_layer = Dense(units=8, activation='sigmoid')(mixer_layer)\n",
        "predictions = Dense(units=1)(mixer_layer)\n",
        "model = Model(inputs=[lc1, lc2, ccf0], outputs=predictions)\n",
        "model.summary()"
      ],
      "execution_count": 150,
      "outputs": [
        {
          "output_type": "stream",
          "text": [
            "Model: \"functional_17\"\n",
            "__________________________________________________________________________________________________\n",
            "Layer (type)                    Output Shape         Param #     Connected to                     \n",
            "==================================================================================================\n",
            "input_25 (InputLayer)           [(None, 1500)]       0                                            \n",
            "__________________________________________________________________________________________________\n",
            "input_26 (InputLayer)           [(None, 1500)]       0                                            \n",
            "__________________________________________________________________________________________________\n",
            "input_27 (InputLayer)           [(None, 150)]        0                                            \n",
            "__________________________________________________________________________________________________\n",
            "dense_52 (Dense)                (None, 32)           48032       input_25[0][0]                   \n",
            "                                                                 input_26[0][0]                   \n",
            "__________________________________________________________________________________________________\n",
            "dense_54 (Dense)                (None, 32)           4832        input_27[0][0]                   \n",
            "__________________________________________________________________________________________________\n",
            "dense_53 (Dense)                (None, 24)           792         dense_52[0][0]                   \n",
            "                                                                 dense_52[1][0]                   \n",
            "__________________________________________________________________________________________________\n",
            "dense_55 (Dense)                (None, 16)           528         dense_54[0][0]                   \n",
            "__________________________________________________________________________________________________\n",
            "concatenate_8 (Concatenate)     (None, 64)           0           dense_53[0][0]                   \n",
            "                                                                 dense_53[1][0]                   \n",
            "                                                                 dense_55[0][0]                   \n",
            "__________________________________________________________________________________________________\n",
            "dense_56 (Dense)                (None, 16)           1040        concatenate_8[0][0]              \n",
            "__________________________________________________________________________________________________\n",
            "dense_57 (Dense)                (None, 8)            136         dense_56[0][0]                   \n",
            "__________________________________________________________________________________________________\n",
            "dense_58 (Dense)                (None, 1)            9           dense_57[0][0]                   \n",
            "==================================================================================================\n",
            "Total params: 55,369\n",
            "Trainable params: 55,369\n",
            "Non-trainable params: 0\n",
            "__________________________________________________________________________________________________\n"
          ],
          "name": "stdout"
        }
      ]
    },
    {
      "cell_type": "code",
      "metadata": {
        "id": "XgUnDm43q7Rx"
      },
      "source": [
        "m=[metrics.mean_squared_error, metrics.mean_absolute_error]\n",
        "model.compile(loss='mean_squared_error', optimizer='adam', metrics=m)"
      ],
      "execution_count": 151,
      "outputs": []
    },
    {
      "cell_type": "code",
      "metadata": {
        "id": "YJOQwcD1tqK-"
      },
      "source": [
        "nepochs = 200\n",
        "batch_size = 100\n",
        "h = model.fit([X_train1, X_train2, X_train3],y_train,epochs=nepochs,batch_size=batch_size, validation_data=([X_test1, X_test2, X_test3],y_test), verbose=0)"
      ],
      "execution_count": 154,
      "outputs": []
    },
    {
      "cell_type": "code",
      "metadata": {
        "id": "umrW-a7jtxaE",
        "outputId": "6d2a1f01-f0f4-405f-ccfb-dd0fc344ddff",
        "colab": {
          "base_uri": "https://localhost:8080/",
          "height": 295
        }
      },
      "source": [
        "error_evolution(h)"
      ],
      "execution_count": 155,
      "outputs": [
        {
          "output_type": "display_data",
          "data": {
            "image/png": "[encoded data removed]",
            "text/plain": [
              "<Figure size 432x288 with 1 Axes>"
            ]
          },
          "metadata": {
            "tags": [],
            "needs_background": "light"
          }
        }
      ]
    },
    {
      "cell_type": "code",
      "metadata": {
        "id": "WowZ8u8vvtZT",
        "outputId": "5f1d2980-8248-4097-9f1d-d9afe617ccdd",
        "colab": {
          "base_uri": "https://localhost:8080/",
          "height": 283
        }
      },
      "source": [
        "y_pred = model.predict([X_test1, X_test2, X_test3])\n",
        "accuracy_plot(y_test, y_pred)"
      ],
      "execution_count": 156,
      "outputs": [
        {
          "output_type": "display_data",
          "data": {
            "image/png": "[encoded data removed]",
            "text/plain": [
              "<Figure size 432x288 with 1 Axes>"
            ]
          },
          "metadata": {
            "tags": [],
            "needs_background": "light"
          }
        }
      ]
    },
    {
      "cell_type": "code",
      "metadata": {
        "id": "ANB5rlSSvvXa",
        "outputId": "c57c49db-b1bd-40af-ebcc-0736b86594cc",
        "colab": {
          "base_uri": "https://localhost:8080/",
          "height": 282
        }
      },
      "source": [
        "howGoodAmI(y_test, y_pred)"
      ],
      "execution_count": 157,
      "outputs": [
        {
          "output_type": "execute_result",
          "data": {
            "text/plain": [
              "(0.007121496281772449, 2.13183992420241)"
            ]
          },
          "metadata": {
            "tags": []
          },
          "execution_count": 157
        },
        {
          "output_type": "display_data",
          "data": {
            "image/png": "[encoded data removed]",
            "text/plain": [
              "<Figure size 432x288 with 1 Axes>"
            ]
          },
          "metadata": {
            "tags": [],
            "needs_background": "light"
          }
        }
      ]
    },
    {
      "cell_type": "code",
      "metadata": {
        "id": "HgahH-cTwauF"
      },
      "source": [
        ""
      ],
      "execution_count": null,
      "outputs": []
    }
  ]
}