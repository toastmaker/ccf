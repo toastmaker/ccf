{
  "nbformat": 4,
  "nbformat_minor": 0,
  "metadata": {
    "colab": {
      "name": "lc and ccf.ipynb",
      "provenance": [],
      "collapsed_sections": [],
      "authorship_tag": "ABX9TyPNdUDjAd1S2ri+DKxcrgXx"
    },
    "kernelspec": {
      "name": "python3",
      "display_name": "Python 3"
    }
  },
  "cells": [
    {
      "cell_type": "code",
      "metadata": {
        "id": "4DYIq28LhgDp"
      },
      "source": [
        "import numpy as np\n",
        "import matplotlib.pyplot  as plt\n",
        "from keras.models import Sequential, Model\n",
        "from keras.layers import Dense, Flatten, Dropout, Input, Concatenate\n",
        "from sklearn.model_selection import train_test_split\n",
        "from keras import metrics\n",
        "from sklearn.preprocessing import StandardScaler\n",
        "from google.colab import drive"
      ],
      "execution_count": 197,
      "outputs": []
    },
    {
      "cell_type": "code",
      "metadata": {
        "id": "cqu3E0cg-Wf4",
        "outputId": "0fe7763e-9cbe-4c75-a276-0ff00385dffb",
        "colab": {
          "base_uri": "https://localhost:8080/",
          "height": 34
        }
      },
      "source": [
        "np.random.RandomState(seed=42)"
      ],
      "execution_count": 198,
      "outputs": [
        {
          "output_type": "execute_result",
          "data": {
            "text/plain": [
              "RandomState(MT19937) at 0x7FBA368E0360"
            ]
          },
          "metadata": {
            "tags": []
          },
          "execution_count": 198
        }
      ]
    },
    {
      "cell_type": "code",
      "metadata": {
        "id": "LBlc5nI4hs0I"
      },
      "source": [
        "def accuracy_plot(y_test, y_pred):\n",
        "  plt.scatter(y_test,y_pred,color=\"r\")\n",
        "  plt.xlabel(\"True delay\")\n",
        "  plt.xlabel(\"ML delay\")\n",
        "  plt.plot([-0.06*1e3,0.06*1e3],[-0.06*1e3,0.06*1e3],':')\n",
        "  plt.xlim([-0.06*1e3,0.06*1e3])\n",
        "  plt.ylim([-0.06*1e3,0.06*1e3])"
      ],
      "execution_count": 199,
      "outputs": []
    },
    {
      "cell_type": "code",
      "metadata": {
        "id": "BgfzQcEghqF4"
      },
      "source": [
        "def howGoodAmI(y_test, y_pred):\n",
        "  diff = y_test - y_pred.ravel()\n",
        "  hist = plt.hist(diff)\n",
        "  bincentres = (hist[1][:-1]+hist[1][1:])/2.\n",
        "  weights = hist[0]\n",
        "  mu = np.average(bincentres,weights=weights)\n",
        "  sigma = np.average((bincentres-mu)**2, weights=weights)\n",
        "  return mu, sigma"
      ],
      "execution_count": 200,
      "outputs": []
    },
    {
      "cell_type": "code",
      "metadata": {
        "id": "NaAoA3Hehqlp"
      },
      "source": [
        "def error_evolution(h):\n",
        "  # summarize history for loss\n",
        "  plt.plot(h.history['mean_squared_error'], label='train')\n",
        "  plt.plot(h.history['val_mean_squared_error'], label='test')\n",
        "  plt.title('model mse')\n",
        "  plt.ylabel('mse')\n",
        "  plt.xlabel('epoch')\n",
        "  plt.legend()"
      ],
      "execution_count": 201,
      "outputs": []
    },
    {
      "cell_type": "code",
      "metadata": {
        "id": "2avhsyTgiQFE"
      },
      "source": [
        "def ccf(x):\n",
        "  half = len(x)//2\n",
        "  a, b = x[0:half], x[half:]\n",
        "  a = (a - np.mean(a)) / (np.std(a) * len(a))\n",
        "  b = (b - np.mean(b)) / (np.std(b))\n",
        "  return np.correlate(a,b,'same')"
      ],
      "execution_count": 202,
      "outputs": []
    },
    {
      "cell_type": "code",
      "metadata": {
        "id": "Xyfw_JgGhsPj",
        "outputId": "c48dc9e7-6193-48e1-fe7b-9fea85047e1d",
        "colab": {
          "base_uri": "https://localhost:8080/",
          "height": 51
        }
      },
      "source": [
        "# load data\n",
        "drive.mount('/content/drive')\n",
        "copypath = '/content/drive/My Drive/data/lightcurve_array.npz'\n",
        "npz=np.load(copypath)\n",
        "xdata=npz['lc'][:,:-1] # to make the legth of the two concatenated light curves an even number\n",
        "ydata=npz['delay']*1e3 # convert to human read units\n",
        "xdata.shape"
      ],
      "execution_count": 203,
      "outputs": [
        {
          "output_type": "stream",
          "text": [
            "Drive already mounted at /content/drive; to attempt to forcibly remount, call drive.mount(\"/content/drive\", force_remount=True).\n"
          ],
          "name": "stdout"
        },
        {
          "output_type": "execute_result",
          "data": {
            "text/plain": [
              "(9999, 9998)"
            ]
          },
          "metadata": {
            "tags": []
          },
          "execution_count": 203
        }
      ]
    },
    {
      "cell_type": "code",
      "metadata": {
        "id": "mPfGlG9tsR0N",
        "outputId": "0af33b0f-391b-449f-ad15-b9b852e7c277",
        "colab": {
          "base_uri": "https://localhost:8080/",
          "height": 282
        }
      },
      "source": [
        "lc0 = xdata[0]\n",
        "plt.plot(lc0)\n",
        "print(\"Delay is {:.2f}\".format(ydata[0]))"
      ],
      "execution_count": 204,
      "outputs": [
        {
          "output_type": "stream",
          "text": [
            "Delay is 49.97\n"
          ],
          "name": "stdout"
        },
        {
          "output_type": "display_data",
          "data": {
            "image/png": "[encoded data removed]",
            "text/plain": [
              "<Figure size 432x288 with 1 Axes>"
            ]
          },
          "metadata": {
            "tags": [],
            "needs_background": "light"
          }
        }
      ]
    },
    {
      "cell_type": "code",
      "metadata": {
        "id": "XQ_RTV3Lmtuh",
        "outputId": "d2484146-d16b-42a4-c833-1b85582c730a",
        "colab": {
          "base_uri": "https://localhost:8080/",
          "height": 282
        }
      },
      "source": [
        "half = xdata.shape[1]//2\n",
        "xdata = np.concatenate([xdata[:,1000:2500], xdata[:,1000+half:2500+half]], axis=1)\n",
        "lc0 = xdata[0]\n",
        "plt.plot(lc0)\n",
        "print(\"Delay is {:.2f}\".format(ydata[0]))"
      ],
      "execution_count": 205,
      "outputs": [
        {
          "output_type": "stream",
          "text": [
            "Delay is 49.97\n"
          ],
          "name": "stdout"
        },
        {
          "output_type": "display_data",
          "data": {
            "image/png": "[encoded data removed]",
            "text/plain": [
              "<Figure size 432x288 with 1 Axes>"
            ]
          },
          "metadata": {
            "tags": [],
            "needs_background": "light"
          }
        }
      ]
    },
    {
      "cell_type": "code",
      "metadata": {
        "id": "guzkuKzeu_1m"
      },
      "source": [
        ""
      ],
      "execution_count": 205,
      "outputs": []
    },
    {
      "cell_type": "code",
      "metadata": {
        "id": "5-A0cPwAhxF7",
        "outputId": "39362d78-d5b6-434c-a138-44364a85e73c",
        "colab": {
          "base_uri": "https://localhost:8080/",
          "height": 34
        }
      },
      "source": [
        "half = xdata.shape[1]//2\n",
        "xdata = xdata/np.max(xdata,axis=1)[:,np.newaxis]\n",
        "xdata[:,:half] = xdata[:,:half]/np.max(xdata[:,:half],axis=1)[:,np.newaxis]\n",
        "xdata[:,half:] = xdata[:,half:]/np.max(xdata[:,half:],axis=1)[:,np.newaxis]\n",
        "xdata.shape"
      ],
      "execution_count": 206,
      "outputs": [
        {
          "output_type": "execute_result",
          "data": {
            "text/plain": [
              "(9999, 3000)"
            ]
          },
          "metadata": {
            "tags": []
          },
          "execution_count": 206
        }
      ]
    },
    {
      "cell_type": "code",
      "metadata": {
        "id": "cp6Ph3uSh44-",
        "outputId": "f00862ed-0f03-4eea-b4cb-2242b869c93e",
        "colab": {
          "base_uri": "https://localhost:8080/",
          "height": 282
        }
      },
      "source": [
        "lc0 = xdata[0]\n",
        "plt.plot(lc0)\n",
        "print(\"Delay is {:.2f}\".format(ydata[0]))"
      ],
      "execution_count": 207,
      "outputs": [
        {
          "output_type": "stream",
          "text": [
            "Delay is 49.97\n"
          ],
          "name": "stdout"
        },
        {
          "output_type": "display_data",
          "data": {
            "image/png": "[encoded data removed]",
            "text/plain": [
              "<Figure size 432x288 with 1 Axes>"
            ]
          },
          "metadata": {
            "tags": [],
            "needs_background": "light"
          }
        }
      ]
    },
    {
      "cell_type": "code",
      "metadata": {
        "id": "4CyWPvhmiNF7",
        "outputId": "8d9aa527-c0a3-42bd-a47f-933bb2e6954d",
        "colab": {
          "base_uri": "https://localhost:8080/",
          "height": 282
        }
      },
      "source": [
        "ccf_lc0 = ccf(lc0)\n",
        "plt.plot(ccf_lc0)\n",
        "np.argmax(ccf_lc0)"
      ],
      "execution_count": 208,
      "outputs": [
        {
          "output_type": "execute_result",
          "data": {
            "text/plain": [
              "699"
            ]
          },
          "metadata": {
            "tags": []
          },
          "execution_count": 208
        },
        {
          "output_type": "display_data",
          "data": {
            "image/png": "[encoded data removed]",
            "text/plain": [
              "<Figure size 432x288 with 1 Axes>"
            ]
          },
          "metadata": {
            "tags": [],
            "needs_background": "light"
          }
        }
      ]
    },
    {
      "cell_type": "code",
      "metadata": {
        "id": "4XuqS-GrjiNx"
      },
      "source": [
        "ccfdata = np.apply_along_axis(func1d=ccf, axis=1, arr=xdata)"
      ],
      "execution_count": 209,
      "outputs": []
    },
    {
      "cell_type": "code",
      "metadata": {
        "id": "MnVtYQCuisC5",
        "outputId": "57693890-eb2c-4bd1-a11e-cc69fa24ee91",
        "colab": {
          "base_uri": "https://localhost:8080/",
          "height": 298
        }
      },
      "source": [
        "half_ccf = ccfdata.shape[1]//2\n",
        "window_size = 120\n",
        "ccfdata = ccfdata[:,half_ccf-window_size//2:half_ccf+window_size//2]\n",
        "ccfdata = (ccfdata - np.mean(ccfdata, axis=1)[:,None])/np.std(ccfdata,axis=1)[:,None]\n",
        "plt.plot(ccfdata[0])\n",
        "plt.title(\"Delay = %.2f\"%ydata[0])\n",
        "ccfdata.shape"
      ],
      "execution_count": 210,
      "outputs": [
        {
          "output_type": "execute_result",
          "data": {
            "text/plain": [
              "(9999, 120)"
            ]
          },
          "metadata": {
            "tags": []
          },
          "execution_count": 210
        },
        {
          "output_type": "display_data",
          "data": {
            "image/png": "[encoded data removed]",
            "text/plain": [
              "<Figure size 432x288 with 1 Axes>"
            ]
          },
          "metadata": {
            "tags": [],
            "needs_background": "light"
          }
        }
      ]
    },
    {
      "cell_type": "code",
      "metadata": {
        "id": "oy7WZ9QTh6li",
        "outputId": "af767dc2-4287-435c-e4e7-583d64d46626",
        "colab": {
          "base_uri": "https://localhost:8080/",
          "height": 34
        }
      },
      "source": [
        "# shuffling and splitting\n",
        "Nsamples = ydata.shape[0]\n",
        "shuffle_ind = np.arange(Nsamples)\n",
        "np.random.shuffle(shuffle_ind)\n",
        "\n",
        "ccfdata = ccfdata[shuffle_ind]\n",
        "xdata = xdata[shuffle_ind]\n",
        "ydata = ydata[shuffle_ind]\n",
        "\n",
        "xdata.shape, ccfdata.shape, ydata.shape"
      ],
      "execution_count": 211,
      "outputs": [
        {
          "output_type": "execute_result",
          "data": {
            "text/plain": [
              "((9999, 3000), (9999, 120), (9999,))"
            ]
          },
          "metadata": {
            "tags": []
          },
          "execution_count": 211
        }
      ]
    },
    {
      "cell_type": "code",
      "metadata": {
        "id": "1aWGohmEsLNk",
        "outputId": "5b1c04af-a4d0-40df-d6ba-b9c5ef0fa4ba",
        "colab": {
          "base_uri": "https://localhost:8080/",
          "height": 34
        }
      },
      "source": [
        "test_size= 0.3\n",
        "Ntrain = np.trunc(Nsamples*(1.-test_size)).astype(int)\n",
        "print(f'{Ntrain} out of {Nsamples} used for training')\n",
        "X_train1 = xdata[:Ntrain,:half] #lc1\n",
        "X_train2 = xdata[:Ntrain,half:] # lc2\n",
        "X_train3 = ccfdata[:Ntrain,:] # ccf\n",
        "\n",
        "X_test1 = xdata[Ntrain:,:half]\n",
        "X_test2 = xdata[Ntrain:,half:]\n",
        "X_test3 = ccfdata[Ntrain:,:]\n",
        "\n",
        "y_train = ydata[:Ntrain]\n",
        "y_test = ydata[Ntrain:]"
      ],
      "execution_count": 212,
      "outputs": [
        {
          "output_type": "stream",
          "text": [
            "6999 out of 9999 used for training\n"
          ],
          "name": "stdout"
        }
      ]
    },
    {
      "cell_type": "code",
      "metadata": {
        "id": "Y2kyNfsNrS9I",
        "outputId": "44f7642b-f631-4e58-ebc1-22215396e477",
        "colab": {
          "base_uri": "https://localhost:8080/",
          "height": 136
        }
      },
      "source": [
        "X_train1.shape, X_train2.shape, X_train3.shape, y_train.shape, X_test1.shape, X_test2.shape, X_test3.shape"
      ],
      "execution_count": 213,
      "outputs": [
        {
          "output_type": "execute_result",
          "data": {
            "text/plain": [
              "((6999, 1500),\n",
              " (6999, 1500),\n",
              " (6999, 120),\n",
              " (6999,),\n",
              " (3000, 1500),\n",
              " (3000, 1500),\n",
              " (3000, 120))"
            ]
          },
          "metadata": {
            "tags": []
          },
          "execution_count": 213
        }
      ]
    },
    {
      "cell_type": "code",
      "metadata": {
        "id": "o5SrdBYbmRnj",
        "outputId": "15a43437-9efe-4555-a91a-f3e671acc0c5",
        "colab": {
          "base_uri": "https://localhost:8080/",
          "height": 595
        }
      },
      "source": [
        "# Y shape network, two inputs layer 'dense' is common for both branches (same weights)\n",
        "lc1 = Input(shape=(X_train1[0].shape))\n",
        "lc2 = Input(shape=(X_train2[0].shape))\n",
        "ccf0 = Input(shape=(X_train3[0].shape))\n",
        "\n",
        "# 48, 24\n",
        "dense_lc1 = Dense(units=48, input_shape=X_train1[0].shape,activation='sigmoid')\n",
        "dense_lc2 = Dense(units=16, activation='sigmoid')\n",
        "\n",
        "branch1 = dense_lc1(lc1)\n",
        "branch1 = dense_lc2(branch1)\n",
        "branch2  = dense_lc1(lc2)\n",
        "branch2 = dense_lc2(branch2)\n",
        "\n",
        "# 32, 8\n",
        "branch3 = Dense(units=24, input_shape=X_train3[0].shape, activation='sigmoid')(ccf0)\n",
        "branch3 = Dense(units=16, activation='sigmoid')(branch3)\n",
        "\n",
        "merge_layer = Concatenate()([branch1, branch2, branch3])\n",
        "\n",
        "# 16\n",
        "mixer_layer = Dense(units=16, activation='sigmoid')(merge_layer)\n",
        "mixer_layer = Dense(units=8, activation='sigmoid')(mixer_layer)\n",
        "predictions = Dense(units=1)(mixer_layer)\n",
        "model = Model(inputs=[lc1, lc2, ccf0], outputs=predictions)\n",
        "model.summary()"
      ],
      "execution_count": 247,
      "outputs": [
        {
          "output_type": "stream",
          "text": [
            "Model: \"functional_29\"\n",
            "__________________________________________________________________________________________________\n",
            "Layer (type)                    Output Shape         Param #     Connected to                     \n",
            "==================================================================================================\n",
            "input_43 (InputLayer)           [(None, 1500)]       0                                            \n",
            "__________________________________________________________________________________________________\n",
            "input_44 (InputLayer)           [(None, 1500)]       0                                            \n",
            "__________________________________________________________________________________________________\n",
            "input_45 (InputLayer)           [(None, 120)]        0                                            \n",
            "__________________________________________________________________________________________________\n",
            "dense_94 (Dense)                (None, 48)           72048       input_43[0][0]                   \n",
            "                                                                 input_44[0][0]                   \n",
            "__________________________________________________________________________________________________\n",
            "dense_96 (Dense)                (None, 24)           2904        input_45[0][0]                   \n",
            "__________________________________________________________________________________________________\n",
            "dense_95 (Dense)                (None, 16)           784         dense_94[0][0]                   \n",
            "                                                                 dense_94[1][0]                   \n",
            "__________________________________________________________________________________________________\n",
            "dense_97 (Dense)                (None, 16)           400         dense_96[0][0]                   \n",
            "__________________________________________________________________________________________________\n",
            "concatenate_14 (Concatenate)    (None, 48)           0           dense_95[0][0]                   \n",
            "                                                                 dense_95[1][0]                   \n",
            "                                                                 dense_97[0][0]                   \n",
            "__________________________________________________________________________________________________\n",
            "dense_98 (Dense)                (None, 16)           784         concatenate_14[0][0]             \n",
            "__________________________________________________________________________________________________\n",
            "dense_99 (Dense)                (None, 8)            136         dense_98[0][0]                   \n",
            "__________________________________________________________________________________________________\n",
            "dense_100 (Dense)               (None, 1)            9           dense_99[0][0]                   \n",
            "==================================================================================================\n",
            "Total params: 77,065\n",
            "Trainable params: 77,065\n",
            "Non-trainable params: 0\n",
            "__________________________________________________________________________________________________\n"
          ],
          "name": "stdout"
        }
      ]
    },
    {
      "cell_type": "code",
      "metadata": {
        "id": "XgUnDm43q7Rx"
      },
      "source": [
        "m=[metrics.mean_squared_error, metrics.mean_absolute_error]\n",
        "model.compile(loss='mean_squared_error', optimizer='adam', metrics=m)"
      ],
      "execution_count": 248,
      "outputs": []
    },
    {
      "cell_type": "code",
      "metadata": {
        "id": "YJOQwcD1tqK-"
      },
      "source": [
        "nepochs = 250\n",
        "batch_size = 100\n",
        "h = model.fit([X_train1, X_train2, X_train3],y_train,epochs=nepochs,batch_size=batch_size, validation_data=([X_test1, X_test2, X_test3],y_test), verbose=0)"
      ],
      "execution_count": 249,
      "outputs": []
    },
    {
      "cell_type": "code",
      "metadata": {
        "id": "umrW-a7jtxaE",
        "outputId": "132fe8b2-5eee-48e6-9f81-c659475ced49",
        "colab": {
          "base_uri": "https://localhost:8080/",
          "height": 295
        }
      },
      "source": [
        "error_evolution(h)"
      ],
      "execution_count": 250,
      "outputs": [
        {
          "output_type": "display_data",
          "data": {
            "image/png": "[encoded data removed]",
            "text/plain": [
              "<Figure size 432x288 with 1 Axes>"
            ]
          },
          "metadata": {
            "tags": [],
            "needs_background": "light"
          }
        }
      ]
    },
    {
      "cell_type": "code",
      "metadata": {
        "id": "WowZ8u8vvtZT",
        "outputId": "9866c82e-d0a2-40b5-aeba-bcd6532eb802",
        "colab": {
          "base_uri": "https://localhost:8080/",
          "height": 283
        }
      },
      "source": [
        "y_pred = model.predict([X_test1, X_test2, X_test3])\n",
        "accuracy_plot(y_test, y_pred)"
      ],
      "execution_count": 251,
      "outputs": [
        {
          "output_type": "display_data",
          "data": {
            "image/png": "[encoded data removed]",
            "text/plain": [
              "<Figure size 432x288 with 1 Axes>"
            ]
          },
          "metadata": {
            "tags": [],
            "needs_background": "light"
          }
        }
      ]
    },
    {
      "cell_type": "code",
      "metadata": {
        "id": "ANB5rlSSvvXa",
        "outputId": "b5111e51-474a-4655-8937-ca25b51bc828",
        "colab": {
          "base_uri": "https://localhost:8080/",
          "height": 282
        }
      },
      "source": [
        "howGoodAmI(y_test, y_pred)"
      ],
      "execution_count": 252,
      "outputs": [
        {
          "output_type": "execute_result",
          "data": {
            "text/plain": [
              "(0.11305422558011285, 1.8763129445763045)"
            ]
          },
          "metadata": {
            "tags": []
          },
          "execution_count": 252
        },
        {
          "output_type": "display_data",
          "data": {
            "image/png": "[encoded data removed]",
            "text/plain": [
              "<Figure size 432x288 with 1 Axes>"
            ]
          },
          "metadata": {
            "tags": [],
            "needs_background": "light"
          }
        }
      ]
    },
    {
      "cell_type": "code",
      "metadata": {
        "id": "HgahH-cTwauF"
      },
      "source": [
        ""
      ],
      "execution_count": null,
      "outputs": []
    }
  ]
}