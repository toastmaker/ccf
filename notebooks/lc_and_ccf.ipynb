{
  "nbformat": 4,
  "nbformat_minor": 0,
  "metadata": {
    "colab": {
      "name": "lc and ccf.ipynb",
      "provenance": [],
      "collapsed_sections": [],
      "authorship_tag": "ABX9TyPFNwTFYmHzx7X09G8n3s3k"
    },
    "kernelspec": {
      "name": "python3",
      "display_name": "Python 3"
    }
  },
  "cells": [
    {
      "cell_type": "code",
      "metadata": {
        "id": "4DYIq28LhgDp"
      },
      "source": [
        "import numpy as np\n",
        "import matplotlib.pyplot  as plt\n",
        "from keras.models import Sequential, Model\n",
        "from keras.layers import Dense, Flatten, Dropout, Input, Concatenate\n",
        "from sklearn.model_selection import train_test_split\n",
        "from keras import metrics\n",
        "from sklearn.preprocessing import StandardScaler\n",
        "from google.colab import drive"
      ],
      "execution_count": 2,
      "outputs": []
    },
    {
      "cell_type": "code",
      "metadata": {
        "id": "cqu3E0cg-Wf4",
        "outputId": "7236f0bf-434a-474a-8ce2-2f40b14fa6c6",
        "colab": {
          "base_uri": "https://localhost:8080/",
          "height": 34
        }
      },
      "source": [
        "np.random.RandomState(seed=42)"
      ],
      "execution_count": 3,
      "outputs": [
        {
          "output_type": "execute_result",
          "data": {
            "text/plain": [
              "RandomState(MT19937) at 0x7F4E8D15CBA0"
            ]
          },
          "metadata": {
            "tags": []
          },
          "execution_count": 3
        }
      ]
    },
    {
      "cell_type": "code",
      "metadata": {
        "id": "LBlc5nI4hs0I"
      },
      "source": [
        "def accuracy_plot(y_test, y_pred):\n",
        "  plt.scatter(y_test,y_pred,color=\"r\")\n",
        "  plt.xlabel(\"True delay\")\n",
        "  plt.xlabel(\"ML delay\")\n",
        "  plt.plot([-0.06*1e3,0.06*1e3],[-0.06*1e3,0.06*1e3],':')\n",
        "  plt.xlim([-0.06*1e3,0.06*1e3])\n",
        "  plt.ylim([-0.06*1e3,0.06*1e3])"
      ],
      "execution_count": 4,
      "outputs": []
    },
    {
      "cell_type": "code",
      "metadata": {
        "id": "BgfzQcEghqF4"
      },
      "source": [
        "def howGoodAmI(y_test, y_pred):\n",
        "  diff = y_test - y_pred.ravel()\n",
        "  hist = plt.hist(diff)\n",
        "  bincentres = (hist[1][:-1]+hist[1][1:])/2.\n",
        "  weights = hist[0]\n",
        "  mu = np.average(bincentres,weights=weights)\n",
        "  sigma = np.average((bincentres-mu)**2, weights=weights)\n",
        "  return mu, sigma"
      ],
      "execution_count": 5,
      "outputs": []
    },
    {
      "cell_type": "code",
      "metadata": {
        "id": "NaAoA3Hehqlp"
      },
      "source": [
        "def error_evolution(h):\n",
        "  # summarize history for loss\n",
        "  plt.plot(h.history['mean_squared_error'], label='train')\n",
        "  plt.plot(h.history['val_mean_squared_error'], label='test')\n",
        "  plt.title('model mse')\n",
        "  plt.ylabel('mse')\n",
        "  plt.xlabel('epoch')\n",
        "  plt.legend()"
      ],
      "execution_count": 6,
      "outputs": []
    },
    {
      "cell_type": "code",
      "metadata": {
        "id": "2avhsyTgiQFE"
      },
      "source": [
        "def ccf(x):\n",
        "  half = len(x)//2\n",
        "  a, b = x[0:half], x[half:]\n",
        "  a = (a - np.mean(a)) / (np.std(a) * len(a))\n",
        "  b = (b - np.mean(b)) / (np.std(b))\n",
        "  return np.correlate(a,b,'same')"
      ],
      "execution_count": 7,
      "outputs": []
    },
    {
      "cell_type": "code",
      "metadata": {
        "id": "Xyfw_JgGhsPj",
        "outputId": "c9e84545-8732-43e3-b734-f4e3a8c0dfa0",
        "colab": {
          "base_uri": "https://localhost:8080/",
          "height": 71
        }
      },
      "source": [
        "# load data\n",
        "drive.mount('/content/drive')\n",
        "copypath = '/content/drive/My Drive/data/lightcurve_array_1ms_6e4.npz' # 60 000 lc\n",
        "# copypath = '/content/drive/My Drive/data/lightcurve_array.npz' # 9999 lc\n",
        "npz=np.load(copypath)\n",
        "xdata=npz['lc'][:,:-1] # to make the legth of the two concatenated light curves an even number\n",
        "ydata=npz['delay']*1e3 # convert to human read units\n",
        "xdata.shape"
      ],
      "execution_count": 8,
      "outputs": [
        {
          "output_type": "stream",
          "text": [
            "Drive already mounted at /content/drive; to attempt to forcibly remount, call drive.mount(\"/content/drive\", force_remount=True).\n"
          ],
          "name": "stdout"
        },
        {
          "output_type": "execute_result",
          "data": {
            "text/plain": [
              "(59999, 9998)"
            ]
          },
          "metadata": {
            "tags": []
          },
          "execution_count": 8
        }
      ]
    },
    {
      "cell_type": "code",
      "metadata": {
        "id": "mPfGlG9tsR0N",
        "outputId": "8783b8ac-925b-40d3-8a3e-b4c12e02b85c",
        "colab": {
          "base_uri": "https://localhost:8080/",
          "height": 282
        }
      },
      "source": [
        "lc0 = xdata[0]\n",
        "plt.plot(lc0)\n",
        "print(\"Delay is {:.2f}\".format(ydata[0]))"
      ],
      "execution_count": 9,
      "outputs": [
        {
          "output_type": "stream",
          "text": [
            "Delay is 49.97\n"
          ],
          "name": "stdout"
        },
        {
          "output_type": "display_data",
          "data": {
            "image/png": "[encoded data removed]",
            "text/plain": [
              "<Figure size 432x288 with 1 Axes>"
            ]
          },
          "metadata": {
            "tags": [],
            "needs_background": "light"
          }
        }
      ]
    },
    {
      "cell_type": "code",
      "metadata": {
        "id": "XQ_RTV3Lmtuh",
        "outputId": "bd770db2-6772-412b-d65d-feddeb74d3a4",
        "colab": {
          "base_uri": "https://localhost:8080/",
          "height": 282
        }
      },
      "source": [
        "# take just data points around signal\n",
        "half = xdata.shape[1]//2\n",
        "xdata = np.concatenate([xdata[:,1000:2500], xdata[:,1000+half:2500+half]], axis=1)\n",
        "lc0 = xdata[0]\n",
        "plt.plot(lc0)\n",
        "print(\"Delay is {:.2f}\".format(ydata[0]))"
      ],
      "execution_count": 10,
      "outputs": [
        {
          "output_type": "stream",
          "text": [
            "Delay is 49.97\n"
          ],
          "name": "stdout"
        },
        {
          "output_type": "display_data",
          "data": {
            "image/png": "[encoded data removed]",
            "text/plain": [
              "<Figure size 432x288 with 1 Axes>"
            ]
          },
          "metadata": {
            "tags": [],
            "needs_background": "light"
          }
        }
      ]
    },
    {
      "cell_type": "code",
      "metadata": {
        "id": "guzkuKzeu_1m"
      },
      "source": [
        ""
      ],
      "execution_count": 10,
      "outputs": []
    },
    {
      "cell_type": "code",
      "metadata": {
        "id": "5-A0cPwAhxF7",
        "outputId": "6bd7a516-0602-4452-9dc1-233af582e771",
        "colab": {
          "base_uri": "https://localhost:8080/",
          "height": 34
        }
      },
      "source": [
        "half = xdata.shape[1]//2\n",
        "xdata = xdata/np.max(xdata,axis=1)[:,np.newaxis]\n",
        "xdata[:,:half] = xdata[:,:half]/np.max(xdata[:,:half],axis=1)[:,np.newaxis]\n",
        "xdata[:,half:] = xdata[:,half:]/np.max(xdata[:,half:],axis=1)[:,np.newaxis]\n",
        "xdata.shape"
      ],
      "execution_count": 11,
      "outputs": [
        {
          "output_type": "execute_result",
          "data": {
            "text/plain": [
              "(59999, 3000)"
            ]
          },
          "metadata": {
            "tags": []
          },
          "execution_count": 11
        }
      ]
    },
    {
      "cell_type": "code",
      "metadata": {
        "id": "cp6Ph3uSh44-",
        "outputId": "71ed3603-538f-44cb-f326-0ecbab4c5e71",
        "colab": {
          "base_uri": "https://localhost:8080/",
          "height": 282
        }
      },
      "source": [
        "lc0 = xdata[0]\n",
        "plt.plot(lc0)\n",
        "print(\"Delay is {:.2f}\".format(ydata[0]))"
      ],
      "execution_count": 12,
      "outputs": [
        {
          "output_type": "stream",
          "text": [
            "Delay is 49.97\n"
          ],
          "name": "stdout"
        },
        {
          "output_type": "display_data",
          "data": {
            "image/png": "[encoded data removed]",
            "text/plain": [
              "<Figure size 432x288 with 1 Axes>"
            ]
          },
          "metadata": {
            "tags": [],
            "needs_background": "light"
          }
        }
      ]
    },
    {
      "cell_type": "code",
      "metadata": {
        "id": "4CyWPvhmiNF7",
        "outputId": "a0163611-ef94-41d7-ca8a-7b6eb3dfd186",
        "colab": {
          "base_uri": "https://localhost:8080/",
          "height": 282
        }
      },
      "source": [
        "ccf_lc0 = ccf(lc0)\n",
        "plt.plot(ccf_lc0)\n",
        "np.argmax(ccf_lc0)"
      ],
      "execution_count": 13,
      "outputs": [
        {
          "output_type": "execute_result",
          "data": {
            "text/plain": [
              "699"
            ]
          },
          "metadata": {
            "tags": []
          },
          "execution_count": 13
        },
        {
          "output_type": "display_data",
          "data": {
            "image/png": "[encoded data removed]",
            "text/plain": [
              "<Figure size 432x288 with 1 Axes>"
            ]
          },
          "metadata": {
            "tags": [],
            "needs_background": "light"
          }
        }
      ]
    },
    {
      "cell_type": "code",
      "metadata": {
        "id": "4XuqS-GrjiNx"
      },
      "source": [
        "ccfdata = np.apply_along_axis(func1d=ccf, axis=1, arr=xdata)"
      ],
      "execution_count": 14,
      "outputs": []
    },
    {
      "cell_type": "code",
      "metadata": {
        "id": "v7yd4ae6BOn2"
      },
      "source": [
        "#np.savez('/content/drive/My Drive/data/ccfdata_6e4.npz',ccfdata)"
      ],
      "execution_count": 15,
      "outputs": []
    },
    {
      "cell_type": "code",
      "metadata": {
        "id": "79UUr9zRJrnQ"
      },
      "source": [
        "# ccfdata = np.load('/content/drive/My Drive/data/ccfdata_6e4.npz')\n",
        "# ccfdata=ccfdata['arr_0']"
      ],
      "execution_count": 16,
      "outputs": []
    },
    {
      "cell_type": "code",
      "metadata": {
        "id": "MnVtYQCuisC5",
        "outputId": "86d17ed8-41b1-4b52-f8a7-95a8dd4aaa10",
        "colab": {
          "base_uri": "https://localhost:8080/",
          "height": 298
        }
      },
      "source": [
        "half_ccf = ccfdata.shape[1]//2\n",
        "window_size = 120 # 120\n",
        "ccfdata = ccfdata[:,half_ccf-window_size//2:half_ccf+window_size//2]\n",
        "ccfdata = (ccfdata - np.mean(ccfdata, axis=1)[:,None])/np.std(ccfdata,axis=1)[:,None]\n",
        "plt.plot(ccfdata[0])\n",
        "plt.title(\"Delay = %.2f\"%ydata[0])\n",
        "ccfdata.shape"
      ],
      "execution_count": 73,
      "outputs": [
        {
          "output_type": "execute_result",
          "data": {
            "text/plain": [
              "(59999, 120)"
            ]
          },
          "metadata": {
            "tags": []
          },
          "execution_count": 73
        },
        {
          "output_type": "display_data",
          "data": {
            "image/png": "[encoded data removed]",
            "text/plain": [
              "<Figure size 432x288 with 1 Axes>"
            ]
          },
          "metadata": {
            "tags": [],
            "needs_background": "light"
          }
        }
      ]
    },
    {
      "cell_type": "code",
      "metadata": {
        "id": "oy7WZ9QTh6li",
        "outputId": "dcce4fa0-8b23-46f6-eabc-1298ca93113f",
        "colab": {
          "base_uri": "https://localhost:8080/",
          "height": 34
        }
      },
      "source": [
        "# shuffling and splitting\n",
        "Nsamples = ydata.shape[0]\n",
        "shuffle_ind = np.arange(Nsamples)\n",
        "np.random.shuffle(shuffle_ind)\n",
        "\n",
        "ccfdata = ccfdata[shuffle_ind]\n",
        "xdata = xdata[shuffle_ind]\n",
        "ydata = ydata[shuffle_ind]\n",
        "\n",
        "xdata.shape, ccfdata.shape, ydata.shape"
      ],
      "execution_count": 74,
      "outputs": [
        {
          "output_type": "execute_result",
          "data": {
            "text/plain": [
              "((59999, 3000), (59999, 120), (59999,))"
            ]
          },
          "metadata": {
            "tags": []
          },
          "execution_count": 74
        }
      ]
    },
    {
      "cell_type": "code",
      "metadata": {
        "id": "1aWGohmEsLNk",
        "outputId": "554dc04d-751a-4a3c-83f6-aeb9ff253089",
        "colab": {
          "base_uri": "https://localhost:8080/",
          "height": 34
        }
      },
      "source": [
        "test_size= 0.3\n",
        "Ntrain = np.trunc(Nsamples*(1.-test_size)).astype(int)\n",
        "print(f'{Ntrain} out of {Nsamples} used for training')\n",
        "X_train1 = xdata[:Ntrain,:half] #lc1\n",
        "X_train2 = xdata[:Ntrain,half:] # lc2\n",
        "X_train3 = ccfdata[:Ntrain,:] # ccf\n",
        "\n",
        "X_test1 = xdata[Ntrain:,:half]\n",
        "X_test2 = xdata[Ntrain:,half:]\n",
        "X_test3 = ccfdata[Ntrain:,:]\n",
        "\n",
        "y_train = ydata[:Ntrain]\n",
        "y_test = ydata[Ntrain:]"
      ],
      "execution_count": 75,
      "outputs": [
        {
          "output_type": "stream",
          "text": [
            "41999 out of 59999 used for training\n"
          ],
          "name": "stdout"
        }
      ]
    },
    {
      "cell_type": "code",
      "metadata": {
        "id": "Y2kyNfsNrS9I",
        "outputId": "57d49aa0-343c-49ca-fc99-2bc5431c5bca",
        "colab": {
          "base_uri": "https://localhost:8080/",
          "height": 136
        }
      },
      "source": [
        "X_train1.shape, X_train2.shape, X_train3.shape, y_train.shape, X_test1.shape, X_test2.shape, X_test3.shape"
      ],
      "execution_count": 76,
      "outputs": [
        {
          "output_type": "execute_result",
          "data": {
            "text/plain": [
              "((41999, 1500),\n",
              " (41999, 1500),\n",
              " (41999, 120),\n",
              " (41999,),\n",
              " (18000, 1500),\n",
              " (18000, 1500),\n",
              " (18000, 120))"
            ]
          },
          "metadata": {
            "tags": []
          },
          "execution_count": 76
        }
      ]
    },
    {
      "cell_type": "code",
      "metadata": {
        "id": "o5SrdBYbmRnj",
        "outputId": "e06d9a24-a5c6-407a-ce23-bb5715d2cb23",
        "colab": {
          "base_uri": "https://localhost:8080/",
          "height": 595
        }
      },
      "source": [
        "# Y shape network, two inputs layer 'dense' is common for both branches (same weights)\n",
        "lc1 = Input(shape=(X_train1[0].shape))\n",
        "lc2 = Input(shape=(X_train2[0].shape))\n",
        "ccf0 = Input(shape=(X_train3[0].shape))\n",
        "\n",
        "# 48, 24\n",
        "dense_lc1 = Dense(units=64, input_shape=X_train1[0].shape,activation='sigmoid')\n",
        "dense_lc2 = Dense(units=24, activation='sigmoid')\n",
        "\n",
        "branch1 = dense_lc1(lc1)\n",
        "branch1 = dense_lc2(branch1)\n",
        "\n",
        "branch2  = dense_lc1(lc2)\n",
        "branch2 = dense_lc2(branch2)\n",
        "\n",
        "# 32, 8\n",
        "branch3 = Dense(units=32, input_shape=X_train3[0].shape, activation='sigmoid')(ccf0)\n",
        "branch3 = Dense(units=16, activation='sigmoid')(branch3)\n",
        "branch3 = Dense(units=8, activation='sigmoid')(branch3)\n",
        "\n",
        "merge_layer = Concatenate()([branch1, branch2, branch3])\n",
        "\n",
        "# 16\n",
        "mixer_layer = Dense(units=16, activation='sigmoid')(merge_layer)\n",
        "#mixer_layer = Dense(units=8, activation='sigmoid')(mixer_layer)\n",
        "predictions = Dense(units=1)(mixer_layer)\n",
        "model = Model(inputs=[lc1, lc2, ccf0], outputs=predictions)\n",
        "model.summary()"
      ],
      "execution_count": 100,
      "outputs": [
        {
          "output_type": "stream",
          "text": [
            "Model: \"functional_23\"\n",
            "__________________________________________________________________________________________________\n",
            "Layer (type)                    Output Shape         Param #     Connected to                     \n",
            "==================================================================================================\n",
            "input_42 (InputLayer)           [(None, 120)]        0                                            \n",
            "__________________________________________________________________________________________________\n",
            "input_40 (InputLayer)           [(None, 1500)]       0                                            \n",
            "__________________________________________________________________________________________________\n",
            "input_41 (InputLayer)           [(None, 1500)]       0                                            \n",
            "__________________________________________________________________________________________________\n",
            "dense_92 (Dense)                (None, 32)           3872        input_42[0][0]                   \n",
            "__________________________________________________________________________________________________\n",
            "dense_90 (Dense)                (None, 64)           96064       input_40[0][0]                   \n",
            "                                                                 input_41[0][0]                   \n",
            "__________________________________________________________________________________________________\n",
            "dense_93 (Dense)                (None, 16)           528         dense_92[0][0]                   \n",
            "__________________________________________________________________________________________________\n",
            "dense_91 (Dense)                (None, 24)           1560        dense_90[0][0]                   \n",
            "                                                                 dense_90[1][0]                   \n",
            "__________________________________________________________________________________________________\n",
            "dense_94 (Dense)                (None, 8)            136         dense_93[0][0]                   \n",
            "__________________________________________________________________________________________________\n",
            "concatenate_11 (Concatenate)    (None, 56)           0           dense_91[0][0]                   \n",
            "                                                                 dense_91[1][0]                   \n",
            "                                                                 dense_94[0][0]                   \n",
            "__________________________________________________________________________________________________\n",
            "dense_95 (Dense)                (None, 16)           912         concatenate_11[0][0]             \n",
            "__________________________________________________________________________________________________\n",
            "dense_96 (Dense)                (None, 1)            17          dense_95[0][0]                   \n",
            "==================================================================================================\n",
            "Total params: 103,089\n",
            "Trainable params: 103,089\n",
            "Non-trainable params: 0\n",
            "__________________________________________________________________________________________________\n"
          ],
          "name": "stdout"
        }
      ]
    },
    {
      "cell_type": "code",
      "metadata": {
        "id": "XgUnDm43q7Rx"
      },
      "source": [
        "m=[metrics.mean_squared_error, metrics.mean_absolute_error]\n",
        "model.compile(loss='mean_squared_error', optimizer='adam', metrics=m)"
      ],
      "execution_count": 101,
      "outputs": []
    },
    {
      "cell_type": "code",
      "metadata": {
        "id": "YJOQwcD1tqK-"
      },
      "source": [
        "nepochs = 100\n",
        "batch_size = 100\n",
        "h = model.fit([X_train1, X_train2, X_train3],y_train,epochs=nepochs,batch_size=batch_size, validation_data=([X_test1, X_test2, X_test3],y_test), verbose=0)"
      ],
      "execution_count": 102,
      "outputs": []
    },
    {
      "cell_type": "code",
      "metadata": {
        "id": "umrW-a7jtxaE",
        "outputId": "3603e21d-c7b2-42e9-ed4a-38da17cd3df8",
        "colab": {
          "base_uri": "https://localhost:8080/",
          "height": 295
        }
      },
      "source": [
        "error_evolution(h)"
      ],
      "execution_count": 103,
      "outputs": [
        {
          "output_type": "display_data",
          "data": {
            "image/png": "[encoded data removed]",
            "text/plain": [
              "<Figure size 432x288 with 1 Axes>"
            ]
          },
          "metadata": {
            "tags": [],
            "needs_background": "light"
          }
        }
      ]
    },
    {
      "cell_type": "code",
      "metadata": {
        "id": "WowZ8u8vvtZT",
        "outputId": "805cf26a-a863-4452-83a0-24e062d67d58",
        "colab": {
          "base_uri": "https://localhost:8080/",
          "height": 283
        }
      },
      "source": [
        "y_pred = model.predict([X_test1, X_test2, X_test3])\n",
        "accuracy_plot(y_test, y_pred)"
      ],
      "execution_count": 104,
      "outputs": [
        {
          "output_type": "display_data",
          "data": {
            "image/png": "[encoded data removed]",
            "text/plain": [
              "<Figure size 432x288 with 1 Axes>"
            ]
          },
          "metadata": {
            "tags": [],
            "needs_background": "light"
          }
        }
      ]
    },
    {
      "cell_type": "code",
      "metadata": {
        "id": "ANB5rlSSvvXa",
        "outputId": "14e58ca9-d9f5-4302-9b2b-3ce596443b2f",
        "colab": {
          "base_uri": "https://localhost:8080/",
          "height": 285
        }
      },
      "source": [
        "howGoodAmI(y_test, y_pred)"
      ],
      "execution_count": 105,
      "outputs": [
        {
          "output_type": "execute_result",
          "data": {
            "text/plain": [
              "(0.028360110243371282, 0.1891266768240909)"
            ]
          },
          "metadata": {
            "tags": []
          },
          "execution_count": 105
        },
        {
          "output_type": "display_data",
          "data": {
            "image/png": "[encoded data removed]",
            "text/plain": [
              "<Figure size 432x288 with 1 Axes>"
            ]
          },
          "metadata": {
            "tags": [],
            "needs_background": "light"
          }
        }
      ]
    },
    {
      "cell_type": "code",
      "metadata": {
        "id": "HgahH-cTwauF"
      },
      "source": [
        ""
      ],
      "execution_count": null,
      "outputs": []
    }
  ]
}