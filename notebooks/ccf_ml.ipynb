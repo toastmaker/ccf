{
  "nbformat": 4,
  "nbformat_minor": 0,
  "metadata": {
    "colab": {
      "name": "ccf  ml.ipynb",
      "provenance": [],
      "include_colab_link": true
    },
    "kernelspec": {
      "name": "python3",
      "display_name": "Python 3"
    }
  },
  "cells": [
    {
      "cell_type": "markdown",
      "metadata": {
        "id": "view-in-github",
        "colab_type": "text"
      },
      "source": [
        "<a href=\"https://colab.research.google.com/github/toastmaker/ccf/blob/master/notebooks/ccf_ml.ipynb\" target=\"_parent\"><img src=\"https://colab.research.google.com/assets/colab-badge.svg\" alt=\"Open In Colab\"/></a>"
      ]
    },
    {
      "cell_type": "code",
      "metadata": {
        "id": "VhZPokq4BDTe",
        "colab_type": "code",
        "colab": {}
      },
      "source": [
        "from google.colab import files\n",
        "import numpy as np\n",
        "import matplotlib.pyplot  as plt\n",
        "from keras.models import Sequential\n",
        "from keras.layers import Dense, Flatten"
      ],
      "execution_count": 97,
      "outputs": []
    },
    {
      "cell_type": "code",
      "metadata": {
        "id": "cSB2C-5QBWk0",
        "colab_type": "code",
        "colab": {
          "base_uri": "https://localhost:8080/",
          "height": 54
        },
        "outputId": "a1e44b68-fcf6-4eda-e672-aaa38fea62ff"
      },
      "source": [
        "from google.colab import drive\n",
        "drive.mount('/content/drive')"
      ],
      "execution_count": 98,
      "outputs": [
        {
          "output_type": "stream",
          "text": [
            "Drive already mounted at /content/drive; to attempt to forcibly remount, call drive.mount(\"/content/drive\", force_remount=True).\n"
          ],
          "name": "stdout"
        }
      ]
    },
    {
      "cell_type": "code",
      "metadata": {
        "id": "Fjmj8bzq-jUC",
        "colab_type": "code",
        "colab": {}
      },
      "source": [
        "copypath = '/content/drive/My Drive/data/lightcurve_array.npz'\n",
        "npz=np.load(copypath)\n",
        "xdata=npz['lc']\n",
        "ydata=npz['delay']"
      ],
      "execution_count": 99,
      "outputs": []
    },
    {
      "cell_type": "code",
      "metadata": {
        "id": "eQAZH8pcBuj8",
        "colab_type": "code",
        "colab": {}
      },
      "source": [
        "xdata=xdata/np.max(xdata,axis=1)[:,np.newaxis]"
      ],
      "execution_count": 100,
      "outputs": []
    },
    {
      "cell_type": "code",
      "metadata": {
        "id": "4cDtR84kGeCZ",
        "colab_type": "code",
        "colab": {
          "base_uri": "https://localhost:8080/",
          "height": 34
        },
        "outputId": "0abb115c-7fac-444b-fee9-db1cf60debc3"
      },
      "source": [
        "xdata.shape"
      ],
      "execution_count": 101,
      "outputs": [
        {
          "output_type": "execute_result",
          "data": {
            "text/plain": [
              "(9999, 9999)"
            ]
          },
          "metadata": {
            "tags": []
          },
          "execution_count": 101
        }
      ]
    },
    {
      "cell_type": "code",
      "metadata": {
        "id": "yLKGHCb2CIzR",
        "colab_type": "code",
        "colab": {
          "base_uri": "https://localhost:8080/",
          "height": 282
        },
        "outputId": "10477589-4912-417a-cbed-9b863b850a1a"
      },
      "source": [
        "lc_preview = xdata[0]\n",
        "plt.plot(lc_preview)\n",
        "print(\"Delay is {:.3f}\".format(ydata[0]))"
      ],
      "execution_count": 102,
      "outputs": [
        {
          "output_type": "stream",
          "text": [
            "Delay is 0.050\n"
          ],
          "name": "stdout"
        },
        {
          "output_type": "display_data",
          "data": {
            "image/png": "[encoded data removed]",
            "text/plain": [
              "<Figure size 432x288 with 1 Axes>"
            ]
          },
          "metadata": {
            "tags": [],
            "needs_background": "light"
          }
        }
      ]
    },
    {
      "cell_type": "code",
      "metadata": {
        "id": "Gg9NCP00DcjR",
        "colab_type": "code",
        "colab": {}
      },
      "source": [
        "def ccf(x):\n",
        "  half = len(x)//2\n",
        "  return np.correlate(x[0:half],x[half:],'full')   "
      ],
      "execution_count": 103,
      "outputs": []
    },
    {
      "cell_type": "code",
      "metadata": {
        "id": "i-tAxE1OBSwO",
        "colab_type": "code",
        "colab": {}
      },
      "source": [
        "# !pip install -q keras"
      ],
      "execution_count": 104,
      "outputs": []
    },
    {
      "cell_type": "code",
      "metadata": {
        "id": "6jMPKsK_D69-",
        "colab_type": "code",
        "colab": {
          "base_uri": "https://localhost:8080/",
          "height": 283
        },
        "outputId": "30434000-c7e8-4d7e-a7c6-901dd160ee39"
      },
      "source": [
        "ccf_res =  ccf(xdata[0])\n",
        "plt.plot(ccf_res)\n",
        "ccf_res.shape"
      ],
      "execution_count": 105,
      "outputs": [
        {
          "output_type": "execute_result",
          "data": {
            "text/plain": [
              "(9998,)"
            ]
          },
          "metadata": {
            "tags": []
          },
          "execution_count": 105
        },
        {
          "output_type": "display_data",
          "data": {
            "image/png": "[encoded data removed]",
            "text/plain": [
              "<Figure size 432x288 with 1 Axes>"
            ]
          },
          "metadata": {
            "tags": [],
            "needs_background": "light"
          }
        }
      ]
    },
    {
      "cell_type": "code",
      "metadata": {
        "id": "2wOLz6EfEAUr",
        "colab_type": "code",
        "colab": {}
      },
      "source": [
        "ccfdata = np.apply_along_axis(func1d=ccf, axis=1, arr=xdata)"
      ],
      "execution_count": 106,
      "outputs": []
    },
    {
      "cell_type": "code",
      "metadata": {
        "id": "ogJj7-ghEN0e",
        "colab_type": "code",
        "colab": {
          "base_uri": "https://localhost:8080/",
          "height": 34
        },
        "outputId": "d76b2638-a61c-4d24-ef9d-fe7ab61b4ad6"
      },
      "source": [
        "ccfdata.shape"
      ],
      "execution_count": 107,
      "outputs": [
        {
          "output_type": "execute_result",
          "data": {
            "text/plain": [
              "(9999, 9998)"
            ]
          },
          "metadata": {
            "tags": []
          },
          "execution_count": 107
        }
      ]
    },
    {
      "cell_type": "code",
      "metadata": {
        "id": "ECQ4kAZWGZUr",
        "colab_type": "code",
        "colab": {
          "base_uri": "https://localhost:8080/",
          "height": 283
        },
        "outputId": "f93587f0-3cb6-4f99-c513-51b438e4408e"
      },
      "source": [
        "ccfdata_preview =  ccfdata[0]\n",
        "plt.plot(ccfdata_preview)"
      ],
      "execution_count": 108,
      "outputs": [
        {
          "output_type": "execute_result",
          "data": {
            "text/plain": [
              "[<matplotlib.lines.Line2D at 0x7f5cc825da90>]"
            ]
          },
          "metadata": {
            "tags": []
          },
          "execution_count": 108
        },
        {
          "output_type": "display_data",
          "data": {
            "image/png": "[encoded data removed]",
            "text/plain": [
              "<Figure size 432x288 with 1 Axes>"
            ]
          },
          "metadata": {
            "tags": [],
            "needs_background": "light"
          }
        }
      ]
    },
    {
      "cell_type": "code",
      "metadata": {
        "id": "xGhhN-SSGqOu",
        "colab_type": "code",
        "colab": {
          "base_uri": "https://localhost:8080/",
          "height": 282
        },
        "outputId": "3432e8e5-fc47-4622-cee4-78c7bb37d73e"
      },
      "source": [
        "# sanity check\n",
        "plt.plot(ccfdata_preview-ccf_res)"
      ],
      "execution_count": 109,
      "outputs": [
        {
          "output_type": "execute_result",
          "data": {
            "text/plain": [
              "[<matplotlib.lines.Line2D at 0x7f5cc81bb7f0>]"
            ]
          },
          "metadata": {
            "tags": []
          },
          "execution_count": 109
        },
        {
          "output_type": "display_data",
          "data": {
            "image/png": "[encoded data removed]",
            "text/plain": [
              "<Figure size 432x288 with 1 Axes>"
            ]
          },
          "metadata": {
            "tags": [],
            "needs_background": "light"
          }
        }
      ]
    },
    {
      "cell_type": "code",
      "metadata": {
        "id": "8U0iFcjGHQOJ",
        "colab_type": "code",
        "colab": {
          "base_uri": "https://localhost:8080/",
          "height": 299
        },
        "outputId": "afdecd85-aaaf-4f7b-84dd-077248414c47"
      },
      "source": [
        "nbins_full = ccfdata.shape[1]\n",
        "xtrain = ccfdata[:,nbins_full//2-1000:nbins_full//2+1000]\n",
        "#z = (x - u) / s\n",
        "xtrain = (xtrain - np.mean(xtrain, axis=1)[:,None])/np.std(xtrain,axis=1)[:,None]\n",
        "plt.plot(xtrain[0])\n",
        "print(np.mean(xtrain[0]), np.std(xtrain[0]))\n",
        "xtrain.shape\n"
      ],
      "execution_count": 110,
      "outputs": [
        {
          "output_type": "stream",
          "text": [
            "1.8474111129762604e-16 1.0\n"
          ],
          "name": "stdout"
        },
        {
          "output_type": "execute_result",
          "data": {
            "text/plain": [
              "(9999, 2000)"
            ]
          },
          "metadata": {
            "tags": []
          },
          "execution_count": 110
        },
        {
          "output_type": "display_data",
          "data": {
            "image/png": "[encoded data removed]",
            "text/plain": [
              "<Figure size 432x288 with 1 Axes>"
            ]
          },
          "metadata": {
            "tags": [],
            "needs_background": "light"
          }
        }
      ]
    },
    {
      "cell_type": "code",
      "metadata": {
        "id": "CdtgG2A0HsBB",
        "colab_type": "code",
        "colab": {
          "base_uri": "https://localhost:8080/",
          "height": 34
        },
        "outputId": "44fbe080-c234-4813-870b-37f922f75d38"
      },
      "source": [
        "ntrain = 6000\n",
        "nvalid = 3000\n",
        "X = xtrain[:ntrain]\n",
        "X_validation = xtrain[ntrain:ntrain+nvalid]\n",
        "y = ydata[:ntrain]\n",
        "y_validation = ydata[ntrain:ntrain+nvalid]\n",
        "orig_dim=X[0].shape\n",
        "X.shape, y.shape"
      ],
      "execution_count": 38,
      "outputs": [
        {
          "output_type": "execute_result",
          "data": {
            "text/plain": [
              "((6000, 2000), (6000,))"
            ]
          },
          "metadata": {
            "tags": []
          },
          "execution_count": 38
        }
      ]
    },
    {
      "cell_type": "code",
      "metadata": {
        "id": "5uSO5MtaIX4T",
        "colab_type": "code",
        "colab": {}
      },
      "source": [
        "model = Sequential()\n",
        "model.add(Dense(units=48, input_shape=(orig_dim),activation='sigmoid'))\n",
        "model.add(Dense(units=24,activation='sigmoid'))\n",
        "model.add(Dense(units=1))\n",
        "model.compile(loss='mean_squared_error', optimizer='sgd')"
      ],
      "execution_count": 39,
      "outputs": []
    },
    {
      "cell_type": "code",
      "metadata": {
        "id": "pGycOiqcIg2j",
        "colab_type": "code",
        "colab": {
          "base_uri": "https://localhost:8080/",
          "height": 255
        },
        "outputId": "faf2f1f2-75dd-4890-89af-306929d2b456"
      },
      "source": [
        "model.summary()"
      ],
      "execution_count": 40,
      "outputs": [
        {
          "output_type": "stream",
          "text": [
            "Model: \"sequential_1\"\n",
            "_________________________________________________________________\n",
            "Layer (type)                 Output Shape              Param #   \n",
            "=================================================================\n",
            "dense_3 (Dense)              (None, 48)                96048     \n",
            "_________________________________________________________________\n",
            "dense_4 (Dense)              (None, 24)                1176      \n",
            "_________________________________________________________________\n",
            "dense_5 (Dense)              (None, 1)                 25        \n",
            "=================================================================\n",
            "Total params: 97,249\n",
            "Trainable params: 97,249\n",
            "Non-trainable params: 0\n",
            "_________________________________________________________________\n"
          ],
          "name": "stdout"
        }
      ]
    },
    {
      "cell_type": "code",
      "metadata": {
        "id": "cezMrci1IoCx",
        "colab_type": "code",
        "colab": {
          "base_uri": "https://localhost:8080/",
          "height": 1000
        },
        "outputId": "03d6b1d3-ba1f-4849-8520-17ef42254213"
      },
      "source": [
        "nepochs = 200\n",
        "history = model.fit(X,y,epochs=nepochs,batch_size=100, validation_data=(X_validation,y_validation))"
      ],
      "execution_count": 41,
      "outputs": [
        {
          "output_type": "stream",
          "text": [
            "Epoch 1/200\n",
            "60/60 [==============================] - 0s 5ms/step - loss: 0.0010 - val_loss: 5.0536e-04\n",
            "Epoch 2/200\n",
            "60/60 [==============================] - 0s 4ms/step - loss: 4.1529e-04 - val_loss: 3.3776e-04\n",
            "Epoch 3/200\n",
            "60/60 [==============================] - 0s 4ms/step - loss: 3.0656e-04 - val_loss: 2.7829e-04\n",
            "Epoch 4/200\n",
            "60/60 [==============================] - 0s 4ms/step - loss: 2.6809e-04 - val_loss: 2.5608e-04\n",
            "Epoch 5/200\n",
            "60/60 [==============================] - 0s 4ms/step - loss: 2.5344e-04 - val_loss: 2.4698e-04\n",
            "Epoch 6/200\n",
            "60/60 [==============================] - 0s 4ms/step - loss: 2.4637e-04 - val_loss: 2.4340e-04\n",
            "Epoch 7/200\n",
            "60/60 [==============================] - 0s 4ms/step - loss: 2.4307e-04 - val_loss: 2.3929e-04\n",
            "Epoch 8/200\n",
            "60/60 [==============================] - 0s 4ms/step - loss: 2.4019e-04 - val_loss: 2.3672e-04\n",
            "Epoch 9/200\n",
            "60/60 [==============================] - 0s 4ms/step - loss: 2.3751e-04 - val_loss: 2.3449e-04\n",
            "Epoch 10/200\n",
            "60/60 [==============================] - 0s 4ms/step - loss: 2.3513e-04 - val_loss: 2.3249e-04\n",
            "Epoch 11/200\n",
            "60/60 [==============================] - 0s 4ms/step - loss: 2.3338e-04 - val_loss: 2.3032e-04\n",
            "Epoch 12/200\n",
            "60/60 [==============================] - 0s 4ms/step - loss: 2.3101e-04 - val_loss: 2.2862e-04\n",
            "Epoch 13/200\n",
            "60/60 [==============================] - 0s 4ms/step - loss: 2.2892e-04 - val_loss: 2.2645e-04\n",
            "Epoch 14/200\n",
            "60/60 [==============================] - 0s 4ms/step - loss: 2.2681e-04 - val_loss: 2.2460e-04\n",
            "Epoch 15/200\n",
            "60/60 [==============================] - 0s 4ms/step - loss: 2.2560e-04 - val_loss: 2.2272e-04\n",
            "Epoch 16/200\n",
            "60/60 [==============================] - 0s 4ms/step - loss: 2.2295e-04 - val_loss: 2.2102e-04\n",
            "Epoch 17/200\n",
            "60/60 [==============================] - 0s 4ms/step - loss: 2.2083e-04 - val_loss: 2.1937e-04\n",
            "Epoch 18/200\n",
            "60/60 [==============================] - 0s 4ms/step - loss: 2.1927e-04 - val_loss: 2.1733e-04\n",
            "Epoch 19/200\n",
            "60/60 [==============================] - 0s 4ms/step - loss: 2.1745e-04 - val_loss: 2.1538e-04\n",
            "Epoch 20/200\n",
            "60/60 [==============================] - 0s 4ms/step - loss: 2.1561e-04 - val_loss: 2.1388e-04\n",
            "Epoch 21/200\n",
            "60/60 [==============================] - 0s 4ms/step - loss: 2.1366e-04 - val_loss: 2.1209e-04\n",
            "Epoch 22/200\n",
            "60/60 [==============================] - 0s 4ms/step - loss: 2.1195e-04 - val_loss: 2.1056e-04\n",
            "Epoch 23/200\n",
            "60/60 [==============================] - 0s 4ms/step - loss: 2.0997e-04 - val_loss: 2.0839e-04\n",
            "Epoch 24/200\n",
            "60/60 [==============================] - 0s 4ms/step - loss: 2.0838e-04 - val_loss: 2.0655e-04\n",
            "Epoch 25/200\n",
            "60/60 [==============================] - 0s 4ms/step - loss: 2.0635e-04 - val_loss: 2.0487e-04\n",
            "Epoch 26/200\n",
            "60/60 [==============================] - 0s 4ms/step - loss: 2.0466e-04 - val_loss: 2.0320e-04\n",
            "Epoch 27/200\n",
            "60/60 [==============================] - 0s 4ms/step - loss: 2.0299e-04 - val_loss: 2.0139e-04\n",
            "Epoch 28/200\n",
            "60/60 [==============================] - 0s 4ms/step - loss: 2.0114e-04 - val_loss: 1.9961e-04\n",
            "Epoch 29/200\n",
            "60/60 [==============================] - 0s 4ms/step - loss: 1.9929e-04 - val_loss: 1.9779e-04\n",
            "Epoch 30/200\n",
            "60/60 [==============================] - 0s 4ms/step - loss: 1.9785e-04 - val_loss: 1.9611e-04\n",
            "Epoch 31/200\n",
            "60/60 [==============================] - 0s 4ms/step - loss: 1.9575e-04 - val_loss: 1.9450e-04\n",
            "Epoch 32/200\n",
            "60/60 [==============================] - 0s 4ms/step - loss: 1.9397e-04 - val_loss: 1.9274e-04\n",
            "Epoch 33/200\n",
            "60/60 [==============================] - 0s 4ms/step - loss: 1.9237e-04 - val_loss: 1.9105e-04\n",
            "Epoch 34/200\n",
            "60/60 [==============================] - 0s 4ms/step - loss: 1.9043e-04 - val_loss: 1.8928e-04\n",
            "Epoch 35/200\n",
            "60/60 [==============================] - 0s 4ms/step - loss: 1.8879e-04 - val_loss: 1.8755e-04\n",
            "Epoch 36/200\n",
            "60/60 [==============================] - 0s 4ms/step - loss: 1.8701e-04 - val_loss: 1.8605e-04\n",
            "Epoch 37/200\n",
            "60/60 [==============================] - 0s 4ms/step - loss: 1.8542e-04 - val_loss: 1.8445e-04\n",
            "Epoch 38/200\n",
            "60/60 [==============================] - 0s 4ms/step - loss: 1.8353e-04 - val_loss: 1.8257e-04\n",
            "Epoch 39/200\n",
            "60/60 [==============================] - 0s 4ms/step - loss: 1.8198e-04 - val_loss: 1.8109e-04\n",
            "Epoch 40/200\n",
            "60/60 [==============================] - 0s 4ms/step - loss: 1.8032e-04 - val_loss: 1.7931e-04\n",
            "Epoch 41/200\n",
            "60/60 [==============================] - 0s 4ms/step - loss: 1.7891e-04 - val_loss: 1.7789e-04\n",
            "Epoch 42/200\n",
            "60/60 [==============================] - 0s 4ms/step - loss: 1.7720e-04 - val_loss: 1.7624e-04\n",
            "Epoch 43/200\n",
            "60/60 [==============================] - 0s 4ms/step - loss: 1.7572e-04 - val_loss: 1.7486e-04\n",
            "Epoch 44/200\n",
            "60/60 [==============================] - 0s 4ms/step - loss: 1.7415e-04 - val_loss: 1.7324e-04\n",
            "Epoch 45/200\n",
            "60/60 [==============================] - 0s 4ms/step - loss: 1.7252e-04 - val_loss: 1.7313e-04\n",
            "Epoch 46/200\n",
            "60/60 [==============================] - 0s 4ms/step - loss: 1.7085e-04 - val_loss: 1.7061e-04\n",
            "Epoch 47/200\n",
            "60/60 [==============================] - 0s 4ms/step - loss: 1.6947e-04 - val_loss: 1.6903e-04\n",
            "Epoch 48/200\n",
            "60/60 [==============================] - 0s 4ms/step - loss: 1.6793e-04 - val_loss: 1.6731e-04\n",
            "Epoch 49/200\n",
            "60/60 [==============================] - 0s 4ms/step - loss: 1.6653e-04 - val_loss: 1.6652e-04\n",
            "Epoch 50/200\n",
            "60/60 [==============================] - 0s 4ms/step - loss: 1.6527e-04 - val_loss: 1.6483e-04\n",
            "Epoch 51/200\n",
            "60/60 [==============================] - 0s 4ms/step - loss: 1.6371e-04 - val_loss: 1.6307e-04\n",
            "Epoch 52/200\n",
            "60/60 [==============================] - 0s 4ms/step - loss: 1.6221e-04 - val_loss: 1.6222e-04\n",
            "Epoch 53/200\n",
            "60/60 [==============================] - 0s 4ms/step - loss: 1.6099e-04 - val_loss: 1.6077e-04\n",
            "Epoch 54/200\n",
            "60/60 [==============================] - 0s 4ms/step - loss: 1.5967e-04 - val_loss: 1.5909e-04\n",
            "Epoch 55/200\n",
            "60/60 [==============================] - 0s 4ms/step - loss: 1.5838e-04 - val_loss: 1.5826e-04\n",
            "Epoch 56/200\n",
            "60/60 [==============================] - 0s 4ms/step - loss: 1.5714e-04 - val_loss: 1.5665e-04\n",
            "Epoch 57/200\n",
            "60/60 [==============================] - 0s 4ms/step - loss: 1.5585e-04 - val_loss: 1.5547e-04\n",
            "Epoch 58/200\n",
            "60/60 [==============================] - 0s 4ms/step - loss: 1.5479e-04 - val_loss: 1.5424e-04\n",
            "Epoch 59/200\n",
            "60/60 [==============================] - 0s 4ms/step - loss: 1.5357e-04 - val_loss: 1.5321e-04\n",
            "Epoch 60/200\n",
            "60/60 [==============================] - 0s 4ms/step - loss: 1.5236e-04 - val_loss: 1.5190e-04\n",
            "Epoch 61/200\n",
            "60/60 [==============================] - 0s 4ms/step - loss: 1.5115e-04 - val_loss: 1.5167e-04\n",
            "Epoch 62/200\n",
            "60/60 [==============================] - 0s 4ms/step - loss: 1.5012e-04 - val_loss: 1.4971e-04\n",
            "Epoch 63/200\n",
            "60/60 [==============================] - 0s 4ms/step - loss: 1.4904e-04 - val_loss: 1.4867e-04\n",
            "Epoch 64/200\n",
            "60/60 [==============================] - 0s 4ms/step - loss: 1.4802e-04 - val_loss: 1.4824e-04\n",
            "Epoch 65/200\n",
            "60/60 [==============================] - 0s 4ms/step - loss: 1.4708e-04 - val_loss: 1.4733e-04\n",
            "Epoch 66/200\n",
            "60/60 [==============================] - 0s 4ms/step - loss: 1.4586e-04 - val_loss: 1.4699e-04\n",
            "Epoch 67/200\n",
            "60/60 [==============================] - 0s 4ms/step - loss: 1.4485e-04 - val_loss: 1.4472e-04\n",
            "Epoch 68/200\n",
            "60/60 [==============================] - 0s 4ms/step - loss: 1.4378e-04 - val_loss: 1.4371e-04\n",
            "Epoch 69/200\n",
            "60/60 [==============================] - 0s 4ms/step - loss: 1.4306e-04 - val_loss: 1.4278e-04\n",
            "Epoch 70/200\n",
            "60/60 [==============================] - 0s 4ms/step - loss: 1.4213e-04 - val_loss: 1.4178e-04\n",
            "Epoch 71/200\n",
            "60/60 [==============================] - 0s 4ms/step - loss: 1.4114e-04 - val_loss: 1.4102e-04\n",
            "Epoch 72/200\n",
            "60/60 [==============================] - 0s 4ms/step - loss: 1.4034e-04 - val_loss: 1.4003e-04\n",
            "Epoch 73/200\n",
            "60/60 [==============================] - 0s 4ms/step - loss: 1.3917e-04 - val_loss: 1.3910e-04\n",
            "Epoch 74/200\n",
            "60/60 [==============================] - 0s 4ms/step - loss: 1.3842e-04 - val_loss: 1.3825e-04\n",
            "Epoch 75/200\n",
            "60/60 [==============================] - 0s 4ms/step - loss: 1.3774e-04 - val_loss: 1.3835e-04\n",
            "Epoch 76/200\n",
            "60/60 [==============================] - 0s 4ms/step - loss: 1.3683e-04 - val_loss: 1.3686e-04\n",
            "Epoch 77/200\n",
            "60/60 [==============================] - 0s 4ms/step - loss: 1.3594e-04 - val_loss: 1.3592e-04\n",
            "Epoch 78/200\n",
            "60/60 [==============================] - 0s 4ms/step - loss: 1.3503e-04 - val_loss: 1.3530e-04\n",
            "Epoch 79/200\n",
            "60/60 [==============================] - 0s 4ms/step - loss: 1.3434e-04 - val_loss: 1.3418e-04\n",
            "Epoch 80/200\n",
            "60/60 [==============================] - 0s 4ms/step - loss: 1.3347e-04 - val_loss: 1.3367e-04\n",
            "Epoch 81/200\n",
            "60/60 [==============================] - 0s 4ms/step - loss: 1.3264e-04 - val_loss: 1.3269e-04\n",
            "Epoch 82/200\n",
            "60/60 [==============================] - 0s 4ms/step - loss: 1.3204e-04 - val_loss: 1.3196e-04\n",
            "Epoch 83/200\n",
            "60/60 [==============================] - 0s 4ms/step - loss: 1.3109e-04 - val_loss: 1.3116e-04\n",
            "Epoch 84/200\n",
            "60/60 [==============================] - 0s 4ms/step - loss: 1.3044e-04 - val_loss: 1.3052e-04\n",
            "Epoch 85/200\n",
            "60/60 [==============================] - 0s 4ms/step - loss: 1.2966e-04 - val_loss: 1.3017e-04\n",
            "Epoch 86/200\n",
            "60/60 [==============================] - 0s 4ms/step - loss: 1.2892e-04 - val_loss: 1.2900e-04\n",
            "Epoch 87/200\n",
            "60/60 [==============================] - 0s 4ms/step - loss: 1.2831e-04 - val_loss: 1.2830e-04\n",
            "Epoch 88/200\n",
            "60/60 [==============================] - 0s 4ms/step - loss: 1.2754e-04 - val_loss: 1.2935e-04\n",
            "Epoch 89/200\n",
            "60/60 [==============================] - 0s 4ms/step - loss: 1.2705e-04 - val_loss: 1.2705e-04\n",
            "Epoch 90/200\n",
            "60/60 [==============================] - 0s 4ms/step - loss: 1.2608e-04 - val_loss: 1.2646e-04\n",
            "Epoch 91/200\n",
            "60/60 [==============================] - 0s 4ms/step - loss: 1.2550e-04 - val_loss: 1.2599e-04\n",
            "Epoch 92/200\n",
            "60/60 [==============================] - 0s 4ms/step - loss: 1.2491e-04 - val_loss: 1.2511e-04\n",
            "Epoch 93/200\n",
            "60/60 [==============================] - 0s 4ms/step - loss: 1.2424e-04 - val_loss: 1.2438e-04\n",
            "Epoch 94/200\n",
            "60/60 [==============================] - 0s 4ms/step - loss: 1.2356e-04 - val_loss: 1.2374e-04\n",
            "Epoch 95/200\n",
            "60/60 [==============================] - 0s 4ms/step - loss: 1.2295e-04 - val_loss: 1.2313e-04\n",
            "Epoch 96/200\n",
            "60/60 [==============================] - 0s 4ms/step - loss: 1.2239e-04 - val_loss: 1.2252e-04\n",
            "Epoch 97/200\n",
            "60/60 [==============================] - 0s 4ms/step - loss: 1.2180e-04 - val_loss: 1.2193e-04\n",
            "Epoch 98/200\n",
            "60/60 [==============================] - 0s 4ms/step - loss: 1.2113e-04 - val_loss: 1.2134e-04\n",
            "Epoch 99/200\n",
            "60/60 [==============================] - 0s 4ms/step - loss: 1.2064e-04 - val_loss: 1.2092e-04\n",
            "Epoch 100/200\n",
            "60/60 [==============================] - 0s 4ms/step - loss: 1.2000e-04 - val_loss: 1.2088e-04\n",
            "Epoch 101/200\n",
            "60/60 [==============================] - 0s 4ms/step - loss: 1.1949e-04 - val_loss: 1.1961e-04\n",
            "Epoch 102/200\n",
            "60/60 [==============================] - 0s 4ms/step - loss: 1.1886e-04 - val_loss: 1.1923e-04\n",
            "Epoch 103/200\n",
            "60/60 [==============================] - 0s 4ms/step - loss: 1.1827e-04 - val_loss: 1.1873e-04\n",
            "Epoch 104/200\n",
            "60/60 [==============================] - 0s 4ms/step - loss: 1.1781e-04 - val_loss: 1.1801e-04\n",
            "Epoch 105/200\n",
            "60/60 [==============================] - 0s 4ms/step - loss: 1.1693e-04 - val_loss: 1.1743e-04\n",
            "Epoch 106/200\n",
            "60/60 [==============================] - 0s 4ms/step - loss: 1.1661e-04 - val_loss: 1.1688e-04\n",
            "Epoch 107/200\n",
            "60/60 [==============================] - 0s 4ms/step - loss: 1.1602e-04 - val_loss: 1.1725e-04\n",
            "Epoch 108/200\n",
            "60/60 [==============================] - 0s 4ms/step - loss: 1.1571e-04 - val_loss: 1.1591e-04\n",
            "Epoch 109/200\n",
            "60/60 [==============================] - 0s 4ms/step - loss: 1.1501e-04 - val_loss: 1.1579e-04\n",
            "Epoch 110/200\n",
            "60/60 [==============================] - 0s 4ms/step - loss: 1.1455e-04 - val_loss: 1.1485e-04\n",
            "Epoch 111/200\n",
            "60/60 [==============================] - 0s 4ms/step - loss: 1.1401e-04 - val_loss: 1.1447e-04\n",
            "Epoch 112/200\n",
            "60/60 [==============================] - 0s 4ms/step - loss: 1.1342e-04 - val_loss: 1.1417e-04\n",
            "Epoch 113/200\n",
            "60/60 [==============================] - 0s 4ms/step - loss: 1.1294e-04 - val_loss: 1.1341e-04\n",
            "Epoch 114/200\n",
            "60/60 [==============================] - 0s 4ms/step - loss: 1.1235e-04 - val_loss: 1.1516e-04\n",
            "Epoch 115/200\n",
            "60/60 [==============================] - 0s 4ms/step - loss: 1.1203e-04 - val_loss: 1.1260e-04\n",
            "Epoch 116/200\n",
            "60/60 [==============================] - 0s 4ms/step - loss: 1.1158e-04 - val_loss: 1.1193e-04\n",
            "Epoch 117/200\n",
            "60/60 [==============================] - 0s 4ms/step - loss: 1.1102e-04 - val_loss: 1.1162e-04\n",
            "Epoch 118/200\n",
            "60/60 [==============================] - 0s 4ms/step - loss: 1.1043e-04 - val_loss: 1.1312e-04\n",
            "Epoch 119/200\n",
            "60/60 [==============================] - 0s 4ms/step - loss: 1.1015e-04 - val_loss: 1.1058e-04\n",
            "Epoch 120/200\n",
            "60/60 [==============================] - 0s 4ms/step - loss: 1.0965e-04 - val_loss: 1.1018e-04\n",
            "Epoch 121/200\n",
            "60/60 [==============================] - 0s 4ms/step - loss: 1.0927e-04 - val_loss: 1.0966e-04\n",
            "Epoch 122/200\n",
            "60/60 [==============================] - 0s 4ms/step - loss: 1.0882e-04 - val_loss: 1.0927e-04\n",
            "Epoch 123/200\n",
            "60/60 [==============================] - 0s 4ms/step - loss: 1.0831e-04 - val_loss: 1.0903e-04\n",
            "Epoch 124/200\n",
            "60/60 [==============================] - 0s 4ms/step - loss: 1.0787e-04 - val_loss: 1.0850e-04\n",
            "Epoch 125/200\n",
            "60/60 [==============================] - 0s 4ms/step - loss: 1.0751e-04 - val_loss: 1.0794e-04\n",
            "Epoch 126/200\n",
            "60/60 [==============================] - 0s 4ms/step - loss: 1.0692e-04 - val_loss: 1.0777e-04\n",
            "Epoch 127/200\n",
            "60/60 [==============================] - 0s 4ms/step - loss: 1.0651e-04 - val_loss: 1.0720e-04\n",
            "Epoch 128/200\n",
            "60/60 [==============================] - 0s 4ms/step - loss: 1.0611e-04 - val_loss: 1.0674e-04\n",
            "Epoch 129/200\n",
            "60/60 [==============================] - 0s 4ms/step - loss: 1.0569e-04 - val_loss: 1.0637e-04\n",
            "Epoch 130/200\n",
            "60/60 [==============================] - 0s 4ms/step - loss: 1.0529e-04 - val_loss: 1.0594e-04\n",
            "Epoch 131/200\n",
            "60/60 [==============================] - 0s 4ms/step - loss: 1.0487e-04 - val_loss: 1.0587e-04\n",
            "Epoch 132/200\n",
            "60/60 [==============================] - 0s 4ms/step - loss: 1.0426e-04 - val_loss: 1.0515e-04\n",
            "Epoch 133/200\n",
            "60/60 [==============================] - 0s 4ms/step - loss: 1.0412e-04 - val_loss: 1.0466e-04\n",
            "Epoch 134/200\n",
            "60/60 [==============================] - 0s 4ms/step - loss: 1.0373e-04 - val_loss: 1.0447e-04\n",
            "Epoch 135/200\n",
            "60/60 [==============================] - 0s 4ms/step - loss: 1.0321e-04 - val_loss: 1.0396e-04\n",
            "Epoch 136/200\n",
            "60/60 [==============================] - 0s 4ms/step - loss: 1.0294e-04 - val_loss: 1.0352e-04\n",
            "Epoch 137/200\n",
            "60/60 [==============================] - 0s 4ms/step - loss: 1.0265e-04 - val_loss: 1.0318e-04\n",
            "Epoch 138/200\n",
            "60/60 [==============================] - 0s 4ms/step - loss: 1.0206e-04 - val_loss: 1.0293e-04\n",
            "Epoch 139/200\n",
            "60/60 [==============================] - 0s 4ms/step - loss: 1.0173e-04 - val_loss: 1.0241e-04\n",
            "Epoch 140/200\n",
            "60/60 [==============================] - 0s 4ms/step - loss: 1.0136e-04 - val_loss: 1.0207e-04\n",
            "Epoch 141/200\n",
            "60/60 [==============================] - 0s 4ms/step - loss: 1.0109e-04 - val_loss: 1.0188e-04\n",
            "Epoch 142/200\n",
            "60/60 [==============================] - 0s 4ms/step - loss: 1.0069e-04 - val_loss: 1.0132e-04\n",
            "Epoch 143/200\n",
            "60/60 [==============================] - 0s 4ms/step - loss: 1.0024e-04 - val_loss: 1.0105e-04\n",
            "Epoch 144/200\n",
            "60/60 [==============================] - 0s 4ms/step - loss: 9.9902e-05 - val_loss: 1.0076e-04\n",
            "Epoch 145/200\n",
            "60/60 [==============================] - 0s 4ms/step - loss: 9.9536e-05 - val_loss: 1.0032e-04\n",
            "Epoch 146/200\n",
            "60/60 [==============================] - 0s 5ms/step - loss: 9.9144e-05 - val_loss: 1.0035e-04\n",
            "Epoch 147/200\n",
            "60/60 [==============================] - 0s 4ms/step - loss: 9.8885e-05 - val_loss: 9.9595e-05\n",
            "Epoch 148/200\n",
            "60/60 [==============================] - 0s 4ms/step - loss: 9.8598e-05 - val_loss: 9.9345e-05\n",
            "Epoch 149/200\n",
            "60/60 [==============================] - 0s 4ms/step - loss: 9.8339e-05 - val_loss: 9.9088e-05\n",
            "Epoch 150/200\n",
            "60/60 [==============================] - 0s 4ms/step - loss: 9.7858e-05 - val_loss: 9.8856e-05\n",
            "Epoch 151/200\n",
            "60/60 [==============================] - 0s 4ms/step - loss: 9.7500e-05 - val_loss: 9.8290e-05\n",
            "Epoch 152/200\n",
            "60/60 [==============================] - 0s 4ms/step - loss: 9.7224e-05 - val_loss: 9.8031e-05\n",
            "Epoch 153/200\n",
            "60/60 [==============================] - 0s 4ms/step - loss: 9.6863e-05 - val_loss: 9.7643e-05\n",
            "Epoch 154/200\n",
            "60/60 [==============================] - 0s 4ms/step - loss: 9.6620e-05 - val_loss: 9.7302e-05\n",
            "Epoch 155/200\n",
            "60/60 [==============================] - 0s 5ms/step - loss: 9.6143e-05 - val_loss: 9.7076e-05\n",
            "Epoch 156/200\n",
            "60/60 [==============================] - 0s 5ms/step - loss: 9.5962e-05 - val_loss: 9.7028e-05\n",
            "Epoch 157/200\n",
            "60/60 [==============================] - 0s 4ms/step - loss: 9.5553e-05 - val_loss: 9.6364e-05\n",
            "Epoch 158/200\n",
            "60/60 [==============================] - 0s 5ms/step - loss: 9.5300e-05 - val_loss: 9.6196e-05\n",
            "Epoch 159/200\n",
            "60/60 [==============================] - 0s 4ms/step - loss: 9.4970e-05 - val_loss: 9.5767e-05\n",
            "Epoch 160/200\n",
            "60/60 [==============================] - 0s 4ms/step - loss: 9.4670e-05 - val_loss: 9.5453e-05\n",
            "Epoch 161/200\n",
            "60/60 [==============================] - 0s 5ms/step - loss: 9.4384e-05 - val_loss: 9.5154e-05\n",
            "Epoch 162/200\n",
            "60/60 [==============================] - 0s 4ms/step - loss: 9.4006e-05 - val_loss: 9.4858e-05\n",
            "Epoch 163/200\n",
            "60/60 [==============================] - 0s 4ms/step - loss: 9.3737e-05 - val_loss: 9.4584e-05\n",
            "Epoch 164/200\n",
            "60/60 [==============================] - 0s 5ms/step - loss: 9.3426e-05 - val_loss: 9.4633e-05\n",
            "Epoch 165/200\n",
            "60/60 [==============================] - 0s 5ms/step - loss: 9.3186e-05 - val_loss: 9.4290e-05\n",
            "Epoch 166/200\n",
            "60/60 [==============================] - 0s 4ms/step - loss: 9.2882e-05 - val_loss: 9.3777e-05\n",
            "Epoch 167/200\n",
            "60/60 [==============================] - 0s 4ms/step - loss: 9.2644e-05 - val_loss: 9.3483e-05\n",
            "Epoch 168/200\n",
            "60/60 [==============================] - 0s 5ms/step - loss: 9.2413e-05 - val_loss: 9.3138e-05\n",
            "Epoch 169/200\n",
            "60/60 [==============================] - 0s 5ms/step - loss: 9.2036e-05 - val_loss: 9.3144e-05\n",
            "Epoch 170/200\n",
            "60/60 [==============================] - 0s 4ms/step - loss: 9.1743e-05 - val_loss: 9.2594e-05\n",
            "Epoch 171/200\n",
            "60/60 [==============================] - 0s 4ms/step - loss: 9.1447e-05 - val_loss: 9.2332e-05\n",
            "Epoch 172/200\n",
            "60/60 [==============================] - 0s 5ms/step - loss: 9.1206e-05 - val_loss: 9.2052e-05\n",
            "Epoch 173/200\n",
            "60/60 [==============================] - 0s 5ms/step - loss: 9.0869e-05 - val_loss: 9.1802e-05\n",
            "Epoch 174/200\n",
            "60/60 [==============================] - 0s 4ms/step - loss: 9.0676e-05 - val_loss: 9.1492e-05\n",
            "Epoch 175/200\n",
            "60/60 [==============================] - 0s 4ms/step - loss: 9.0369e-05 - val_loss: 9.1275e-05\n",
            "Epoch 176/200\n",
            "60/60 [==============================] - 0s 4ms/step - loss: 9.0023e-05 - val_loss: 9.0965e-05\n",
            "Epoch 177/200\n",
            "60/60 [==============================] - 0s 4ms/step - loss: 8.9868e-05 - val_loss: 9.0766e-05\n",
            "Epoch 178/200\n",
            "60/60 [==============================] - 0s 4ms/step - loss: 8.9594e-05 - val_loss: 9.0539e-05\n",
            "Epoch 179/200\n",
            "60/60 [==============================] - 0s 4ms/step - loss: 8.9309e-05 - val_loss: 9.0268e-05\n",
            "Epoch 180/200\n",
            "60/60 [==============================] - 0s 4ms/step - loss: 8.9026e-05 - val_loss: 9.0070e-05\n",
            "Epoch 181/200\n",
            "60/60 [==============================] - 0s 4ms/step - loss: 8.8734e-05 - val_loss: 8.9675e-05\n",
            "Epoch 182/200\n",
            "60/60 [==============================] - 0s 4ms/step - loss: 8.8534e-05 - val_loss: 8.9426e-05\n",
            "Epoch 183/200\n",
            "60/60 [==============================] - 0s 4ms/step - loss: 8.8251e-05 - val_loss: 8.9182e-05\n",
            "Epoch 184/200\n",
            "60/60 [==============================] - 0s 4ms/step - loss: 8.7996e-05 - val_loss: 8.8983e-05\n",
            "Epoch 185/200\n",
            "60/60 [==============================] - 0s 4ms/step - loss: 8.7830e-05 - val_loss: 8.8798e-05\n",
            "Epoch 186/200\n",
            "60/60 [==============================] - 0s 4ms/step - loss: 8.7470e-05 - val_loss: 8.8440e-05\n",
            "Epoch 187/200\n",
            "60/60 [==============================] - 0s 4ms/step - loss: 8.7290e-05 - val_loss: 8.8264e-05\n",
            "Epoch 188/200\n",
            "60/60 [==============================] - 0s 4ms/step - loss: 8.7064e-05 - val_loss: 8.7963e-05\n",
            "Epoch 189/200\n",
            "60/60 [==============================] - 0s 4ms/step - loss: 8.6746e-05 - val_loss: 8.7740e-05\n",
            "Epoch 190/200\n",
            "60/60 [==============================] - 0s 4ms/step - loss: 8.6523e-05 - val_loss: 8.7746e-05\n",
            "Epoch 191/200\n",
            "60/60 [==============================] - 0s 4ms/step - loss: 8.6279e-05 - val_loss: 8.7346e-05\n",
            "Epoch 192/200\n",
            "60/60 [==============================] - 0s 4ms/step - loss: 8.6015e-05 - val_loss: 8.7155e-05\n",
            "Epoch 193/200\n",
            "60/60 [==============================] - 0s 4ms/step - loss: 8.5800e-05 - val_loss: 8.6786e-05\n",
            "Epoch 194/200\n",
            "60/60 [==============================] - 0s 5ms/step - loss: 8.5606e-05 - val_loss: 8.6605e-05\n",
            "Epoch 195/200\n",
            "60/60 [==============================] - 0s 4ms/step - loss: 8.5312e-05 - val_loss: 8.6421e-05\n",
            "Epoch 196/200\n",
            "60/60 [==============================] - 0s 4ms/step - loss: 8.5254e-05 - val_loss: 8.6119e-05\n",
            "Epoch 197/200\n",
            "60/60 [==============================] - 0s 4ms/step - loss: 8.4877e-05 - val_loss: 8.5915e-05\n",
            "Epoch 198/200\n",
            "60/60 [==============================] - 0s 4ms/step - loss: 8.4746e-05 - val_loss: 8.5926e-05\n",
            "Epoch 199/200\n",
            "60/60 [==============================] - 0s 4ms/step - loss: 8.4467e-05 - val_loss: 8.5433e-05\n",
            "Epoch 200/200\n",
            "60/60 [==============================] - 0s 4ms/step - loss: 8.4195e-05 - val_loss: 8.6072e-05\n"
          ],
          "name": "stdout"
        },
        {
          "output_type": "execute_result",
          "data": {
            "text/plain": [
              "<tensorflow.python.keras.callbacks.History at 0x7f5cd78acef0>"
            ]
          },
          "metadata": {
            "tags": []
          },
          "execution_count": 41
        }
      ]
    },
    {
      "cell_type": "code",
      "metadata": {
        "id": "kLJg9G2aSPuH",
        "colab_type": "code",
        "colab": {
          "base_uri": "https://localhost:8080/",
          "height": 34
        },
        "outputId": "5641b4d6-65f9-4cae-c8f1-34f70747dfc4"
      },
      "source": [
        "model.save('/content/drive/My Drive/data/my_ccfmodel')"
      ],
      "execution_count": 42,
      "outputs": [
        {
          "output_type": "stream",
          "text": [
            "INFO:tensorflow:Assets written to: /content/drive/My Drive/data/my_ccfmodel/assets\n"
          ],
          "name": "stdout"
        }
      ]
    },
    {
      "cell_type": "code",
      "metadata": {
        "id": "z8Ep4TYZJXcE",
        "colab_type": "code",
        "colab": {
          "base_uri": "https://localhost:8080/",
          "height": 282
        },
        "outputId": "61f483f1-4ba8-4663-da93-b0c2079403cf"
      },
      "source": [
        "ypred = model.predict(X_validation)\n",
        "plt.scatter(y_validation,ypred,color=\"r\")\n",
        "plt.plot([-0.06,0.06],[-0.06,0.06],':')"
      ],
      "execution_count": 43,
      "outputs": [
        {
          "output_type": "execute_result",
          "data": {
            "text/plain": [
              "[<matplotlib.lines.Line2D at 0x7f5cd5ed7588>]"
            ]
          },
          "metadata": {
            "tags": []
          },
          "execution_count": 43
        },
        {
          "output_type": "display_data",
          "data": {
            "image/png": "[encoded data removed]",
            "text/plain": [
              "<Figure size 432x288 with 1 Axes>"
            ]
          },
          "metadata": {
            "tags": [],
            "needs_background": "light"
          }
        }
      ]
    },
    {
      "cell_type": "code",
      "metadata": {
        "id": "s7ZqmWakKD-G",
        "colab_type": "code",
        "colab": {
          "base_uri": "https://localhost:8080/",
          "height": 265
        },
        "outputId": "5d6e5901-8cc2-4d50-ed4c-f744324a5233"
      },
      "source": [
        "diff = y_validation - ypred.ravel()\n",
        "hist = plt.hist(diff)"
      ],
      "execution_count": 44,
      "outputs": [
        {
          "output_type": "display_data",
          "data": {
            "image/png": "[encoded data removed]",
            "text/plain": [
              "<Figure size 432x288 with 1 Axes>"
            ]
          },
          "metadata": {
            "tags": [],
            "needs_background": "light"
          }
        }
      ]
    },
    {
      "cell_type": "code",
      "metadata": {
        "id": "rSi-wLjwKLx0",
        "colab_type": "code",
        "colab": {}
      },
      "source": [
        "bincentres = (hist[1][:-1]+hist[1][1:])/2.\n",
        "weights = hist[0]\n",
        "mu = np.average(bincentres,weights=weights)\n",
        "sigma = np.average((bincentres-mu)**2, weights=weights)"
      ],
      "execution_count": 45,
      "outputs": []
    },
    {
      "cell_type": "code",
      "metadata": {
        "id": "u-KV2labKyLR",
        "colab_type": "code",
        "colab": {
          "base_uri": "https://localhost:8080/",
          "height": 34
        },
        "outputId": "f0081e50-a530-49b1-d05e-383ca7b643ec"
      },
      "source": [
        "mu, sigma"
      ],
      "execution_count": 46,
      "outputs": [
        {
          "output_type": "execute_result",
          "data": {
            "text/plain": [
              "(-0.0009572201776062162, 9.039538157945052e-05)"
            ]
          },
          "metadata": {
            "tags": []
          },
          "execution_count": 46
        }
      ]
    },
    {
      "cell_type": "code",
      "metadata": {
        "id": "Im8qiWvlKzxn",
        "colab_type": "code",
        "colab": {
          "base_uri": "https://localhost:8080/",
          "height": 282
        },
        "outputId": "c2933d7b-8e94-4af4-8e1a-bce7ea552fd1"
      },
      "source": [
        "# toy model\n",
        "lc_test = np.zeros(9999)\n",
        "p1 = 500\n",
        "delay, width = 0,40\n",
        "p2 = p1 + 5000 + delay\n",
        "lc_test[p1:p1+width]=1.\n",
        "lc_test[p2:p2+width]=0.8\n",
        "plt.plot(lc_test)"
      ],
      "execution_count": 123,
      "outputs": [
        {
          "output_type": "execute_result",
          "data": {
            "text/plain": [
              "[<matplotlib.lines.Line2D at 0x7f5cc7e7e198>]"
            ]
          },
          "metadata": {
            "tags": []
          },
          "execution_count": 123
        },
        {
          "output_type": "display_data",
          "data": {
            "image/png": "[encoded data removed]",
            "text/plain": [
              "<Figure size 432x288 with 1 Axes>"
            ]
          },
          "metadata": {
            "tags": [],
            "needs_background": "light"
          }
        }
      ]
    },
    {
      "cell_type": "code",
      "metadata": {
        "id": "5WdddeOTOPPH",
        "colab_type": "code",
        "colab": {
          "base_uri": "https://localhost:8080/",
          "height": 282
        },
        "outputId": "3372e56d-bafb-493a-8b33-4b8041e240e0"
      },
      "source": [
        "ccf_test = ccf(lc_test)\n",
        "dt = 1e-3\n",
        "t = dt*np.linspace( -len(lc_test)//2, len(lc_test)//2,len(lc_test)-1)\n",
        "plt.plot(t,ccf_test)\n",
        "#np.mean(ccf_test)"
      ],
      "execution_count": 125,
      "outputs": [
        {
          "output_type": "execute_result",
          "data": {
            "text/plain": [
              "[<matplotlib.lines.Line2D at 0x7f5cc82ac2e8>]"
            ]
          },
          "metadata": {
            "tags": []
          },
          "execution_count": 125
        },
        {
          "output_type": "display_data",
          "data": {
            "image/png": "[encoded data removed]",
            "text/plain": [
              "<Figure size 432x288 with 1 Axes>"
            ]
          },
          "metadata": {
            "tags": [],
            "needs_background": "light"
          }
        }
      ]
    },
    {
      "cell_type": "code",
      "metadata": {
        "id": "54KFZfSgNSO4",
        "colab_type": "code",
        "colab": {
          "base_uri": "https://localhost:8080/",
          "height": 282
        },
        "outputId": "abb32129-3ae1-451c-d08c-cd60addb6955"
      },
      "source": [
        "ccf_test_cut = ccf_test[nbins_full//2-1000:nbins_full//2+1000]\n",
        "plt.plot(ccf_test_cut)"
      ],
      "execution_count": 126,
      "outputs": [
        {
          "output_type": "execute_result",
          "data": {
            "text/plain": [
              "[<matplotlib.lines.Line2D at 0x7f5cc830ce10>]"
            ]
          },
          "metadata": {
            "tags": []
          },
          "execution_count": 126
        },
        {
          "output_type": "display_data",
          "data": {
            "image/png": "[encoded data removed]",
            "text/plain": [
              "<Figure size 432x288 with 1 Axes>"
            ]
          },
          "metadata": {
            "tags": [],
            "needs_background": "light"
          }
        }
      ]
    },
    {
      "cell_type": "code",
      "metadata": {
        "id": "D6nTVq8oNbPT",
        "colab_type": "code",
        "colab": {}
      },
      "source": [
        "X_test = ccf_test_cut[np.newaxis,:]\n",
        "X_test.shape\n",
        "y_test_pred = model.predict(X_test)"
      ],
      "execution_count": 127,
      "outputs": []
    },
    {
      "cell_type": "code",
      "metadata": {
        "id": "xj1aCG9YNw_u",
        "colab_type": "code",
        "colab": {
          "base_uri": "https://localhost:8080/",
          "height": 34
        },
        "outputId": "d3379197-4b20-48b8-9a1b-37d42d0f29a8"
      },
      "source": [
        "y_test_pred"
      ],
      "execution_count": 130,
      "outputs": [
        {
          "output_type": "execute_result",
          "data": {
            "text/plain": [
              "array([[0.06893236]], dtype=float32)"
            ]
          },
          "metadata": {
            "tags": []
          },
          "execution_count": 130
        }
      ]
    },
    {
      "cell_type": "code",
      "metadata": {
        "id": "_RIqWu_2N9OQ",
        "colab_type": "code",
        "colab": {}
      },
      "source": [
        "from sklearn.ensemble import GradientBoostingRegressor\n",
        "from sklearn.model_selection import train_test_split\n",
        "from sklearn.decomposition import PCA"
      ],
      "execution_count": 142,
      "outputs": []
    },
    {
      "cell_type": "code",
      "metadata": {
        "id": "0DNRO-DJWSnk",
        "colab_type": "code",
        "colab": {}
      },
      "source": [
        "pca = PCA(n_components=200)\n",
        "X_train, X_test, y_train, y_test = train_test_split(xtrain, ydata, random_state=0)\n",
        "X_train_pca = pca.fit_transform(X_train)"
      ],
      "execution_count": 144,
      "outputs": []
    },
    {
      "cell_type": "code",
      "metadata": {
        "id": "kzgWJw2UWk-X",
        "colab_type": "code",
        "colab": {
          "base_uri": "https://localhost:8080/",
          "height": 170
        },
        "outputId": "f72fdbcd-fbc6-44ad-86fc-c844ac686455"
      },
      "source": [
        "gbr = GradientBoostingRegressor(random_state=0)\n",
        "gbr.fit(X_train_pca, y_train)"
      ],
      "execution_count": 145,
      "outputs": [
        {
          "output_type": "execute_result",
          "data": {
            "text/plain": [
              "GradientBoostingRegressor(alpha=0.9, ccp_alpha=0.0, criterion='friedman_mse',\n",
              "                          init=None, learning_rate=0.1, loss='ls', max_depth=3,\n",
              "                          max_features=None, max_leaf_nodes=None,\n",
              "                          min_impurity_decrease=0.0, min_impurity_split=None,\n",
              "                          min_samples_leaf=1, min_samples_split=2,\n",
              "                          min_weight_fraction_leaf=0.0, n_estimators=100,\n",
              "                          n_iter_no_change=None, presort='deprecated',\n",
              "                          random_state=0, subsample=1.0, tol=0.0001,\n",
              "                          validation_fraction=0.1, verbose=0, warm_start=False)"
            ]
          },
          "metadata": {
            "tags": []
          },
          "execution_count": 145
        }
      ]
    },
    {
      "cell_type": "code",
      "metadata": {
        "id": "cfv4qhZEW1-h",
        "colab_type": "code",
        "colab": {
          "base_uri": "https://localhost:8080/",
          "height": 282
        },
        "outputId": "7ebddb36-354c-4f1f-c7fe-d57f1cabb82c"
      },
      "source": [
        "ypred = gbr.predict(pca.transform(X_test))\n",
        "plt.scatter(y_test,ypred,color=\"r\")\n",
        "plt.plot([-0.06,0.06],[-0.06,0.06],':')"
      ],
      "execution_count": 146,
      "outputs": [
        {
          "output_type": "execute_result",
          "data": {
            "text/plain": [
              "[<matplotlib.lines.Line2D at 0x7f5cc7f2da20>]"
            ]
          },
          "metadata": {
            "tags": []
          },
          "execution_count": 146
        },
        {
          "output_type": "display_data",
          "data": {
            "image/png": "[encoded data removed]",
            "text/plain": [
              "<Figure size 432x288 with 1 Axes>"
            ]
          },
          "metadata": {
            "tags": [],
            "needs_background": "light"
          }
        }
      ]
    },
    {
      "cell_type": "code",
      "metadata": {
        "id": "dySVfOHUaEFz",
        "colab_type": "code",
        "colab": {}
      },
      "source": [
        "def howGoodAmI(ytest, ypred):\n",
        "  diff = y_test - ypred\n",
        "  hist = plt.hist(diff)\n",
        "  bincentres = (hist[1][:-1]+hist[1][1:])/2.\n",
        "  weights = hist[0]\n",
        "  mu = np.average(bincentres,weights=weights)\n",
        "  sigma = np.average((bincentres-mu)**2, weights=weights)\n",
        "  return mu, sigma"
      ],
      "execution_count": 147,
      "outputs": []
    },
    {
      "cell_type": "code",
      "metadata": {
        "id": "fMC74ruHacdv",
        "colab_type": "code",
        "colab": {
          "base_uri": "https://localhost:8080/",
          "height": 282
        },
        "outputId": "34a873d5-43af-485d-ced1-4cedb8c7b488"
      },
      "source": [
        "howGoodAmI(y_test, ypred)"
      ],
      "execution_count": 148,
      "outputs": [
        {
          "output_type": "execute_result",
          "data": {
            "text/plain": [
              "(4.397463698345773e-05, 4.4510422626889576e-06)"
            ]
          },
          "metadata": {
            "tags": []
          },
          "execution_count": 148
        },
        {
          "output_type": "display_data",
          "data": {
            "image/png": "[encoded data removed]",
            "text/plain": [
              "<Figure size 432x288 with 1 Axes>"
            ]
          },
          "metadata": {
            "tags": [],
            "needs_background": "light"
          }
        }
      ]
    },
    {
      "cell_type": "code",
      "metadata": {
        "id": "RO14W9S8ajs4",
        "colab_type": "code",
        "colab": {
          "base_uri": "https://localhost:8080/",
          "height": 34
        },
        "outputId": "d18781ec-cdf6-4e58-d83a-85faa3c6e514"
      },
      "source": [
        "ydata[10]"
      ],
      "execution_count": 74,
      "outputs": [
        {
          "output_type": "execute_result",
          "data": {
            "text/plain": [
              "0.02599437981843948"
            ]
          },
          "metadata": {
            "tags": []
          },
          "execution_count": 74
        }
      ]
    },
    {
      "cell_type": "code",
      "metadata": {
        "id": "iyIc8rwcbhjG",
        "colab_type": "code",
        "colab": {
          "base_uri": "https://localhost:8080/",
          "height": 34
        },
        "outputId": "8c78f992-efe5-433c-a86e-880f0179ce9e"
      },
      "source": [
        "gbr.predict(ccf_test_cut[None,:])"
      ],
      "execution_count": 77,
      "outputs": [
        {
          "output_type": "execute_result",
          "data": {
            "text/plain": [
              "array([0.00617155])"
            ]
          },
          "metadata": {
            "tags": []
          },
          "execution_count": 77
        }
      ]
    },
    {
      "cell_type": "code",
      "metadata": {
        "id": "xJFdy3RXdBRN",
        "colab_type": "code",
        "colab": {}
      },
      "source": [
        ""
      ],
      "execution_count": null,
      "outputs": []
    }
  ]
}