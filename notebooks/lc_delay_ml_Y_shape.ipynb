{
  "nbformat": 4,
  "nbformat_minor": 0,
  "metadata": {
    "colab": {
      "name": "lc delay ml Y-shape.ipynb",
      "provenance": [],
      "collapsed_sections": [],
      "authorship_tag": "ABX9TyMWZHOEcPNU0WoHsWv8vgYI",
      "include_colab_link": true
    },
    "kernelspec": {
      "name": "python3",
      "display_name": "Python 3"
    }
  },
  "cells": [
    {
      "cell_type": "markdown",
      "metadata": {
        "id": "view-in-github",
        "colab_type": "text"
      },
      "source": [
        "<a href=\"https://colab.research.google.com/github/toastmaker/ccf/blob/master/notebooks/lc_delay_ml_Y_shape.ipynb\" target=\"_parent\"><img src=\"https://colab.research.google.com/assets/colab-badge.svg\" alt=\"Open In Colab\"/></a>"
      ]
    },
    {
      "cell_type": "code",
      "metadata": {
        "id": "ziWhxutwWNTN",
        "colab_type": "code",
        "colab": {}
      },
      "source": [
        "import numpy as np\n",
        "import matplotlib.pyplot  as plt\n",
        "from keras.models import Sequential, Model\n",
        "from keras.layers import Dense, Flatten, Dropout, Input, Concatenate\n",
        "from keras.wrappers.scikit_learn import KerasRegressor\n",
        "from sklearn.model_selection import cross_val_score, KFold, train_test_split\n",
        "from sklearn.gaussian_process import GaussianProcessRegressor\n",
        "from sklearn.gaussian_process.kernels import RBF, DotProduct, WhiteKernel\n",
        "from keras import metrics\n",
        "from sklearn.ensemble import GradientBoostingRegressor\n",
        "from sklearn.preprocessing import StandardScaler\n",
        "from sklearn.decomposition import PCA\n",
        "from google.colab import drive"
      ],
      "execution_count": null,
      "outputs": []
    },
    {
      "cell_type": "code",
      "metadata": {
        "id": "aQiAp1DCWUJb",
        "colab_type": "code",
        "colab": {
          "base_uri": "https://localhost:8080/",
          "height": 51
        },
        "outputId": "381d5468-cd01-4ccc-8319-5df835e353dc"
      },
      "source": [
        "# load data\n",
        "drive.mount('/content/drive')\n",
        "copypath = '/content/drive/My Drive/data/lightcurve_array.npz'\n",
        "npz=np.load(copypath)\n",
        "xdata=npz['lc'][:,:-1] # to make the legth of the two concatenated light curves an even number\n",
        "ydata=npz['delay']*1e3 # convert to human read units\n",
        "xdata.shape"
      ],
      "execution_count": null,
      "outputs": [
        {
          "output_type": "stream",
          "text": [
            "Drive already mounted at /content/drive; to attempt to forcibly remount, call drive.mount(\"/content/drive\", force_remount=True).\n"
          ],
          "name": "stdout"
        },
        {
          "output_type": "execute_result",
          "data": {
            "text/plain": [
              "(9999, 9998)"
            ]
          },
          "metadata": {
            "tags": []
          },
          "execution_count": 15
        }
      ]
    },
    {
      "cell_type": "code",
      "metadata": {
        "id": "v_I-JkrZkCsv",
        "colab_type": "code",
        "colab": {
          "base_uri": "https://localhost:8080/",
          "height": 282
        },
        "outputId": "46b955f0-d539-4358-e19e-38ee12fd1570"
      },
      "source": [
        "plt.plot(ydata)"
      ],
      "execution_count": 93,
      "outputs": [
        {
          "output_type": "execute_result",
          "data": {
            "text/plain": [
              "[<matplotlib.lines.Line2D at 0x7f2a334c5e10>]"
            ]
          },
          "metadata": {
            "tags": []
          },
          "execution_count": 93
        },
        {
          "output_type": "display_data",
          "data": {
            "image/png": "[encoded data removed]",
            "text/plain": [
              "<Figure size 432x288 with 1 Axes>"
            ]
          },
          "metadata": {
            "tags": [],
            "needs_background": "light"
          }
        }
      ]
    },
    {
      "cell_type": "code",
      "metadata": {
        "id": "PBUcKpA9aPHG",
        "colab_type": "code",
        "colab": {}
      },
      "source": [
        "xdata = xdata/np.max(xdata,axis=1)[:,np.newaxis]"
      ],
      "execution_count": null,
      "outputs": []
    },
    {
      "cell_type": "code",
      "metadata": {
        "id": "neppTZgtWc0M",
        "colab_type": "code",
        "colab": {}
      },
      "source": [
        "X_train, X_test, y_train, y_test = train_test_split(xdata, ydata, test_size=0.30, random_state=0)\n",
        "half = xdata.shape[1]//2\n",
        "X_train1 = X_train[:,:half]\n",
        "X_train2 = X_train[:,half:]\n",
        "X_test1 = X_test[:,:half]\n",
        "X_test2 = X_test[:,half:]"
      ],
      "execution_count": null,
      "outputs": []
    },
    {
      "cell_type": "code",
      "metadata": {
        "id": "p-jUvL1SWkb6",
        "colab_type": "code",
        "colab": {
          "base_uri": "https://localhost:8080/",
          "height": 34
        },
        "outputId": "500f316c-19ad-494b-fe82-049a248e2113"
      },
      "source": [
        "X_train.shape, X_train1.shape, X_train2.shape, y_train.shape"
      ],
      "execution_count": null,
      "outputs": [
        {
          "output_type": "execute_result",
          "data": {
            "text/plain": [
              "((6999, 9998), (6999, 4999), (6999, 4999), (6999,))"
            ]
          },
          "metadata": {
            "tags": []
          },
          "execution_count": 43
        }
      ]
    },
    {
      "cell_type": "code",
      "metadata": {
        "id": "3tJu95vgdK_0",
        "colab_type": "code",
        "colab": {
          "base_uri": "https://localhost:8080/",
          "height": 34
        },
        "outputId": "f75a4c73-d938-4f58-a2e5-bbf7b7328249"
      },
      "source": [
        "X_train1[0].shape"
      ],
      "execution_count": null,
      "outputs": [
        {
          "output_type": "execute_result",
          "data": {
            "text/plain": [
              "(4999,)"
            ]
          },
          "metadata": {
            "tags": []
          },
          "execution_count": 44
        }
      ]
    },
    {
      "cell_type": "code",
      "metadata": {
        "id": "AZq06CkbWtxX",
        "colab_type": "code",
        "colab": {}
      },
      "source": [
        "# Y shape network, two inputs layer 'dense' is common for both branches (same weights)\n",
        "lc1 = Input(shape=(X_train1[0].shape))\n",
        "lc2 = Input(shape=(X_train2[0].shape))\n",
        "\n",
        "dense = Dense(units=128, input_shape=X_train1[0].shape,activation='sigmoid')\n",
        "branch1 = dense(lc1)\n",
        "branch1 = Dense(units=24, activation='sigmoid')(branch1)\n",
        "branch2  = dense(lc2)\n",
        "branch2 = Dense(units=24, activation='sigmoid')(branch2)\n",
        "merge_layer = Concatenate()([branch1, branch2])\n",
        "mixer_layer = Dense(units=16, activation='sigmoid')(merge_layer)\n",
        "predictions = Dense(units=1)(mixer_layer)\n",
        "model = Model(inputs=[lc1, lc2], outputs=predictions)"
      ],
      "execution_count": 122,
      "outputs": []
    },
    {
      "cell_type": "code",
      "metadata": {
        "id": "jmh31r1fay-l",
        "colab_type": "code",
        "colab": {}
      },
      "source": [
        "m=[metrics.mean_squared_error, metrics.mean_absolute_error]\n",
        "model.compile(loss='mean_squared_error', optimizer='adamax', metrics=m)"
      ],
      "execution_count": 123,
      "outputs": []
    },
    {
      "cell_type": "code",
      "metadata": {
        "id": "1_fnLcQYedJY",
        "colab_type": "code",
        "colab": {
          "base_uri": "https://localhost:8080/",
          "height": 459
        },
        "outputId": "03f3d921-7206-477c-f40b-6e9062d309f2"
      },
      "source": [
        "model.summary()"
      ],
      "execution_count": 124,
      "outputs": [
        {
          "output_type": "stream",
          "text": [
            "Model: \"functional_15\"\n",
            "__________________________________________________________________________________________________\n",
            "Layer (type)                    Output Shape         Param #     Connected to                     \n",
            "==================================================================================================\n",
            "input_39 (InputLayer)           [(None, 4999)]       0                                            \n",
            "__________________________________________________________________________________________________\n",
            "input_40 (InputLayer)           [(None, 4999)]       0                                            \n",
            "__________________________________________________________________________________________________\n",
            "dense_50 (Dense)                (None, 128)          640000      input_39[0][0]                   \n",
            "                                                                 input_40[0][0]                   \n",
            "__________________________________________________________________________________________________\n",
            "dense_51 (Dense)                (None, 24)           3096        dense_50[0][0]                   \n",
            "__________________________________________________________________________________________________\n",
            "dense_52 (Dense)                (None, 24)           3096        dense_50[1][0]                   \n",
            "__________________________________________________________________________________________________\n",
            "concatenate_18 (Concatenate)    (None, 48)           0           dense_51[0][0]                   \n",
            "                                                                 dense_52[0][0]                   \n",
            "__________________________________________________________________________________________________\n",
            "dense_53 (Dense)                (None, 16)           784         concatenate_18[0][0]             \n",
            "__________________________________________________________________________________________________\n",
            "dense_54 (Dense)                (None, 1)            17          dense_53[0][0]                   \n",
            "==================================================================================================\n",
            "Total params: 646,993\n",
            "Trainable params: 646,993\n",
            "Non-trainable params: 0\n",
            "__________________________________________________________________________________________________\n"
          ],
          "name": "stdout"
        }
      ]
    },
    {
      "cell_type": "code",
      "metadata": {
        "id": "Vu5Kw3vLezfr",
        "colab_type": "code",
        "colab": {}
      },
      "source": [
        "nepochs = 200\n",
        "batch_size = 100\n",
        "h = model.fit([X_train1, X_train2],y_train,epochs=nepochs,batch_size=batch_size, validation_data=([X_test1, X_test2],y_test), verbose=0)"
      ],
      "execution_count": 125,
      "outputs": []
    },
    {
      "cell_type": "code",
      "metadata": {
        "id": "K1SrmLD2fUWX",
        "colab_type": "code",
        "colab": {}
      },
      "source": [
        "def accuracy_plot(y_test, y_pred):\n",
        "  plt.scatter(y_test,y_pred,color=\"r\")\n",
        "  plt.xlabel(\"True delay\")\n",
        "  plt.xlabel(\"ML delay\")\n",
        "  plt.plot([-0.06*1e3,0.06*1e3],[-0.06*1e3,0.06*1e3],':')\n",
        "  plt.xlim([-0.06*1e3,0.06*1e3])\n",
        "  plt.ylim([-0.06*1e3,0.06*1e3])"
      ],
      "execution_count": 126,
      "outputs": []
    },
    {
      "cell_type": "code",
      "metadata": {
        "id": "8g746g-tfcEI",
        "colab_type": "code",
        "colab": {}
      },
      "source": [
        "def howGoodAmI(y_test, y_pred):\n",
        "  diff = y_test - y_pred.ravel()\n",
        "  hist = plt.hist(diff)\n",
        "  bincentres = (hist[1][:-1]+hist[1][1:])/2.\n",
        "  weights = hist[0]\n",
        "  mu = np.average(bincentres,weights=weights)\n",
        "  sigma = np.average((bincentres-mu)**2, weights=weights)\n",
        "  return mu, sigma"
      ],
      "execution_count": 127,
      "outputs": []
    },
    {
      "cell_type": "code",
      "metadata": {
        "id": "6Z9dc1iifZUV",
        "colab_type": "code",
        "colab": {}
      },
      "source": [
        "def error_evolution(h):\n",
        "  # summarize history for loss\n",
        "  plt.plot(h.history['mean_squared_error'], label='train')\n",
        "  plt.plot(h.history['val_mean_squared_error'], label='test')\n",
        "  plt.title('model mse')\n",
        "  plt.ylabel('mse')\n",
        "  plt.xlabel('epoch')\n",
        "  plt.legend()"
      ],
      "execution_count": 128,
      "outputs": []
    },
    {
      "cell_type": "code",
      "metadata": {
        "id": "1Lqk6m3dfXf7",
        "colab_type": "code",
        "colab": {
          "base_uri": "https://localhost:8080/",
          "height": 283
        },
        "outputId": "4bdd3f5b-08e9-491b-e121-83e95a9382d9"
      },
      "source": [
        "y_pred = model.predict([X_test1, X_test2])\n",
        "accuracy_plot(y_test, y_pred)"
      ],
      "execution_count": 129,
      "outputs": [
        {
          "output_type": "display_data",
          "data": {
            "image/png": "[encoded data removed]",
            "text/plain": [
              "<Figure size 432x288 with 1 Axes>"
            ]
          },
          "metadata": {
            "tags": [],
            "needs_background": "light"
          }
        }
      ]
    },
    {
      "cell_type": "code",
      "metadata": {
        "id": "AA6S4kLPffPt",
        "colab_type": "code",
        "colab": {
          "base_uri": "https://localhost:8080/",
          "height": 283
        },
        "outputId": "e5f9bc44-0420-4b7d-a511-1617623b0de0"
      },
      "source": [
        "howGoodAmI(y_test, y_pred)"
      ],
      "execution_count": 130,
      "outputs": [
        {
          "output_type": "execute_result",
          "data": {
            "text/plain": [
              "(0.06904561774805189, 4.420608955368543)"
            ]
          },
          "metadata": {
            "tags": []
          },
          "execution_count": 130
        },
        {
          "output_type": "display_data",
          "data": {
            "image/png": "[encoded data removed]",
            "text/plain": [
              "<Figure size 432x288 with 1 Axes>"
            ]
          },
          "metadata": {
            "tags": [],
            "needs_background": "light"
          }
        }
      ]
    },
    {
      "cell_type": "code",
      "metadata": {
        "id": "lp7AJrnMfvXM",
        "colab_type": "code",
        "colab": {
          "base_uri": "https://localhost:8080/",
          "height": 295
        },
        "outputId": "f51a7cb4-7e4a-4167-b34f-9ec76cbb1e42"
      },
      "source": [
        "error_evolution(h)"
      ],
      "execution_count": 131,
      "outputs": [
        {
          "output_type": "display_data",
          "data": {
            "image/png": "[encoded data removed]",
            "text/plain": [
              "<Figure size 432x288 with 1 Axes>"
            ]
          },
          "metadata": {
            "tags": [],
            "needs_background": "light"
          }
        }
      ]
    },
    {
      "cell_type": "code",
      "metadata": {
        "id": "XOu3VFg3not0",
        "colab_type": "code",
        "colab": {}
      },
      "source": [
        ""
      ],
      "execution_count": null,
      "outputs": []
    }
  ]
}