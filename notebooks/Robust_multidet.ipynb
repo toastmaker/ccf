{
 "cells": [
  {
   "cell_type": "code",
   "execution_count": 1,
   "metadata": {},
   "outputs": [],
   "source": [
    "import numpy as np"
   ]
  },
  {
   "cell_type": "code",
   "execution_count": 30,
   "metadata": {},
   "outputs": [],
   "source": [
    "url=\"http://physics.muni.cz/~munz/astro/gbm/200412381/det%i.npz\"\n",
    "def fetch(url):\n",
    "    import requests\n",
    "    from io import BytesIO\n",
    "\n",
    "    ff=requests.get(url, stream = True)\n",
    "    return np.load(BytesIO(ff.raw.read()))\n",
    "    \n",
    "allfls=[fetch(url%i) for i in range(6,10)]"
   ]
  },
  {
   "cell_type": "code",
   "execution_count": 34,
   "metadata": {},
   "outputs": [],
   "source": [
    "alldat=[f['time'] for f in allfls]"
   ]
  },
  {
   "cell_type": "code",
   "execution_count": 20,
   "metadata": {},
   "outputs": [
    {
     "name": "stderr",
     "output_type": "stream",
     "text": [
      "<ipython-input-20-b3eb76923b2b>:5: RuntimeWarning: divide by zero encountered in log\n",
      "  pl.hist(np.log((tm[1:]-tm[:-1])),np.r_[-15:-5:20j]);\n"
     ]
    },
    {
     "data": {
      "image/png": "[encoded data removed]",
      "text/plain": [
       "<Figure size 432x288 with 1 Axes>"
      ]
     },
     "metadata": {
      "needs_background": "light"
     },
     "output_type": "display_data"
    }
   ],
   "source": [
    "tm=data['time']\n",
    "import matplotlib.pyplot as pl\n",
    "%matplotlib inline\n",
    "\n",
    "pl.hist(np.log((tm[1:]-tm[:-1])),np.r_[-15:-5:20j]);"
   ]
  },
  {
   "cell_type": "code",
   "execution_count": 38,
   "metadata": {},
   "outputs": [],
   "source": [
    "tmax=140\n",
    "allrang={}\n",
    "for i in range(4):#6,10):\n",
    "    #alldat[i]=np.load(\"det%i.npz\"%i)['time']\n",
    "    qr=np.arange(len(alldat[i]))\n",
    "    allrang[i]=[qr[alldat[i]>=tmax-40][0],qr[alldat[i]>=tmax+40][0]]\n",
    "from evlist_corr import *"
   ]
  },
  {
   "cell_type": "code",
   "execution_count": 397,
   "metadata": {},
   "outputs": [
    {
     "data": {
      "text/plain": [
       "[0.007229671691401755,\n",
       " 0.016210119990171114,\n",
       " 0.03370155674850435,\n",
       " 0.05498488581928544]"
      ]
     },
     "execution_count": 397,
     "metadata": {},
     "output_type": "execute_result"
    }
   ],
   "source": [
    "fac=100\n",
    "qmid,qsiz=34,12\n",
    "qful=2*qmid\n",
    "cent=(qmid-qsiz)*fac\n",
    "\n",
    "def onetest(ev1,ev2,fac,tstart=110,do_fit=True,tshift=0):\n",
    "    bin1,cur1=lcurve(ev1,fac,-2*fac,tstart=tstart)\n",
    "    bin2,cur2=lcurve(ev2,fac,-2*fac,tstart=tstart)\n",
    "    cent=(qmid-qsiz)*fac\n",
    "    \n",
    "    nor1,nor2=1/cur1.sum(),1/cur2.sum()\n",
    "    cwin1=cur1[(qmid-qsiz)*fac:(qmid+qsiz)*fac]\n",
    "    cwin2=cur2[:qful*fac]\n",
    "    cfunc=np.correlate(cwin1*nor1,cwin2*nor2,\"valid\")\n",
    "    if do_fit:\n",
    "        try:\n",
    "            res=[fit_corr(cfunc,doplot=False,inifac=fac/100,cmax=cent)[0]-cent-tshift*fac]\n",
    "        except:\n",
    "            res=[0]\n",
    "    else:\n",
    "        res=[0]\n",
    "    res+=list(wcent(cfunc,nbin=5)-cent-tshift*fac)\n",
    "    res+=[cfunc.max(),cwin1.max(),cwin2.max(),np.argmax(cwin1),np.argmax(cwin2)]\n",
    "    return res\n",
    "\n",
    "def multest(tevs,tevs2,niter=50,fac=50,subsam=10,nshi=10,nshi2=0,randomize=True,do_fit=False):\n",
    "    #selecting every subsam event\n",
    "    #shifting wrt. binning\n",
    "    gres2=[]\n",
    "    if randomize:\n",
    "        for m in range(niter):\n",
    "            ev1=tevs[randids(z0,z1,subsam)]\n",
    "            ev2=tevs2[randids(z20,z21,subsam)]\n",
    "            for dt in np.r_[0:1./fac:nshi*1j]:\n",
    "                if nshi2>0:\n",
    "                    for dt2 in np.r_[0:1./fac:nshi2*1j]:\n",
    "                        gres2.append(onetest(ev1+dt,ev2+dt2,fac,do_fit=do_fit,tshift=dt2-dt))\n",
    "                else:\n",
    "                    gres2.append(onetest(ev1+dt,ev2+dt,fac,do_fit=do_fit))\n",
    "    else:\n",
    "        for k in range(subsam):\n",
    "            for l in range(subsam):\n",
    "                sel2=slice(z0+k,z1,subsam)\n",
    "                sel22=slice(z20+l,z21,subsam)\n",
    "                gres2.append(onetest(tevs[sel2]+dt,tevs2[sel22]+dt,fac,do_fit=do_fit))         \n",
    "    return np.array(gres2)\n",
    "\n",
    "#[np.std(np.median(gres2[:,i].reshape(nshi,subsam**2),0))/fac*1e3 for i in range(0,5)]\n",
    "\n",
    "i,j=2,3\n",
    "fac=100\n",
    "nshi=20\n",
    "tevs,tevs2=alldat[i],alldat[j]\n",
    "z0,z1=allrang[i]#,alldat[j]#qr[tevs>=tmax-40][0],qr[tevs>=tmax+40][0]\n",
    "z20,z21=allrang[j]\n",
    "gres2=multest(tevs,tevs2,fac=fac,nshi=nshi)\n",
    "\n",
    "[np.std(np.median(gres2[:,i].reshape(len(gres2)//nshi,nshi),1))/fac*1e3 for i in range(1,5)]"
   ]
  },
  {
   "cell_type": "code",
   "execution_count": 264,
   "metadata": {},
   "outputs": [
    {
     "data": {
      "text/plain": [
       "(3498, 3498, 1200)"
      ]
     },
     "execution_count": 264,
     "metadata": {},
     "output_type": "execute_result"
    },
    {
     "data": {
      "image/png": "[encoded data removed]",
      "text/plain": [
       "<Figure size 432x288 with 1 Axes>"
      ]
     },
     "metadata": {
      "needs_background": "light"
     },
     "output_type": "display_data"
    }
   ],
   "source": [
    "qmid=30\n",
    "pl.plot(bin1,cur1)\n",
    "pl.plot(bin2,cur2)\n",
    "cwin1=cur1[(qmid-qsiz)*fac2:(qmid+qsiz)*fac2]\n",
    "cwin2=cur2[:qful*fac2]\n",
    "#pl.plot(cwin1)\n",
    "#pl.plot(cwin2)\n",
    "fac2=100\n",
    "len(cur1),len(cur2),(qmid-qsiz)*fac2"
   ]
  },
  {
   "cell_type": "code",
   "execution_count": 401,
   "metadata": {},
   "outputs": [
    {
     "data": {
      "text/plain": [
       "{'lim_50': array([[0.00525245, 0.00550479],\n",
       "        [0.01040017, 0.01072326],\n",
       "        [0.0184007 , 0.0176051 ],\n",
       "        [0.02951647, 0.03124267]]),\n",
       " 'lim_100': array([[0.00746636, 0.00720892],\n",
       "        [0.01868173, 0.01939119],\n",
       "        [0.02951693, 0.03237754],\n",
       "        [0.0514456 , 0.05425921]]),\n",
       " 'lim_150': array([[0.0083539 , 0.00793672],\n",
       "        [0.02161335, 0.02036119],\n",
       "        [0.04148913, 0.03992137],\n",
       "        [0.06777149, 0.06422955]]),\n",
       " 'lim_200': array([[0.01020359, 0.00967305],\n",
       "        [0.02587653, 0.02591053],\n",
       "        [0.04507697, 0.04687375],\n",
       "        [0.06514695, 0.07177809]]),\n",
       " 'lim_300': array([[0.01110475, 0.01199836],\n",
       "        [0.02672152, 0.02650557],\n",
       "        [0.05536864, 0.05379864],\n",
       "        [0.09649882, 0.08715952]]),\n",
       " 'lim_500': array([[0.01930441, 0.01949716],\n",
       "        [0.0533868 , 0.05273564],\n",
       "        [0.10633641, 0.09840479],\n",
       "        [0.17478116, 0.16195915]]),\n",
       " 'lim_1000': array([[0.05523332, 0.05014895],\n",
       "        [0.07812072, 0.07769358],\n",
       "        [0.16356966, 0.16277213],\n",
       "        [0.26410468, 0.26941016]])}"
      ]
     },
     "execution_count": 401,
     "metadata": {},
     "output_type": "execute_result"
    }
   ],
   "source": [
    "test1={}\n",
    "nshi=50\n",
    "for fac in [50,100,150,200,300,500,1000]:\n",
    "    cent=(qmid-qsiz)*fac\n",
    "    gres2=multest(tevs,tevs2,50,fac=fac,nshi=nshi)\n",
    "    rep=[]\n",
    "    for i in range(1,5):\n",
    "        pset=np.percentile(gres2[:,i].reshape(len(gres2)//nshi,nshi),[20,50,80],axis=1)\n",
    "        rep.append([pset[1].std(),(pset[2]+pset[0]).std()/2])\n",
    "    test1['lim_%i'%fac]=np.array(rep)/fac*1e3\n",
    "#test1['med_50']=[np.std(np.median(gres2[:,i].reshape(len(gres2)//nshi,nshi),1))/fac*1e3 for i in range(1,5)]\n",
    "test1"
   ]
  },
  {
   "cell_type": "code",
   "execution_count": 262,
   "metadata": {},
   "outputs": [
    {
     "data": {
      "text/plain": [
       "(68, 12)"
      ]
     },
     "execution_count": 262,
     "metadata": {},
     "output_type": "execute_result"
    }
   ],
   "source": [
    "qful,qsiz"
   ]
  },
  {
   "cell_type": "code",
   "execution_count": 223,
   "metadata": {},
   "outputs": [
    {
     "data": {
      "text/plain": [
       "(20000, 11)"
      ]
     },
     "execution_count": 223,
     "metadata": {},
     "output_type": "execute_result"
    }
   ],
   "source": [
    "nshi=10\n",
    "fac=50\n",
    "gres22=multest(tevs,tevs2,200,fac=fac,nshi=nshi,nshi2=nshi)\n",
    "gres22.shape"
   ]
  },
  {
   "cell_type": "code",
   "execution_count": 224,
   "metadata": {},
   "outputs": [
    {
     "data": {
      "text/plain": [
       "(3, 200, 10)"
      ]
     },
     "execution_count": 224,
     "metadata": {},
     "output_type": "execute_result"
    }
   ],
   "source": [
    "i=2\n",
    "#pset2=np.percentile(gres22[:,i].reshape(len(gres22)//nshi**2,nshi**2),[20,50,80],axis=1)/fac*1e3\n",
    "pset2b=np.percentile(gres22[:,i].reshape(len(gres22)//nshi**2,nshi,nshi),[20,50,80],axis=1)/fac*1e3\n",
    "#pset2[1].std(),(pset2[2]+pset2[0]).std()/2\n",
    "pset2b.shape"
   ]
  },
  {
   "cell_type": "code",
   "execution_count": 221,
   "metadata": {},
   "outputs": [],
   "source": [
    "mad=lambda x:np.median(abs(x-np.median(x)))"
   ]
  },
  {
   "cell_type": "code",
   "execution_count": 225,
   "metadata": {},
   "outputs": [
    {
     "data": {
      "text/plain": [
       "(8.664550244218471, 8.569296889873428, 6.125091057550917, 5.816336853801898)"
      ]
     },
     "execution_count": 225,
     "metadata": {},
     "output_type": "execute_result"
    }
   ],
   "source": [
    "q1,q2=np.median(pset2b[1],axis=1),np.median((pset2b[0]+pset2b[2])/2,axis=1)\n",
    "q1.std(),q2.std(),mad(q1),mad(q2)"
   ]
  },
  {
   "cell_type": "code",
   "execution_count": 234,
   "metadata": {},
   "outputs": [
    {
     "data": {
      "text/plain": [
       "(8.957552638761218, 8.05826719243452, 8.35194128969182)"
      ]
     },
     "execution_count": 234,
     "metadata": {},
     "output_type": "execute_result"
    }
   ],
   "source": [
    "i=2\n",
    "pset=np.percentile(gres2[:,i].reshape(len(gres2)//nshi,nshi),[20,50,80],axis=1)/fac*1e3\n",
    "pset[1].std(),(pset[2]+pset[0]).std()/2,(pset[1]*2+pset[2]+pset[0]).std()/4"
   ]
  },
  {
   "cell_type": "code",
   "execution_count": null,
   "metadata": {},
   "outputs": [],
   "source": [
    "i,j=2,3\n",
    "fac=100\n",
    "nshi=20\n",
    "tevs,tevs2=alldat[i],alldat[j]\n",
    "z0,z1=allrang[i]#,alldat[j]#qr[tevs>=tmax-40][0],qr[tevs>=tmax+40][0]\n",
    "z20,z21=allrang[j]\n",
    "#gres2=multest(tevs,tevs2,fac=fac,nshi=nshi)\n",
    "\n",
    "[np.std(np.median(gres2[:,i].reshape(len(gres2)//nshi,nshi),1))/fac*1e3 for i in range(1,5)]"
   ]
  },
  {
   "cell_type": "markdown",
   "metadata": {},
   "source": [
    "#### test suite 2\n",
    "\n",
    "- shifting both lightcurves by a fraction of time bin\n",
    "- is final histogram normal? (test from `scipy.stats`)\n",
    "\n",
    "try to clip out outliers and then fit remaining set with (truncated) normal PDF "
   ]
  },
  {
   "cell_type": "code",
   "execution_count": 50,
   "metadata": {},
   "outputs": [
    {
     "data": {
      "text/plain": [
       "[3.362258529351444, 7.2180729569824145, 10.30056577162719, 14.947980328529544]"
      ]
     },
     "execution_count": 50,
     "metadata": {},
     "output_type": "execute_result"
    }
   ],
   "source": [
    "nshi=10\n",
    "gres22=multest(tevs,tevs2,50,fac=fac,nshi=nshi,nshi2=nshi)\n",
    "\n",
    "[np.std(np.median(gres22[:,i].reshape(len(gres22)//(nshi**2),nshi**2),1))/fac*1e3 for i in range(1,5)]"
   ]
  },
  {
   "cell_type": "code",
   "execution_count": 193,
   "metadata": {},
   "outputs": [],
   "source": [
    "def clipperc(st,ran=[10,90]):\n",
    "    low,hig=np.percentile(st,ran)\n",
    "    return st[(st>=low)*(st<hig)]\n",
    "\n",
    "from evlist_corr import tcdf"
   ]
  },
  {
   "cell_type": "code",
   "execution_count": 51,
   "metadata": {},
   "outputs": [
    {
     "data": {
      "text/plain": [
       "(array([ 6., 10., 13., 19.,  9., 19., 10.,  5.,  7.,  2.]),\n",
       " array([-1.52158738, -1.30685507, -1.09212276, -0.87739045, -0.66265814,\n",
       "        -0.44792583, -0.23319352, -0.01846122,  0.19627109,  0.4110034 ,\n",
       "         0.62573571]),\n",
       " <a list of 10 Patch objects>)"
      ]
     },
     "execution_count": 51,
     "metadata": {},
     "output_type": "execute_result"
    },
    {
     "data": {
      "image/png": "[encoded data removed]",
      "text/plain": [
       "<Figure size 432x288 with 1 Axes>"
      ]
     },
     "metadata": {
      "needs_background": "light"
     },
     "output_type": "display_data"
    }
   ],
   "source": [
    "podet=gres22[:,1].reshape(len(gres22)//nshi**2,nshi**2)\n",
    "from scipy import stats as st\n",
    "pores=st.normaltest(podet,axis=1)\n",
    "\n",
    "podet2=gres22[:,2].reshape(len(gres22)//nshi**2,nshi**2)\n",
    "pores2=st.normaltest(podet2,axis=1)\n",
    "\n",
    "pl.hist(podet[3])"
   ]
  },
  {
   "cell_type": "code",
   "execution_count": 177,
   "metadata": {},
   "outputs": [],
   "source": [
    "from scipy import optimize as op\n",
    "samp1=[]\n",
    "for dis in podet:\n",
    "    psel=clipperc(dis)\n",
    "    minq2=lambda p:st.kstest(psel,lambda z:tcdf(z,p)).statistic\n",
    "    bfit2=op.fmin(minq2,[psel.mean(),psel.std()],disp=0)\n",
    "    samp1.append(list(bfit2)+[minq2(bfit2)])\n",
    "samp1=np.array(samp1).T"
   ]
  },
  {
   "cell_type": "code",
   "execution_count": 187,
   "metadata": {},
   "outputs": [
    {
     "data": {
      "text/plain": [
       "3.3658340606932384"
      ]
     },
     "execution_count": 187,
     "metadata": {},
     "output_type": "execute_result"
    },
    {
     "data": {
      "image/png": "[encoded data removed]",
      "text/plain": [
       "<Figure size 432x288 with 1 Axes>"
      ]
     },
     "metadata": {
      "needs_background": "light"
     },
     "output_type": "display_data"
    }
   ],
   "source": [
    "pl.plot(pores.statistic,samp1[2],'+')\n",
    "pl.xlabel(\"normal test (skew+kurt)\")\n",
    "pl.ylabel(\"KS test after truncation\")\n",
    "samp1[0].std()/fac*1e3"
   ]
  },
  {
   "cell_type": "code",
   "execution_count": 188,
   "metadata": {},
   "outputs": [
    {
     "data": {
      "text/plain": [
       "7.279154418942038"
      ]
     },
     "execution_count": 188,
     "metadata": {},
     "output_type": "execute_result"
    },
    {
     "data": {
      "image/png": "[encoded data removed]",
      "text/plain": [
       "<Figure size 432x288 with 1 Axes>"
      ]
     },
     "metadata": {
      "needs_background": "light"
     },
     "output_type": "display_data"
    }
   ],
   "source": [
    "#same thing with weighted average of larger interval\n",
    "samp2=[]\n",
    "for dis in podet2:\n",
    "    psel=clipperc(dis)\n",
    "    minq2=lambda p:st.kstest(psel,lambda z:tcdf(z,p)).statistic\n",
    "    bfit2=op.fmin(minq2,[psel.mean(),psel.std()],disp=0)\n",
    "    samp2.append(list(bfit2)+[minq2(bfit2)])\n",
    "samp2=np.array(samp2).T\n",
    "pl.plot(pores2.statistic,samp2[2],'+')\n",
    "pl.xlabel(\"normal test (skew+kurt)\")\n",
    "pl.ylabel(\"KS test after truncation\")\n",
    "samp2[0].std()/fac*1e3"
   ]
  },
  {
   "cell_type": "markdown",
   "metadata": {},
   "source": [
    "### Appendix: CDF tests"
   ]
  },
  {
   "cell_type": "code",
   "execution_count": 145,
   "metadata": {},
   "outputs": [
    {
     "data": {
      "text/plain": [
       "[<matplotlib.lines.Line2D at 0x7fa3b09017c0>]"
      ]
     },
     "execution_count": 145,
     "metadata": {},
     "output_type": "execute_result"
    },
    {
     "data": {
      "image/png": "[encoded data removed]",
      "text/plain": [
       "<Figure size 432x288 with 1 Axes>"
      ]
     },
     "metadata": {
      "needs_background": "light"
     },
     "output_type": "display_data"
    }
   ],
   "source": [
    "## how to make truncated cdf\n",
    "x=np.r_[-5:5:30j]\n",
    "pc=[0.1,0.9]\n",
    "zfun=lambda z:(st.norm(*pf).cdf(z)-pc[0])/(pc[1]-pc[0])\n",
    "zcun=lambda z:min(max(zfun(z),0),1)\n",
    "pl.plot(x,st.norm.cdf(x))\n",
    "pl.plot(x,[zcun(p) for p in x])"
   ]
  },
  {
   "cell_type": "code",
   "execution_count": 153,
   "metadata": {},
   "outputs": [
    {
     "data": {
      "text/plain": [
       "(array([1.2141167 , 1.62215151]),\n",
       " array([1.21753312, 2.2364743 ]),\n",
       " 0.1330814871632396)"
      ]
     },
     "execution_count": 153,
     "metadata": {},
     "output_type": "execute_result"
    }
   ],
   "source": [
    "minq1=lambda p:st.kstest(cpk1,st.norm(p[0],p[1]).cdf).statistic\n",
    "bfit=op.fmin(minq1,[0,1],disp=0)\n",
    "bfit,minq1(bfit)\n",
    "\n",
    "def tcdf(z,pf,pc=[0.1,0.9]):\n",
    "    #truncated normal CDF\n",
    "    vals=(st.norm(pf[0],pf[1]).cdf(z)-pc[0])/(pc[1]-pc[0])\n",
    "    if np.iterable(vals):\n",
    "        vals[vals<0]=0\n",
    "        vals[vals>1]=1\n",
    "    return vals\n",
    "#minq2=lambda p:st.kstest(cpk1,lambda z:min(max((st.norm(*p).cdf(z)-pc[0])/(pc[1]-pc[0]),0),1)).statistic\n",
    "minq2=lambda p:st.kstest(cpk1,lambda z:tcdf(z,p)).statistic\n",
    "bfit2=op.fmin(minq2,bfit,disp=0)\n",
    "bfit,bfit2,minq1(bfit2)"
   ]
  },
  {
   "cell_type": "code",
   "execution_count": 166,
   "metadata": {},
   "outputs": [],
   "source": [
    "mtest2=[]\n",
    "for i in range(100):\n",
    "    pkx=st.norm(1,2).rvs(size=100)\n",
    "    cpkx=clipperc(pkx,[10,90])\n",
    "    minq1=lambda p:st.kstest(cpkx,st.norm(p[0],p[1]).cdf).statistic\n",
    "    bfit=op.fmin(minq1,[1,2],disp=0)\n",
    "    minq2=lambda p:st.kstest(cpkx,lambda z:tcdf(z,p)).statistic\n",
    "    bfit2=op.fmin(minq2,bfit,disp=0)\n",
    "    mtest2.append(list(bfit)+list(bfit2)+[minq1(bfit),minq2(bfit2)]+[pkx.mean(),pkx.std()])"
   ]
  },
  {
   "cell_type": "code",
   "execution_count": 141,
   "metadata": {},
   "outputs": [
    {
     "data": {
      "text/plain": [
       "KstestResult(statistic=0.20836212346269456, pvalue=0.0015921638912524242)"
      ]
     },
     "execution_count": 141,
     "metadata": {},
     "output_type": "execute_result"
    }
   ],
   "source": [
    "pf=[-0.14383523,  0.69971898]\n",
    "st.kstest(cpk1,lambda x:st.norm(pf[0],pf[1]).cdf(2*x))"
   ]
  },
  {
   "cell_type": "code",
   "execution_count": 162,
   "metadata": {},
   "outputs": [
    {
     "data": {
      "text/plain": [
       "[<matplotlib.lines.Line2D at 0x7fa3b1f8d7f0>]"
      ]
     },
     "execution_count": 162,
     "metadata": {},
     "output_type": "execute_result"
    },
    {
     "data": {
      "image/png": "[encoded data removed]",
      "text/plain": [
       "<Figure size 432x288 with 1 Axes>"
      ]
     },
     "metadata": {
      "needs_background": "light"
     },
     "output_type": "display_data"
    }
   ],
   "source": [
    "mtest=np.array(mtest)\n",
    "pl.plot(mtest[:,1],mtest[:,3],'+')"
   ]
  },
  {
   "cell_type": "code",
   "execution_count": 171,
   "metadata": {},
   "outputs": [
    {
     "data": {
      "text/plain": [
       "[<matplotlib.lines.Line2D at 0x7fa3b0493b80>]"
      ]
     },
     "execution_count": 171,
     "metadata": {},
     "output_type": "execute_result"
    },
    {
     "data": {
      "image/png": "[encoded data removed]",
      "text/plain": [
       "<Figure size 432x288 with 1 Axes>"
      ]
     },
     "metadata": {
      "needs_background": "light"
     },
     "output_type": "display_data"
    }
   ],
   "source": [
    "pl.plot(mtest[:,4],mtest[:,1],'+')"
   ]
  },
  {
   "cell_type": "code",
   "execution_count": 170,
   "metadata": {},
   "outputs": [
    {
     "data": {
      "text/plain": [
       "(array([0.87363377, 1.49499521, 0.92769415, 1.9853877 , 0.08400564,\n",
       "        0.0699028 ]),\n",
       " array([0.96997191, 1.40160593, 0.97092155, 1.89393976, 0.05885617,\n",
       "        0.06294773, 0.97669196, 1.96932715]))"
      ]
     },
     "execution_count": 170,
     "metadata": {},
     "output_type": "execute_result"
    }
   ],
   "source": [
    "mtest.mean(0),mtest2.mean(0)"
   ]
  },
  {
   "cell_type": "code",
   "execution_count": 169,
   "metadata": {},
   "outputs": [
    {
     "data": {
      "text/plain": [
       "(array([0.3961589 , 0.24016035, 0.3445183 , 0.25360267, 0.06781201,\n",
       "        0.04618328]),\n",
       " array([0.2014131 , 0.14060999, 0.19988178, 0.24759844, 0.01143134,\n",
       "        0.024028  , 0.19290496, 0.13028007]))"
      ]
     },
     "execution_count": 169,
     "metadata": {},
     "output_type": "execute_result"
    }
   ],
   "source": [
    "mtest2=np.array(mtest2)\n",
    "mtest.std(0),mtest2.std(0)"
   ]
  },
  {
   "cell_type": "code",
   "execution_count": null,
   "metadata": {},
   "outputs": [],
   "source": []
  }
 ],
 "metadata": {
  "kernelspec": {
   "display_name": "Python 3",
   "language": "python",
   "name": "python3"
  },
  "language_info": {
   "codemirror_mode": {
    "name": "ipython",
    "version": 3
   },
   "file_extension": ".py",
   "mimetype": "text/x-python",
   "name": "python",
   "nbconvert_exporter": "python",
   "pygments_lexer": "ipython3",
   "version": "3.8.5"
  }
 },
 "nbformat": 4,
 "nbformat_minor": 4
}
