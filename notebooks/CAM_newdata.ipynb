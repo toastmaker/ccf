{
 "cells": [
  {
   "cell_type": "code",
   "execution_count": 28,
   "metadata": {},
   "outputs": [],
   "source": [
    "try:\n",
    "    from evlist_corr import *\n",
    "except:\n",
    "    libpath=\"https://github.com/toastmaker/ccf/raw/master/notebooks/evlist_corr.py\"\n",
    "    import requests\n",
    "    flib=requests.get(libpath)\n",
    "    exec(flib.text)\n",
    "    \n",
    "corr_pos=[0,1]"
   ]
  },
  {
   "cell_type": "code",
   "execution_count": 2,
   "metadata": {},
   "outputs": [],
   "source": [
    "ifile=\"/data/munz/astro/time/lcurve_1ms_pack1.npz\"\n",
    "import numpy as np\n",
    "dat=np.load(ifile)"
   ]
  },
  {
   "cell_type": "code",
   "execution_count": 6,
   "metadata": {},
   "outputs": [
    {
     "data": {
      "text/plain": [
       "[<matplotlib.lines.Line2D at 0x7f8376cc3ac8>]"
      ]
     },
     "execution_count": 6,
     "metadata": {},
     "output_type": "execute_result"
    },
    {
     "data": {
      "image/png": "[encoded data removed]",
      "text/plain": [
       "<matplotlib.figure.Figure at 0x7f8380717cf8>"
      ]
     },
     "metadata": {
      "needs_background": "light"
     },
     "output_type": "display_data"
    }
   ],
   "source": [
    "%matplotlib inline\n",
    "from matplotlib import pyplot as pl\n",
    "pl.plot(dat['set1'][0])"
   ]
  },
  {
   "cell_type": "code",
   "execution_count": 10,
   "metadata": {},
   "outputs": [],
   "source": [
    "mpos1=np.argmax(dat['set1'][:,:5000],axis=1)\n",
    "mpos2=np.argmax(dat['set1'][:,5000:],axis=1)"
   ]
  },
  {
   "cell_type": "code",
   "execution_count": 55,
   "metadata": {},
   "outputs": [],
   "source": [
    "cent_bin,cent_num=10,5\n",
    "def barytest(lcur1,lcur2,fac=50,wsiz=10,dt=0,nshi=10,poe=2):\n",
    "    nqin=130*fac//2\n",
    "    cbeg=(qmid-qsiz)*fac*nshi\n",
    "    csiz=2*qsiz*fac*nshi\n",
    "    ic=(int)(dt*fac*nshi)\n",
    "    if cbeg+csiz>len(lcur1):\n",
    "        csiz=len(lcur1)-cbeg-nshi\n",
    "        csiz=(csiz//nshi)*nshi\n",
    "    if nqin*nshi+ic>len(lcur2):\n",
    "        nqin=(len(lcur2)-ic)//nshi-2\n",
    "    #print(cbeg,csiz,nqin)\n",
    "    pos=[]\n",
    "    for ib in range(nshi):\n",
    "        sb1=lcur1[ib+cbeg:ib+cbeg+csiz].reshape(csiz//nshi,nshi).mean(1)*nor1\n",
    "        sb2=lcur2[ib+ic:ib+ic+nqin*nshi].reshape(nqin,nshi).mean(1)*nor2\n",
    "        cur=np.correlate(sb1,sb2[::-1],\"valid\")\n",
    "        mid=np.argmax(cur)\n",
    "        if mid>len(cur)-wsiz: mid=len(cur)-wsiz\n",
    "        elif mid<wsiz: mid=wsiz\n",
    "        pos.append((cur[mid-wsiz:mid+wsiz]**poe*np.r_[mid-wsiz:mid+wsiz]).sum()/(cur[mid-wsiz:mid+wsiz]**poe).sum())\n",
    "    return np.array(pos)/fac-corr_pos[0]-fac/corr_pos[1]\n",
    "\n",
    "fac=50\n",
    "gsiz=20 #window size\n",
    "def baryset(lindat,fac=50,dt=0,nshi=20,tstart=110,subsam=10,poe=2,lsiz=0):\n",
    "    '''repeating same test `niter` times\n",
    "    '''\n",
    "    rep=[]\n",
    "    if lsiz==0: lsiz=(len(lindat[9])-1)//2\n",
    "    qgrp=1000//fac\n",
    "    rgrp=1000//(nshi*fac)\n",
    "    nshi=(qgrp//rgrp)*rgrp\n",
    "    lsiz=fac*nshi*rgrp\n",
    "    print(\"factor: %.1f ms\"%(1000/nshi/rgrp))\n",
    "    for lin in lindat:\n",
    "        lc1=lin[:lsiz].reshape(lsiz//rgrp,rgrp).sum(1)\n",
    "        lc2=lin[5000:5000+lsiz].reshape(lsiz//rgrp,rgrp).sum(1)\n",
    "        rep.append(barytest(lc1,lc2,fac=fac,wsiz=gsiz,dt=dt,nshi=nshi,poe=poe))\n",
    "    return np.array(rep)\n"
   ]
  },
  {
   "cell_type": "code",
   "execution_count": 67,
   "metadata": {},
   "outputs": [
    {
     "data": {
      "text/plain": [
       "(30, 11, 3, 33)"
      ]
     },
     "execution_count": 67,
     "metadata": {},
     "output_type": "execute_result"
    }
   ],
   "source": [
    "lsiz=4999\n",
    "l=2\n",
    "nshi=11\n",
    "fac=30\n",
    "qgrp=1000//fac\n",
    "rgrp=1000//(nshi*fac)\n",
    "nshi=(qgrp//rgrp)\n",
    "lsiz=fac*nshi*rgrp\n",
    "lsiz=(lsiz//rgrp)*rgrp\n",
    "nor1,nor2=1,1\n",
    "lc1=dat['set1'][l][:lsiz].reshape(lsiz//rgrp,rgrp).sum(1)\n",
    "lc2=dat['set1'][l][5000:5000+lsiz].reshape(lsiz//rgrp,rgrp).sum(1)\n",
    "qmid,qsiz=2,1\n",
    "#ok1=barytest(lc1,lc2,fac=30,nshi=nshi)\n",
    "fac,nshi,rgrp,qgrp"
   ]
  },
  {
   "cell_type": "code",
   "execution_count": 169,
   "metadata": {},
   "outputs": [],
   "source": [
    "cbeg=(qmid-qsiz)*fac*nshi\n",
    "csiz=2*qsiz*fac*nshi\n",
    "klokal={}\n",
    "\n",
    "def barytest2(lcur1,lcur2,fac=50,nshi=10,wsiz=10,dt=0,poe=2,rep=0):\n",
    "    #constant binning 1 ms\n",
    "    tbin=1000//fac\n",
    "    nqin=(len(lcur2)//tbin)#130*fac//2 #??\n",
    "    klokal['bin']=tbin\n",
    "    \n",
    "    cbeg=(qmid-qsiz)*fac*tbin\n",
    "    csiz=2*qsiz*fac*tbin\n",
    "    mqin=2*qsiz*fac\n",
    "    ic=(int)(dt*fac*tbin)\n",
    "    \n",
    "    if cbeg+csiz+tbin>len(lcur1):\n",
    "        csiz=len(lcur1)-cbeg-tbin\n",
    "        mqin=csiz//tbin\n",
    "        csiz=mqin*tbin\n",
    "    if (nqin+1)*tbin+ic>len(lcur2):\n",
    "        nqin=(len(lcur2)-ic)//tbin-2\n",
    "    #print(tbin,mqin,nqin,csiz)\n",
    "    klokal['win1']=[cbeg,csiz]#,nqin)\n",
    "    pos=[]\n",
    "    for i in range(nshi,2*nshi):\n",
    "        ib=int(tbin*i/nshi)\n",
    "        sb1=lcur1[ib+cbeg:ib+cbeg+mqin*tbin].reshape(mqin,tbin).mean(1)\n",
    "        sb2=lcur2[ib+ic:ib+ic+nqin*tbin].reshape(nqin,tbin).mean(1)\n",
    "        cur=np.correlate(sb1,sb2[::-1],\"valid\")\n",
    "        if rep==1: return cur\n",
    "        mid=np.argmax(cur)\n",
    "        if mid>len(cur)-wsiz: mid=len(cur)-wsiz\n",
    "        elif mid<wsiz: mid=wsiz\n",
    "        pos.append((cur[mid-wsiz:mid+wsiz]**poe*np.r_[mid-wsiz:mid+wsiz]).sum()/(cur[mid-wsiz:mid+wsiz]**poe).sum())\n",
    "    return np.array(pos)*tbin/1000#/fac-corr_pos[0]-fac/corr_pos[1]\n"
   ]
  },
  {
   "cell_type": "code",
   "execution_count": 148,
   "metadata": {},
   "outputs": [
    {
     "data": {
      "text/plain": [
       "(0.0022830761460749536,\n",
       " array([0.26014855, 0.26497471]),\n",
       " 0.002246001324797323,\n",
       " array([0.26016267, 0.26511812]))"
      ]
     },
     "execution_count": 148,
     "metadata": {},
     "output_type": "execute_result"
    },
    {
     "data": {
      "image/png": "[encoded data removed]",
      "text/plain": [
       "<matplotlib.figure.Figure at 0x7f834c23dcf8>"
      ]
     },
     "metadata": {
      "needs_background": "light"
     },
     "output_type": "display_data"
    }
   ],
   "source": [
    "\n",
    "def baryset2(lindat,fac,lsiz=4990,nshi=10,wsiz=10,poe=2):\n",
    "    out=[]\n",
    "    for lin in lindat:\n",
    "        out.append(barytest2(lin[:lsiz],lin[5000:5000+lsiz],fac,nshi,wsiz=wsiz,poe=poe))\n",
    "    return np.array(out)\n",
    "qtest2=baryset2(dat['set1'],fac=20,nshi=20,wsiz=6)\n",
    "st1=np.median(qtest2,1)\n",
    "st2=np.percentile(qtest2,[20,80],axis=1).sum(0)/2\n",
    "dm2=np.percentile(st2,[20,80])\n",
    "sel2=(st2>(3*dm2[0]-dm2[1])/2)*(st2<(3*dm2[1]-dm2[0])/2)\n",
    "#sel2=(st2>dm2[0])*(st2<dm2[1])\n",
    "\n",
    "dm1=np.percentile(st1,[20,80])\n",
    "sel=(st1>(3*dm1[0]-dm1[1])/2)*(st1<(3*dm1[1]-dm1[0])/2)\n",
    "pl.hist(st2,30);\n",
    "st1[sel].std(),dm1,st2[sel2].std(),dm2"
   ]
  },
  {
   "cell_type": "code",
   "execution_count": 149,
   "metadata": {},
   "outputs": [
    {
     "data": {
      "text/plain": [
       "(885, 860)"
      ]
     },
     "execution_count": 149,
     "metadata": {},
     "output_type": "execute_result"
    }
   ],
   "source": [
    "sum(sel),sum(sel2)"
   ]
  },
  {
   "cell_type": "code",
   "execution_count": 131,
   "metadata": {},
   "outputs": [
    {
     "data": {
      "text/plain": [
       "[[0.0013897424502617049, 0.26121926923680744, 0.26628373969787006],\n",
       " [0.0014180425414636968, 0.2609481703389259, 0.2660752638866035],\n",
       " [0.001397932410967186, 0.26067480981937563, 0.2656628340537533],\n",
       " [0.0014231758279383236, 0.2603987708333759, 0.2655341553929422],\n",
       " [0.0014200125481224463, 0.2601218742070106, 0.2651978412261576],\n",
       " [0.001425185858197859, 0.2599719950590991, 0.2649917044154074],\n",
       " [0.0014277734504037853, 0.25973019704696443, 0.26483703146208304],\n",
       " [0.0014060880728736312, 0.25971537106989806, 0.26467937802526764],\n",
       " [0.0013522726592545098, 0.2594861770540374, 0.2643862232202982],\n",
       " [0.0013272719520805551, 0.25925330436070554, 0.2642380180184129]]"
      ]
     },
     "execution_count": 131,
     "metadata": {},
     "output_type": "execute_result"
    }
   ],
   "source": [
    "qtest2=baryset2(dat['set1'],fac=20,nshi=10,wsiz=6)\n",
    "brep=[]\n",
    "for st1 in qtest2.T:\n",
    "    #st1=qtest2[:,0]\n",
    "    dm1=np.percentile(st1,[20,80])\n",
    "    sel=(st1>dm1[0])*(st1<dm1[1])\n",
    "    #pl.hist(np.mean(qtest2,1),30);\n",
    "    brep.append([st1[sel].std()]+list(dm1))\n",
    "brep"
   ]
  },
  {
   "cell_type": "code",
   "execution_count": 128,
   "metadata": {},
   "outputs": [
    {
     "data": {
      "text/plain": [
       "[0.26398835017662575,\n",
       " 0.2640582502804949,\n",
       " 0.26412177793314007,\n",
       " 0.2641793593023696,\n",
       " 0.2642292664661383,\n",
       " 0.2642295984328157,\n",
       " 0.2642249640370497,\n",
       " 0.2641965108264319,\n",
       " 0.2641324967662887,\n",
       " 0.264117071309151]"
      ]
     },
     "execution_count": 128,
     "metadata": {},
     "output_type": "execute_result"
    }
   ],
   "source": [
    "crep=[]\n",
    "for k in range(5,15):\n",
    "    st1=np.median(qtest2[:,k:],1)\n",
    "    dm1=np.percentile(st1,[20,80])\n",
    "    sel=(st1>dm1[0])*(st1<dm1[1])\n",
    "    crep.append(st1[sel].mean())\n",
    "crep"
   ]
  },
  {
   "cell_type": "code",
   "execution_count": 168,
   "metadata": {},
   "outputs": [
    {
     "data": {
      "text/plain": [
       "[[0.14655820269283582, 0.0011039569375849918, 850],\n",
       " [0.14638190912838786, 0.0011329236655088807, 871],\n",
       " [0.14647354356295111, 0.0011017308171909412, 864],\n",
       " [0.14643240255689804, 0.0010821426512830008, 856],\n",
       " [0.1464148931252242, 0.0010773995542414224, 861],\n",
       " [0.14637386516876147, 0.0011197147602997892, 849]]"
      ]
     },
     "execution_count": 168,
     "metadata": {},
     "output_type": "execute_result"
    }
   ],
   "source": [
    "hbest=dict(fac=30,nshi=10,wsiz=5,poe=1.4)\n",
    "rep=[]\n",
    "for i in range(1,7):\n",
    "    qtest2=baryset2(dat['set%i'%i],**hbest)\n",
    "    st1=np.median(qtest2,1)\n",
    "    dm1=np.percentile(st1,[20,80])\n",
    "    #sel=(st1>dm1[0])*(st1<dm1[1])\n",
    "    sel=(st1>(3*dm1[0]-dm1[1])/2)*(st1<(3*dm1[1]-dm1[0])/2)\n",
    "    rep.append([np.median(st1),st1[sel].std(),sum(sel)])\n",
    "rep\n",
    "#dm1[1]-dm1[0]"
   ]
  },
  {
   "cell_type": "code",
   "execution_count": 163,
   "metadata": {},
   "outputs": [
    {
     "data": {
      "text/plain": [
       "(0.0011197147602997892, 849)"
      ]
     },
     "execution_count": 163,
     "metadata": {},
     "output_type": "execute_result"
    }
   ],
   "source": [
    "qtest2=baryset2(dat['set%i'%i],fac=30,nshi=10,wsiz=5,poe=1.4)\n",
    "st1=np.median(qtest2,1)\n",
    "dm1=np.percentile(st1,[20,80])\n",
    "sel=(st1>(3*dm1[0]-dm1[1])/2)*(st1<(3*dm1[1]-dm1[0])/2)\n",
    "st1[sel].std(),sum(sel)"
   ]
  },
  {
   "cell_type": "code",
   "execution_count": 170,
   "metadata": {},
   "outputs": [
    {
     "data": {
      "text/plain": [
       "(array([0.18406877, 0.18379876, 0.18370932, 0.18327428, 0.18336395,\n",
       "        0.18324733, 0.15078374, 0.15072955, 0.15095018, 0.15079665]),\n",
       " 0.18326080121357263)"
      ]
     },
     "execution_count": 170,
     "metadata": {},
     "output_type": "execute_result"
    }
   ],
   "source": [
    "bad=np.where(sel==False)[0]\n",
    "qtest2[bad[2]],st1[bad[2]]"
   ]
  },
  {
   "cell_type": "code",
   "execution_count": 179,
   "metadata": {},
   "outputs": [
    {
     "data": {
      "text/plain": [
       "array([  1,  11,  15,  30,  35,  38,  46,  72,  74,  75,  77,  86,  89,\n",
       "        97, 100, 105, 107, 108, 114, 116, 130, 135, 138, 141, 142, 152,\n",
       "       162, 164, 169, 182, 188, 190, 194, 200, 204, 206, 209, 213, 219,\n",
       "       225, 235, 246, 253, 262, 270, 281, 291, 294, 296, 299, 307, 308,\n",
       "       328, 337, 347, 357, 358, 361, 372, 375, 399, 405, 409, 425, 427,\n",
       "       428, 448, 465, 476, 514, 531, 533, 537, 550, 556, 566, 568, 573,\n",
       "       575, 583, 585, 591, 593, 594, 612, 613, 641, 645, 646, 647, 648,\n",
       "       649, 652, 657, 668, 669, 674, 680, 682, 688, 697, 711, 715, 718,\n",
       "       719, 725, 736, 739, 741, 744, 752, 755, 763, 774, 786, 787, 794,\n",
       "       796, 797, 805, 812, 813, 814, 819, 837, 843, 845, 846, 847, 855,\n",
       "       856, 866, 867, 868, 875, 895, 896, 898, 902, 916, 931, 943, 950,\n",
       "       954, 955, 957, 970, 982, 985, 990, 992])"
      ]
     },
     "execution_count": 179,
     "metadata": {},
     "output_type": "execute_result"
    }
   ],
   "source": [
    "bad"
   ]
  },
  {
   "cell_type": "code",
   "execution_count": 181,
   "metadata": {},
   "outputs": [
    {
     "data": {
      "text/plain": [
       "{'bin': 33, 'win1': [990, 1980]}"
      ]
     },
     "execution_count": 181,
     "metadata": {},
     "output_type": "execute_result"
    },
    {
     "data": {
      "image/png": "[encoded data removed]",
      "text/plain": [
       "<matplotlib.figure.Figure at 0x7f834c891ac8>"
      ]
     },
     "metadata": {
      "needs_background": "light"
     },
     "output_type": "display_data"
    }
   ],
   "source": [
    "lin=dat['set1'][40]\n",
    "curx=barytest2(lin[:lsiz],lin[5000:5000+lsiz],rep=1,**hbest)\n",
    "pl.plot(curx)\n",
    "klokal"
   ]
  },
  {
   "cell_type": "code",
   "execution_count": 175,
   "metadata": {},
   "outputs": [
    {
     "data": {
      "text/plain": [
       "[<matplotlib.lines.Line2D at 0x7f834beaa940>]"
      ]
     },
     "execution_count": 175,
     "metadata": {},
     "output_type": "execute_result"
    },
    {
     "data": {
      "image/png": "[encoded data removed]",
      "text/plain": [
       "<matplotlib.figure.Figure at 0x7f834be4ccc0>"
      ]
     },
     "metadata": {
      "needs_background": "light"
     },
     "output_type": "display_data"
    }
   ],
   "source": [
    "pl.plot(lin[5000:])"
   ]
  },
  {
   "cell_type": "code",
   "execution_count": 74,
   "metadata": {},
   "outputs": [],
   "source": [
    "from scipy import optimize as op\n",
    "#op.fmin(maxiter=10)"
   ]
  },
  {
   "cell_type": "code",
   "execution_count": 164,
   "metadata": {},
   "outputs": [],
   "source": [
    "hbest=dict(fac=30,nshi=10,wsiz=5,poe=1.4)"
   ]
  },
  {
   "cell_type": "code",
   "execution_count": 165,
   "metadata": {},
   "outputs": [
    {
     "data": {
      "text/plain": [
       "{'fac': 30, 'nshi': 10, 'wsiz': 5, 'poe': 1.4}"
      ]
     },
     "execution_count": 165,
     "metadata": {},
     "output_type": "execute_result"
    }
   ],
   "source": [
    "hbest"
   ]
  },
  {
   "cell_type": "code",
   "execution_count": 166,
   "metadata": {},
   "outputs": [],
   "source": [
    "qtest3=baryset2(dat['set%i'%i],**hbest)"
   ]
  },
  {
   "cell_type": "code",
   "execution_count": null,
   "metadata": {},
   "outputs": [],
   "source": []
  }
 ],
 "metadata": {
  "kernelspec": {
   "display_name": "Python 3",
   "language": "python",
   "name": "python3"
  },
  "language_info": {
   "codemirror_mode": {
    "name": "ipython",
    "version": 3
   },
   "file_extension": ".py",
   "mimetype": "text/x-python",
   "name": "python",
   "nbconvert_exporter": "python",
   "pygments_lexer": "ipython3",
   "version": "3.6.9"
  }
 },
 "nbformat": 4,
 "nbformat_minor": 4
}
