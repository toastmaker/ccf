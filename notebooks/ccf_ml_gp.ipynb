{
  "nbformat": 4,
  "nbformat_minor": 0,
  "metadata": {
    "colab": {
      "name": "ccf ml gp",
      "provenance": [],
      "collapsed_sections": [],
      "authorship_tag": "ABX9TyNPz9TwrGkjFaVi+xxn02kY"
    },
    "kernelspec": {
      "name": "python3",
      "display_name": "Python 3"
    }
  },
  "cells": [
    {
      "cell_type": "code",
      "metadata": {
        "id": "JsX6TetzOkDX",
        "colab_type": "code",
        "colab": {}
      },
      "source": [
        "import numpy as np\n",
        "import matplotlib.pyplot  as plt\n",
        "from keras.models import Sequential\n",
        "from keras.layers import Dense, Flatten, Dropout\n",
        "from keras.wrappers.scikit_learn import KerasRegressor\n",
        "from sklearn.model_selection import cross_val_score, KFold, train_test_split\n",
        "from sklearn.gaussian_process import GaussianProcessRegressor\n",
        "from sklearn.gaussian_process.kernels import RBF, DotProduct, WhiteKernel\n",
        "from keras import metrics\n",
        "from sklearn.ensemble import GradientBoostingRegressor\n",
        "from sklearn.preprocessing import StandardScaler\n",
        "from sklearn.decomposition import PCA"
      ],
      "execution_count": 3,
      "outputs": []
    },
    {
      "cell_type": "code",
      "metadata": {
        "id": "avHkAk9uQAJu",
        "colab_type": "code",
        "colab": {
          "base_uri": "https://localhost:8080/",
          "height": 34
        },
        "outputId": "e162f02c-5b45-4726-b635-8af4f57ea53a"
      },
      "source": [
        "from google.colab import drive\n",
        "drive.mount('/content/drive')"
      ],
      "execution_count": 7,
      "outputs": [
        {
          "output_type": "stream",
          "text": [
            "Drive already mounted at /content/drive; to attempt to forcibly remount, call drive.mount(\"/content/drive\", force_remount=True).\n"
          ],
          "name": "stdout"
        }
      ]
    },
    {
      "cell_type": "code",
      "metadata": {
        "id": "uej-uT_9QkB3",
        "colab_type": "code",
        "colab": {
          "base_uri": "https://localhost:8080/",
          "height": 34
        },
        "outputId": "1e47301c-6705-4700-b9cb-3bd2b3dedd61"
      },
      "source": [
        "copypath = '/content/drive/My Drive/data/lightcurve_array.npz'\n",
        "npz=np.load(copypath)\n",
        "xdata=npz['lc'][:,:-1] # to make the legth of the two concatenated light curves an even number\n",
        "ydata=npz['delay']*1e3 # convert to human read units\n",
        "xdata.shape"
      ],
      "execution_count": 8,
      "outputs": [
        {
          "output_type": "execute_result",
          "data": {
            "text/plain": [
              "(9999, 9998)"
            ]
          },
          "metadata": {
            "tags": []
          },
          "execution_count": 8
        }
      ]
    },
    {
      "cell_type": "code",
      "metadata": {
        "id": "8SBH5qReaRFM",
        "colab_type": "code",
        "colab": {}
      },
      "source": [
        "xdata = xdata/np.max(xdata,axis=1)[:,np.newaxis]"
      ],
      "execution_count": 9,
      "outputs": []
    },
    {
      "cell_type": "code",
      "metadata": {
        "id": "N9lFjPfsQ8Hd",
        "colab_type": "code",
        "colab": {
          "base_uri": "https://localhost:8080/",
          "height": 282
        },
        "outputId": "4be4f822-0c14-4a36-be21-226cdecf2380"
      },
      "source": [
        "lc0 = xdata[0]\n",
        "plt.plot(lc0)\n",
        "print(\"Delay is {:.2f}\".format(ydata[0]))"
      ],
      "execution_count": 10,
      "outputs": [
        {
          "output_type": "stream",
          "text": [
            "Delay is 49.97\n"
          ],
          "name": "stdout"
        },
        {
          "output_type": "display_data",
          "data": {
            "image/png": "[encoded data removed]",
            "text/plain": [
              "<Figure size 432x288 with 1 Axes>"
            ]
          },
          "metadata": {
            "tags": [],
            "needs_background": "light"
          }
        }
      ]
    },
    {
      "cell_type": "code",
      "metadata": {
        "id": "AB0X72vnRGuR",
        "colab_type": "code",
        "colab": {}
      },
      "source": [
        "def ccf(x):\n",
        "  half = len(x)//2\n",
        "  a, b = x[0:half], x[half:]\n",
        "  a = (a - np.mean(a)) / (np.std(a) * len(a))\n",
        "  b = (b - np.mean(b)) / (np.std(b))\n",
        "  return np.correlate(a,b,'same')"
      ],
      "execution_count": 11,
      "outputs": []
    },
    {
      "cell_type": "code",
      "metadata": {
        "id": "eNPbQ9ACRcUe",
        "colab_type": "code",
        "colab": {}
      },
      "source": [
        "def ccf_cumsum(x,dd=False):\n",
        "  half = len(x)//2 \n",
        "  cs1 = np.cumsum(x[0:half])\n",
        "  cs2 = np.cumsum(x[half:])\n",
        "  cs1 /= np.max(cs1)\n",
        "  cs2 /= np.max(cs2)\n",
        "  if dd:\n",
        "    cs1 = np.diff(np.diff(cs1))\n",
        "    cs2 = np.diff(np.diff(cs2))\n",
        "  return np.correlate(cs1,cs2,'same')"
      ],
      "execution_count": 12,
      "outputs": []
    },
    {
      "cell_type": "code",
      "metadata": {
        "id": "BF4HOly3SWxh",
        "colab_type": "code",
        "colab": {
          "base_uri": "https://localhost:8080/",
          "height": 283
        },
        "outputId": "d0efd86a-4d8d-4239-e431-8d7e436d580c"
      },
      "source": [
        "ccf_lc0 = ccf(lc0)\n",
        "plt.plot(ccf_lc0)\n",
        "np.argmax(ccf_lc0)"
      ],
      "execution_count": 13,
      "outputs": [
        {
          "output_type": "execute_result",
          "data": {
            "text/plain": [
              "2448"
            ]
          },
          "metadata": {
            "tags": []
          },
          "execution_count": 13
        },
        {
          "output_type": "display_data",
          "data": {
            "image/png": "[encoded data removed]",
            "text/plain": [
              "<Figure size 432x288 with 1 Axes>"
            ]
          },
          "metadata": {
            "tags": [],
            "needs_background": "light"
          }
        }
      ]
    },
    {
      "cell_type": "code",
      "metadata": {
        "id": "KRwuccgFVwnD",
        "colab_type": "code",
        "colab": {}
      },
      "source": [
        "ccfdata = np.apply_along_axis(func1d=ccf, axis=1, arr=xdata)"
      ],
      "execution_count": 14,
      "outputs": []
    },
    {
      "cell_type": "code",
      "metadata": {
        "id": "0ibW8H50S6to",
        "colab_type": "code",
        "colab": {
          "base_uri": "https://localhost:8080/",
          "height": 34
        },
        "outputId": "18658f81-97a9-43fa-f268-e82653729bac"
      },
      "source": [
        "ccfdata.shape"
      ],
      "execution_count": 15,
      "outputs": [
        {
          "output_type": "execute_result",
          "data": {
            "text/plain": [
              "(9999, 4999)"
            ]
          },
          "metadata": {
            "tags": []
          },
          "execution_count": 15
        }
      ]
    },
    {
      "cell_type": "code",
      "metadata": {
        "id": "B7oHfLj0Ssbs",
        "colab_type": "code",
        "colab": {
          "base_uri": "https://localhost:8080/",
          "height": 283
        },
        "outputId": "3594c623-5ad8-4608-8b2f-d40e5e40c83d"
      },
      "source": [
        "ccfdata_preview =  ccfdata[0]\n",
        "plt.plot(ccfdata_preview)"
      ],
      "execution_count": 16,
      "outputs": [
        {
          "output_type": "execute_result",
          "data": {
            "text/plain": [
              "[<matplotlib.lines.Line2D at 0x7f762a201e10>]"
            ]
          },
          "metadata": {
            "tags": []
          },
          "execution_count": 16
        },
        {
          "output_type": "display_data",
          "data": {
            "image/png": "[encoded data removed]",
            "text/plain": [
              "<Figure size 432x288 with 1 Axes>"
            ]
          },
          "metadata": {
            "tags": [],
            "needs_background": "light"
          }
        }
      ]
    },
    {
      "cell_type": "code",
      "metadata": {
        "id": "ViRWI3d8eiTB",
        "colab_type": "code",
        "colab": {
          "base_uri": "https://localhost:8080/",
          "height": 300
        },
        "outputId": "b87ff368-7fef-40fb-c7ea-61856f508ea8"
      },
      "source": [
        "nbins_full = ccfdata.shape[1]\n",
        "window_size = 400\n",
        "xtrain = np.copy(ccfdata[:,nbins_full//2-window_size//2:nbins_full//2+window_size//2])\n",
        "#z = (x - u) / s\n",
        "xtrain = (xtrain - np.mean(xtrain, axis=1)[:,None])/np.std(xtrain,axis=1)[:,None]\n",
        "plt.plot(xtrain[0])\n",
        "print('Mean = {:e}, std = {:.3f}'.format( np.mean(xtrain[0]), np.std(xtrain[0])) )\n",
        "xtrain.shape"
      ],
      "execution_count": 36,
      "outputs": [
        {
          "output_type": "stream",
          "text": [
            "Mean = 7.105427e-17, std = 1.000\n"
          ],
          "name": "stdout"
        },
        {
          "output_type": "execute_result",
          "data": {
            "text/plain": [
              "(9999, 400)"
            ]
          },
          "metadata": {
            "tags": []
          },
          "execution_count": 36
        },
        {
          "output_type": "display_data",
          "data": {
            "image/png": "[encoded data removed]",
            "text/plain": [
              "<Figure size 432x288 with 1 Axes>"
            ]
          },
          "metadata": {
            "tags": [],
            "needs_background": "light"
          }
        }
      ]
    },
    {
      "cell_type": "code",
      "metadata": {
        "id": "eU4p03fqfFjU",
        "colab_type": "code",
        "colab": {}
      },
      "source": [
        "def gprocess(x, downsample=2):\n",
        "  n = len(x)\n",
        "  kernel = 1.0*RBF(2.0) + WhiteKernel()\n",
        "  gp = GaussianProcessRegressor(kernel=kernel, random_state=0)\n",
        "  X = np.atleast_2d(np.linspace(0,n,n)).T\n",
        "  y = np.atleast_2d(x).T\n",
        "  gp.fit(X,y)\n",
        "  X2 = np.atleast_2d(np.linspace(0, n, downsample*n)).T\n",
        "  f = gp.predict(X2)\n",
        "  return f.ravel()"
      ],
      "execution_count": 18,
      "outputs": []
    },
    {
      "cell_type": "code",
      "metadata": {
        "id": "DjIplmnY5Duu",
        "colab_type": "code",
        "colab": {}
      },
      "source": [
        "downsample = 4"
      ],
      "execution_count": 23,
      "outputs": []
    },
    {
      "cell_type": "code",
      "metadata": {
        "id": "usECdpVLgdMy",
        "colab_type": "code",
        "colab": {
          "base_uri": "https://localhost:8080/",
          "height": 282
        },
        "outputId": "fa392c4c-88b8-46a7-ed27-afbd36942d14"
      },
      "source": [
        "downsample = 4\n",
        "gp_smooth = gprocess(xtrain[0], downsample=downsample)\n",
        "n = len(xtrain[0])\n",
        "plt.plot(np.linspace(0, n, n), xtrain[0])\n",
        "plt.plot(np.linspace(0, n, downsample*n), gp_smooth)"
      ],
      "execution_count": 19,
      "outputs": [
        {
          "output_type": "execute_result",
          "data": {
            "text/plain": [
              "[<matplotlib.lines.Line2D at 0x7f762a115c88>]"
            ]
          },
          "metadata": {
            "tags": []
          },
          "execution_count": 19
        },
        {
          "output_type": "display_data",
          "data": {
            "image/png": "[encoded data removed]",
            "text/plain": [
              "<Figure size 432x288 with 1 Axes>"
            ]
          },
          "metadata": {
            "tags": [],
            "needs_background": "light"
          }
        }
      ]
    },
    {
      "cell_type": "code",
      "metadata": {
        "id": "Z4ZGfOkOmHt8",
        "colab_type": "code",
        "colab": {}
      },
      "source": [
        "def generate_smooth_gp(xtrain, downsample=2, verbose=True, save=False, random_state=42):\n",
        "  Nsamples = xtrain.shape[0]\n",
        "  n = xtrain.shape[1]\n",
        "  kernel = 1.0*RBF(2.0) + WhiteKernel()\n",
        "  gp = GaussianProcessRegressor(kernel=kernel, random_state=random_state)\n",
        "  X_in = np.atleast_2d(np.linspace(0,n,n)).T\n",
        "  X_out = np.atleast_2d(np.linspace(0, n, downsample*n)).T\n",
        "  xtrain_smooth = np.empty((Nsamples, downsample*n))\n",
        "  print(f'Going to do {Nsamples} fits')\n",
        "  for i in range(Nsamples):\n",
        "    y = xtrain[i,:]\n",
        "    gp.fit(X_in,y)\n",
        "    if verbose and ((i+1)%25 == 0):\n",
        "      print('.', end =\"\")\n",
        "    if verbose and ((i+1)%1000 == 0):\n",
        "      print(f'. {i+1} steps')\n",
        "    xtrain_smooth[i,:] = gp.predict(X_out)\n",
        "  if save:\n",
        "    np.savez('/content/drive/My Drive/data/xtrain_smooth%i.npz'%downsample,xtrain_smooth)\n",
        "  return xtrain_smooth"
      ],
      "execution_count": 20,
      "outputs": []
    },
    {
      "cell_type": "code",
      "metadata": {
        "id": "2nrYAbtzG7CH",
        "colab_type": "code",
        "colab": {
          "base_uri": "https://localhost:8080/",
          "height": 204
        },
        "outputId": "0927ff22-ea8c-476b-b872-7e83819eee57"
      },
      "source": [
        "xtrain_smooth4 = generate_smooth_gp(xtrain, downsample=4, verbose=True, save=True)"
      ],
      "execution_count": 37,
      "outputs": [
        {
          "output_type": "stream",
          "text": [
            "Going to do 9999 fits\n",
            ".......................................Step 1000\n",
            "........................................Step 2000\n",
            "........................................Step 3000\n",
            "........................................Step 4000\n",
            "........................................Step 5000\n",
            "........................................Step 6000\n",
            "........................................Step 7000\n",
            "........................................Step 8000\n",
            "........................................Step 9000\n",
            "........................................"
          ],
          "name": "stdout"
        }
      ]
    },
    {
      "cell_type": "code",
      "metadata": {
        "id": "CsBkuao5HyI6",
        "colab_type": "code",
        "colab": {}
      },
      "source": [
        ""
      ],
      "execution_count": null,
      "outputs": []
    },
    {
      "cell_type": "code",
      "metadata": {
        "id": "8q0qtfWyGak_",
        "colab_type": "code",
        "colab": {}
      },
      "source": [
        "Nsamples = xtrain.shape[0]\n",
        "kernel = 1.0*RBF(2.0) + WhiteKernel()\n",
        "gp = GaussianProcessRegressor(kernel=kernel, random_state=42)\n",
        "X = np.atleast_2d(np.linspace(0,n,n)).T\n",
        "X2 = np.atleast_2d(np.linspace(0, n, downsample*n)).T\n",
        "xtrain_smooth = np.empty((Nsamples, downsample*n))"
      ],
      "execution_count": null,
      "outputs": []
    },
    {
      "cell_type": "code",
      "metadata": {
        "id": "MVUF9DDyOWjX",
        "colab_type": "code",
        "colab": {
          "base_uri": "https://localhost:8080/",
          "height": 326
        },
        "outputId": "bfebd821-684b-46ea-c725-e1ef29f2ae79"
      },
      "source": [
        "for i in range(Nsamples):\n",
        "  y = xtrain[i,:]\n",
        "  gp.fit(X,y)\n",
        "  if i%1000 == 0:\n",
        "    print(f'Step {i}')\n",
        "  if i%50 == 0:\n",
        "    print('.', end =\"\")\n",
        "  xtrain_smooth[i,:] = gp.predict(X2)"
      ],
      "execution_count": null,
      "outputs": [
        {
          "output_type": "stream",
          "text": [
            "Step 0\n",
            "....................Step 1000\n",
            "....................Step 2000\n",
            "....................Step 3000\n",
            "....................Step 4000\n",
            "............."
          ],
          "name": "stdout"
        },
        {
          "output_type": "stream",
          "text": [
            "/usr/local/lib/python3.6/dist-packages/sklearn/gaussian_process/_gpr.py:494: ConvergenceWarning: lbfgs failed to converge (status=2):\n",
            "ABNORMAL_TERMINATION_IN_LNSRCH.\n",
            "\n",
            "Increase the number of iterations (max_iter) or scale the data as shown in:\n",
            "    https://scikit-learn.org/stable/modules/preprocessing.html\n",
            "  _check_optimize_result(\"lbfgs\", opt_res)\n"
          ],
          "name": "stderr"
        },
        {
          "output_type": "stream",
          "text": [
            ".......Step 5000\n",
            "....................Step 6000\n",
            "....................Step 7000\n",
            "....................Step 8000\n",
            "....................Step 9000\n",
            "...................."
          ],
          "name": "stdout"
        }
      ]
    },
    {
      "cell_type": "code",
      "metadata": {
        "id": "KuA1crgu2N70",
        "colab_type": "code",
        "colab": {}
      },
      "source": [
        "np.savez('/content/drive/My Drive/data/xtrain_smooth2.npz',xtrain_smooth)"
      ],
      "execution_count": null,
      "outputs": []
    },
    {
      "cell_type": "code",
      "metadata": {
        "id": "jNILQ-Az5LlS",
        "colab_type": "code",
        "colab": {}
      },
      "source": [
        "xtrain_smooth = xtrain_smooth4"
      ],
      "execution_count": 25,
      "outputs": []
    },
    {
      "cell_type": "code",
      "metadata": {
        "id": "CyW3IB6F1xvf",
        "colab_type": "code",
        "colab": {
          "base_uri": "https://localhost:8080/",
          "height": 282
        },
        "outputId": "84620dfb-0bfb-49dc-8f91-8582a04a41af"
      },
      "source": [
        "# 4650-4700\n",
        "i = 4700\n",
        "plt.plot(np.linspace(0, n, n), xtrain[i])\n",
        "plt.plot(np.linspace(0, n, downsample*n), xtrain_smooth[i])"
      ],
      "execution_count": 24,
      "outputs": [
        {
          "output_type": "execute_result",
          "data": {
            "text/plain": [
              "[<matplotlib.lines.Line2D at 0x7f76276ffef0>]"
            ]
          },
          "metadata": {
            "tags": []
          },
          "execution_count": 24
        },
        {
          "output_type": "display_data",
          "data": {
            "image/png": "[encoded data removed]",
            "text/plain": [
              "<Figure size 432x288 with 1 Axes>"
            ]
          },
          "metadata": {
            "tags": [],
            "needs_background": "light"
          }
        }
      ]
    },
    {
      "cell_type": "code",
      "metadata": {
        "id": "0zjLElyZlWlM",
        "colab_type": "code",
        "colab": {
          "base_uri": "https://localhost:8080/",
          "height": 34
        },
        "outputId": "401fef57-0f3f-42ea-9351-8b9d96304a88"
      },
      "source": [
        "xtrain_smooth.shape"
      ],
      "execution_count": 26,
      "outputs": [
        {
          "output_type": "execute_result",
          "data": {
            "text/plain": [
              "(9999, 1200)"
            ]
          },
          "metadata": {
            "tags": []
          },
          "execution_count": 26
        }
      ]
    },
    {
      "cell_type": "code",
      "metadata": {
        "id": "NrOqbfN3S4UJ",
        "colab_type": "code",
        "colab": {}
      },
      "source": [
        "np.savez('/content/drive/My Drive/data/xtrain.npz',xtrain)"
      ],
      "execution_count": null,
      "outputs": []
    },
    {
      "cell_type": "code",
      "metadata": {
        "id": "0WPC_oAcSVMQ",
        "colab_type": "code",
        "colab": {}
      },
      "source": [
        "np.savez('/content/drive/My Drive/data/xtrain_smooth.npz',xtrain_smooth)"
      ],
      "execution_count": null,
      "outputs": []
    },
    {
      "cell_type": "code",
      "metadata": {
        "id": "5h8uY5vWgqZK",
        "colab_type": "code",
        "colab": {}
      },
      "source": [
        "# xtrain_smooth = np.apply_along_axis(func1d=gprocess, axis=1, arr=xtrain, downsample=4)"
      ],
      "execution_count": null,
      "outputs": []
    },
    {
      "cell_type": "code",
      "metadata": {
        "id": "1HjtH9J7iijy",
        "colab_type": "code",
        "colab": {
          "base_uri": "https://localhost:8080/",
          "height": 34
        },
        "outputId": "ae7db6ae-c574-4aae-aed6-5610cad31278"
      },
      "source": [
        "X_train, X_test, y_train, y_test = train_test_split(xtrain, ydata, test_size=0.30, random_state=0)\n",
        "orig_dim=X_train[0].shape\n",
        "X_train.shape, y_train.shape, orig_dim"
      ],
      "execution_count": 27,
      "outputs": [
        {
          "output_type": "execute_result",
          "data": {
            "text/plain": [
              "((6999, 300), (6999,), (300,))"
            ]
          },
          "metadata": {
            "tags": []
          },
          "execution_count": 27
        }
      ]
    },
    {
      "cell_type": "code",
      "metadata": {
        "id": "cxYUhw4dTl-x",
        "colab_type": "code",
        "colab": {}
      },
      "source": [
        "model = Sequential() # 48, 24\n",
        "model.add(Dense(units=32, input_shape=(orig_dim),activation='sigmoid'))\n",
        "model.add(Dropout(0.1))\n",
        "model.add(Dense(units=24,activation='sigmoid'))\n",
        "model.add(Dense(units=1))\n",
        "m=[metrics.mean_squared_error, metrics.mean_absolute_error]\n",
        "model.compile(loss='mean_squared_error', optimizer='adamax', metrics=m)"
      ],
      "execution_count": 28,
      "outputs": []
    },
    {
      "cell_type": "code",
      "metadata": {
        "id": "lImH6EcdUID3",
        "colab_type": "code",
        "colab": {
          "base_uri": "https://localhost:8080/",
          "height": 289
        },
        "outputId": "d2be3352-e19f-4a34-c1c5-f096c6b55986"
      },
      "source": [
        "model.summary()"
      ],
      "execution_count": 29,
      "outputs": [
        {
          "output_type": "stream",
          "text": [
            "Model: \"sequential\"\n",
            "_________________________________________________________________\n",
            "Layer (type)                 Output Shape              Param #   \n",
            "=================================================================\n",
            "dense (Dense)                (None, 32)                9632      \n",
            "_________________________________________________________________\n",
            "dropout (Dropout)            (None, 32)                0         \n",
            "_________________________________________________________________\n",
            "dense_1 (Dense)              (None, 24)                792       \n",
            "_________________________________________________________________\n",
            "dense_2 (Dense)              (None, 1)                 25        \n",
            "=================================================================\n",
            "Total params: 10,449\n",
            "Trainable params: 10,449\n",
            "Non-trainable params: 0\n",
            "_________________________________________________________________\n"
          ],
          "name": "stdout"
        }
      ]
    },
    {
      "cell_type": "code",
      "metadata": {
        "id": "F_L_2MkmUI61",
        "colab_type": "code",
        "colab": {}
      },
      "source": [
        "nepochs = 100\n",
        "batch_size = 100\n",
        "h = model.fit(X_train,y_train,epochs=nepochs,batch_size=batch_size, validation_data=(X_test,y_test), verbose=0)"
      ],
      "execution_count": 30,
      "outputs": []
    },
    {
      "cell_type": "code",
      "metadata": {
        "id": "btq9ZQuoPRbU",
        "colab_type": "code",
        "colab": {}
      },
      "source": [
        "# h = estimator.fit(X_train, y_train, validation_data=(X_test,y_test))"
      ],
      "execution_count": null,
      "outputs": []
    },
    {
      "cell_type": "code",
      "metadata": {
        "id": "ScaUAmD_VgOf",
        "colab_type": "code",
        "colab": {}
      },
      "source": [
        "# model.save('/content/drive/My Drive/data/my_ccfmodel')"
      ],
      "execution_count": null,
      "outputs": []
    },
    {
      "cell_type": "code",
      "metadata": {
        "id": "8BZm5x-Oi9B2",
        "colab_type": "code",
        "colab": {}
      },
      "source": [
        "def accuracy_plot(y_test, y_pred):\n",
        "  plt.scatter(y_test,y_pred,color=\"r\")\n",
        "  plt.xlabel(\"True delay\")\n",
        "  plt.xlabel(\"ML delay\")\n",
        "  plt.plot([-0.06*1e3,0.06*1e3],[-0.06*1e3,0.06*1e3],':')\n",
        "  plt.xlim([-0.06*1e3,0.06*1e3])\n",
        "  plt.ylim([-0.06*1e3,0.06*1e3])"
      ],
      "execution_count": 31,
      "outputs": []
    },
    {
      "cell_type": "code",
      "metadata": {
        "id": "gU3fge0LVm5y",
        "colab_type": "code",
        "colab": {
          "base_uri": "https://localhost:8080/",
          "height": 283
        },
        "outputId": "924872d4-aa37-4a71-8a0c-f7bdfc8f5112"
      },
      "source": [
        "y_pred = model.predict(X_test)\n",
        "accuracy_plot(y_test, y_pred)"
      ],
      "execution_count": 32,
      "outputs": [
        {
          "output_type": "display_data",
          "data": {
            "image/png": "[encoded data removed]",
            "text/plain": [
              "<Figure size 432x288 with 1 Axes>"
            ]
          },
          "metadata": {
            "tags": [],
            "needs_background": "light"
          }
        }
      ]
    },
    {
      "cell_type": "code",
      "metadata": {
        "id": "LBFi8VERYvdu",
        "colab_type": "code",
        "colab": {
          "base_uri": "https://localhost:8080/",
          "height": 312
        },
        "outputId": "30dcc033-e33c-47f3-968e-95de0e7e79ec"
      },
      "source": [
        "# summarize history for loss\n",
        "plt.plot(h.history['mean_squared_error'], label='train')\n",
        "plt.plot(h.history['val_mean_squared_error'], label='test')\n",
        "plt.title('model mse')\n",
        "plt.ylabel('mse')\n",
        "plt.xlabel('epoch')\n",
        "plt.legend()"
      ],
      "execution_count": 33,
      "outputs": [
        {
          "output_type": "execute_result",
          "data": {
            "text/plain": [
              "<matplotlib.legend.Legend at 0x7f761d8e54a8>"
            ]
          },
          "metadata": {
            "tags": []
          },
          "execution_count": 33
        },
        {
          "output_type": "display_data",
          "data": {
            "image/png": "[encoded data removed]",
            "text/plain": [
              "<Figure size 432x288 with 1 Axes>"
            ]
          },
          "metadata": {
            "tags": [],
            "needs_background": "light"
          }
        }
      ]
    },
    {
      "cell_type": "code",
      "metadata": {
        "id": "qkIovMohV_eq",
        "colab_type": "code",
        "colab": {}
      },
      "source": [
        "def howGoodAmI(y_test, y_pred):\n",
        "  diff = y_test - y_pred.ravel()\n",
        "  hist = plt.hist(diff)\n",
        "  bincentres = (hist[1][:-1]+hist[1][1:])/2.\n",
        "  weights = hist[0]\n",
        "  mu = np.average(bincentres,weights=weights)\n",
        "  sigma = np.average((bincentres-mu)**2, weights=weights)\n",
        "  return mu, sigma"
      ],
      "execution_count": 34,
      "outputs": []
    },
    {
      "cell_type": "code",
      "metadata": {
        "id": "BNS9vnG9WMeJ",
        "colab_type": "code",
        "colab": {
          "base_uri": "https://localhost:8080/",
          "height": 282
        },
        "outputId": "4fa9ed5b-8da3-41aa-a98c-8e60f34d8688"
      },
      "source": [
        "howGoodAmI(y_test, y_pred)"
      ],
      "execution_count": 35,
      "outputs": [
        {
          "output_type": "execute_result",
          "data": {
            "text/plain": [
              "(-0.11455073120262055, 5.031031688818352)"
            ]
          },
          "metadata": {
            "tags": []
          },
          "execution_count": 35
        },
        {
          "output_type": "display_data",
          "data": {
            "image/png": "[encoded data removed]",
            "text/plain": [
              "<Figure size 432x288 with 1 Axes>"
            ]
          },
          "metadata": {
            "tags": [],
            "needs_background": "light"
          }
        }
      ]
    },
    {
      "cell_type": "code",
      "metadata": {
        "id": "cFD_jMe-WQVf",
        "colab_type": "code",
        "colab": {}
      },
      "source": [
        ""
      ],
      "execution_count": null,
      "outputs": []
    },
    {
      "cell_type": "code",
      "metadata": {
        "id": "p033c_qNXBxn",
        "colab_type": "code",
        "colab": {}
      },
      "source": [
        "#scaler = StandardScaler()\n",
        "#X_train_ = scaler.fit_transform(X_train)\n",
        "#pca = PCA(n_components=100)\n",
        "X_train_pca = pca.fit_transform(X_train)"
      ],
      "execution_count": null,
      "outputs": []
    },
    {
      "cell_type": "code",
      "metadata": {
        "id": "4RWtQkkdW68_",
        "colab_type": "code",
        "colab": {
          "base_uri": "https://localhost:8080/",
          "height": 190
        },
        "outputId": "22ca3fae-5eba-44d1-af84-0399eaa5ec26"
      },
      "source": [
        "gbr = GradientBoostingRegressor(random_state=0)\n",
        "gbr.fit(X_train, y_train)"
      ],
      "execution_count": null,
      "outputs": [
        {
          "output_type": "execute_result",
          "data": {
            "text/plain": [
              "GradientBoostingRegressor(alpha=0.9, ccp_alpha=0.0, criterion='friedman_mse',\n",
              "                          init=None, learning_rate=0.1, loss='ls', max_depth=3,\n",
              "                          max_features=None, max_leaf_nodes=None,\n",
              "                          min_impurity_decrease=0.0, min_impurity_split=None,\n",
              "                          min_samples_leaf=1, min_samples_split=2,\n",
              "                          min_weight_fraction_leaf=0.0, n_estimators=100,\n",
              "                          n_iter_no_change=None, presort='deprecated',\n",
              "                          random_state=0, subsample=1.0, tol=0.0001,\n",
              "                          validation_fraction=0.1, verbose=0, warm_start=False)"
            ]
          },
          "metadata": {
            "tags": []
          },
          "execution_count": 102
        }
      ]
    },
    {
      "cell_type": "code",
      "metadata": {
        "id": "HG2jDIkuXrmc",
        "colab_type": "code",
        "colab": {
          "base_uri": "https://localhost:8080/",
          "height": 286
        },
        "outputId": "a916707e-2ae7-4949-f577-44e5cff65dd0"
      },
      "source": [
        "y_pred = gbr.predict(X_test)\n",
        "accuracy_plot(y_test, y_pred)"
      ],
      "execution_count": null,
      "outputs": [
        {
          "output_type": "execute_result",
          "data": {
            "text/plain": [
              "(-60.0, 60.0)"
            ]
          },
          "metadata": {
            "tags": []
          },
          "execution_count": 103
        },
        {
          "output_type": "display_data",
          "data": {
            "image/png": "[encoded data removed]",
            "text/plain": [
              "<Figure size 432x288 with 1 Axes>"
            ]
          },
          "metadata": {
            "tags": [],
            "needs_background": "light"
          }
        }
      ]
    },
    {
      "cell_type": "code",
      "metadata": {
        "id": "NM-nPqETX321",
        "colab_type": "code",
        "colab": {
          "base_uri": "https://localhost:8080/",
          "height": 282
        },
        "outputId": "3554d8f9-be07-4449-a32b-9c4abca08e7a"
      },
      "source": [
        "howGoodAmI(y_test, y_pred)"
      ],
      "execution_count": null,
      "outputs": [
        {
          "output_type": "execute_result",
          "data": {
            "text/plain": [
              "(0.03734270257826624, 4.678597949711111)"
            ]
          },
          "metadata": {
            "tags": []
          },
          "execution_count": 104
        },
        {
          "output_type": "display_data",
          "data": {
            "image/png": "[encoded data removed]",
            "text/plain": [
              "<Figure size 432x288 with 1 Axes>"
            ]
          },
          "metadata": {
            "tags": [],
            "needs_background": "light"
          }
        }
      ]
    },
    {
      "cell_type": "code",
      "metadata": {
        "id": "8ofvFK5SX7Ir",
        "colab_type": "code",
        "colab": {
          "base_uri": "https://localhost:8080/",
          "height": 34
        },
        "outputId": "1de2fb32-bcf3-42a0-b3b9-b73d9256e745"
      },
      "source": [
        "len(np.unique(ydata)), len(np.unique(np.around(ydata, decimals=2)))"
      ],
      "execution_count": null,
      "outputs": [
        {
          "output_type": "execute_result",
          "data": {
            "text/plain": [
              "(9999, 6312)"
            ]
          },
          "metadata": {
            "tags": []
          },
          "execution_count": 106
        }
      ]
    },
    {
      "cell_type": "code",
      "metadata": {
        "id": "GDVQel_sZqdp",
        "colab_type": "code",
        "colab": {
          "base_uri": "https://localhost:8080/",
          "height": 34
        },
        "outputId": "d02bb74a-ce37-4f67-f540-eab1e2012de9"
      },
      "source": [
        "ydata[0], np.around(ydata[0], decimals=4)"
      ],
      "execution_count": null,
      "outputs": [
        {
          "output_type": "execute_result",
          "data": {
            "text/plain": [
              "(0.0499741748906672, 0.05)"
            ]
          },
          "metadata": {
            "tags": []
          },
          "execution_count": 65
        }
      ]
    },
    {
      "cell_type": "code",
      "metadata": {
        "id": "ksCJ-2PRZxXO",
        "colab_type": "code",
        "colab": {
          "base_uri": "https://localhost:8080/",
          "height": 34
        },
        "outputId": "64e1833a-509c-43db-a7bb-453cb446bc57"
      },
      "source": [
        "X_train, X_test, y_train, y_test = train_test_split(xtrain_smooth, ydata, test_size=0.30, random_state=0)\n",
        "orig_dim=X_train[0].shape\n",
        "X_train.shape, y_train.shape, orig_dim"
      ],
      "execution_count": null,
      "outputs": [
        {
          "output_type": "execute_result",
          "data": {
            "text/plain": [
              "((6999, 1000), (6999,), (1000,))"
            ]
          },
          "metadata": {
            "tags": []
          },
          "execution_count": 167
        }
      ]
    },
    {
      "cell_type": "code",
      "metadata": {
        "id": "9yw1WYVgBoPz",
        "colab_type": "code",
        "colab": {
          "base_uri": "https://localhost:8080/",
          "height": 357
        },
        "outputId": "450094e4-323f-4fbb-ef02-ace70b07a198"
      },
      "source": [
        "model = Sequential() # 48, 24\n",
        "model.add(Dense(units=48, input_shape=(orig_dim),activation='sigmoid'))\n",
        "model.add(Dropout(0.1))\n",
        "model.add(Dense(units=24,activation='sigmoid'))\n",
        "model.add(Dropout(0.1))\n",
        "model.add(Dense(units=8,activation='sigmoid'))\n",
        "model.add(Dense(units=1))\n",
        "m=[metrics.mean_squared_error, metrics.mean_absolute_error]\n",
        "model.compile(loss='mean_squared_error', optimizer='adamax', metrics=m)\n",
        "model.summary()"
      ],
      "execution_count": null,
      "outputs": [
        {
          "output_type": "stream",
          "text": [
            "Model: \"sequential_12\"\n",
            "_________________________________________________________________\n",
            "Layer (type)                 Output Shape              Param #   \n",
            "=================================================================\n",
            "dense_36 (Dense)             (None, 48)                48048     \n",
            "_________________________________________________________________\n",
            "dropout_15 (Dropout)         (None, 48)                0         \n",
            "_________________________________________________________________\n",
            "dense_37 (Dense)             (None, 24)                1176      \n",
            "_________________________________________________________________\n",
            "dropout_16 (Dropout)         (None, 24)                0         \n",
            "_________________________________________________________________\n",
            "dense_38 (Dense)             (None, 8)                 200       \n",
            "_________________________________________________________________\n",
            "dense_39 (Dense)             (None, 1)                 9         \n",
            "=================================================================\n",
            "Total params: 49,433\n",
            "Trainable params: 49,433\n",
            "Non-trainable params: 0\n",
            "_________________________________________________________________\n"
          ],
          "name": "stdout"
        }
      ]
    },
    {
      "cell_type": "code",
      "metadata": {
        "id": "NPeSmzClBvWn",
        "colab_type": "code",
        "colab": {
          "base_uri": "https://localhost:8080/",
          "height": 1000
        },
        "outputId": "fed1ea23-fbc1-4539-d9df-855a34bea4dd"
      },
      "source": [
        "nepochs = 200\n",
        "batch_size = 100\n",
        "h = model.fit(X_train,y_train,epochs=nepochs,batch_size=batch_size, validation_data=(X_test,y_test), verbose=1)"
      ],
      "execution_count": null,
      "outputs": [
        {
          "output_type": "stream",
          "text": [
            "Epoch 1/200\n",
            "70/70 [==============================] - 0s 4ms/step - loss: 147.1387 - mean_squared_error: 147.1387 - mean_absolute_error: 8.7480 - val_loss: 140.4020 - val_mean_squared_error: 140.4020 - val_mean_absolute_error: 8.2973\n",
            "Epoch 2/200\n",
            "70/70 [==============================] - 0s 3ms/step - loss: 144.3067 - mean_squared_error: 144.3067 - mean_absolute_error: 8.6498 - val_loss: 137.7585 - val_mean_squared_error: 137.7585 - val_mean_absolute_error: 8.2250\n",
            "Epoch 3/200\n",
            "70/70 [==============================] - 0s 4ms/step - loss: 141.2390 - mean_squared_error: 141.2390 - mean_absolute_error: 8.5228 - val_loss: 134.5869 - val_mean_squared_error: 134.5869 - val_mean_absolute_error: 8.0472\n",
            "Epoch 4/200\n",
            "70/70 [==============================] - 0s 4ms/step - loss: 138.5139 - mean_squared_error: 138.5139 - mean_absolute_error: 8.4259 - val_loss: 131.9085 - val_mean_squared_error: 131.9085 - val_mean_absolute_error: 7.9527\n",
            "Epoch 5/200\n",
            "70/70 [==============================] - 0s 4ms/step - loss: 135.8646 - mean_squared_error: 135.8646 - mean_absolute_error: 8.3430 - val_loss: 129.1985 - val_mean_squared_error: 129.1985 - val_mean_absolute_error: 7.8540\n",
            "Epoch 6/200\n",
            "70/70 [==============================] - 0s 4ms/step - loss: 133.2447 - mean_squared_error: 133.2447 - mean_absolute_error: 8.2766 - val_loss: 126.4955 - val_mean_squared_error: 126.4955 - val_mean_absolute_error: 7.7610\n",
            "Epoch 7/200\n",
            "70/70 [==============================] - 0s 4ms/step - loss: 130.3751 - mean_squared_error: 130.3751 - mean_absolute_error: 8.1599 - val_loss: 123.9209 - val_mean_squared_error: 123.9209 - val_mean_absolute_error: 7.6729\n",
            "Epoch 8/200\n",
            "70/70 [==============================] - 0s 4ms/step - loss: 127.6862 - mean_squared_error: 127.6862 - mean_absolute_error: 8.0726 - val_loss: 121.5490 - val_mean_squared_error: 121.5490 - val_mean_absolute_error: 7.6142\n",
            "Epoch 9/200\n",
            "70/70 [==============================] - 0s 4ms/step - loss: 125.1006 - mean_squared_error: 125.1006 - mean_absolute_error: 7.9728 - val_loss: 118.7720 - val_mean_squared_error: 118.7720 - val_mean_absolute_error: 7.4918\n",
            "Epoch 10/200\n",
            "70/70 [==============================] - 0s 3ms/step - loss: 122.4773 - mean_squared_error: 122.4773 - mean_absolute_error: 7.8731 - val_loss: 116.3162 - val_mean_squared_error: 116.3162 - val_mean_absolute_error: 7.3807\n",
            "Epoch 11/200\n",
            "70/70 [==============================] - 0s 4ms/step - loss: 120.2278 - mean_squared_error: 120.2278 - mean_absolute_error: 7.8039 - val_loss: 114.0979 - val_mean_squared_error: 114.0979 - val_mean_absolute_error: 7.3194\n",
            "Epoch 12/200\n",
            "70/70 [==============================] - 0s 4ms/step - loss: 117.6222 - mean_squared_error: 117.6222 - mean_absolute_error: 7.6904 - val_loss: 111.6399 - val_mean_squared_error: 111.6399 - val_mean_absolute_error: 7.2114\n",
            "Epoch 13/200\n",
            "70/70 [==============================] - 0s 4ms/step - loss: 115.1519 - mean_squared_error: 115.1519 - mean_absolute_error: 7.5945 - val_loss: 109.2691 - val_mean_squared_error: 109.2691 - val_mean_absolute_error: 7.1219\n",
            "Epoch 14/200\n",
            "70/70 [==============================] - 0s 4ms/step - loss: 112.8366 - mean_squared_error: 112.8366 - mean_absolute_error: 7.5093 - val_loss: 107.3394 - val_mean_squared_error: 107.3394 - val_mean_absolute_error: 7.1055\n",
            "Epoch 15/200\n",
            "70/70 [==============================] - 0s 4ms/step - loss: 110.6832 - mean_squared_error: 110.6832 - mean_absolute_error: 7.4450 - val_loss: 105.0037 - val_mean_squared_error: 105.0037 - val_mean_absolute_error: 7.0048\n",
            "Epoch 16/200\n",
            "70/70 [==============================] - 0s 4ms/step - loss: 108.4046 - mean_squared_error: 108.4046 - mean_absolute_error: 7.3633 - val_loss: 102.7592 - val_mean_squared_error: 102.7592 - val_mean_absolute_error: 6.9068\n",
            "Epoch 17/200\n",
            "70/70 [==============================] - 0s 4ms/step - loss: 106.0950 - mean_squared_error: 106.0950 - mean_absolute_error: 7.2680 - val_loss: 100.3292 - val_mean_squared_error: 100.3292 - val_mean_absolute_error: 6.7791\n",
            "Epoch 18/200\n",
            "70/70 [==============================] - 0s 3ms/step - loss: 103.7491 - mean_squared_error: 103.7491 - mean_absolute_error: 7.1715 - val_loss: 98.2081 - val_mean_squared_error: 98.2081 - val_mean_absolute_error: 6.7040\n",
            "Epoch 19/200\n",
            "70/70 [==============================] - 0s 4ms/step - loss: 101.5079 - mean_squared_error: 101.5079 - mean_absolute_error: 7.0851 - val_loss: 96.0764 - val_mean_squared_error: 96.0764 - val_mean_absolute_error: 6.6239\n",
            "Epoch 20/200\n",
            "70/70 [==============================] - 0s 4ms/step - loss: 99.5784 - mean_squared_error: 99.5784 - mean_absolute_error: 7.0189 - val_loss: 93.9296 - val_mean_squared_error: 93.9296 - val_mean_absolute_error: 6.5295\n",
            "Epoch 21/200\n",
            "70/70 [==============================] - 0s 4ms/step - loss: 97.3648 - mean_squared_error: 97.3648 - mean_absolute_error: 6.9191 - val_loss: 91.9996 - val_mean_squared_error: 91.9996 - val_mean_absolute_error: 6.4779\n",
            "Epoch 22/200\n",
            "70/70 [==============================] - 0s 4ms/step - loss: 95.2522 - mean_squared_error: 95.2522 - mean_absolute_error: 6.8496 - val_loss: 89.9565 - val_mean_squared_error: 89.9565 - val_mean_absolute_error: 6.4074\n",
            "Epoch 23/200\n",
            "70/70 [==============================] - 0s 4ms/step - loss: 92.9317 - mean_squared_error: 92.9317 - mean_absolute_error: 6.7458 - val_loss: 87.7231 - val_mean_squared_error: 87.7231 - val_mean_absolute_error: 6.2947\n",
            "Epoch 24/200\n",
            "70/70 [==============================] - 0s 4ms/step - loss: 91.1966 - mean_squared_error: 91.1966 - mean_absolute_error: 6.6858 - val_loss: 85.8395 - val_mean_squared_error: 85.8395 - val_mean_absolute_error: 6.2224\n",
            "Epoch 25/200\n",
            "70/70 [==============================] - 0s 4ms/step - loss: 88.9979 - mean_squared_error: 88.9978 - mean_absolute_error: 6.5788 - val_loss: 83.9816 - val_mean_squared_error: 83.9816 - val_mean_absolute_error: 6.1399\n",
            "Epoch 26/200\n",
            "70/70 [==============================] - 0s 5ms/step - loss: 87.1277 - mean_squared_error: 87.1277 - mean_absolute_error: 6.5135 - val_loss: 82.3323 - val_mean_squared_error: 82.3323 - val_mean_absolute_error: 6.1086\n",
            "Epoch 27/200\n",
            "70/70 [==============================] - 0s 4ms/step - loss: 85.3747 - mean_squared_error: 85.3747 - mean_absolute_error: 6.4461 - val_loss: 80.4074 - val_mean_squared_error: 80.4074 - val_mean_absolute_error: 6.0131\n",
            "Epoch 28/200\n",
            "70/70 [==============================] - 0s 4ms/step - loss: 83.6722 - mean_squared_error: 83.6722 - mean_absolute_error: 6.3955 - val_loss: 78.5740 - val_mean_squared_error: 78.5740 - val_mean_absolute_error: 5.9329\n",
            "Epoch 29/200\n",
            "70/70 [==============================] - 0s 4ms/step - loss: 81.6159 - mean_squared_error: 81.6159 - mean_absolute_error: 6.2889 - val_loss: 76.9013 - val_mean_squared_error: 76.9013 - val_mean_absolute_error: 5.8793\n",
            "Epoch 30/200\n",
            "70/70 [==============================] - 0s 4ms/step - loss: 79.7463 - mean_squared_error: 79.7463 - mean_absolute_error: 6.2135 - val_loss: 75.0175 - val_mean_squared_error: 75.0175 - val_mean_absolute_error: 5.7837\n",
            "Epoch 31/200\n",
            "70/70 [==============================] - 0s 4ms/step - loss: 78.0843 - mean_squared_error: 78.0843 - mean_absolute_error: 6.1598 - val_loss: 73.3895 - val_mean_squared_error: 73.3895 - val_mean_absolute_error: 5.7323\n",
            "Epoch 32/200\n",
            "70/70 [==============================] - 0s 3ms/step - loss: 76.3143 - mean_squared_error: 76.3143 - mean_absolute_error: 6.0734 - val_loss: 71.7145 - val_mean_squared_error: 71.7145 - val_mean_absolute_error: 5.6599\n",
            "Epoch 33/200\n",
            "70/70 [==============================] - 0s 4ms/step - loss: 74.5372 - mean_squared_error: 74.5372 - mean_absolute_error: 5.9920 - val_loss: 70.1865 - val_mean_squared_error: 70.1865 - val_mean_absolute_error: 5.6103\n",
            "Epoch 34/200\n",
            "70/70 [==============================] - 0s 4ms/step - loss: 72.8393 - mean_squared_error: 72.8393 - mean_absolute_error: 5.9239 - val_loss: 68.3386 - val_mean_squared_error: 68.3386 - val_mean_absolute_error: 5.4865\n",
            "Epoch 35/200\n",
            "70/70 [==============================] - 0s 4ms/step - loss: 71.4529 - mean_squared_error: 71.4529 - mean_absolute_error: 5.8722 - val_loss: 66.8541 - val_mean_squared_error: 66.8541 - val_mean_absolute_error: 5.4345\n",
            "Epoch 36/200\n",
            "70/70 [==============================] - 0s 4ms/step - loss: 69.8130 - mean_squared_error: 69.8130 - mean_absolute_error: 5.7968 - val_loss: 65.3753 - val_mean_squared_error: 65.3753 - val_mean_absolute_error: 5.3727\n",
            "Epoch 37/200\n",
            "70/70 [==============================] - 0s 4ms/step - loss: 68.1601 - mean_squared_error: 68.1601 - mean_absolute_error: 5.7061 - val_loss: 63.9267 - val_mean_squared_error: 63.9267 - val_mean_absolute_error: 5.3202\n",
            "Epoch 38/200\n",
            "70/70 [==============================] - 0s 4ms/step - loss: 66.8784 - mean_squared_error: 66.8784 - mean_absolute_error: 5.6828 - val_loss: 62.6120 - val_mean_squared_error: 62.6120 - val_mean_absolute_error: 5.2855\n",
            "Epoch 39/200\n",
            "70/70 [==============================] - 0s 3ms/step - loss: 65.1941 - mean_squared_error: 65.1941 - mean_absolute_error: 5.5891 - val_loss: 60.8553 - val_mean_squared_error: 60.8553 - val_mean_absolute_error: 5.1578\n",
            "Epoch 40/200\n",
            "70/70 [==============================] - 0s 4ms/step - loss: 63.6654 - mean_squared_error: 63.6654 - mean_absolute_error: 5.5179 - val_loss: 59.4411 - val_mean_squared_error: 59.4411 - val_mean_absolute_error: 5.1017\n",
            "Epoch 41/200\n",
            "70/70 [==============================] - 0s 4ms/step - loss: 62.1634 - mean_squared_error: 62.1634 - mean_absolute_error: 5.4478 - val_loss: 58.2693 - val_mean_squared_error: 58.2693 - val_mean_absolute_error: 5.0776\n",
            "Epoch 42/200\n",
            "70/70 [==============================] - 0s 4ms/step - loss: 60.8964 - mean_squared_error: 60.8964 - mean_absolute_error: 5.4007 - val_loss: 56.7230 - val_mean_squared_error: 56.7230 - val_mean_absolute_error: 4.9841\n",
            "Epoch 43/200\n",
            "70/70 [==============================] - 0s 4ms/step - loss: 59.3703 - mean_squared_error: 59.3703 - mean_absolute_error: 5.3233 - val_loss: 55.3378 - val_mean_squared_error: 55.3378 - val_mean_absolute_error: 4.9189\n",
            "Epoch 44/200\n",
            "70/70 [==============================] - 0s 4ms/step - loss: 58.1733 - mean_squared_error: 58.1733 - mean_absolute_error: 5.2824 - val_loss: 53.9751 - val_mean_squared_error: 53.9751 - val_mean_absolute_error: 4.8546\n",
            "Epoch 45/200\n",
            "70/70 [==============================] - 0s 4ms/step - loss: 56.6829 - mean_squared_error: 56.6829 - mean_absolute_error: 5.2137 - val_loss: 52.6861 - val_mean_squared_error: 52.6861 - val_mean_absolute_error: 4.8043\n",
            "Epoch 46/200\n",
            "70/70 [==============================] - 0s 3ms/step - loss: 55.2470 - mean_squared_error: 55.2470 - mean_absolute_error: 5.1331 - val_loss: 51.3631 - val_mean_squared_error: 51.3631 - val_mean_absolute_error: 4.7245\n",
            "Epoch 47/200\n",
            "70/70 [==============================] - 0s 3ms/step - loss: 54.0916 - mean_squared_error: 54.0916 - mean_absolute_error: 5.0926 - val_loss: 50.1339 - val_mean_squared_error: 50.1339 - val_mean_absolute_error: 4.6671\n",
            "Epoch 48/200\n",
            "70/70 [==============================] - 0s 3ms/step - loss: 52.7492 - mean_squared_error: 52.7492 - mean_absolute_error: 5.0182 - val_loss: 48.9781 - val_mean_squared_error: 48.9781 - val_mean_absolute_error: 4.6219\n",
            "Epoch 49/200\n",
            "70/70 [==============================] - 0s 3ms/step - loss: 51.5378 - mean_squared_error: 51.5378 - mean_absolute_error: 4.9634 - val_loss: 47.7292 - val_mean_squared_error: 47.7292 - val_mean_absolute_error: 4.5582\n",
            "Epoch 50/200\n",
            "70/70 [==============================] - 0s 3ms/step - loss: 50.3811 - mean_squared_error: 50.3811 - mean_absolute_error: 4.9171 - val_loss: 46.5839 - val_mean_squared_error: 46.5839 - val_mean_absolute_error: 4.4997\n",
            "Epoch 51/200\n",
            "70/70 [==============================] - 0s 3ms/step - loss: 49.0529 - mean_squared_error: 49.0529 - mean_absolute_error: 4.8446 - val_loss: 45.4459 - val_mean_squared_error: 45.4459 - val_mean_absolute_error: 4.4500\n",
            "Epoch 52/200\n",
            "70/70 [==============================] - 0s 3ms/step - loss: 48.0841 - mean_squared_error: 48.0841 - mean_absolute_error: 4.8056 - val_loss: 44.3277 - val_mean_squared_error: 44.3277 - val_mean_absolute_error: 4.3905\n",
            "Epoch 53/200\n",
            "70/70 [==============================] - 0s 3ms/step - loss: 46.8163 - mean_squared_error: 46.8163 - mean_absolute_error: 4.7296 - val_loss: 43.2637 - val_mean_squared_error: 43.2637 - val_mean_absolute_error: 4.3334\n",
            "Epoch 54/200\n",
            "70/70 [==============================] - 0s 3ms/step - loss: 45.7465 - mean_squared_error: 45.7465 - mean_absolute_error: 4.6737 - val_loss: 42.1222 - val_mean_squared_error: 42.1222 - val_mean_absolute_error: 4.2699\n",
            "Epoch 55/200\n",
            "70/70 [==============================] - 0s 3ms/step - loss: 44.7296 - mean_squared_error: 44.7296 - mean_absolute_error: 4.6262 - val_loss: 41.1237 - val_mean_squared_error: 41.1238 - val_mean_absolute_error: 4.2318\n",
            "Epoch 56/200\n",
            "70/70 [==============================] - 0s 3ms/step - loss: 43.7316 - mean_squared_error: 43.7316 - mean_absolute_error: 4.5945 - val_loss: 40.2055 - val_mean_squared_error: 40.2055 - val_mean_absolute_error: 4.2007\n",
            "Epoch 57/200\n",
            "70/70 [==============================] - 0s 3ms/step - loss: 42.4769 - mean_squared_error: 42.4769 - mean_absolute_error: 4.5105 - val_loss: 39.1107 - val_mean_squared_error: 39.1107 - val_mean_absolute_error: 4.1340\n",
            "Epoch 58/200\n",
            "70/70 [==============================] - 0s 3ms/step - loss: 41.5377 - mean_squared_error: 41.5377 - mean_absolute_error: 4.4713 - val_loss: 38.1403 - val_mean_squared_error: 38.1403 - val_mean_absolute_error: 4.0838\n",
            "Epoch 59/200\n",
            "70/70 [==============================] - 0s 3ms/step - loss: 40.5012 - mean_squared_error: 40.5012 - mean_absolute_error: 4.4153 - val_loss: 37.2052 - val_mean_squared_error: 37.2052 - val_mean_absolute_error: 4.0439\n",
            "Epoch 60/200\n",
            "70/70 [==============================] - 0s 3ms/step - loss: 39.3993 - mean_squared_error: 39.3993 - mean_absolute_error: 4.3516 - val_loss: 36.1689 - val_mean_squared_error: 36.1689 - val_mean_absolute_error: 3.9829\n",
            "Epoch 61/200\n",
            "70/70 [==============================] - 0s 3ms/step - loss: 38.5910 - mean_squared_error: 38.5910 - mean_absolute_error: 4.3192 - val_loss: 35.2542 - val_mean_squared_error: 35.2542 - val_mean_absolute_error: 3.9223\n",
            "Epoch 62/200\n",
            "70/70 [==============================] - 0s 3ms/step - loss: 37.6196 - mean_squared_error: 37.6196 - mean_absolute_error: 4.2758 - val_loss: 34.5444 - val_mean_squared_error: 34.5444 - val_mean_absolute_error: 3.9100\n",
            "Epoch 63/200\n",
            "70/70 [==============================] - 0s 3ms/step - loss: 36.7109 - mean_squared_error: 36.7109 - mean_absolute_error: 4.2127 - val_loss: 33.5857 - val_mean_squared_error: 33.5857 - val_mean_absolute_error: 3.8478\n",
            "Epoch 64/200\n",
            "70/70 [==============================] - 0s 3ms/step - loss: 35.7801 - mean_squared_error: 35.7801 - mean_absolute_error: 4.1592 - val_loss: 32.6405 - val_mean_squared_error: 32.6405 - val_mean_absolute_error: 3.7836\n",
            "Epoch 65/200\n",
            "70/70 [==============================] - 0s 3ms/step - loss: 34.9582 - mean_squared_error: 34.9582 - mean_absolute_error: 4.1268 - val_loss: 31.8111 - val_mean_squared_error: 31.8111 - val_mean_absolute_error: 3.7375\n",
            "Epoch 66/200\n",
            "70/70 [==============================] - 0s 3ms/step - loss: 34.2237 - mean_squared_error: 34.2237 - mean_absolute_error: 4.0953 - val_loss: 31.2499 - val_mean_squared_error: 31.2499 - val_mean_absolute_error: 3.7359\n",
            "Epoch 67/200\n",
            "70/70 [==============================] - 0s 3ms/step - loss: 33.3351 - mean_squared_error: 33.3351 - mean_absolute_error: 4.0373 - val_loss: 30.2188 - val_mean_squared_error: 30.2188 - val_mean_absolute_error: 3.6442\n",
            "Epoch 68/200\n",
            "70/70 [==============================] - 0s 3ms/step - loss: 32.6224 - mean_squared_error: 32.6224 - mean_absolute_error: 3.9973 - val_loss: 29.3875 - val_mean_squared_error: 29.3875 - val_mean_absolute_error: 3.5836\n",
            "Epoch 69/200\n",
            "70/70 [==============================] - 0s 3ms/step - loss: 32.0474 - mean_squared_error: 32.0474 - mean_absolute_error: 3.9871 - val_loss: 28.7664 - val_mean_squared_error: 28.7664 - val_mean_absolute_error: 3.5591\n",
            "Epoch 70/200\n",
            "70/70 [==============================] - 0s 3ms/step - loss: 31.0981 - mean_squared_error: 31.0981 - mean_absolute_error: 3.9180 - val_loss: 28.1603 - val_mean_squared_error: 28.1603 - val_mean_absolute_error: 3.5414\n",
            "Epoch 71/200\n",
            "70/70 [==============================] - 0s 3ms/step - loss: 30.2906 - mean_squared_error: 30.2906 - mean_absolute_error: 3.8785 - val_loss: 27.2690 - val_mean_squared_error: 27.2690 - val_mean_absolute_error: 3.4689\n",
            "Epoch 72/200\n",
            "70/70 [==============================] - 0s 3ms/step - loss: 29.5847 - mean_squared_error: 29.5847 - mean_absolute_error: 3.8327 - val_loss: 26.6784 - val_mean_squared_error: 26.6784 - val_mean_absolute_error: 3.4467\n",
            "Epoch 73/200\n",
            "70/70 [==============================] - 0s 3ms/step - loss: 28.8949 - mean_squared_error: 28.8949 - mean_absolute_error: 3.7895 - val_loss: 25.8432 - val_mean_squared_error: 25.8432 - val_mean_absolute_error: 3.3826\n",
            "Epoch 74/200\n",
            "70/70 [==============================] - 0s 3ms/step - loss: 28.1327 - mean_squared_error: 28.1327 - mean_absolute_error: 3.7367 - val_loss: 25.2968 - val_mean_squared_error: 25.2968 - val_mean_absolute_error: 3.3616\n",
            "Epoch 75/200\n",
            "70/70 [==============================] - 0s 3ms/step - loss: 27.6839 - mean_squared_error: 27.6839 - mean_absolute_error: 3.7365 - val_loss: 24.6950 - val_mean_squared_error: 24.6950 - val_mean_absolute_error: 3.3283\n",
            "Epoch 76/200\n",
            "70/70 [==============================] - 0s 3ms/step - loss: 26.8915 - mean_squared_error: 26.8915 - mean_absolute_error: 3.6783 - val_loss: 23.9685 - val_mean_squared_error: 23.9685 - val_mean_absolute_error: 3.2673\n",
            "Epoch 77/200\n",
            "70/70 [==============================] - 0s 3ms/step - loss: 26.2211 - mean_squared_error: 26.2211 - mean_absolute_error: 3.6353 - val_loss: 23.2349 - val_mean_squared_error: 23.2349 - val_mean_absolute_error: 3.2098\n",
            "Epoch 78/200\n",
            "70/70 [==============================] - 0s 3ms/step - loss: 25.4594 - mean_squared_error: 25.4594 - mean_absolute_error: 3.5756 - val_loss: 22.8507 - val_mean_squared_error: 22.8507 - val_mean_absolute_error: 3.2125\n",
            "Epoch 79/200\n",
            "70/70 [==============================] - 0s 3ms/step - loss: 24.9584 - mean_squared_error: 24.9584 - mean_absolute_error: 3.5621 - val_loss: 22.1669 - val_mean_squared_error: 22.1669 - val_mean_absolute_error: 3.1618\n",
            "Epoch 80/200\n",
            "70/70 [==============================] - 0s 3ms/step - loss: 24.3707 - mean_squared_error: 24.3707 - mean_absolute_error: 3.5150 - val_loss: 21.5959 - val_mean_squared_error: 21.5959 - val_mean_absolute_error: 3.1308\n",
            "Epoch 81/200\n",
            "70/70 [==============================] - 0s 3ms/step - loss: 23.7819 - mean_squared_error: 23.7819 - mean_absolute_error: 3.4828 - val_loss: 20.9097 - val_mean_squared_error: 20.9097 - val_mean_absolute_error: 3.0752\n",
            "Epoch 82/200\n",
            "70/70 [==============================] - 0s 3ms/step - loss: 23.1646 - mean_squared_error: 23.1646 - mean_absolute_error: 3.4490 - val_loss: 20.3691 - val_mean_squared_error: 20.3691 - val_mean_absolute_error: 3.0423\n",
            "Epoch 83/200\n",
            "70/70 [==============================] - 0s 3ms/step - loss: 22.5252 - mean_squared_error: 22.5252 - mean_absolute_error: 3.3995 - val_loss: 19.7724 - val_mean_squared_error: 19.7724 - val_mean_absolute_error: 2.9974\n",
            "Epoch 84/200\n",
            "70/70 [==============================] - 0s 3ms/step - loss: 22.0250 - mean_squared_error: 22.0250 - mean_absolute_error: 3.3684 - val_loss: 19.2126 - val_mean_squared_error: 19.2126 - val_mean_absolute_error: 2.9589\n",
            "Epoch 85/200\n",
            "70/70 [==============================] - 0s 3ms/step - loss: 21.4446 - mean_squared_error: 21.4446 - mean_absolute_error: 3.3215 - val_loss: 18.9079 - val_mean_squared_error: 18.9079 - val_mean_absolute_error: 2.9588\n",
            "Epoch 86/200\n",
            "70/70 [==============================] - 0s 3ms/step - loss: 21.0480 - mean_squared_error: 21.0480 - mean_absolute_error: 3.3074 - val_loss: 18.4864 - val_mean_squared_error: 18.4864 - val_mean_absolute_error: 2.9369\n",
            "Epoch 87/200\n",
            "70/70 [==============================] - 0s 3ms/step - loss: 20.6334 - mean_squared_error: 20.6334 - mean_absolute_error: 3.2851 - val_loss: 17.8409 - val_mean_squared_error: 17.8409 - val_mean_absolute_error: 2.8705\n",
            "Epoch 88/200\n",
            "70/70 [==============================] - 0s 3ms/step - loss: 20.1813 - mean_squared_error: 20.1813 - mean_absolute_error: 3.2525 - val_loss: 17.5897 - val_mean_squared_error: 17.5897 - val_mean_absolute_error: 2.8770\n",
            "Epoch 89/200\n",
            "70/70 [==============================] - 0s 3ms/step - loss: 19.6873 - mean_squared_error: 19.6873 - mean_absolute_error: 3.2212 - val_loss: 16.9101 - val_mean_squared_error: 16.9101 - val_mean_absolute_error: 2.7994\n",
            "Epoch 90/200\n",
            "70/70 [==============================] - 0s 3ms/step - loss: 19.2608 - mean_squared_error: 19.2608 - mean_absolute_error: 3.1910 - val_loss: 16.6627 - val_mean_squared_error: 16.6627 - val_mean_absolute_error: 2.8129\n",
            "Epoch 91/200\n",
            "70/70 [==============================] - 0s 3ms/step - loss: 18.9797 - mean_squared_error: 18.9797 - mean_absolute_error: 3.1888 - val_loss: 16.1833 - val_mean_squared_error: 16.1833 - val_mean_absolute_error: 2.7598\n",
            "Epoch 92/200\n",
            "70/70 [==============================] - 0s 3ms/step - loss: 18.4112 - mean_squared_error: 18.4112 - mean_absolute_error: 3.1369 - val_loss: 15.7260 - val_mean_squared_error: 15.7260 - val_mean_absolute_error: 2.7315\n",
            "Epoch 93/200\n",
            "70/70 [==============================] - 0s 3ms/step - loss: 18.0719 - mean_squared_error: 18.0719 - mean_absolute_error: 3.1142 - val_loss: 15.5072 - val_mean_squared_error: 15.5072 - val_mean_absolute_error: 2.7391\n",
            "Epoch 94/200\n",
            "70/70 [==============================] - 0s 3ms/step - loss: 17.5975 - mean_squared_error: 17.5975 - mean_absolute_error: 3.0818 - val_loss: 14.9782 - val_mean_squared_error: 14.9782 - val_mean_absolute_error: 2.6852\n",
            "Epoch 95/200\n",
            "70/70 [==============================] - 0s 3ms/step - loss: 17.2116 - mean_squared_error: 17.2116 - mean_absolute_error: 3.0563 - val_loss: 14.6134 - val_mean_squared_error: 14.6134 - val_mean_absolute_error: 2.6593\n",
            "Epoch 96/200\n",
            "70/70 [==============================] - 0s 3ms/step - loss: 16.7817 - mean_squared_error: 16.7817 - mean_absolute_error: 3.0329 - val_loss: 14.1105 - val_mean_squared_error: 14.1105 - val_mean_absolute_error: 2.6114\n",
            "Epoch 97/200\n",
            "70/70 [==============================] - 0s 3ms/step - loss: 16.1351 - mean_squared_error: 16.1351 - mean_absolute_error: 2.9599 - val_loss: 13.9070 - val_mean_squared_error: 13.9070 - val_mean_absolute_error: 2.6148\n",
            "Epoch 98/200\n",
            "70/70 [==============================] - 0s 3ms/step - loss: 15.8873 - mean_squared_error: 15.8873 - mean_absolute_error: 2.9410 - val_loss: 13.4746 - val_mean_squared_error: 13.4746 - val_mean_absolute_error: 2.5764\n",
            "Epoch 99/200\n",
            "70/70 [==============================] - 0s 3ms/step - loss: 15.6372 - mean_squared_error: 15.6372 - mean_absolute_error: 2.9335 - val_loss: 12.9876 - val_mean_squared_error: 12.9876 - val_mean_absolute_error: 2.5215\n",
            "Epoch 100/200\n",
            "70/70 [==============================] - 0s 3ms/step - loss: 15.3792 - mean_squared_error: 15.3792 - mean_absolute_error: 2.9179 - val_loss: 12.7943 - val_mean_squared_error: 12.7943 - val_mean_absolute_error: 2.5208\n",
            "Epoch 101/200\n",
            "70/70 [==============================] - 0s 3ms/step - loss: 15.0524 - mean_squared_error: 15.0524 - mean_absolute_error: 2.8905 - val_loss: 12.2960 - val_mean_squared_error: 12.2960 - val_mean_absolute_error: 2.4592\n",
            "Epoch 102/200\n",
            "70/70 [==============================] - 0s 3ms/step - loss: 14.4749 - mean_squared_error: 14.4749 - mean_absolute_error: 2.8333 - val_loss: 12.4269 - val_mean_squared_error: 12.4269 - val_mean_absolute_error: 2.5152\n",
            "Epoch 103/200\n",
            "70/70 [==============================] - 0s 3ms/step - loss: 14.5657 - mean_squared_error: 14.5657 - mean_absolute_error: 2.8663 - val_loss: 12.1359 - val_mean_squared_error: 12.1359 - val_mean_absolute_error: 2.4896\n",
            "Epoch 104/200\n",
            "70/70 [==============================] - 0s 3ms/step - loss: 14.1267 - mean_squared_error: 14.1267 - mean_absolute_error: 2.8148 - val_loss: 11.7221 - val_mean_squared_error: 11.7221 - val_mean_absolute_error: 2.4338\n",
            "Epoch 105/200\n",
            "70/70 [==============================] - 0s 3ms/step - loss: 13.8144 - mean_squared_error: 13.8144 - mean_absolute_error: 2.7814 - val_loss: 11.3660 - val_mean_squared_error: 11.3660 - val_mean_absolute_error: 2.3929\n",
            "Epoch 106/200\n",
            "70/70 [==============================] - 0s 3ms/step - loss: 13.8278 - mean_squared_error: 13.8278 - mean_absolute_error: 2.7957 - val_loss: 11.2841 - val_mean_squared_error: 11.2841 - val_mean_absolute_error: 2.3992\n",
            "Epoch 107/200\n",
            "70/70 [==============================] - 0s 3ms/step - loss: 13.4314 - mean_squared_error: 13.4314 - mean_absolute_error: 2.7617 - val_loss: 10.9996 - val_mean_squared_error: 10.9996 - val_mean_absolute_error: 2.3778\n",
            "Epoch 108/200\n",
            "70/70 [==============================] - 0s 3ms/step - loss: 13.1282 - mean_squared_error: 13.1282 - mean_absolute_error: 2.7373 - val_loss: 10.7683 - val_mean_squared_error: 10.7683 - val_mean_absolute_error: 2.3535\n",
            "Epoch 109/200\n",
            "70/70 [==============================] - 0s 3ms/step - loss: 12.8792 - mean_squared_error: 12.8792 - mean_absolute_error: 2.7233 - val_loss: 10.5325 - val_mean_squared_error: 10.5325 - val_mean_absolute_error: 2.3430\n",
            "Epoch 110/200\n",
            "70/70 [==============================] - 0s 3ms/step - loss: 12.5222 - mean_squared_error: 12.5222 - mean_absolute_error: 2.6775 - val_loss: 10.4464 - val_mean_squared_error: 10.4464 - val_mean_absolute_error: 2.3514\n",
            "Epoch 111/200\n",
            "70/70 [==============================] - 0s 3ms/step - loss: 12.4661 - mean_squared_error: 12.4661 - mean_absolute_error: 2.6881 - val_loss: 9.9276 - val_mean_squared_error: 9.9276 - val_mean_absolute_error: 2.2774\n",
            "Epoch 112/200\n",
            "70/70 [==============================] - 0s 4ms/step - loss: 12.2824 - mean_squared_error: 12.2824 - mean_absolute_error: 2.6632 - val_loss: 9.6225 - val_mean_squared_error: 9.6225 - val_mean_absolute_error: 2.2407\n",
            "Epoch 113/200\n",
            "70/70 [==============================] - 0s 3ms/step - loss: 11.8548 - mean_squared_error: 11.8548 - mean_absolute_error: 2.6261 - val_loss: 9.6641 - val_mean_squared_error: 9.6641 - val_mean_absolute_error: 2.2753\n",
            "Epoch 114/200\n",
            "70/70 [==============================] - 0s 3ms/step - loss: 11.7260 - mean_squared_error: 11.7260 - mean_absolute_error: 2.6260 - val_loss: 9.4456 - val_mean_squared_error: 9.4456 - val_mean_absolute_error: 2.2518\n",
            "Epoch 115/200\n",
            "70/70 [==============================] - 0s 3ms/step - loss: 11.7217 - mean_squared_error: 11.7217 - mean_absolute_error: 2.6240 - val_loss: 9.1806 - val_mean_squared_error: 9.1806 - val_mean_absolute_error: 2.2215\n",
            "Epoch 116/200\n",
            "70/70 [==============================] - 0s 3ms/step - loss: 11.2905 - mean_squared_error: 11.2905 - mean_absolute_error: 2.5777 - val_loss: 8.9010 - val_mean_squared_error: 8.9010 - val_mean_absolute_error: 2.1820\n",
            "Epoch 117/200\n",
            "70/70 [==============================] - 0s 3ms/step - loss: 10.9934 - mean_squared_error: 10.9934 - mean_absolute_error: 2.5595 - val_loss: 8.8541 - val_mean_squared_error: 8.8541 - val_mean_absolute_error: 2.1986\n",
            "Epoch 118/200\n",
            "70/70 [==============================] - 0s 3ms/step - loss: 11.0946 - mean_squared_error: 11.0946 - mean_absolute_error: 2.5709 - val_loss: 8.6839 - val_mean_squared_error: 8.6839 - val_mean_absolute_error: 2.1732\n",
            "Epoch 119/200\n",
            "70/70 [==============================] - 0s 3ms/step - loss: 10.6917 - mean_squared_error: 10.6917 - mean_absolute_error: 2.5184 - val_loss: 8.3772 - val_mean_squared_error: 8.3772 - val_mean_absolute_error: 2.1309\n",
            "Epoch 120/200\n",
            "70/70 [==============================] - 0s 3ms/step - loss: 10.7483 - mean_squared_error: 10.7483 - mean_absolute_error: 2.5238 - val_loss: 8.3686 - val_mean_squared_error: 8.3686 - val_mean_absolute_error: 2.1432\n",
            "Epoch 121/200\n",
            "70/70 [==============================] - 0s 3ms/step - loss: 10.4753 - mean_squared_error: 10.4753 - mean_absolute_error: 2.5038 - val_loss: 8.0946 - val_mean_squared_error: 8.0946 - val_mean_absolute_error: 2.1093\n",
            "Epoch 122/200\n",
            "70/70 [==============================] - 0s 3ms/step - loss: 10.3222 - mean_squared_error: 10.3222 - mean_absolute_error: 2.4933 - val_loss: 7.9760 - val_mean_squared_error: 7.9760 - val_mean_absolute_error: 2.0973\n",
            "Epoch 123/200\n",
            "70/70 [==============================] - 0s 3ms/step - loss: 10.4029 - mean_squared_error: 10.4029 - mean_absolute_error: 2.5029 - val_loss: 7.8685 - val_mean_squared_error: 7.8685 - val_mean_absolute_error: 2.0944\n",
            "Epoch 124/200\n",
            "70/70 [==============================] - 0s 3ms/step - loss: 9.9401 - mean_squared_error: 9.9401 - mean_absolute_error: 2.4382 - val_loss: 7.7601 - val_mean_squared_error: 7.7601 - val_mean_absolute_error: 2.0863\n",
            "Epoch 125/200\n",
            "70/70 [==============================] - 0s 3ms/step - loss: 9.8177 - mean_squared_error: 9.8177 - mean_absolute_error: 2.4325 - val_loss: 7.5778 - val_mean_squared_error: 7.5778 - val_mean_absolute_error: 2.0605\n",
            "Epoch 126/200\n",
            "70/70 [==============================] - 0s 3ms/step - loss: 9.7735 - mean_squared_error: 9.7735 - mean_absolute_error: 2.4240 - val_loss: 7.5341 - val_mean_squared_error: 7.5341 - val_mean_absolute_error: 2.0642\n",
            "Epoch 127/200\n",
            "70/70 [==============================] - 0s 3ms/step - loss: 9.5483 - mean_squared_error: 9.5483 - mean_absolute_error: 2.3998 - val_loss: 7.3672 - val_mean_squared_error: 7.3672 - val_mean_absolute_error: 2.0456\n",
            "Epoch 128/200\n",
            "70/70 [==============================] - 0s 3ms/step - loss: 9.4616 - mean_squared_error: 9.4616 - mean_absolute_error: 2.4057 - val_loss: 7.1288 - val_mean_squared_error: 7.1288 - val_mean_absolute_error: 2.0093\n",
            "Epoch 129/200\n",
            "70/70 [==============================] - 0s 3ms/step - loss: 9.3213 - mean_squared_error: 9.3213 - mean_absolute_error: 2.3874 - val_loss: 7.0836 - val_mean_squared_error: 7.0836 - val_mean_absolute_error: 2.0150\n",
            "Epoch 130/200\n",
            "70/70 [==============================] - 0s 3ms/step - loss: 9.2584 - mean_squared_error: 9.2584 - mean_absolute_error: 2.3804 - val_loss: 7.3383 - val_mean_squared_error: 7.3383 - val_mean_absolute_error: 2.0803\n",
            "Epoch 131/200\n",
            "70/70 [==============================] - 0s 3ms/step - loss: 9.1517 - mean_squared_error: 9.1517 - mean_absolute_error: 2.3623 - val_loss: 6.8371 - val_mean_squared_error: 6.8371 - val_mean_absolute_error: 1.9903\n",
            "Epoch 132/200\n",
            "70/70 [==============================] - 0s 3ms/step - loss: 8.9153 - mean_squared_error: 8.9153 - mean_absolute_error: 2.3434 - val_loss: 6.8225 - val_mean_squared_error: 6.8225 - val_mean_absolute_error: 1.9970\n",
            "Epoch 133/200\n",
            "70/70 [==============================] - 0s 3ms/step - loss: 9.0451 - mean_squared_error: 9.0451 - mean_absolute_error: 2.3594 - val_loss: 6.7416 - val_mean_squared_error: 6.7416 - val_mean_absolute_error: 1.9981\n",
            "Epoch 134/200\n",
            "70/70 [==============================] - 0s 3ms/step - loss: 8.8291 - mean_squared_error: 8.8291 - mean_absolute_error: 2.3441 - val_loss: 6.4399 - val_mean_squared_error: 6.4399 - val_mean_absolute_error: 1.9399\n",
            "Epoch 135/200\n",
            "70/70 [==============================] - 0s 3ms/step - loss: 8.6447 - mean_squared_error: 8.6447 - mean_absolute_error: 2.3134 - val_loss: 6.5080 - val_mean_squared_error: 6.5080 - val_mean_absolute_error: 1.9604\n",
            "Epoch 136/200\n",
            "70/70 [==============================] - 0s 3ms/step - loss: 8.5725 - mean_squared_error: 8.5725 - mean_absolute_error: 2.3037 - val_loss: 6.3416 - val_mean_squared_error: 6.3416 - val_mean_absolute_error: 1.9368\n",
            "Epoch 137/200\n",
            "70/70 [==============================] - 0s 3ms/step - loss: 8.4047 - mean_squared_error: 8.4047 - mean_absolute_error: 2.2870 - val_loss: 6.1862 - val_mean_squared_error: 6.1862 - val_mean_absolute_error: 1.9190\n",
            "Epoch 138/200\n",
            "70/70 [==============================] - 0s 3ms/step - loss: 8.4284 - mean_squared_error: 8.4284 - mean_absolute_error: 2.2858 - val_loss: 6.1460 - val_mean_squared_error: 6.1460 - val_mean_absolute_error: 1.9134\n",
            "Epoch 139/200\n",
            "70/70 [==============================] - 0s 3ms/step - loss: 8.2576 - mean_squared_error: 8.2576 - mean_absolute_error: 2.2674 - val_loss: 6.2291 - val_mean_squared_error: 6.2291 - val_mean_absolute_error: 1.9374\n",
            "Epoch 140/200\n",
            "70/70 [==============================] - 0s 3ms/step - loss: 8.1404 - mean_squared_error: 8.1404 - mean_absolute_error: 2.2537 - val_loss: 6.1427 - val_mean_squared_error: 6.1427 - val_mean_absolute_error: 1.9252\n",
            "Epoch 141/200\n",
            "70/70 [==============================] - 0s 3ms/step - loss: 8.2288 - mean_squared_error: 8.2288 - mean_absolute_error: 2.2797 - val_loss: 5.9667 - val_mean_squared_error: 5.9667 - val_mean_absolute_error: 1.9016\n",
            "Epoch 142/200\n",
            "70/70 [==============================] - 0s 3ms/step - loss: 7.9145 - mean_squared_error: 7.9145 - mean_absolute_error: 2.2274 - val_loss: 5.7867 - val_mean_squared_error: 5.7867 - val_mean_absolute_error: 1.8691\n",
            "Epoch 143/200\n",
            "70/70 [==============================] - 0s 3ms/step - loss: 7.8640 - mean_squared_error: 7.8640 - mean_absolute_error: 2.2154 - val_loss: 6.0886 - val_mean_squared_error: 6.0886 - val_mean_absolute_error: 1.9213\n",
            "Epoch 144/200\n",
            "70/70 [==============================] - 0s 3ms/step - loss: 7.8219 - mean_squared_error: 7.8219 - mean_absolute_error: 2.2139 - val_loss: 5.6427 - val_mean_squared_error: 5.6427 - val_mean_absolute_error: 1.8475\n",
            "Epoch 145/200\n",
            "70/70 [==============================] - 0s 3ms/step - loss: 7.7477 - mean_squared_error: 7.7477 - mean_absolute_error: 2.2108 - val_loss: 5.6668 - val_mean_squared_error: 5.6668 - val_mean_absolute_error: 1.8601\n",
            "Epoch 146/200\n",
            "70/70 [==============================] - 0s 3ms/step - loss: 7.6666 - mean_squared_error: 7.6666 - mean_absolute_error: 2.2003 - val_loss: 5.6555 - val_mean_squared_error: 5.6555 - val_mean_absolute_error: 1.8645\n",
            "Epoch 147/200\n",
            "70/70 [==============================] - 0s 3ms/step - loss: 7.5518 - mean_squared_error: 7.5518 - mean_absolute_error: 2.1842 - val_loss: 5.4919 - val_mean_squared_error: 5.4919 - val_mean_absolute_error: 1.8356\n",
            "Epoch 148/200\n",
            "70/70 [==============================] - 0s 3ms/step - loss: 7.4631 - mean_squared_error: 7.4631 - mean_absolute_error: 2.1689 - val_loss: 5.4190 - val_mean_squared_error: 5.4190 - val_mean_absolute_error: 1.8206\n",
            "Epoch 149/200\n",
            "70/70 [==============================] - 0s 3ms/step - loss: 7.6091 - mean_squared_error: 7.6091 - mean_absolute_error: 2.1860 - val_loss: 5.2797 - val_mean_squared_error: 5.2797 - val_mean_absolute_error: 1.8009\n",
            "Epoch 150/200\n",
            "70/70 [==============================] - 0s 3ms/step - loss: 7.5391 - mean_squared_error: 7.5391 - mean_absolute_error: 2.1808 - val_loss: 5.4207 - val_mean_squared_error: 5.4207 - val_mean_absolute_error: 1.8247\n",
            "Epoch 151/200\n",
            "70/70 [==============================] - 0s 3ms/step - loss: 7.4707 - mean_squared_error: 7.4707 - mean_absolute_error: 2.1593 - val_loss: 5.2937 - val_mean_squared_error: 5.2937 - val_mean_absolute_error: 1.8070\n",
            "Epoch 152/200\n",
            "70/70 [==============================] - 0s 3ms/step - loss: 7.4313 - mean_squared_error: 7.4313 - mean_absolute_error: 2.1636 - val_loss: 5.2367 - val_mean_squared_error: 5.2367 - val_mean_absolute_error: 1.8029\n",
            "Epoch 153/200\n",
            "70/70 [==============================] - 0s 3ms/step - loss: 7.1542 - mean_squared_error: 7.1542 - mean_absolute_error: 2.1107 - val_loss: 5.2873 - val_mean_squared_error: 5.2873 - val_mean_absolute_error: 1.8159\n",
            "Epoch 154/200\n",
            "70/70 [==============================] - 0s 3ms/step - loss: 7.1784 - mean_squared_error: 7.1784 - mean_absolute_error: 2.1250 - val_loss: 5.1665 - val_mean_squared_error: 5.1665 - val_mean_absolute_error: 1.7961\n",
            "Epoch 155/200\n",
            "70/70 [==============================] - 0s 3ms/step - loss: 7.1922 - mean_squared_error: 7.1922 - mean_absolute_error: 2.1341 - val_loss: 5.1589 - val_mean_squared_error: 5.1589 - val_mean_absolute_error: 1.7948\n",
            "Epoch 156/200\n",
            "70/70 [==============================] - 0s 3ms/step - loss: 7.0499 - mean_squared_error: 7.0499 - mean_absolute_error: 2.1123 - val_loss: 5.2086 - val_mean_squared_error: 5.2086 - val_mean_absolute_error: 1.8087\n",
            "Epoch 157/200\n",
            "70/70 [==============================] - 0s 3ms/step - loss: 7.0891 - mean_squared_error: 7.0891 - mean_absolute_error: 2.1133 - val_loss: 5.0985 - val_mean_squared_error: 5.0985 - val_mean_absolute_error: 1.7899\n",
            "Epoch 158/200\n",
            "70/70 [==============================] - 0s 3ms/step - loss: 7.0538 - mean_squared_error: 7.0538 - mean_absolute_error: 2.1134 - val_loss: 4.9804 - val_mean_squared_error: 4.9804 - val_mean_absolute_error: 1.7673\n",
            "Epoch 159/200\n",
            "70/70 [==============================] - 0s 3ms/step - loss: 6.9639 - mean_squared_error: 6.9639 - mean_absolute_error: 2.0968 - val_loss: 5.1212 - val_mean_squared_error: 5.1212 - val_mean_absolute_error: 1.8052\n",
            "Epoch 160/200\n",
            "70/70 [==============================] - 0s 3ms/step - loss: 6.9067 - mean_squared_error: 6.9067 - mean_absolute_error: 2.0882 - val_loss: 4.8632 - val_mean_squared_error: 4.8632 - val_mean_absolute_error: 1.7469\n",
            "Epoch 161/200\n",
            "70/70 [==============================] - 0s 4ms/step - loss: 6.8424 - mean_squared_error: 6.8424 - mean_absolute_error: 2.0887 - val_loss: 4.8643 - val_mean_squared_error: 4.8643 - val_mean_absolute_error: 1.7541\n",
            "Epoch 162/200\n",
            "70/70 [==============================] - 0s 3ms/step - loss: 6.8688 - mean_squared_error: 6.8688 - mean_absolute_error: 2.0972 - val_loss: 4.7662 - val_mean_squared_error: 4.7662 - val_mean_absolute_error: 1.7347\n",
            "Epoch 163/200\n",
            "70/70 [==============================] - 0s 3ms/step - loss: 6.9032 - mean_squared_error: 6.9032 - mean_absolute_error: 2.0873 - val_loss: 4.8990 - val_mean_squared_error: 4.8990 - val_mean_absolute_error: 1.7591\n",
            "Epoch 164/200\n",
            "70/70 [==============================] - 0s 3ms/step - loss: 7.0125 - mean_squared_error: 7.0125 - mean_absolute_error: 2.1140 - val_loss: 4.6750 - val_mean_squared_error: 4.6750 - val_mean_absolute_error: 1.7163\n",
            "Epoch 165/200\n",
            "70/70 [==============================] - 0s 3ms/step - loss: 6.7372 - mean_squared_error: 6.7372 - mean_absolute_error: 2.0769 - val_loss: 4.5983 - val_mean_squared_error: 4.5983 - val_mean_absolute_error: 1.7043\n",
            "Epoch 166/200\n",
            "70/70 [==============================] - 0s 4ms/step - loss: 6.6059 - mean_squared_error: 6.6059 - mean_absolute_error: 2.0469 - val_loss: 4.7348 - val_mean_squared_error: 4.7348 - val_mean_absolute_error: 1.7289\n",
            "Epoch 167/200\n",
            "70/70 [==============================] - 0s 3ms/step - loss: 6.6566 - mean_squared_error: 6.6566 - mean_absolute_error: 2.0636 - val_loss: 4.5601 - val_mean_squared_error: 4.5601 - val_mean_absolute_error: 1.7015\n",
            "Epoch 168/200\n",
            "70/70 [==============================] - 0s 3ms/step - loss: 6.7767 - mean_squared_error: 6.7767 - mean_absolute_error: 2.0795 - val_loss: 4.7575 - val_mean_squared_error: 4.7575 - val_mean_absolute_error: 1.7395\n",
            "Epoch 169/200\n",
            "70/70 [==============================] - 0s 3ms/step - loss: 6.6325 - mean_squared_error: 6.6325 - mean_absolute_error: 2.0507 - val_loss: 4.5609 - val_mean_squared_error: 4.5609 - val_mean_absolute_error: 1.6970\n",
            "Epoch 170/200\n",
            "70/70 [==============================] - 0s 3ms/step - loss: 6.6630 - mean_squared_error: 6.6630 - mean_absolute_error: 2.0608 - val_loss: 4.5027 - val_mean_squared_error: 4.5027 - val_mean_absolute_error: 1.6972\n",
            "Epoch 171/200\n",
            "70/70 [==============================] - 0s 3ms/step - loss: 6.5433 - mean_squared_error: 6.5433 - mean_absolute_error: 2.0413 - val_loss: 4.5898 - val_mean_squared_error: 4.5898 - val_mean_absolute_error: 1.7036\n",
            "Epoch 172/200\n",
            "70/70 [==============================] - 0s 3ms/step - loss: 6.5178 - mean_squared_error: 6.5178 - mean_absolute_error: 2.0348 - val_loss: 4.4887 - val_mean_squared_error: 4.4887 - val_mean_absolute_error: 1.6919\n",
            "Epoch 173/200\n",
            "70/70 [==============================] - 0s 3ms/step - loss: 6.5318 - mean_squared_error: 6.5318 - mean_absolute_error: 2.0412 - val_loss: 4.4619 - val_mean_squared_error: 4.4619 - val_mean_absolute_error: 1.6908\n",
            "Epoch 174/200\n",
            "70/70 [==============================] - 0s 3ms/step - loss: 6.5780 - mean_squared_error: 6.5780 - mean_absolute_error: 2.0503 - val_loss: 4.4939 - val_mean_squared_error: 4.4939 - val_mean_absolute_error: 1.6928\n",
            "Epoch 175/200\n",
            "70/70 [==============================] - 0s 3ms/step - loss: 6.3433 - mean_squared_error: 6.3433 - mean_absolute_error: 2.0200 - val_loss: 4.7386 - val_mean_squared_error: 4.7386 - val_mean_absolute_error: 1.7470\n",
            "Epoch 176/200\n",
            "70/70 [==============================] - 0s 3ms/step - loss: 6.5313 - mean_squared_error: 6.5313 - mean_absolute_error: 2.0323 - val_loss: 4.4765 - val_mean_squared_error: 4.4765 - val_mean_absolute_error: 1.6967\n",
            "Epoch 177/200\n",
            "70/70 [==============================] - 0s 3ms/step - loss: 6.3742 - mean_squared_error: 6.3742 - mean_absolute_error: 2.0153 - val_loss: 4.4200 - val_mean_squared_error: 4.4200 - val_mean_absolute_error: 1.6804\n",
            "Epoch 178/200\n",
            "70/70 [==============================] - 0s 3ms/step - loss: 6.4745 - mean_squared_error: 6.4745 - mean_absolute_error: 2.0339 - val_loss: 4.4868 - val_mean_squared_error: 4.4868 - val_mean_absolute_error: 1.6952\n",
            "Epoch 179/200\n",
            "70/70 [==============================] - 0s 3ms/step - loss: 6.3673 - mean_squared_error: 6.3673 - mean_absolute_error: 2.0010 - val_loss: 4.4127 - val_mean_squared_error: 4.4127 - val_mean_absolute_error: 1.6799\n",
            "Epoch 180/200\n",
            "70/70 [==============================] - 0s 3ms/step - loss: 6.2473 - mean_squared_error: 6.2473 - mean_absolute_error: 1.9993 - val_loss: 4.4237 - val_mean_squared_error: 4.4237 - val_mean_absolute_error: 1.6792\n",
            "Epoch 181/200\n",
            "70/70 [==============================] - 0s 3ms/step - loss: 6.3189 - mean_squared_error: 6.3189 - mean_absolute_error: 2.0048 - val_loss: 4.3065 - val_mean_squared_error: 4.3065 - val_mean_absolute_error: 1.6594\n",
            "Epoch 182/200\n",
            "70/70 [==============================] - 0s 3ms/step - loss: 6.1004 - mean_squared_error: 6.1004 - mean_absolute_error: 1.9581 - val_loss: 4.5967 - val_mean_squared_error: 4.5967 - val_mean_absolute_error: 1.7107\n",
            "Epoch 183/200\n",
            "70/70 [==============================] - 0s 3ms/step - loss: 6.3698 - mean_squared_error: 6.3698 - mean_absolute_error: 2.0156 - val_loss: 4.3414 - val_mean_squared_error: 4.3414 - val_mean_absolute_error: 1.6671\n",
            "Epoch 184/200\n",
            "70/70 [==============================] - 0s 3ms/step - loss: 6.2119 - mean_squared_error: 6.2119 - mean_absolute_error: 1.9918 - val_loss: 4.2894 - val_mean_squared_error: 4.2894 - val_mean_absolute_error: 1.6635\n",
            "Epoch 185/200\n",
            "70/70 [==============================] - 0s 3ms/step - loss: 6.2889 - mean_squared_error: 6.2889 - mean_absolute_error: 2.0079 - val_loss: 4.2769 - val_mean_squared_error: 4.2769 - val_mean_absolute_error: 1.6506\n",
            "Epoch 186/200\n",
            "70/70 [==============================] - 0s 3ms/step - loss: 6.1729 - mean_squared_error: 6.1729 - mean_absolute_error: 1.9867 - val_loss: 4.3102 - val_mean_squared_error: 4.3102 - val_mean_absolute_error: 1.6577\n",
            "Epoch 187/200\n",
            "70/70 [==============================] - 0s 3ms/step - loss: 6.3060 - mean_squared_error: 6.3060 - mean_absolute_error: 2.0125 - val_loss: 4.2447 - val_mean_squared_error: 4.2447 - val_mean_absolute_error: 1.6495\n",
            "Epoch 188/200\n",
            "70/70 [==============================] - 0s 3ms/step - loss: 6.0882 - mean_squared_error: 6.0882 - mean_absolute_error: 1.9603 - val_loss: 4.2766 - val_mean_squared_error: 4.2766 - val_mean_absolute_error: 1.6574\n",
            "Epoch 189/200\n",
            "70/70 [==============================] - 0s 3ms/step - loss: 6.2188 - mean_squared_error: 6.2188 - mean_absolute_error: 1.9875 - val_loss: 4.3448 - val_mean_squared_error: 4.3448 - val_mean_absolute_error: 1.6731\n",
            "Epoch 190/200\n",
            "70/70 [==============================] - 0s 3ms/step - loss: 6.1502 - mean_squared_error: 6.1502 - mean_absolute_error: 1.9725 - val_loss: 4.2679 - val_mean_squared_error: 4.2679 - val_mean_absolute_error: 1.6604\n",
            "Epoch 191/200\n",
            "70/70 [==============================] - 0s 3ms/step - loss: 6.2665 - mean_squared_error: 6.2665 - mean_absolute_error: 2.0066 - val_loss: 4.2402 - val_mean_squared_error: 4.2402 - val_mean_absolute_error: 1.6483\n",
            "Epoch 192/200\n",
            "70/70 [==============================] - 0s 3ms/step - loss: 6.1414 - mean_squared_error: 6.1414 - mean_absolute_error: 1.9729 - val_loss: 4.4470 - val_mean_squared_error: 4.4470 - val_mean_absolute_error: 1.6907\n",
            "Epoch 193/200\n",
            "70/70 [==============================] - 0s 3ms/step - loss: 6.0113 - mean_squared_error: 6.0113 - mean_absolute_error: 1.9583 - val_loss: 4.2622 - val_mean_squared_error: 4.2622 - val_mean_absolute_error: 1.6541\n",
            "Epoch 194/200\n",
            "70/70 [==============================] - 0s 3ms/step - loss: 6.1812 - mean_squared_error: 6.1812 - mean_absolute_error: 1.9824 - val_loss: 4.2683 - val_mean_squared_error: 4.2683 - val_mean_absolute_error: 1.6498\n",
            "Epoch 195/200\n",
            "70/70 [==============================] - 0s 3ms/step - loss: 6.1327 - mean_squared_error: 6.1327 - mean_absolute_error: 1.9752 - val_loss: 4.2878 - val_mean_squared_error: 4.2878 - val_mean_absolute_error: 1.6655\n",
            "Epoch 196/200\n",
            "70/70 [==============================] - 0s 4ms/step - loss: 6.2162 - mean_squared_error: 6.2162 - mean_absolute_error: 1.9790 - val_loss: 4.2017 - val_mean_squared_error: 4.2017 - val_mean_absolute_error: 1.6431\n",
            "Epoch 197/200\n",
            "70/70 [==============================] - 0s 3ms/step - loss: 6.1193 - mean_squared_error: 6.1193 - mean_absolute_error: 1.9774 - val_loss: 4.1952 - val_mean_squared_error: 4.1952 - val_mean_absolute_error: 1.6418\n",
            "Epoch 198/200\n",
            "70/70 [==============================] - 0s 3ms/step - loss: 6.0079 - mean_squared_error: 6.0079 - mean_absolute_error: 1.9541 - val_loss: 4.2589 - val_mean_squared_error: 4.2589 - val_mean_absolute_error: 1.6610\n",
            "Epoch 199/200\n",
            "70/70 [==============================] - 0s 3ms/step - loss: 6.2084 - mean_squared_error: 6.2084 - mean_absolute_error: 1.9879 - val_loss: 4.4118 - val_mean_squared_error: 4.4118 - val_mean_absolute_error: 1.6798\n",
            "Epoch 200/200\n",
            "70/70 [==============================] - 0s 3ms/step - loss: 5.9232 - mean_squared_error: 5.9232 - mean_absolute_error: 1.9401 - val_loss: 4.0597 - val_mean_squared_error: 4.0597 - val_mean_absolute_error: 1.6149\n"
          ],
          "name": "stdout"
        }
      ]
    },
    {
      "cell_type": "code",
      "metadata": {
        "id": "-fi4q90SByBp",
        "colab_type": "code",
        "colab": {
          "base_uri": "https://localhost:8080/",
          "height": 283
        },
        "outputId": "13430063-ba66-43e1-cb94-82f0ef4d9d40"
      },
      "source": [
        "y_pred = model.predict(X_test)\n",
        "accuracy_plot(y_test, y_pred)"
      ],
      "execution_count": null,
      "outputs": [
        {
          "output_type": "display_data",
          "data": {
            "image/png": "[encoded data removed]",
            "text/plain": [
              "<Figure size 432x288 with 1 Axes>"
            ]
          },
          "metadata": {
            "tags": [],
            "needs_background": "light"
          }
        }
      ]
    },
    {
      "cell_type": "code",
      "metadata": {
        "id": "bLkm5fpPCat-",
        "colab_type": "code",
        "colab": {
          "base_uri": "https://localhost:8080/",
          "height": 282
        },
        "outputId": "406c8ac7-fa34-47fd-e82d-384648074023"
      },
      "source": [
        "howGoodAmI(y_test, y_pred)"
      ],
      "execution_count": null,
      "outputs": [
        {
          "output_type": "execute_result",
          "data": {
            "text/plain": [
              "(-0.06331829850059231, 4.204842504883927)"
            ]
          },
          "metadata": {
            "tags": []
          },
          "execution_count": 184
        },
        {
          "output_type": "display_data",
          "data": {
            "image/png": "[encoded data removed]",
            "text/plain": [
              "<Figure size 432x288 with 1 Axes>"
            ]
          },
          "metadata": {
            "tags": [],
            "needs_background": "light"
          }
        }
      ]
    },
    {
      "cell_type": "code",
      "metadata": {
        "id": "ceTjjhgDCpcG",
        "colab_type": "code",
        "colab": {
          "base_uri": "https://localhost:8080/",
          "height": 312
        },
        "outputId": "97b8eb43-ec5c-4de0-8749-5ceace4a4807"
      },
      "source": [
        "# summarize history for loss\n",
        "plt.plot(h.history['mean_squared_error'], label='train')\n",
        "plt.plot(h.history['val_mean_squared_error'], label='test')\n",
        "plt.title('model mse')\n",
        "plt.ylabel('mse')\n",
        "plt.xlabel('epoch')\n",
        "plt.legend()"
      ],
      "execution_count": null,
      "outputs": [
        {
          "output_type": "execute_result",
          "data": {
            "text/plain": [
              "<matplotlib.legend.Legend at 0x7fd423adcd68>"
            ]
          },
          "metadata": {
            "tags": []
          },
          "execution_count": 185
        },
        {
          "output_type": "display_data",
          "data": {
            "image/png": "[encoded data removed]",
            "text/plain": [
              "<Figure size 432x288 with 1 Axes>"
            ]
          },
          "metadata": {
            "tags": [],
            "needs_background": "light"
          }
        }
      ]
    },
    {
      "cell_type": "code",
      "metadata": {
        "id": "ccC6JhCJDrwX",
        "colab_type": "code",
        "colab": {
          "base_uri": "https://localhost:8080/",
          "height": 283
        },
        "outputId": "a74d0fef-3d4c-474b-a373-31cecbc3ed3e"
      },
      "source": [
        "gbr.fit(X_train, y_train)\n",
        "y_pred = gbr.predict(X_test)\n",
        "accuracy_plot(y_test, y_pred)"
      ],
      "execution_count": null,
      "outputs": [
        {
          "output_type": "display_data",
          "data": {
            "image/png": "[encoded data removed]",
            "text/plain": [
              "<Figure size 432x288 with 1 Axes>"
            ]
          },
          "metadata": {
            "tags": [],
            "needs_background": "light"
          }
        }
      ]
    },
    {
      "cell_type": "code",
      "metadata": {
        "id": "1G3eG99wDzWA",
        "colab_type": "code",
        "colab": {
          "base_uri": "https://localhost:8080/",
          "height": 282
        },
        "outputId": "66b1f5be-0ea5-40ca-e76d-c455fbb55cf8"
      },
      "source": [
        "howGoodAmI(y_test, y_pred)"
      ],
      "execution_count": null,
      "outputs": [
        {
          "output_type": "execute_result",
          "data": {
            "text/plain": [
              "(0.0019478340036920229, 4.046296678118376)"
            ]
          },
          "metadata": {
            "tags": []
          },
          "execution_count": 187
        },
        {
          "output_type": "display_data",
          "data": {
            "image/png": "[encoded data removed]",
            "text/plain": [
              "<Figure size 432x288 with 1 Axes>"
            ]
          },
          "metadata": {
            "tags": [],
            "needs_background": "light"
          }
        }
      ]
    },
    {
      "cell_type": "code",
      "metadata": {
        "id": "Zqq0xmLYFby0",
        "colab_type": "code",
        "colab": {
          "base_uri": "https://localhost:8080/",
          "height": 34
        },
        "outputId": "4d3d0696-e159-4285-91c2-aaf320d61a1f"
      },
      "source": [
        "xtrain_smooth.shape, ydata.shape"
      ],
      "execution_count": null,
      "outputs": [
        {
          "output_type": "execute_result",
          "data": {
            "text/plain": [
              "((9999, 1000), (9999,))"
            ]
          },
          "metadata": {
            "tags": []
          },
          "execution_count": 193
        }
      ]
    },
    {
      "cell_type": "code",
      "metadata": {
        "id": "75O7X9loEHEn",
        "colab_type": "code",
        "colab": {
          "base_uri": "https://localhost:8080/",
          "height": 34
        },
        "outputId": "ad61f1cd-8184-4b12-a4d5-c2f2d68cac1c"
      },
      "source": [
        "i = 1400\n",
        "model.predict(np.atleast_2d(xtrain_smooth[i,:])), ydata[i]"
      ],
      "execution_count": null,
      "outputs": [
        {
          "output_type": "execute_result",
          "data": {
            "text/plain": [
              "(array([[-45.570267]], dtype=float32), -46.11518715973944)"
            ]
          },
          "metadata": {
            "tags": []
          },
          "execution_count": 202
        }
      ]
    },
    {
      "cell_type": "code",
      "metadata": {
        "id": "pR335FAojd2d",
        "colab_type": "code",
        "colab": {}
      },
      "source": [
        "error = 0.05\n",
        "data = np.copy(xtrain_smooth)\n",
        "sim_xdata = data + error*np.random.normal(size=data.shape)"
      ],
      "execution_count": null,
      "outputs": []
    },
    {
      "cell_type": "code",
      "metadata": {
        "id": "JSiuy7QpKpXx",
        "colab_type": "code",
        "colab": {
          "base_uri": "https://localhost:8080/",
          "height": 34
        },
        "outputId": "f2283cd6-b3ac-499f-bcc5-e6db1251e9d6"
      },
      "source": [
        "sim_xdata.shape"
      ],
      "execution_count": null,
      "outputs": [
        {
          "output_type": "execute_result",
          "data": {
            "text/plain": [
              "(9999, 1000)"
            ]
          },
          "metadata": {
            "tags": []
          },
          "execution_count": 233
        }
      ]
    },
    {
      "cell_type": "code",
      "metadata": {
        "id": "GA9QMa8zK1Eo",
        "colab_type": "code",
        "colab": {
          "base_uri": "https://localhost:8080/",
          "height": 282
        },
        "outputId": "57376498-30ce-423d-eb1b-6203067cab6d"
      },
      "source": [
        "i = 10\n",
        "plt.subplot(121)\n",
        "plt.plot(sim_xdata[i])\n",
        "plt.plot(data[i])\n",
        "plt.subplot(122)\n",
        "plt.plot(sim_xdata[i]-data[i])"
      ],
      "execution_count": null,
      "outputs": [
        {
          "output_type": "execute_result",
          "data": {
            "text/plain": [
              "[<matplotlib.lines.Line2D at 0x7fd42290e278>]"
            ]
          },
          "metadata": {
            "tags": []
          },
          "execution_count": 235
        },
        {
          "output_type": "display_data",
          "data": {
            "image/png": "[encoded data removed]",
            "text/plain": [
              "<Figure size 432x288 with 2 Axes>"
            ]
          },
          "metadata": {
            "tags": [],
            "needs_background": "light"
          }
        }
      ]
    },
    {
      "cell_type": "code",
      "metadata": {
        "id": "6mkL-dARKoGI",
        "colab_type": "code",
        "colab": {
          "base_uri": "https://localhost:8080/",
          "height": 34
        },
        "outputId": "0bfe9b78-058a-4a15-aee8-678b62522a92"
      },
      "source": [
        "xtrain_combined = np.concatenate([xtrain_smooth, sim_xdata])\n",
        "ydata_combined = np.concatenate([ydata, ydata])\n",
        "xtrain_combined.shape, ydata_combined.shape"
      ],
      "execution_count": null,
      "outputs": [
        {
          "output_type": "execute_result",
          "data": {
            "text/plain": [
              "((19998, 1000), (19998,))"
            ]
          },
          "metadata": {
            "tags": []
          },
          "execution_count": 251
        }
      ]
    },
    {
      "cell_type": "code",
      "metadata": {
        "id": "NkDO_XtZOU6m",
        "colab_type": "code",
        "colab": {}
      },
      "source": [
        "ind_arr = np.arange(xtrain_combined.shape[0])\n",
        "np.random.shuffle(ind_arr)"
      ],
      "execution_count": null,
      "outputs": []
    },
    {
      "cell_type": "code",
      "metadata": {
        "id": "Jun-fzAPOOE3",
        "colab_type": "code",
        "colab": {
          "base_uri": "https://localhost:8080/",
          "height": 34
        },
        "outputId": "d13a546f-f3bb-4ad9-df29-30a7ef6f474b"
      },
      "source": [
        "xtrain_combined = xtrain_combined[ind_arr,:]\n",
        "ydata_combined = ydata_combined[ind_arr]\n",
        "xtrain_combined.shape, ydata_combined.shape, "
      ],
      "execution_count": null,
      "outputs": [
        {
          "output_type": "execute_result",
          "data": {
            "text/plain": [
              "((19998, 1000), (19998,))"
            ]
          },
          "metadata": {
            "tags": []
          },
          "execution_count": 260
        }
      ]
    },
    {
      "cell_type": "code",
      "metadata": {
        "id": "RoDHCrc_MuvL",
        "colab_type": "code",
        "colab": {
          "base_uri": "https://localhost:8080/",
          "height": 34
        },
        "outputId": "e7a41b4d-75d5-4597-ed60-c0ffcbb3bb0c"
      },
      "source": [
        "X_train, X_test, y_train, y_test = train_test_split(xtrain_combined, ydata_combined, test_size=0.30, random_state=0)\n",
        "orig_dim=X_train[0].shape\n",
        "X_train.shape, y_train.shape, orig_dim"
      ],
      "execution_count": null,
      "outputs": [
        {
          "output_type": "execute_result",
          "data": {
            "text/plain": [
              "((13998, 1000), (13998,), (1000,))"
            ]
          },
          "metadata": {
            "tags": []
          },
          "execution_count": 261
        }
      ]
    },
    {
      "cell_type": "code",
      "metadata": {
        "id": "VedjUC68NylI",
        "colab_type": "code",
        "colab": {
          "base_uri": "https://localhost:8080/",
          "height": 357
        },
        "outputId": "1630d500-747a-41ae-b924-38b078394969"
      },
      "source": [
        "model = Sequential() # 48, 24\n",
        "model.add(Dense(units=48, input_shape=(orig_dim),activation='sigmoid'))\n",
        "model.add(Dropout(0.1))\n",
        "model.add(Dense(units=24,activation='sigmoid'))\n",
        "model.add(Dropout(0.1))\n",
        "model.add(Dense(units=8,activation='sigmoid'))\n",
        "model.add(Dense(units=1))\n",
        "m=[metrics.mean_squared_error, metrics.mean_absolute_error]\n",
        "model.compile(loss='mean_squared_error', optimizer='adamax', metrics=m)\n",
        "model.summary()"
      ],
      "execution_count": null,
      "outputs": [
        {
          "output_type": "stream",
          "text": [
            "Model: \"sequential_15\"\n",
            "_________________________________________________________________\n",
            "Layer (type)                 Output Shape              Param #   \n",
            "=================================================================\n",
            "dense_48 (Dense)             (None, 48)                48048     \n",
            "_________________________________________________________________\n",
            "dropout_21 (Dropout)         (None, 48)                0         \n",
            "_________________________________________________________________\n",
            "dense_49 (Dense)             (None, 24)                1176      \n",
            "_________________________________________________________________\n",
            "dropout_22 (Dropout)         (None, 24)                0         \n",
            "_________________________________________________________________\n",
            "dense_50 (Dense)             (None, 8)                 200       \n",
            "_________________________________________________________________\n",
            "dense_51 (Dense)             (None, 1)                 9         \n",
            "=================================================================\n",
            "Total params: 49,433\n",
            "Trainable params: 49,433\n",
            "Non-trainable params: 0\n",
            "_________________________________________________________________\n"
          ],
          "name": "stdout"
        }
      ]
    },
    {
      "cell_type": "code",
      "metadata": {
        "id": "O7OMJl11PDuc",
        "colab_type": "code",
        "colab": {
          "base_uri": "https://localhost:8080/",
          "height": 1000
        },
        "outputId": "51846f17-420d-4e43-8b32-3e277de47a59"
      },
      "source": [
        "nepochs = 200\n",
        "batch_size = 100\n",
        "h = model.fit(X_train,y_train,epochs=nepochs,batch_size=batch_size, validation_data=(X_test,y_test), verbose=1)"
      ],
      "execution_count": null,
      "outputs": [
        {
          "output_type": "stream",
          "text": [
            "Epoch 1/200\n",
            "140/140 [==============================] - 1s 5ms/step - loss: 805.4418 - mean_squared_error: 805.4418 - mean_absolute_error: 24.4288 - val_loss: 778.8177 - val_mean_squared_error: 778.8177 - val_mean_absolute_error: 23.9300\n",
            "Epoch 2/200\n",
            "140/140 [==============================] - 1s 4ms/step - loss: 764.1295 - mean_squared_error: 764.1295 - mean_absolute_error: 23.6108 - val_loss: 743.4106 - val_mean_squared_error: 743.4106 - val_mean_absolute_error: 23.2145\n",
            "Epoch 3/200\n",
            "140/140 [==============================] - 0s 3ms/step - loss: 733.8126 - mean_squared_error: 733.8126 - mean_absolute_error: 22.9944 - val_loss: 717.4524 - val_mean_squared_error: 717.4524 - val_mean_absolute_error: 22.6831\n",
            "Epoch 4/200\n",
            "140/140 [==============================] - 0s 3ms/step - loss: 710.1080 - mean_squared_error: 710.1080 - mean_absolute_error: 22.5079 - val_loss: 695.5944 - val_mean_squared_error: 695.5944 - val_mean_absolute_error: 22.2359\n",
            "Epoch 5/200\n",
            "140/140 [==============================] - 0s 3ms/step - loss: 689.2040 - mean_squared_error: 689.2040 - mean_absolute_error: 22.0753 - val_loss: 675.6931 - val_mean_squared_error: 675.6931 - val_mean_absolute_error: 21.8256\n",
            "Epoch 6/200\n",
            "140/140 [==============================] - 0s 3ms/step - loss: 669.6414 - mean_squared_error: 669.6414 - mean_absolute_error: 21.6667 - val_loss: 656.8716 - val_mean_squared_error: 656.8716 - val_mean_absolute_error: 21.4252\n",
            "Epoch 7/200\n",
            "140/140 [==============================] - 0s 3ms/step - loss: 652.1726 - mean_squared_error: 652.1726 - mean_absolute_error: 21.2984 - val_loss: 640.4612 - val_mean_squared_error: 640.4612 - val_mean_absolute_error: 21.0786\n",
            "Epoch 8/200\n",
            "140/140 [==============================] - 0s 3ms/step - loss: 635.4199 - mean_squared_error: 635.4199 - mean_absolute_error: 20.9423 - val_loss: 623.4922 - val_mean_squared_error: 623.4922 - val_mean_absolute_error: 20.7298\n",
            "Epoch 9/200\n",
            "140/140 [==============================] - 0s 3ms/step - loss: 618.1312 - mean_squared_error: 618.1312 - mean_absolute_error: 20.5770 - val_loss: 606.2975 - val_mean_squared_error: 606.2975 - val_mean_absolute_error: 20.3561\n",
            "Epoch 10/200\n",
            "140/140 [==============================] - 0s 3ms/step - loss: 601.7526 - mean_squared_error: 601.7526 - mean_absolute_error: 20.2250 - val_loss: 590.3706 - val_mean_squared_error: 590.3706 - val_mean_absolute_error: 20.0032\n",
            "Epoch 11/200\n",
            "140/140 [==============================] - 0s 3ms/step - loss: 585.4926 - mean_squared_error: 585.4926 - mean_absolute_error: 19.8755 - val_loss: 574.0582 - val_mean_squared_error: 574.0582 - val_mean_absolute_error: 19.6462\n",
            "Epoch 12/200\n",
            "140/140 [==============================] - 0s 3ms/step - loss: 569.3983 - mean_squared_error: 569.3983 - mean_absolute_error: 19.5276 - val_loss: 558.1884 - val_mean_squared_error: 558.1884 - val_mean_absolute_error: 19.3009\n",
            "Epoch 13/200\n",
            "140/140 [==============================] - 0s 3ms/step - loss: 553.5552 - mean_squared_error: 553.5552 - mean_absolute_error: 19.1871 - val_loss: 542.5173 - val_mean_squared_error: 542.5173 - val_mean_absolute_error: 18.9692\n",
            "Epoch 14/200\n",
            "140/140 [==============================] - 0s 3ms/step - loss: 538.2947 - mean_squared_error: 538.2947 - mean_absolute_error: 18.8537 - val_loss: 527.3759 - val_mean_squared_error: 527.3759 - val_mean_absolute_error: 18.6009\n",
            "Epoch 15/200\n",
            "140/140 [==============================] - 1s 4ms/step - loss: 523.2136 - mean_squared_error: 523.2136 - mean_absolute_error: 18.5068 - val_loss: 512.3685 - val_mean_squared_error: 512.3685 - val_mean_absolute_error: 18.2606\n",
            "Epoch 16/200\n",
            "140/140 [==============================] - 0s 3ms/step - loss: 508.0541 - mean_squared_error: 508.0541 - mean_absolute_error: 18.1637 - val_loss: 497.1298 - val_mean_squared_error: 497.1298 - val_mean_absolute_error: 17.9137\n",
            "Epoch 17/200\n",
            "140/140 [==============================] - 1s 4ms/step - loss: 493.0441 - mean_squared_error: 493.0441 - mean_absolute_error: 17.8211 - val_loss: 482.3523 - val_mean_squared_error: 482.3523 - val_mean_absolute_error: 17.5784\n",
            "Epoch 18/200\n",
            "140/140 [==============================] - 0s 3ms/step - loss: 478.4065 - mean_squared_error: 478.4065 - mean_absolute_error: 17.4938 - val_loss: 467.7588 - val_mean_squared_error: 467.7588 - val_mean_absolute_error: 17.2266\n",
            "Epoch 19/200\n",
            "140/140 [==============================] - 0s 3ms/step - loss: 464.0882 - mean_squared_error: 464.0882 - mean_absolute_error: 17.1625 - val_loss: 454.0042 - val_mean_squared_error: 454.0042 - val_mean_absolute_error: 16.9359\n",
            "Epoch 20/200\n",
            "140/140 [==============================] - 0s 3ms/step - loss: 450.6587 - mean_squared_error: 450.6587 - mean_absolute_error: 16.8523 - val_loss: 440.7048 - val_mean_squared_error: 440.7048 - val_mean_absolute_error: 16.5894\n",
            "Epoch 21/200\n",
            "140/140 [==============================] - 0s 3ms/step - loss: 437.8346 - mean_squared_error: 437.8346 - mean_absolute_error: 16.5659 - val_loss: 427.9325 - val_mean_squared_error: 427.9325 - val_mean_absolute_error: 16.3217\n",
            "Epoch 22/200\n",
            "140/140 [==============================] - 1s 4ms/step - loss: 424.6615 - mean_squared_error: 424.6615 - mean_absolute_error: 16.2514 - val_loss: 414.7803 - val_mean_squared_error: 414.7803 - val_mean_absolute_error: 15.9920\n",
            "Epoch 23/200\n",
            "140/140 [==============================] - 0s 3ms/step - loss: 411.8877 - mean_squared_error: 411.8877 - mean_absolute_error: 15.9451 - val_loss: 401.9613 - val_mean_squared_error: 401.9613 - val_mean_absolute_error: 15.6737\n",
            "Epoch 24/200\n",
            "140/140 [==============================] - 0s 3ms/step - loss: 399.2902 - mean_squared_error: 399.2902 - mean_absolute_error: 15.6316 - val_loss: 389.6063 - val_mean_squared_error: 389.6063 - val_mean_absolute_error: 15.3488\n",
            "Epoch 25/200\n",
            "140/140 [==============================] - 0s 3ms/step - loss: 387.4583 - mean_squared_error: 387.4583 - mean_absolute_error: 15.3551 - val_loss: 377.8708 - val_mean_squared_error: 377.8708 - val_mean_absolute_error: 15.0629\n",
            "Epoch 26/200\n",
            "140/140 [==============================] - 0s 3ms/step - loss: 376.5621 - mean_squared_error: 376.5621 - mean_absolute_error: 15.0827 - val_loss: 367.6769 - val_mean_squared_error: 367.6769 - val_mean_absolute_error: 14.8129\n",
            "Epoch 27/200\n",
            "140/140 [==============================] - 0s 3ms/step - loss: 365.8308 - mean_squared_error: 365.8308 - mean_absolute_error: 14.8046 - val_loss: 356.8173 - val_mean_squared_error: 356.8173 - val_mean_absolute_error: 14.5603\n",
            "Epoch 28/200\n",
            "140/140 [==============================] - 0s 3ms/step - loss: 354.7176 - mean_squared_error: 354.7176 - mean_absolute_error: 14.5391 - val_loss: 345.1671 - val_mean_squared_error: 345.1671 - val_mean_absolute_error: 14.2371\n",
            "Epoch 29/200\n",
            "140/140 [==============================] - 0s 3ms/step - loss: 343.4240 - mean_squared_error: 343.4240 - mean_absolute_error: 14.2594 - val_loss: 334.1632 - val_mean_squared_error: 334.1632 - val_mean_absolute_error: 13.9743\n",
            "Epoch 30/200\n",
            "140/140 [==============================] - 0s 3ms/step - loss: 332.3363 - mean_squared_error: 332.3363 - mean_absolute_error: 13.9714 - val_loss: 322.9153 - val_mean_squared_error: 322.9153 - val_mean_absolute_error: 13.6273\n",
            "Epoch 31/200\n",
            "140/140 [==============================] - 0s 3ms/step - loss: 321.8430 - mean_squared_error: 321.8430 - mean_absolute_error: 13.7037 - val_loss: 312.8430 - val_mean_squared_error: 312.8430 - val_mean_absolute_error: 13.3877\n",
            "Epoch 32/200\n",
            "140/140 [==============================] - 0s 3ms/step - loss: 311.6115 - mean_squared_error: 311.6115 - mean_absolute_error: 13.4303 - val_loss: 302.5378 - val_mean_squared_error: 302.5378 - val_mean_absolute_error: 13.0794\n",
            "Epoch 33/200\n",
            "140/140 [==============================] - 0s 3ms/step - loss: 301.4658 - mean_squared_error: 301.4658 - mean_absolute_error: 13.1598 - val_loss: 292.9575 - val_mean_squared_error: 292.9575 - val_mean_absolute_error: 12.8459\n",
            "Epoch 34/200\n",
            "140/140 [==============================] - 0s 3ms/step - loss: 292.3796 - mean_squared_error: 292.3796 - mean_absolute_error: 12.9199 - val_loss: 283.9769 - val_mean_squared_error: 283.9769 - val_mean_absolute_error: 12.5869\n",
            "Epoch 35/200\n",
            "140/140 [==============================] - 0s 3ms/step - loss: 283.2727 - mean_squared_error: 283.2727 - mean_absolute_error: 12.6599 - val_loss: 274.8063 - val_mean_squared_error: 274.8063 - val_mean_absolute_error: 12.3189\n",
            "Epoch 36/200\n",
            "140/140 [==============================] - 0s 3ms/step - loss: 274.4797 - mean_squared_error: 274.4797 - mean_absolute_error: 12.4350 - val_loss: 266.0260 - val_mean_squared_error: 266.0260 - val_mean_absolute_error: 12.0752\n",
            "Epoch 37/200\n",
            "140/140 [==============================] - 0s 3ms/step - loss: 265.7190 - mean_squared_error: 265.7190 - mean_absolute_error: 12.1996 - val_loss: 257.1475 - val_mean_squared_error: 257.1475 - val_mean_absolute_error: 11.8240\n",
            "Epoch 38/200\n",
            "140/140 [==============================] - 0s 3ms/step - loss: 256.6631 - mean_squared_error: 256.6631 - mean_absolute_error: 11.9383 - val_loss: 248.2807 - val_mean_squared_error: 248.2807 - val_mean_absolute_error: 11.5874\n",
            "Epoch 39/200\n",
            "140/140 [==============================] - 0s 3ms/step - loss: 248.5244 - mean_squared_error: 248.5244 - mean_absolute_error: 11.7227 - val_loss: 240.6687 - val_mean_squared_error: 240.6687 - val_mean_absolute_error: 11.3599\n",
            "Epoch 40/200\n",
            "140/140 [==============================] - 0s 3ms/step - loss: 240.8191 - mean_squared_error: 240.8191 - mean_absolute_error: 11.4897 - val_loss: 233.0998 - val_mean_squared_error: 233.0998 - val_mean_absolute_error: 11.1632\n",
            "Epoch 41/200\n",
            "140/140 [==============================] - 0s 3ms/step - loss: 233.0576 - mean_squared_error: 233.0576 - mean_absolute_error: 11.2670 - val_loss: 225.4247 - val_mean_squared_error: 225.4247 - val_mean_absolute_error: 10.9548\n",
            "Epoch 42/200\n",
            "140/140 [==============================] - 0s 3ms/step - loss: 225.1921 - mean_squared_error: 225.1921 - mean_absolute_error: 11.0418 - val_loss: 217.1487 - val_mean_squared_error: 217.1487 - val_mean_absolute_error: 10.6685\n",
            "Epoch 43/200\n",
            "140/140 [==============================] - 0s 3ms/step - loss: 217.3786 - mean_squared_error: 217.3786 - mean_absolute_error: 10.8171 - val_loss: 209.4701 - val_mean_squared_error: 209.4701 - val_mean_absolute_error: 10.4312\n",
            "Epoch 44/200\n",
            "140/140 [==============================] - 0s 3ms/step - loss: 209.5725 - mean_squared_error: 209.5725 - mean_absolute_error: 10.5593 - val_loss: 201.9308 - val_mean_squared_error: 201.9308 - val_mean_absolute_error: 10.1870\n",
            "Epoch 45/200\n",
            "140/140 [==============================] - 1s 4ms/step - loss: 202.4437 - mean_squared_error: 202.4437 - mean_absolute_error: 10.3531 - val_loss: 195.1052 - val_mean_squared_error: 195.1052 - val_mean_absolute_error: 9.9897\n",
            "Epoch 46/200\n",
            "140/140 [==============================] - 0s 3ms/step - loss: 195.5256 - mean_squared_error: 195.5256 - mean_absolute_error: 10.1435 - val_loss: 188.1638 - val_mean_squared_error: 188.1638 - val_mean_absolute_error: 9.7612\n",
            "Epoch 47/200\n",
            "140/140 [==============================] - 0s 3ms/step - loss: 188.7404 - mean_squared_error: 188.7404 - mean_absolute_error: 9.9249 - val_loss: 181.5162 - val_mean_squared_error: 181.5162 - val_mean_absolute_error: 9.5482\n",
            "Epoch 48/200\n",
            "140/140 [==============================] - 0s 3ms/step - loss: 182.1600 - mean_squared_error: 182.1600 - mean_absolute_error: 9.7132 - val_loss: 175.2348 - val_mean_squared_error: 175.2348 - val_mean_absolute_error: 9.3822\n",
            "Epoch 49/200\n",
            "140/140 [==============================] - 1s 4ms/step - loss: 175.6438 - mean_squared_error: 175.6438 - mean_absolute_error: 9.5141 - val_loss: 168.6009 - val_mean_squared_error: 168.6009 - val_mean_absolute_error: 9.1513\n",
            "Epoch 50/200\n",
            "140/140 [==============================] - 0s 3ms/step - loss: 169.2735 - mean_squared_error: 169.2735 - mean_absolute_error: 9.3086 - val_loss: 162.4861 - val_mean_squared_error: 162.4861 - val_mean_absolute_error: 8.9405\n",
            "Epoch 51/200\n",
            "140/140 [==============================] - 0s 3ms/step - loss: 163.3092 - mean_squared_error: 163.3092 - mean_absolute_error: 9.1217 - val_loss: 156.6523 - val_mean_squared_error: 156.6523 - val_mean_absolute_error: 8.7607\n",
            "Epoch 52/200\n",
            "140/140 [==============================] - 0s 3ms/step - loss: 157.3420 - mean_squared_error: 157.3420 - mean_absolute_error: 8.9216 - val_loss: 150.8156 - val_mean_squared_error: 150.8156 - val_mean_absolute_error: 8.5591\n",
            "Epoch 53/200\n",
            "140/140 [==============================] - 0s 3ms/step - loss: 151.5896 - mean_squared_error: 151.5896 - mean_absolute_error: 8.7256 - val_loss: 145.0051 - val_mean_squared_error: 145.0051 - val_mean_absolute_error: 8.3455\n",
            "Epoch 54/200\n",
            "140/140 [==============================] - 0s 3ms/step - loss: 145.7740 - mean_squared_error: 145.7740 - mean_absolute_error: 8.5247 - val_loss: 139.3164 - val_mean_squared_error: 139.3164 - val_mean_absolute_error: 8.1466\n",
            "Epoch 55/200\n",
            "140/140 [==============================] - 0s 3ms/step - loss: 140.1267 - mean_squared_error: 140.1267 - mean_absolute_error: 8.3284 - val_loss: 133.8727 - val_mean_squared_error: 133.8727 - val_mean_absolute_error: 7.9595\n",
            "Epoch 56/200\n",
            "140/140 [==============================] - 0s 3ms/step - loss: 134.7306 - mean_squared_error: 134.7306 - mean_absolute_error: 8.1380 - val_loss: 128.4960 - val_mean_squared_error: 128.4960 - val_mean_absolute_error: 7.7601\n",
            "Epoch 57/200\n",
            "140/140 [==============================] - 1s 4ms/step - loss: 129.4250 - mean_squared_error: 129.4250 - mean_absolute_error: 7.9564 - val_loss: 123.5331 - val_mean_squared_error: 123.5331 - val_mean_absolute_error: 7.6098\n",
            "Epoch 58/200\n",
            "140/140 [==============================] - 0s 3ms/step - loss: 124.4579 - mean_squared_error: 124.4579 - mean_absolute_error: 7.7904 - val_loss: 118.4383 - val_mean_squared_error: 118.4383 - val_mean_absolute_error: 7.4013\n",
            "Epoch 59/200\n",
            "140/140 [==============================] - 0s 3ms/step - loss: 119.4566 - mean_squared_error: 119.4566 - mean_absolute_error: 7.6086 - val_loss: 113.5539 - val_mean_squared_error: 113.5539 - val_mean_absolute_error: 7.2229\n",
            "Epoch 60/200\n",
            "140/140 [==============================] - 0s 3ms/step - loss: 114.8714 - mean_squared_error: 114.8714 - mean_absolute_error: 7.4511 - val_loss: 109.0876 - val_mean_squared_error: 109.0876 - val_mean_absolute_error: 7.0618\n",
            "Epoch 61/200\n",
            "140/140 [==============================] - 0s 3ms/step - loss: 110.4892 - mean_squared_error: 110.4892 - mean_absolute_error: 7.2759 - val_loss: 105.0108 - val_mean_squared_error: 105.0108 - val_mean_absolute_error: 6.9014\n",
            "Epoch 62/200\n",
            "140/140 [==============================] - 1s 4ms/step - loss: 106.5163 - mean_squared_error: 106.5163 - mean_absolute_error: 7.1390 - val_loss: 101.0584 - val_mean_squared_error: 101.0584 - val_mean_absolute_error: 6.7666\n",
            "Epoch 63/200\n",
            "140/140 [==============================] - 1s 4ms/step - loss: 102.2738 - mean_squared_error: 102.2738 - mean_absolute_error: 6.9775 - val_loss: 96.8463 - val_mean_squared_error: 96.8463 - val_mean_absolute_error: 6.5880\n",
            "Epoch 64/200\n",
            "140/140 [==============================] - 0s 3ms/step - loss: 98.3032 - mean_squared_error: 98.3032 - mean_absolute_error: 6.8162 - val_loss: 93.1111 - val_mean_squared_error: 93.1111 - val_mean_absolute_error: 6.4591\n",
            "Epoch 65/200\n",
            "140/140 [==============================] - 0s 3ms/step - loss: 94.4417 - mean_squared_error: 94.4417 - mean_absolute_error: 6.6776 - val_loss: 89.0854 - val_mean_squared_error: 89.0854 - val_mean_absolute_error: 6.2807\n",
            "Epoch 66/200\n",
            "140/140 [==============================] - 0s 3ms/step - loss: 90.6171 - mean_squared_error: 90.6171 - mean_absolute_error: 6.5179 - val_loss: 85.6559 - val_mean_squared_error: 85.6559 - val_mean_absolute_error: 6.1565\n",
            "Epoch 67/200\n",
            "140/140 [==============================] - 0s 4ms/step - loss: 87.1831 - mean_squared_error: 87.1831 - mean_absolute_error: 6.3932 - val_loss: 82.1530 - val_mean_squared_error: 82.1530 - val_mean_absolute_error: 5.9944\n",
            "Epoch 68/200\n",
            "140/140 [==============================] - 0s 3ms/step - loss: 83.6935 - mean_squared_error: 83.6935 - mean_absolute_error: 6.2467 - val_loss: 78.7008 - val_mean_squared_error: 78.7008 - val_mean_absolute_error: 5.8560\n",
            "Epoch 69/200\n",
            "140/140 [==============================] - 0s 3ms/step - loss: 80.1640 - mean_squared_error: 80.1640 - mean_absolute_error: 6.0992 - val_loss: 75.5518 - val_mean_squared_error: 75.5518 - val_mean_absolute_error: 5.7568\n",
            "Epoch 70/200\n",
            "140/140 [==============================] - 0s 3ms/step - loss: 77.0917 - mean_squared_error: 77.0917 - mean_absolute_error: 5.9836 - val_loss: 72.2805 - val_mean_squared_error: 72.2805 - val_mean_absolute_error: 5.5739\n",
            "Epoch 71/200\n",
            "140/140 [==============================] - 0s 3ms/step - loss: 74.0735 - mean_squared_error: 74.0735 - mean_absolute_error: 5.8544 - val_loss: 69.2609 - val_mean_squared_error: 69.2609 - val_mean_absolute_error: 5.4469\n",
            "Epoch 72/200\n",
            "140/140 [==============================] - 0s 3ms/step - loss: 70.9025 - mean_squared_error: 70.9025 - mean_absolute_error: 5.7213 - val_loss: 66.2569 - val_mean_squared_error: 66.2569 - val_mean_absolute_error: 5.3355\n",
            "Epoch 73/200\n",
            "140/140 [==============================] - 0s 3ms/step - loss: 67.9487 - mean_squared_error: 67.9487 - mean_absolute_error: 5.6115 - val_loss: 63.1401 - val_mean_squared_error: 63.1401 - val_mean_absolute_error: 5.1706\n",
            "Epoch 74/200\n",
            "140/140 [==============================] - 0s 3ms/step - loss: 64.8960 - mean_squared_error: 64.8960 - mean_absolute_error: 5.4696 - val_loss: 60.4294 - val_mean_squared_error: 60.4294 - val_mean_absolute_error: 5.0636\n",
            "Epoch 75/200\n",
            "140/140 [==============================] - 0s 3ms/step - loss: 62.1694 - mean_squared_error: 62.1694 - mean_absolute_error: 5.3394 - val_loss: 58.0578 - val_mean_squared_error: 58.0578 - val_mean_absolute_error: 4.9873\n",
            "Epoch 76/200\n",
            "140/140 [==============================] - 0s 3ms/step - loss: 59.6389 - mean_squared_error: 59.6389 - mean_absolute_error: 5.2375 - val_loss: 55.1036 - val_mean_squared_error: 55.1036 - val_mean_absolute_error: 4.8008\n",
            "Epoch 77/200\n",
            "140/140 [==============================] - 0s 3ms/step - loss: 56.9666 - mean_squared_error: 56.9666 - mean_absolute_error: 5.1117 - val_loss: 52.7093 - val_mean_squared_error: 52.7093 - val_mean_absolute_error: 4.6983\n",
            "Epoch 78/200\n",
            "140/140 [==============================] - 0s 3ms/step - loss: 54.5833 - mean_squared_error: 54.5833 - mean_absolute_error: 5.0041 - val_loss: 50.3672 - val_mean_squared_error: 50.3672 - val_mean_absolute_error: 4.5773\n",
            "Epoch 79/200\n",
            "140/140 [==============================] - 0s 3ms/step - loss: 52.2360 - mean_squared_error: 52.2360 - mean_absolute_error: 4.8902 - val_loss: 48.1795 - val_mean_squared_error: 48.1795 - val_mean_absolute_error: 4.4759\n",
            "Epoch 80/200\n",
            "140/140 [==============================] - 0s 4ms/step - loss: 50.0511 - mean_squared_error: 50.0511 - mean_absolute_error: 4.7890 - val_loss: 45.9994 - val_mean_squared_error: 45.9994 - val_mean_absolute_error: 4.3642\n",
            "Epoch 81/200\n",
            "140/140 [==============================] - 0s 3ms/step - loss: 48.0726 - mean_squared_error: 48.0726 - mean_absolute_error: 4.7087 - val_loss: 44.1414 - val_mean_squared_error: 44.1414 - val_mean_absolute_error: 4.2978\n",
            "Epoch 82/200\n",
            "140/140 [==============================] - 0s 3ms/step - loss: 45.8883 - mean_squared_error: 45.8883 - mean_absolute_error: 4.5954 - val_loss: 42.0376 - val_mean_squared_error: 42.0376 - val_mean_absolute_error: 4.1693\n",
            "Epoch 83/200\n",
            "140/140 [==============================] - 0s 3ms/step - loss: 43.8122 - mean_squared_error: 43.8122 - mean_absolute_error: 4.4761 - val_loss: 40.1269 - val_mean_squared_error: 40.1269 - val_mean_absolute_error: 4.0727\n",
            "Epoch 84/200\n",
            "140/140 [==============================] - 0s 3ms/step - loss: 42.0554 - mean_squared_error: 42.0554 - mean_absolute_error: 4.3948 - val_loss: 38.2952 - val_mean_squared_error: 38.2952 - val_mean_absolute_error: 3.9702\n",
            "Epoch 85/200\n",
            "140/140 [==============================] - 0s 3ms/step - loss: 40.0744 - mean_squared_error: 40.0744 - mean_absolute_error: 4.2899 - val_loss: 36.7285 - val_mean_squared_error: 36.7285 - val_mean_absolute_error: 3.9227\n",
            "Epoch 86/200\n",
            "140/140 [==============================] - 0s 3ms/step - loss: 38.3946 - mean_squared_error: 38.3946 - mean_absolute_error: 4.2065 - val_loss: 34.9042 - val_mean_squared_error: 34.9042 - val_mean_absolute_error: 3.7986\n",
            "Epoch 87/200\n",
            "140/140 [==============================] - 1s 4ms/step - loss: 36.7017 - mean_squared_error: 36.7017 - mean_absolute_error: 4.1227 - val_loss: 33.1540 - val_mean_squared_error: 33.1540 - val_mean_absolute_error: 3.6981\n",
            "Epoch 88/200\n",
            "140/140 [==============================] - 0s 3ms/step - loss: 35.0218 - mean_squared_error: 35.0218 - mean_absolute_error: 4.0254 - val_loss: 31.7222 - val_mean_squared_error: 31.7222 - val_mean_absolute_error: 3.6160\n",
            "Epoch 89/200\n",
            "140/140 [==============================] - 0s 3ms/step - loss: 33.5568 - mean_squared_error: 33.5568 - mean_absolute_error: 3.9495 - val_loss: 30.2466 - val_mean_squared_error: 30.2466 - val_mean_absolute_error: 3.5289\n",
            "Epoch 90/200\n",
            "140/140 [==============================] - 1s 4ms/step - loss: 32.2334 - mean_squared_error: 32.2334 - mean_absolute_error: 3.8855 - val_loss: 28.8201 - val_mean_squared_error: 28.8201 - val_mean_absolute_error: 3.4462\n",
            "Epoch 91/200\n",
            "140/140 [==============================] - 0s 3ms/step - loss: 30.6502 - mean_squared_error: 30.6502 - mean_absolute_error: 3.7869 - val_loss: 27.6153 - val_mean_squared_error: 27.6153 - val_mean_absolute_error: 3.3934\n",
            "Epoch 92/200\n",
            "140/140 [==============================] - 0s 3ms/step - loss: 29.4282 - mean_squared_error: 29.4282 - mean_absolute_error: 3.7153 - val_loss: 26.3572 - val_mean_squared_error: 26.3572 - val_mean_absolute_error: 3.3117\n",
            "Epoch 93/200\n",
            "140/140 [==============================] - 1s 4ms/step - loss: 28.4572 - mean_squared_error: 28.4572 - mean_absolute_error: 3.6799 - val_loss: 25.3289 - val_mean_squared_error: 25.3289 - val_mean_absolute_error: 3.2594\n",
            "Epoch 94/200\n",
            "140/140 [==============================] - 0s 4ms/step - loss: 27.0897 - mean_squared_error: 27.0897 - mean_absolute_error: 3.5861 - val_loss: 24.2176 - val_mean_squared_error: 24.2176 - val_mean_absolute_error: 3.1949\n",
            "Epoch 95/200\n",
            "140/140 [==============================] - 1s 4ms/step - loss: 25.9681 - mean_squared_error: 25.9681 - mean_absolute_error: 3.5196 - val_loss: 23.1115 - val_mean_squared_error: 23.1115 - val_mean_absolute_error: 3.1304\n",
            "Epoch 96/200\n",
            "140/140 [==============================] - 0s 3ms/step - loss: 24.8020 - mean_squared_error: 24.8020 - mean_absolute_error: 3.4546 - val_loss: 21.8455 - val_mean_squared_error: 21.8455 - val_mean_absolute_error: 3.0357\n",
            "Epoch 97/200\n",
            "140/140 [==============================] - 0s 3ms/step - loss: 23.6614 - mean_squared_error: 23.6614 - mean_absolute_error: 3.3861 - val_loss: 20.7188 - val_mean_squared_error: 20.7188 - val_mean_absolute_error: 2.9678\n",
            "Epoch 98/200\n",
            "140/140 [==============================] - 0s 3ms/step - loss: 22.5867 - mean_squared_error: 22.5867 - mean_absolute_error: 3.3190 - val_loss: 19.7695 - val_mean_squared_error: 19.7695 - val_mean_absolute_error: 2.9107\n",
            "Epoch 99/200\n",
            "140/140 [==============================] - 0s 3ms/step - loss: 21.6127 - mean_squared_error: 21.6127 - mean_absolute_error: 3.2548 - val_loss: 18.7965 - val_mean_squared_error: 18.7965 - val_mean_absolute_error: 2.8342\n",
            "Epoch 100/200\n",
            "140/140 [==============================] - 0s 3ms/step - loss: 20.5905 - mean_squared_error: 20.5905 - mean_absolute_error: 3.1761 - val_loss: 18.0445 - val_mean_squared_error: 18.0445 - val_mean_absolute_error: 2.8014\n",
            "Epoch 101/200\n",
            "140/140 [==============================] - 0s 3ms/step - loss: 19.9305 - mean_squared_error: 19.9305 - mean_absolute_error: 3.1518 - val_loss: 17.2173 - val_mean_squared_error: 17.2173 - val_mean_absolute_error: 2.7478\n",
            "Epoch 102/200\n",
            "140/140 [==============================] - 0s 3ms/step - loss: 18.9635 - mean_squared_error: 18.9635 - mean_absolute_error: 3.0769 - val_loss: 16.6221 - val_mean_squared_error: 16.6221 - val_mean_absolute_error: 2.7384\n",
            "Epoch 103/200\n",
            "140/140 [==============================] - 0s 3ms/step - loss: 18.0725 - mean_squared_error: 18.0725 - mean_absolute_error: 3.0143 - val_loss: 15.5334 - val_mean_squared_error: 15.5334 - val_mean_absolute_error: 2.6147\n",
            "Epoch 104/200\n",
            "140/140 [==============================] - 0s 3ms/step - loss: 17.4343 - mean_squared_error: 17.4343 - mean_absolute_error: 2.9763 - val_loss: 14.9192 - val_mean_squared_error: 14.9192 - val_mean_absolute_error: 2.5850\n",
            "Epoch 105/200\n",
            "140/140 [==============================] - 0s 4ms/step - loss: 16.7144 - mean_squared_error: 16.7144 - mean_absolute_error: 2.9225 - val_loss: 14.2848 - val_mean_squared_error: 14.2848 - val_mean_absolute_error: 2.5380\n",
            "Epoch 106/200\n",
            "140/140 [==============================] - 0s 3ms/step - loss: 16.1254 - mean_squared_error: 16.1254 - mean_absolute_error: 2.8781 - val_loss: 13.6984 - val_mean_squared_error: 13.6984 - val_mean_absolute_error: 2.4970\n",
            "Epoch 107/200\n",
            "140/140 [==============================] - 1s 4ms/step - loss: 15.4746 - mean_squared_error: 15.4746 - mean_absolute_error: 2.8359 - val_loss: 13.1462 - val_mean_squared_error: 13.1462 - val_mean_absolute_error: 2.4622\n",
            "Epoch 108/200\n",
            "140/140 [==============================] - 1s 4ms/step - loss: 14.8290 - mean_squared_error: 14.8290 - mean_absolute_error: 2.7771 - val_loss: 12.6158 - val_mean_squared_error: 12.6158 - val_mean_absolute_error: 2.4262\n",
            "Epoch 109/200\n",
            "140/140 [==============================] - 0s 3ms/step - loss: 14.3557 - mean_squared_error: 14.3557 - mean_absolute_error: 2.7459 - val_loss: 12.1135 - val_mean_squared_error: 12.1135 - val_mean_absolute_error: 2.3886\n",
            "Epoch 110/200\n",
            "140/140 [==============================] - 1s 4ms/step - loss: 13.8092 - mean_squared_error: 13.8092 - mean_absolute_error: 2.7021 - val_loss: 11.5119 - val_mean_squared_error: 11.5119 - val_mean_absolute_error: 2.3297\n",
            "Epoch 111/200\n",
            "140/140 [==============================] - 1s 4ms/step - loss: 13.3442 - mean_squared_error: 13.3442 - mean_absolute_error: 2.6752 - val_loss: 11.1127 - val_mean_squared_error: 11.1127 - val_mean_absolute_error: 2.3081\n",
            "Epoch 112/200\n",
            "140/140 [==============================] - 0s 3ms/step - loss: 12.8146 - mean_squared_error: 12.8146 - mean_absolute_error: 2.6304 - val_loss: 10.5768 - val_mean_squared_error: 10.5768 - val_mean_absolute_error: 2.2553\n",
            "Epoch 113/200\n",
            "140/140 [==============================] - 0s 3ms/step - loss: 12.3879 - mean_squared_error: 12.3879 - mean_absolute_error: 2.6027 - val_loss: 10.1972 - val_mean_squared_error: 10.1972 - val_mean_absolute_error: 2.2318\n",
            "Epoch 114/200\n",
            "140/140 [==============================] - 0s 3ms/step - loss: 11.9536 - mean_squared_error: 11.9536 - mean_absolute_error: 2.5597 - val_loss: 9.9678 - val_mean_squared_error: 9.9678 - val_mean_absolute_error: 2.2332\n",
            "Epoch 115/200\n",
            "140/140 [==============================] - 0s 3ms/step - loss: 11.4139 - mean_squared_error: 11.4139 - mean_absolute_error: 2.5131 - val_loss: 9.2944 - val_mean_squared_error: 9.2944 - val_mean_absolute_error: 2.1434\n",
            "Epoch 116/200\n",
            "140/140 [==============================] - 0s 3ms/step - loss: 11.1551 - mean_squared_error: 11.1551 - mean_absolute_error: 2.4975 - val_loss: 8.9969 - val_mean_squared_error: 8.9969 - val_mean_absolute_error: 2.1277\n",
            "Epoch 117/200\n",
            "140/140 [==============================] - 0s 3ms/step - loss: 10.7551 - mean_squared_error: 10.7551 - mean_absolute_error: 2.4642 - val_loss: 8.6687 - val_mean_squared_error: 8.6687 - val_mean_absolute_error: 2.1021\n",
            "Epoch 118/200\n",
            "140/140 [==============================] - 0s 3ms/step - loss: 10.3740 - mean_squared_error: 10.3740 - mean_absolute_error: 2.4275 - val_loss: 8.2689 - val_mean_squared_error: 8.2689 - val_mean_absolute_error: 2.0517\n",
            "Epoch 119/200\n",
            "140/140 [==============================] - 0s 3ms/step - loss: 10.1247 - mean_squared_error: 10.1247 - mean_absolute_error: 2.4046 - val_loss: 8.2500 - val_mean_squared_error: 8.2500 - val_mean_absolute_error: 2.0869\n",
            "Epoch 120/200\n",
            "140/140 [==============================] - 0s 3ms/step - loss: 9.9193 - mean_squared_error: 9.9193 - mean_absolute_error: 2.3935 - val_loss: 7.7616 - val_mean_squared_error: 7.7616 - val_mean_absolute_error: 2.0160\n",
            "Epoch 121/200\n",
            "140/140 [==============================] - 0s 4ms/step - loss: 9.6849 - mean_squared_error: 9.6849 - mean_absolute_error: 2.3715 - val_loss: 7.4582 - val_mean_squared_error: 7.4582 - val_mean_absolute_error: 1.9841\n",
            "Epoch 122/200\n",
            "140/140 [==============================] - 0s 3ms/step - loss: 9.3140 - mean_squared_error: 9.3140 - mean_absolute_error: 2.3326 - val_loss: 7.4204 - val_mean_squared_error: 7.4204 - val_mean_absolute_error: 1.9994\n",
            "Epoch 123/200\n",
            "140/140 [==============================] - 0s 3ms/step - loss: 9.1725 - mean_squared_error: 9.1725 - mean_absolute_error: 2.3227 - val_loss: 7.1319 - val_mean_squared_error: 7.1319 - val_mean_absolute_error: 1.9696\n",
            "Epoch 124/200\n",
            "140/140 [==============================] - 0s 3ms/step - loss: 8.7422 - mean_squared_error: 8.7422 - mean_absolute_error: 2.2734 - val_loss: 6.9795 - val_mean_squared_error: 6.9795 - val_mean_absolute_error: 1.9570\n",
            "Epoch 125/200\n",
            "140/140 [==============================] - 0s 3ms/step - loss: 8.7037 - mean_squared_error: 8.7037 - mean_absolute_error: 2.2735 - val_loss: 6.9232 - val_mean_squared_error: 6.9232 - val_mean_absolute_error: 1.9657\n",
            "Epoch 126/200\n",
            "140/140 [==============================] - 0s 4ms/step - loss: 8.3924 - mean_squared_error: 8.3924 - mean_absolute_error: 2.2423 - val_loss: 6.5710 - val_mean_squared_error: 6.5710 - val_mean_absolute_error: 1.9174\n",
            "Epoch 127/200\n",
            "140/140 [==============================] - 0s 3ms/step - loss: 8.3010 - mean_squared_error: 8.3010 - mean_absolute_error: 2.2398 - val_loss: 6.2786 - val_mean_squared_error: 6.2786 - val_mean_absolute_error: 1.8715\n",
            "Epoch 128/200\n",
            "140/140 [==============================] - 1s 4ms/step - loss: 8.1495 - mean_squared_error: 8.1495 - mean_absolute_error: 2.2251 - val_loss: 6.2072 - val_mean_squared_error: 6.2072 - val_mean_absolute_error: 1.8733\n",
            "Epoch 129/200\n",
            "140/140 [==============================] - 0s 3ms/step - loss: 8.0923 - mean_squared_error: 8.0923 - mean_absolute_error: 2.2207 - val_loss: 5.9618 - val_mean_squared_error: 5.9618 - val_mean_absolute_error: 1.8408\n",
            "Epoch 130/200\n",
            "140/140 [==============================] - 0s 3ms/step - loss: 7.8811 - mean_squared_error: 7.8811 - mean_absolute_error: 2.1933 - val_loss: 6.0017 - val_mean_squared_error: 6.0017 - val_mean_absolute_error: 1.8593\n",
            "Epoch 131/200\n",
            "140/140 [==============================] - 0s 3ms/step - loss: 7.7503 - mean_squared_error: 7.7503 - mean_absolute_error: 2.1719 - val_loss: 5.8589 - val_mean_squared_error: 5.8589 - val_mean_absolute_error: 1.8445\n",
            "Epoch 132/200\n",
            "140/140 [==============================] - 0s 3ms/step - loss: 7.6428 - mean_squared_error: 7.6428 - mean_absolute_error: 2.1606 - val_loss: 5.7102 - val_mean_squared_error: 5.7102 - val_mean_absolute_error: 1.8244\n",
            "Epoch 133/200\n",
            "140/140 [==============================] - 0s 3ms/step - loss: 7.4899 - mean_squared_error: 7.4899 - mean_absolute_error: 2.1526 - val_loss: 5.7253 - val_mean_squared_error: 5.7253 - val_mean_absolute_error: 1.8368\n",
            "Epoch 134/200\n",
            "140/140 [==============================] - 0s 3ms/step - loss: 7.3671 - mean_squared_error: 7.3671 - mean_absolute_error: 2.1311 - val_loss: 5.4462 - val_mean_squared_error: 5.4462 - val_mean_absolute_error: 1.7878\n",
            "Epoch 135/200\n",
            "140/140 [==============================] - 0s 3ms/step - loss: 7.2555 - mean_squared_error: 7.2555 - mean_absolute_error: 2.1199 - val_loss: 5.4951 - val_mean_squared_error: 5.4951 - val_mean_absolute_error: 1.8077\n",
            "Epoch 136/200\n",
            "140/140 [==============================] - 0s 3ms/step - loss: 7.2209 - mean_squared_error: 7.2209 - mean_absolute_error: 2.1205 - val_loss: 5.3402 - val_mean_squared_error: 5.3402 - val_mean_absolute_error: 1.7864\n",
            "Epoch 137/200\n",
            "140/140 [==============================] - 0s 3ms/step - loss: 7.1145 - mean_squared_error: 7.1145 - mean_absolute_error: 2.0983 - val_loss: 5.1733 - val_mean_squared_error: 5.1733 - val_mean_absolute_error: 1.7612\n",
            "Epoch 138/200\n",
            "140/140 [==============================] - 0s 3ms/step - loss: 7.0301 - mean_squared_error: 7.0301 - mean_absolute_error: 2.0952 - val_loss: 5.1244 - val_mean_squared_error: 5.1244 - val_mean_absolute_error: 1.7573\n",
            "Epoch 139/200\n",
            "140/140 [==============================] - 0s 3ms/step - loss: 6.7894 - mean_squared_error: 6.7894 - mean_absolute_error: 2.0662 - val_loss: 5.0950 - val_mean_squared_error: 5.0950 - val_mean_absolute_error: 1.7600\n",
            "Epoch 140/200\n",
            "140/140 [==============================] - 0s 3ms/step - loss: 6.8035 - mean_squared_error: 6.8035 - mean_absolute_error: 2.0603 - val_loss: 4.9148 - val_mean_squared_error: 4.9148 - val_mean_absolute_error: 1.7283\n",
            "Epoch 141/200\n",
            "140/140 [==============================] - 0s 4ms/step - loss: 6.7329 - mean_squared_error: 6.7329 - mean_absolute_error: 2.0620 - val_loss: 5.0304 - val_mean_squared_error: 5.0304 - val_mean_absolute_error: 1.7578\n",
            "Epoch 142/200\n",
            "140/140 [==============================] - 0s 4ms/step - loss: 6.6180 - mean_squared_error: 6.6180 - mean_absolute_error: 2.0318 - val_loss: 4.7299 - val_mean_squared_error: 4.7299 - val_mean_absolute_error: 1.6955\n",
            "Epoch 143/200\n",
            "140/140 [==============================] - 0s 3ms/step - loss: 6.5529 - mean_squared_error: 6.5529 - mean_absolute_error: 2.0336 - val_loss: 4.6742 - val_mean_squared_error: 4.6742 - val_mean_absolute_error: 1.6925\n",
            "Epoch 144/200\n",
            "140/140 [==============================] - 0s 3ms/step - loss: 6.6216 - mean_squared_error: 6.6216 - mean_absolute_error: 2.0478 - val_loss: 4.7268 - val_mean_squared_error: 4.7268 - val_mean_absolute_error: 1.7116\n",
            "Epoch 145/200\n",
            "140/140 [==============================] - 0s 3ms/step - loss: 6.4293 - mean_squared_error: 6.4293 - mean_absolute_error: 2.0186 - val_loss: 4.5738 - val_mean_squared_error: 4.5738 - val_mean_absolute_error: 1.6832\n",
            "Epoch 146/200\n",
            "140/140 [==============================] - 0s 3ms/step - loss: 6.4784 - mean_squared_error: 6.4784 - mean_absolute_error: 2.0268 - val_loss: 4.5986 - val_mean_squared_error: 4.5986 - val_mean_absolute_error: 1.6869\n",
            "Epoch 147/200\n",
            "140/140 [==============================] - 0s 3ms/step - loss: 6.4063 - mean_squared_error: 6.4063 - mean_absolute_error: 2.0047 - val_loss: 4.5972 - val_mean_squared_error: 4.5972 - val_mean_absolute_error: 1.6928\n",
            "Epoch 148/200\n",
            "140/140 [==============================] - 0s 3ms/step - loss: 6.3468 - mean_squared_error: 6.3468 - mean_absolute_error: 1.9930 - val_loss: 4.4960 - val_mean_squared_error: 4.4960 - val_mean_absolute_error: 1.6762\n",
            "Epoch 149/200\n",
            "140/140 [==============================] - 0s 3ms/step - loss: 6.3100 - mean_squared_error: 6.3100 - mean_absolute_error: 1.9914 - val_loss: 4.3925 - val_mean_squared_error: 4.3925 - val_mean_absolute_error: 1.6559\n",
            "Epoch 150/200\n",
            "140/140 [==============================] - 0s 4ms/step - loss: 6.2073 - mean_squared_error: 6.2073 - mean_absolute_error: 1.9742 - val_loss: 4.4675 - val_mean_squared_error: 4.4675 - val_mean_absolute_error: 1.6739\n",
            "Epoch 151/200\n",
            "140/140 [==============================] - 0s 3ms/step - loss: 6.1078 - mean_squared_error: 6.1078 - mean_absolute_error: 1.9682 - val_loss: 4.4436 - val_mean_squared_error: 4.4436 - val_mean_absolute_error: 1.6700\n",
            "Epoch 152/200\n",
            "140/140 [==============================] - 0s 3ms/step - loss: 6.1035 - mean_squared_error: 6.1035 - mean_absolute_error: 1.9640 - val_loss: 4.4336 - val_mean_squared_error: 4.4336 - val_mean_absolute_error: 1.6713\n",
            "Epoch 153/200\n",
            "140/140 [==============================] - 0s 3ms/step - loss: 6.0531 - mean_squared_error: 6.0531 - mean_absolute_error: 1.9581 - val_loss: 4.5806 - val_mean_squared_error: 4.5806 - val_mean_absolute_error: 1.7055\n",
            "Epoch 154/200\n",
            "140/140 [==============================] - 0s 3ms/step - loss: 6.0697 - mean_squared_error: 6.0697 - mean_absolute_error: 1.9675 - val_loss: 4.2600 - val_mean_squared_error: 4.2600 - val_mean_absolute_error: 1.6377\n",
            "Epoch 155/200\n",
            "140/140 [==============================] - 0s 3ms/step - loss: 5.8957 - mean_squared_error: 5.8957 - mean_absolute_error: 1.9340 - val_loss: 4.2383 - val_mean_squared_error: 4.2383 - val_mean_absolute_error: 1.6365\n",
            "Epoch 156/200\n",
            "140/140 [==============================] - 1s 4ms/step - loss: 5.9578 - mean_squared_error: 5.9578 - mean_absolute_error: 1.9466 - val_loss: 4.2830 - val_mean_squared_error: 4.2830 - val_mean_absolute_error: 1.6477\n",
            "Epoch 157/200\n",
            "140/140 [==============================] - 0s 3ms/step - loss: 5.9902 - mean_squared_error: 5.9902 - mean_absolute_error: 1.9448 - val_loss: 4.2197 - val_mean_squared_error: 4.2197 - val_mean_absolute_error: 1.6351\n",
            "Epoch 158/200\n",
            "140/140 [==============================] - 0s 3ms/step - loss: 5.9615 - mean_squared_error: 5.9615 - mean_absolute_error: 1.9428 - val_loss: 4.1144 - val_mean_squared_error: 4.1144 - val_mean_absolute_error: 1.6104\n",
            "Epoch 159/200\n",
            "140/140 [==============================] - 0s 4ms/step - loss: 5.9927 - mean_squared_error: 5.9927 - mean_absolute_error: 1.9474 - val_loss: 4.2501 - val_mean_squared_error: 4.2501 - val_mean_absolute_error: 1.6500\n",
            "Epoch 160/200\n",
            "140/140 [==============================] - 0s 3ms/step - loss: 5.9005 - mean_squared_error: 5.9005 - mean_absolute_error: 1.9391 - val_loss: 4.2077 - val_mean_squared_error: 4.2077 - val_mean_absolute_error: 1.6338\n",
            "Epoch 161/200\n",
            "140/140 [==============================] - 0s 3ms/step - loss: 5.7964 - mean_squared_error: 5.7964 - mean_absolute_error: 1.9148 - val_loss: 4.1895 - val_mean_squared_error: 4.1895 - val_mean_absolute_error: 1.6302\n",
            "Epoch 162/200\n",
            "140/140 [==============================] - 0s 3ms/step - loss: 5.8929 - mean_squared_error: 5.8929 - mean_absolute_error: 1.9340 - val_loss: 4.4186 - val_mean_squared_error: 4.4186 - val_mean_absolute_error: 1.6827\n",
            "Epoch 163/200\n",
            "140/140 [==============================] - 0s 3ms/step - loss: 5.9323 - mean_squared_error: 5.9323 - mean_absolute_error: 1.9339 - val_loss: 4.1023 - val_mean_squared_error: 4.1023 - val_mean_absolute_error: 1.6168\n",
            "Epoch 164/200\n",
            "140/140 [==============================] - 0s 3ms/step - loss: 5.8315 - mean_squared_error: 5.8315 - mean_absolute_error: 1.9184 - val_loss: 4.1116 - val_mean_squared_error: 4.1116 - val_mean_absolute_error: 1.6181\n",
            "Epoch 165/200\n",
            "140/140 [==============================] - 0s 3ms/step - loss: 5.8078 - mean_squared_error: 5.8078 - mean_absolute_error: 1.9189 - val_loss: 4.1252 - val_mean_squared_error: 4.1252 - val_mean_absolute_error: 1.6234\n",
            "Epoch 166/200\n",
            "140/140 [==============================] - 0s 3ms/step - loss: 5.8201 - mean_squared_error: 5.8201 - mean_absolute_error: 1.9287 - val_loss: 4.2497 - val_mean_squared_error: 4.2497 - val_mean_absolute_error: 1.6436\n",
            "Epoch 167/200\n",
            "140/140 [==============================] - 0s 3ms/step - loss: 5.7284 - mean_squared_error: 5.7284 - mean_absolute_error: 1.9064 - val_loss: 4.0846 - val_mean_squared_error: 4.0846 - val_mean_absolute_error: 1.6185\n",
            "Epoch 168/200\n",
            "140/140 [==============================] - 1s 4ms/step - loss: 5.7410 - mean_squared_error: 5.7410 - mean_absolute_error: 1.9147 - val_loss: 4.2153 - val_mean_squared_error: 4.2153 - val_mean_absolute_error: 1.6390\n",
            "Epoch 169/200\n",
            "140/140 [==============================] - 1s 4ms/step - loss: 5.7829 - mean_squared_error: 5.7829 - mean_absolute_error: 1.9081 - val_loss: 4.0486 - val_mean_squared_error: 4.0486 - val_mean_absolute_error: 1.6058\n",
            "Epoch 170/200\n",
            "140/140 [==============================] - 0s 3ms/step - loss: 5.7564 - mean_squared_error: 5.7564 - mean_absolute_error: 1.9017 - val_loss: 4.0064 - val_mean_squared_error: 4.0064 - val_mean_absolute_error: 1.5987\n",
            "Epoch 171/200\n",
            "140/140 [==============================] - 1s 4ms/step - loss: 5.6724 - mean_squared_error: 5.6724 - mean_absolute_error: 1.8962 - val_loss: 4.0982 - val_mean_squared_error: 4.0982 - val_mean_absolute_error: 1.6149\n",
            "Epoch 172/200\n",
            "140/140 [==============================] - 1s 4ms/step - loss: 5.6712 - mean_squared_error: 5.6712 - mean_absolute_error: 1.8977 - val_loss: 3.8622 - val_mean_squared_error: 3.8622 - val_mean_absolute_error: 1.5695\n",
            "Epoch 173/200\n",
            "140/140 [==============================] - 1s 4ms/step - loss: 5.5952 - mean_squared_error: 5.5952 - mean_absolute_error: 1.8889 - val_loss: 4.1043 - val_mean_squared_error: 4.1043 - val_mean_absolute_error: 1.6183\n",
            "Epoch 174/200\n",
            "140/140 [==============================] - 0s 3ms/step - loss: 5.6858 - mean_squared_error: 5.6858 - mean_absolute_error: 1.8977 - val_loss: 3.9909 - val_mean_squared_error: 3.9909 - val_mean_absolute_error: 1.5972\n",
            "Epoch 175/200\n",
            "140/140 [==============================] - 0s 3ms/step - loss: 5.6096 - mean_squared_error: 5.6096 - mean_absolute_error: 1.8892 - val_loss: 3.9462 - val_mean_squared_error: 3.9462 - val_mean_absolute_error: 1.5860\n",
            "Epoch 176/200\n",
            "140/140 [==============================] - 0s 4ms/step - loss: 5.6689 - mean_squared_error: 5.6689 - mean_absolute_error: 1.8952 - val_loss: 4.0663 - val_mean_squared_error: 4.0663 - val_mean_absolute_error: 1.6082\n",
            "Epoch 177/200\n",
            "140/140 [==============================] - 1s 4ms/step - loss: 5.6821 - mean_squared_error: 5.6821 - mean_absolute_error: 1.9001 - val_loss: 4.1686 - val_mean_squared_error: 4.1686 - val_mean_absolute_error: 1.6362\n",
            "Epoch 178/200\n",
            "140/140 [==============================] - 1s 4ms/step - loss: 5.5113 - mean_squared_error: 5.5113 - mean_absolute_error: 1.8755 - val_loss: 3.9158 - val_mean_squared_error: 3.9158 - val_mean_absolute_error: 1.5855\n",
            "Epoch 179/200\n",
            "140/140 [==============================] - 0s 4ms/step - loss: 5.5628 - mean_squared_error: 5.5628 - mean_absolute_error: 1.8814 - val_loss: 4.0359 - val_mean_squared_error: 4.0359 - val_mean_absolute_error: 1.6078\n",
            "Epoch 180/200\n",
            "140/140 [==============================] - 1s 4ms/step - loss: 5.4750 - mean_squared_error: 5.4750 - mean_absolute_error: 1.8535 - val_loss: 3.9443 - val_mean_squared_error: 3.9443 - val_mean_absolute_error: 1.5876\n",
            "Epoch 181/200\n",
            "140/140 [==============================] - 1s 4ms/step - loss: 5.5251 - mean_squared_error: 5.5251 - mean_absolute_error: 1.8797 - val_loss: 3.8606 - val_mean_squared_error: 3.8606 - val_mean_absolute_error: 1.5719\n",
            "Epoch 182/200\n",
            "140/140 [==============================] - 1s 4ms/step - loss: 5.5627 - mean_squared_error: 5.5627 - mean_absolute_error: 1.8834 - val_loss: 3.9741 - val_mean_squared_error: 3.9741 - val_mean_absolute_error: 1.5949\n",
            "Epoch 183/200\n",
            "140/140 [==============================] - 0s 3ms/step - loss: 5.4697 - mean_squared_error: 5.4697 - mean_absolute_error: 1.8642 - val_loss: 3.9230 - val_mean_squared_error: 3.9230 - val_mean_absolute_error: 1.5840\n",
            "Epoch 184/200\n",
            "140/140 [==============================] - 0s 3ms/step - loss: 5.5261 - mean_squared_error: 5.5261 - mean_absolute_error: 1.8744 - val_loss: 3.9340 - val_mean_squared_error: 3.9340 - val_mean_absolute_error: 1.5857\n",
            "Epoch 185/200\n",
            "140/140 [==============================] - 0s 4ms/step - loss: 5.5035 - mean_squared_error: 5.5035 - mean_absolute_error: 1.8675 - val_loss: 3.9930 - val_mean_squared_error: 3.9930 - val_mean_absolute_error: 1.5989\n",
            "Epoch 186/200\n",
            "140/140 [==============================] - 1s 4ms/step - loss: 5.4836 - mean_squared_error: 5.4836 - mean_absolute_error: 1.8585 - val_loss: 3.8874 - val_mean_squared_error: 3.8874 - val_mean_absolute_error: 1.5765\n",
            "Epoch 187/200\n",
            "140/140 [==============================] - 1s 4ms/step - loss: 5.4983 - mean_squared_error: 5.4983 - mean_absolute_error: 1.8713 - val_loss: 3.9830 - val_mean_squared_error: 3.9830 - val_mean_absolute_error: 1.5977\n",
            "Epoch 188/200\n",
            "140/140 [==============================] - 0s 4ms/step - loss: 5.4996 - mean_squared_error: 5.4996 - mean_absolute_error: 1.8642 - val_loss: 3.8883 - val_mean_squared_error: 3.8883 - val_mean_absolute_error: 1.5791\n",
            "Epoch 189/200\n",
            "140/140 [==============================] - 1s 4ms/step - loss: 5.5492 - mean_squared_error: 5.5492 - mean_absolute_error: 1.8774 - val_loss: 3.8943 - val_mean_squared_error: 3.8943 - val_mean_absolute_error: 1.5791\n",
            "Epoch 190/200\n",
            "140/140 [==============================] - 0s 3ms/step - loss: 5.4028 - mean_squared_error: 5.4028 - mean_absolute_error: 1.8549 - val_loss: 3.8672 - val_mean_squared_error: 3.8672 - val_mean_absolute_error: 1.5743\n",
            "Epoch 191/200\n",
            "140/140 [==============================] - 0s 3ms/step - loss: 5.4552 - mean_squared_error: 5.4552 - mean_absolute_error: 1.8590 - val_loss: 3.9004 - val_mean_squared_error: 3.9004 - val_mean_absolute_error: 1.5875\n",
            "Epoch 192/200\n",
            "140/140 [==============================] - 1s 4ms/step - loss: 5.3163 - mean_squared_error: 5.3163 - mean_absolute_error: 1.8427 - val_loss: 3.9934 - val_mean_squared_error: 3.9934 - val_mean_absolute_error: 1.6008\n",
            "Epoch 193/200\n",
            "140/140 [==============================] - 0s 3ms/step - loss: 5.4994 - mean_squared_error: 5.4994 - mean_absolute_error: 1.8633 - val_loss: 3.8059 - val_mean_squared_error: 3.8059 - val_mean_absolute_error: 1.5591\n",
            "Epoch 194/200\n",
            "140/140 [==============================] - 0s 4ms/step - loss: 5.4676 - mean_squared_error: 5.4676 - mean_absolute_error: 1.8618 - val_loss: 3.8376 - val_mean_squared_error: 3.8376 - val_mean_absolute_error: 1.5634\n",
            "Epoch 195/200\n",
            "140/140 [==============================] - 0s 3ms/step - loss: 5.3966 - mean_squared_error: 5.3966 - mean_absolute_error: 1.8549 - val_loss: 4.0492 - val_mean_squared_error: 4.0492 - val_mean_absolute_error: 1.6110\n",
            "Epoch 196/200\n",
            "140/140 [==============================] - 0s 3ms/step - loss: 5.4631 - mean_squared_error: 5.4631 - mean_absolute_error: 1.8613 - val_loss: 3.8350 - val_mean_squared_error: 3.8350 - val_mean_absolute_error: 1.5668\n",
            "Epoch 197/200\n",
            "140/140 [==============================] - 0s 3ms/step - loss: 5.4091 - mean_squared_error: 5.4091 - mean_absolute_error: 1.8447 - val_loss: 3.8421 - val_mean_squared_error: 3.8421 - val_mean_absolute_error: 1.5700\n",
            "Epoch 198/200\n",
            "140/140 [==============================] - 0s 4ms/step - loss: 5.3529 - mean_squared_error: 5.3529 - mean_absolute_error: 1.8394 - val_loss: 3.8326 - val_mean_squared_error: 3.8326 - val_mean_absolute_error: 1.5651\n",
            "Epoch 199/200\n",
            "140/140 [==============================] - 1s 4ms/step - loss: 5.4507 - mean_squared_error: 5.4507 - mean_absolute_error: 1.8582 - val_loss: 3.8515 - val_mean_squared_error: 3.8515 - val_mean_absolute_error: 1.5700\n",
            "Epoch 200/200\n",
            "140/140 [==============================] - 0s 3ms/step - loss: 5.4416 - mean_squared_error: 5.4416 - mean_absolute_error: 1.8526 - val_loss: 3.8191 - val_mean_squared_error: 3.8191 - val_mean_absolute_error: 1.5640\n"
          ],
          "name": "stdout"
        }
      ]
    },
    {
      "cell_type": "code",
      "metadata": {
        "id": "Ys_C_o0TPKF6",
        "colab_type": "code",
        "colab": {
          "base_uri": "https://localhost:8080/",
          "height": 283
        },
        "outputId": "75173e37-d279-46d2-9d10-feb2f319ef51"
      },
      "source": [
        "y_pred = model.predict(X_test)\n",
        "accuracy_plot(y_test, y_pred)"
      ],
      "execution_count": null,
      "outputs": [
        {
          "output_type": "display_data",
          "data": {
            "image/png": "[encoded data removed]",
            "text/plain": [
              "<Figure size 432x288 with 1 Axes>"
            ]
          },
          "metadata": {
            "tags": [],
            "needs_background": "light"
          }
        }
      ]
    },
    {
      "cell_type": "code",
      "metadata": {
        "id": "BQ5atl0KPOnX",
        "colab_type": "code",
        "colab": {
          "base_uri": "https://localhost:8080/",
          "height": 282
        },
        "outputId": "e7fba883-7842-4907-a0fb-2edd83bc469c"
      },
      "source": [
        "howGoodAmI(y_test, y_pred)"
      ],
      "execution_count": null,
      "outputs": [
        {
          "output_type": "execute_result",
          "data": {
            "text/plain": [
              "(0.04678002304841593, 3.944743361785659)"
            ]
          },
          "metadata": {
            "tags": []
          },
          "execution_count": 275
        },
        {
          "output_type": "display_data",
          "data": {
            "image/png": "[encoded data removed]",
            "text/plain": [
              "<Figure size 432x288 with 1 Axes>"
            ]
          },
          "metadata": {
            "tags": [],
            "needs_background": "light"
          }
        }
      ]
    },
    {
      "cell_type": "code",
      "metadata": {
        "id": "xMdH9Mo-Pb2e",
        "colab_type": "code",
        "colab": {
          "base_uri": "https://localhost:8080/",
          "height": 312
        },
        "outputId": "f4f07bea-8dd5-4347-ca49-148ef3d448cb"
      },
      "source": [
        "# summarize history for loss\n",
        "plt.plot(h.history['mean_squared_error'], label='train')\n",
        "plt.plot(h.history['val_mean_squared_error'], label='test')\n",
        "plt.title('model mse')\n",
        "plt.ylabel('mse')\n",
        "plt.xlabel('epoch')\n",
        "plt.legend()"
      ],
      "execution_count": null,
      "outputs": [
        {
          "output_type": "execute_result",
          "data": {
            "text/plain": [
              "<matplotlib.legend.Legend at 0x7fd4210610b8>"
            ]
          },
          "metadata": {
            "tags": []
          },
          "execution_count": 276
        },
        {
          "output_type": "display_data",
          "data": {
            "image/png": "[encoded data removed]",
            "text/plain": [
              "<Figure size 432x288 with 1 Axes>"
            ]
          },
          "metadata": {
            "tags": [],
            "needs_background": "light"
          }
        }
      ]
    },
    {
      "cell_type": "code",
      "metadata": {
        "id": "d2kDaeJ6PpIz",
        "colab_type": "code",
        "colab": {}
      },
      "source": [
        ""
      ],
      "execution_count": null,
      "outputs": []
    }
  ]
}