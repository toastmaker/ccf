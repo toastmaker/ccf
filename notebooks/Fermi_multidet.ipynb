{
 "cells": [
  {
   "cell_type": "code",
   "execution_count": 77,
   "metadata": {},
   "outputs": [],
   "source": [
    "import astropy as ap\n",
    "from astropy.io import fits\n",
    "import numpy as np"
   ]
  },
  {
   "cell_type": "code",
   "execution_count": 37,
   "metadata": {},
   "outputs": [],
   "source": [
    "fname=\"https://heasarc.gsfc.nasa.gov/FTP/fermi/data/gbm/bursts/2020/bn%s/current/glg_ctime_n%i_bn%s_v00.pha\" #NaI det spectra\n",
    "alldets=[]\n",
    "bid=\"200412381\"\n",
    "good=[]\n",
    "for ndet in range(12):\n",
    "    try:\n",
    "        dd=fits.getdata(fname%(bid,ndet,bid),ext=2)\n",
    "    except:\n",
    "        continue\n",
    "    good.append(ndet)\n",
    "    times=np.array([d[3] for d in dd])\n",
    "    allcurves=np.array([d[0] for d in dd]).T\n",
    "    alldets.append(np.array([times]+list(allcurves)))"
   ]
  },
  {
   "cell_type": "code",
   "execution_count": 23,
   "metadata": {},
   "outputs": [],
   "source": [
    "expo=det[0][1:]-det[0][:-1]\n",
    "sel=(expo>0.05)*(expo<0.15)\n",
    "tran=np.where(sel)[0][[0,-1]]\n",
    "tsel=slice(tran[0],tran[1])"
   ]
  },
  {
   "cell_type": "code",
   "execution_count": 27,
   "metadata": {},
   "outputs": [
    {
     "data": {
      "text/plain": [
       "[139, 4829, 3055, 150, 147, 148, 150, 149, 151, 148]"
      ]
     },
     "execution_count": 27,
     "metadata": {},
     "output_type": "execute_result"
    }
   ],
   "source": [
    "tmaxes=[np.argmax(det[1:,tsel].sum(0)) for det in alldets]\n",
    "tmaxes"
   ]
  },
  {
   "cell_type": "code",
   "execution_count": 36,
   "metadata": {},
   "outputs": [
    {
     "data": {
      "text/plain": [
       "[7.643208145272775,\n",
       " 8.47498374359133,\n",
       " 8.036431179284596,\n",
       " 9.305904698574619,\n",
       " 8.318623380673928,\n",
       " 8.622649930697904,\n",
       " 7.284775374009169,\n",
       " 7.881534421562962,\n",
       " 6.970882639596147,\n",
       " 9.16814691557263]"
      ]
     },
     "execution_count": 36,
     "metadata": {},
     "output_type": "execute_result"
    }
   ],
   "source": [
    "basel=[det[1:,tran[1]-200:tran[1]-2].sum(0).mean() for det in alldets]\n",
    "bastd=[det[1:,tran[1]-200:tran[1]-2].sum(0).std() for det in alldets]\n",
    "bastd"
   ]
  },
  {
   "cell_type": "code",
   "execution_count": 42,
   "metadata": {},
   "outputs": [
    {
     "data": {
      "text/plain": [
       "array([3, 6, 7, 8, 9])"
      ]
     },
     "execution_count": 42,
     "metadata": {},
     "output_type": "execute_result"
    }
   ],
   "source": [
    "maxig=[alldets[i][1:,tsel][:,tmaxes[i]].sum()-basel[i] for i in range(10)]\n",
    "sigma=np.array(maxig)/bastd\n",
    "np.array(good)[sigma>30]"
   ]
  },
  {
   "cell_type": "code",
   "execution_count": 69,
   "metadata": {},
   "outputs": [
    {
     "data": {
      "text/plain": [
       "141.30689799785614"
      ]
     },
     "execution_count": 69,
     "metadata": {},
     "output_type": "execute_result"
    }
   ],
   "source": [
    "det[0,tsel][150]-t0"
   ]
  },
  {
   "cell_type": "code",
   "execution_count": 43,
   "metadata": {},
   "outputs": [
    {
     "data": {
      "text/plain": [
       "[<matplotlib.lines.Line2D at 0x7fc79bfc2850>]"
      ]
     },
     "execution_count": 43,
     "metadata": {},
     "output_type": "execute_result"
    },
    {
     "data": {
      "image/png": "[encoded data removed]",
      "text/plain": [
       "<Figure size 432x288 with 1 Axes>"
      ]
     },
     "metadata": {
      "needs_background": "light"
     },
     "output_type": "display_data"
    }
   ],
   "source": [
    "import matplotlib.pyplot as pl\n",
    "%matplotlib inline\n",
    "\n",
    "det=alldets[3]\n",
    "pl.plot(det[0][tsel],det[1:4,tsel].sum(0))"
   ]
  },
  {
   "cell_type": "code",
   "execution_count": 44,
   "metadata": {},
   "outputs": [],
   "source": [
    "fname3=\"https://heasarc.gsfc.nasa.gov/FTP/fermi/data/gbm/bursts/2020/bn%s/current/glg_tte_n%i_bn%s_v00.fit\"\n",
    "dsel=[6,7,8,9]\n",
    "mulist=[fits.getdata(fname3%(bid,d,bid),ext=2) for d in dsel]\n"
   ]
  },
  {
   "cell_type": "code",
   "execution_count": 45,
   "metadata": {},
   "outputs": [
    {
     "data": {
      "text/plain": [
       "[(610409,), (646273,), (579986,), (652860,)]"
      ]
     },
     "execution_count": 45,
     "metadata": {},
     "output_type": "execute_result"
    }
   ],
   "source": [
    "[m.shape for m in mulist]"
   ]
  },
  {
   "cell_type": "code",
   "execution_count": 123,
   "metadata": {},
   "outputs": [
    {
     "data": {
      "text/plain": [
       "array([89.9693  , 89.97569 , 89.976105, 89.97805 , 89.97905 , 89.97963 ,\n",
       "       89.98186 , 89.98356 , 89.98872 , 89.99036 , 89.99091 , 89.99108 ,\n",
       "       89.99115 , 89.99142 , 89.99142 , 89.991936, 89.99271 , 89.994736,\n",
       "       89.99611 , 89.99637 , 89.997925, 89.99866 , 90.000275, 90.002945,\n",
       "       90.00398 , 90.004944, 90.006805, 90.00695 , 90.00699 , 90.00723 ,\n",
       "       90.00741 , 90.00768 , 90.00783 , 90.00817 , 90.01046 , 90.01259 ,\n",
       "       90.013954, 90.01411 , 90.0161  , 90.01842 , 90.01919 , 90.02016 ,\n",
       "       90.02016 , 90.02073 , 90.02313 , 90.025345, 90.025604, 90.02772 ,\n",
       "       90.02829 , 90.02964 , 90.0312  , 90.032974, 90.033775, 90.03544 ,\n",
       "       90.03607 , 90.03671 , 90.04172 , 90.04198 , 90.04281 , 90.044235,\n",
       "       90.047035, 90.04805 , 90.04864 , 90.048645, 90.04889 , 90.051544,\n",
       "       90.052605, 90.0528  , 90.05315 , 90.05355 , 90.054955, 90.055405,\n",
       "       90.05613 , 90.05631 , 90.0572  , 90.05972 , 90.062675, 90.062775,\n",
       "       90.0637  , 90.06508 , 90.06538 , 90.0657  , 90.06576 , 90.06867 ,\n",
       "       90.06868 , 90.068794, 90.068886, 90.07023 , 90.07048 , 90.07091 ,\n",
       "       90.07329 , 90.076675, 90.07833 , 90.078804, 90.08483 , 90.08502 ,\n",
       "       90.08871 , 90.08887 , 90.0902  , 90.09264 ], dtype=float32)"
      ]
     },
     "execution_count": 123,
     "metadata": {},
     "output_type": "execute_result"
    }
   ],
   "source": [
    "tevs=np.load(\"det6.npz\")['time']\n",
    "tevs[z0:][:100]"
   ]
  },
  {
   "cell_type": "code",
   "execution_count": 117,
   "metadata": {},
   "outputs": [
    {
     "data": {
      "text/plain": [
       "89.97569394111633"
      ]
     },
     "execution_count": 117,
     "metadata": {},
     "output_type": "execute_result"
    }
   ],
   "source": [
    "mulist[0]['TIME'][z0+1]-t0"
   ]
  },
  {
   "cell_type": "code",
   "execution_count": 122,
   "metadata": {},
   "outputs": [
    {
     "data": {
      "text/plain": [
       "[None, None, None, None]"
      ]
     },
     "execution_count": 122,
     "metadata": {},
     "output_type": "execute_result"
    }
   ],
   "source": [
    "[np.savez(\"det%i.npz\"%(6+i),time=(m['TIME']-t0).astype(np.float32),pha=m['PHA'].astype('i8')) for i,m in enumerate(mulist)]\n",
    "#from imp import reload \n",
    "#import evlist_corr\n",
    "#reload(evlist_corr)"
   ]
  },
  {
   "cell_type": "code",
   "execution_count": 62,
   "metadata": {},
   "outputs": [
    {
     "data": {
      "text/plain": [
       "0.0"
      ]
     },
     "execution_count": 62,
     "metadata": {},
     "output_type": "execute_result"
    }
   ],
   "source": [
    "inp2=np.load(\"det6.npz\")\n",
    "abs(inp['time']-inp2['time']).max()"
   ]
  },
  {
   "cell_type": "code",
   "execution_count": 181,
   "metadata": {},
   "outputs": [
    {
     "data": {
      "text/plain": [
       "(126869, 116617)"
      ]
     },
     "execution_count": 181,
     "metadata": {},
     "output_type": "execute_result"
    }
   ],
   "source": [
    "from evlist_corr import *\n",
    "t0=608375194\n",
    "tmax=140\n",
    "tevs=np.load(\"det7.npz\")['time']\n",
    "tevs2=np.load(\"det8.npz\")['time']\n",
    "qr=np.arange(len(tevs))\n",
    "z0=qr[tevs>=tmax-40][0]\n",
    "z1=qr[tevs>=tmax+40][0]\n",
    "#z0=sum(tevs<tmax-40)\n",
    "qr=np.arange(len(tevs2))\n",
    "z20=qr[tevs2>=tmax-40][0]\n",
    "z21=qr[tevs2>=tmax+40][0]\n",
    "#z20=sum(tevs2<tmax-40)\n",
    "#z21=sum(tevs2<tmax+40)\n",
    "z1-z0,z21-z20"
   ]
  },
  {
   "cell_type": "code",
   "execution_count": 182,
   "metadata": {},
   "outputs": [
    {
     "data": {
      "text/plain": [
       "[<matplotlib.lines.Line2D at 0x7fc782cce310>]"
      ]
     },
     "execution_count": 182,
     "metadata": {},
     "output_type": "execute_result"
    },
    {
     "data": {
      "image/png": "[encoded data removed]",
      "text/plain": [
       "<Figure size 432x288 with 1 Axes>"
      ]
     },
     "metadata": {
      "needs_background": "light"
     },
     "output_type": "display_data"
    }
   ],
   "source": [
    "dt,k,l=0,0,0\n",
    "subsam=5\n",
    "fac=50\n",
    "sel2=slice(z0+k,z1,subsam)\n",
    "bin1,cur1=lcurve(tevs[z0:z1],fac,-2*fac,tstart=90)\n",
    "bin2,cur2=lcurve(tevs2[z20:z21]+dt,fac,-2*fac,tstart=90)\n",
    "nor1,nor2=1/cur1.sum(),1/cur2.sum()\n",
    "pl.plot(bin1,cur1)\n",
    "pl.plot(bin2,cur2)"
   ]
  },
  {
   "cell_type": "code",
   "execution_count": 216,
   "metadata": {},
   "outputs": [],
   "source": [
    "#import extra\n",
    "def clipped(val,nsig=3.,nclip=1,loud=0,rep=0):\n",
    "    '''clipped average'''\n",
    "    from numpy import bool,ones\n",
    "    sel=ones(val.shape,bool)\n",
    "    rcheck=False\n",
    "    nold=len(val)\n",
    "    if nclip<0: \n",
    "        nclip=nold\n",
    "        rcheck=True\n",
    "    for i in range(nclip):\n",
    "        avg=val[sel].mean()\n",
    "        std=val[sel].std()\n",
    "        if loud>0: print(\"selecting %f +- %f\"%(avg,std*nsig))\n",
    "        sel=abs(val-avg)<std*nsig\n",
    "        if rcheck:\n",
    "            nnew=sum(sel)\n",
    "            if nnew==nold: break # no sense of repeating\n",
    "            nold=nnew\n",
    "    if rep==1: return val[sel].min(),val[sel].max()\n",
    "    return sel\n",
    "vals=gres2[:,2].reshape(nshi,subsam**2)[3]\n",
    "def randids(z0=0,z1=100,frac=5):\n",
    "    slen=(z1-z0)//frac\n",
    "    return z0+np.random.randint(frac,size=slen)+frac*np.arange(slen)\n",
    "#clipped(vals,nclip=3)"
   ]
  },
  {
   "cell_type": "code",
   "execution_count": 292,
   "metadata": {},
   "outputs": [
    {
     "data": {
      "text/plain": [
       "[0.0,\n",
       " 3.7256357692066424,\n",
       " 7.678326086964053,\n",
       " 10.820683176530071,\n",
       " 15.701784099868561]"
      ]
     },
     "execution_count": 292,
     "metadata": {},
     "output_type": "execute_result"
    }
   ],
   "source": [
    "def onetest(ev1,ev2,fac,tstart=110,do_fit=True):\n",
    "    bin1,cur1=lcurve(ev1,fac,-2*fac,tstart=tstart)\n",
    "    bin2,cur2=lcurve(ev2,fac,-2*fac,tstart=tstart)\n",
    "    nor1,nor2=1/cur1.sum(),1/cur2.sum()\n",
    "    cwin1=cur1[(qmid-qsiz)*fac:(qmid+qsiz)*fac]\n",
    "    cwin2=cur2[:qful*fac]\n",
    "    cfunc=np.correlate(cwin1*nor1,cwin2*nor2,\"valid\")\n",
    "    if do_fit:\n",
    "        try:\n",
    "            res=[fit_corr(cfunc,doplot=False,inifac=fac/100,cmax=cent)[0]-cent]\n",
    "        except:\n",
    "            res=[0]\n",
    "    else:\n",
    "        res=[0]\n",
    "    res+=list(wcent(cfunc,nbin=5)-cent)\n",
    "    res+=[cfunc.max(),cwin1.max(),cwin2.max(),np.argmax(cwin1),np.argmax(cwin2)]\n",
    "    return res\n",
    "\n",
    "qmid,qsiz=34,12\n",
    "qful=2*qmid\n",
    "def multest(tevs,tevs2,niter=50,fac=50,subsam=10,nshi=10,randomize=True,do_fit=False):\n",
    "    #selecting every subsam event\n",
    "    #shifting wrt. binning\n",
    "    cent=(qmid-qsiz)*fac\n",
    "    \n",
    "    gres2=[]\n",
    "    if randomize:\n",
    "        for m in range(niter):\n",
    "            ev1=tevs[randids(z0,z1,subsam)]\n",
    "            ev2=tevs2[randids(z20,z21,subsam)]\n",
    "            for dt in np.r_[0:1./fac:nshi*1j]:\n",
    "                gres2.append(onetest(ev1+dt,ev2+dt,fac,do_fit=do_fit))\n",
    "    else:\n",
    "        for k in range(subsam):\n",
    "            for l in range(subsam):\n",
    "                sel2=slice(z0+k,z1,subsam)\n",
    "                sel22=slice(z20+l,z21,subsam)\n",
    "                gres2.append(onetest(tevs[sel2]+dt,tevs2[sel22]+dt,fac,do_fit=do_fit))         \n",
    "    return np.array(gres2)\n",
    "\n",
    "#[np.std(np.median(gres2[:,i].reshape(nshi,subsam**2),0))/fac*1e3 for i in range(0,5)]\n",
    "gres2=multest(tevs,tevs2,50,nshi=20)\n",
    "\n",
    "[np.std(np.median(gres2[:,i].reshape(len(gres2)//nshi,nshi),1))/fac*1e3 for i in range(0,5)]"
   ]
  },
  {
   "cell_type": "code",
   "execution_count": null,
   "metadata": {},
   "outputs": [],
   "source": [
    "mes=[]\n",
    "for \n",
    "mes.append([np.std(np.median(gres2[:,i].reshape(len(gres2)//nshi,nshi),1))/fac*1e3 for i in range(0,5)])"
   ]
  },
  {
   "cell_type": "code",
   "execution_count": 272,
   "metadata": {},
   "outputs": [
    {
     "data": {
      "text/plain": [
       "array([-0.74419698, -0.48356043, -0.41866004, -0.10943079, -0.05271028,\n",
       "       -0.35659406, -0.29317197, -0.11072288, -0.35512961, -0.29197291,\n",
       "       -0.3536306 , -0.16839592, -0.05096032,  0.2872583 ,  0.00359485,\n",
       "       -0.35333398, -0.29151437, -0.41841295, -0.86859467, -0.74419539])"
      ]
     },
     "execution_count": 272,
     "metadata": {},
     "output_type": "execute_result"
    }
   ],
   "source": [
    "i=1\n",
    "nshi=20\n",
    "pok=gres2[:,i].reshape(len(gres2)//nshi,nshi)\n",
    "pok[3]"
   ]
  },
  {
   "cell_type": "code",
   "execution_count": 279,
   "metadata": {},
   "outputs": [
    {
     "data": {
      "text/plain": [
       "(2.849612785356208, 2.841663085699764)"
      ]
     },
     "execution_count": 279,
     "metadata": {},
     "output_type": "execute_result"
    }
   ],
   "source": [
    "pok2=[p[clipped(p,nsig=2,nclip=2)] for p in pok]\n",
    "np.std([np.median(p) for p in pok2])/fac*1e3,np.std([np.median(p) for p in pok])/fac*1e3"
   ]
  },
  {
   "cell_type": "markdown",
   "metadata": {},
   "source": [
    "### testing different eventlist combinations \n",
    "(NaI detectors 6-9)\n"
   ]
  },
  {
   "cell_type": "code",
   "execution_count": 283,
   "metadata": {},
   "outputs": [],
   "source": [
    "alldat={}\n",
    "allrang={}\n",
    "for i in range(6,10):\n",
    "    alldat[i]=np.load(\"det%i.npz\"%i)['time']\n",
    "    qr=np.arange(len(alldat[i]))\n",
    "    allrang[i]=[qr[alldat[i]>=tmax-40][0],qr[alldat[i]>=tmax+40][0]]\n",
    "    "
   ]
  },
  {
   "cell_type": "markdown",
   "metadata": {},
   "source": [
    "#### timebin 10 ms (fac=100)"
   ]
  },
  {
   "cell_type": "code",
   "execution_count": 312,
   "metadata": {},
   "outputs": [
    {
     "data": {
      "text/plain": [
       "array([[  1036, -13996, -11409, -14635,  -9470],\n",
       "       [  2099, -11212,  -6230, -13641,  -3051],\n",
       "       [  2383, -11920,  -5740, -14137,  -2792],\n",
       "       [  1393,  -1725,   1595,  -4183,   3205],\n",
       "       [  1558,  -1681,   2428,  -3992,   3929],\n",
       "       [  2508,  -8421,  -1572, -10656,    489]])"
      ]
     },
     "execution_count": 312,
     "metadata": {},
     "output_type": "execute_result"
    }
   ],
   "source": [
    "mes=[]\n",
    "fac=100\n",
    "nshi=10\n",
    "for i in range(6,9):\n",
    "    for j in range(i+1,10):\n",
    "        tevs,tevs2=alldat[i],alldat[j]\n",
    "        z0,z1=allrang[i]#,alldat[j]#qr[tevs>=tmax-40][0],qr[tevs>=tmax+40][0]\n",
    "        z20,z21=allrang[j]\n",
    "        gres2=multest(tevs,tevs2,fac,nshi=nshi, do_fit=False)\n",
    "        cumsel=1 #narrow region around maximum\n",
    "        medpos=np.median(gres2[:,cumsel].reshape(len(gres2)//nshi,nshi),1)/fac*1e3\n",
    "        rep=[np.std(medpos)]+list(np.percentile(medpos,[10,90]))\n",
    "        rep+=list(np.percentile(gres2[:,cumsel].ravel(),[10,90])/fac*1e3)\n",
    "        mes.append(rep)\n",
    "(np.array(mes)*1e3).astype(int)"
   ]
  },
  {
   "cell_type": "markdown",
   "metadata": {},
   "source": [
    "#### timebin 20 ms (fac=50)"
   ]
  },
  {
   "cell_type": "code",
   "execution_count": 310,
   "metadata": {},
   "outputs": [
    {
     "data": {
      "text/plain": [
       "array([[  2192, -28328, -22806, -29376, -18945],\n",
       "       [  3386, -22962, -14520, -27243,  -7520],\n",
       "       [  4107, -24907, -13743, -27685,  -8536],\n",
       "       [  3093,  -4059,   3680,  -8397,   6408],\n",
       "       [  2858,  -2701,   4316,  -7942,   7108],\n",
       "       [  4258, -16063,  -3861, -21294,    920]])"
      ]
     },
     "execution_count": 310,
     "metadata": {},
     "output_type": "execute_result"
    }
   ],
   "source": [
    "mes2=[]\n",
    "fac=50\n",
    "for i in range(6,9):\n",
    "    for j in range(i+1,10):\n",
    "        tevs,tevs2=alldat[i],alldat[j]\n",
    "        z0,z1=allrang[i]#,alldat[j]#qr[tevs>=tmax-40][0],qr[tevs>=tmax+40][0]\n",
    "        z20,z21=allrang[j]\n",
    "        gres2=multest(tevs,tevs2,fac,nshi=nshi, do_fit=False)\n",
    "        cumsel=1 #narrow region around maximum\n",
    "        medpos=np.median(gres2[:,cumsel].reshape(len(gres2)//nshi,nshi),1)/fac*1e3\n",
    "        rep=[np.std(medpos)]+list(np.percentile(medpos,[10,90]))\n",
    "        rep+=list(np.percentile(gres2[:,cumsel].ravel(),[10,90])/fac*1e3)\n",
    "        mes2.append(rep)\n",
    "(np.array(mes2)*1e3).astype(int)"
   ]
  },
  {
   "cell_type": "markdown",
   "metadata": {},
   "source": [
    "#### timebin 5 ms (fac=200)"
   ]
  },
  {
   "cell_type": "code",
   "execution_count": 313,
   "metadata": {},
   "outputs": [
    {
     "data": {
      "text/plain": [
       "array([[  589, -7071, -5652, -7316, -4736],\n",
       "       [ 1145, -5876, -3126, -6829, -1869],\n",
       "       [ 1012, -6084, -3447, -6910, -2130],\n",
       "       [  819, -1000,  1020, -2096,  1742],\n",
       "       [  749,  -679,  1103, -1996,  1958],\n",
       "       [ 1002, -3679, -1153, -5019,   244]])"
      ]
     },
     "execution_count": 313,
     "metadata": {},
     "output_type": "execute_result"
    }
   ],
   "source": [
    "mes3=[]\n",
    "fac=200\n",
    "for i in range(6,9):\n",
    "    for j in range(i+1,10):\n",
    "        tevs,tevs2=alldat[i],alldat[j]\n",
    "        z0,z1=allrang[i]#,alldat[j]#qr[tevs>=tmax-40][0],qr[tevs>=tmax+40][0]\n",
    "        z20,z21=allrang[j]\n",
    "        gres2=multest(tevs,tevs2,fac,nshi=nshi, do_fit=False)\n",
    "        cumsel=1 #narrow region around maximum\n",
    "        medpos=np.median(gres2[:,cumsel].reshape(len(gres2)//nshi,nshi),1)/fac*1e3\n",
    "        rep=[np.std(medpos)]+list(np.percentile(medpos,[10,90]))\n",
    "        rep+=list(np.percentile(gres2[:,cumsel].ravel(),[10,90])/fac*1e3)\n",
    "        mes3.append(rep)\n",
    "(np.array(mes3)*1e3).astype(int)"
   ]
  },
  {
   "cell_type": "code",
   "execution_count": 281,
   "metadata": {},
   "outputs": [
    {
     "data": {
      "text/plain": [
       "[<matplotlib.lines.Line2D at 0x7fc781fde6a0>]"
      ]
     },
     "execution_count": 281,
     "metadata": {},
     "output_type": "execute_result"
    },
    {
     "data": {
      "image/png": "[encoded data removed]",
      "text/plain": [
       "<Figure size 432x288 with 1 Axes>"
      ]
     },
     "metadata": {
      "needs_background": "light"
     },
     "output_type": "display_data"
    }
   ],
   "source": [
    "ev1=tevs[randids(z0,z1,subsam)]\n",
    "bin1,cur1=lcurve(ev1,fac,-2*fac,tstart=110)\n",
    "pl.plot(bin1,cur1/fac)"
   ]
  },
  {
   "cell_type": "code",
   "execution_count": 240,
   "metadata": {},
   "outputs": [
    {
     "data": {
      "text/plain": [
       "[41.757131218974884,\n",
       " 2.3319603156508872,\n",
       " 5.360105574098808,\n",
       " 7.749381303627726,\n",
       " 11.107511880713224]"
      ]
     },
     "execution_count": 240,
     "metadata": {},
     "output_type": "execute_result"
    }
   ],
   "source": [
    "[np.std(np.median(gres2[:,i].reshape(nshi,50),0))/fac*1e3 for i in range(0,5)]"
   ]
  },
  {
   "cell_type": "code",
   "execution_count": 251,
   "metadata": {},
   "outputs": [
    {
     "data": {
      "text/plain": [
       "2.1559087316092937"
      ]
     },
     "execution_count": 251,
     "metadata": {},
     "output_type": "execute_result"
    },
    {
     "data": {
      "image/png": "[encoded data removed]",
      "text/plain": [
       "<Figure size 432x288 with 1 Axes>"
      ]
     },
     "metadata": {
      "needs_background": "light"
     },
     "output_type": "display_data"
    }
   ],
   "source": [
    "#pl.hist(gres2[:,1].ravel())\n",
    "set1=np.median(gres2[:,1].reshape(len(gres2)//nshi,nshi),1)\n",
    "pl.hist(set1)\n",
    "np.std(set1[clipped(set1,nsig=2,nclip=2)])*1e3/fac"
   ]
  },
  {
   "cell_type": "code",
   "execution_count": 229,
   "metadata": {},
   "outputs": [
    {
     "data": {
      "text/plain": [
       "[<matplotlib.lines.Line2D at 0x7fc783c87790>]"
      ]
     },
     "execution_count": 229,
     "metadata": {},
     "output_type": "execute_result"
    },
    {
     "data": {
      "image/png": "[encoded data removed]",
      "text/plain": [
       "<Figure size 432x288 with 1 Axes>"
      ]
     },
     "metadata": {
      "needs_background": "light"
     },
     "output_type": "display_data"
    }
   ],
   "source": [
    "pl.plot(gres2[:,0],gres2[:,-4]/fac,'+')"
   ]
  },
  {
   "cell_type": "markdown",
   "metadata": {},
   "source": [
    "#### hokus pokus"
   ]
  },
  {
   "cell_type": "code",
   "execution_count": 169,
   "metadata": {},
   "outputs": [],
   "source": [
    "#import astroquery\n",
    "from astroquery.heasarc import Heasarc\n",
    "heasarc = Heasarc()"
   ]
  },
  {
   "cell_type": "code",
   "execution_count": null,
   "metadata": {},
   "outputs": [],
   "source": [
    "mission=b'fermigbrst'\n",
    "from astropy.coordinates import SkyCoord\n",
    "from astropy import units as u\n",
    "coords = SkyCoord('12h00m00s +04d12m06s', frame='icrs')\n",
    "table = heasarc.query_region(coords, mission=mission, radius=120*u.arcmin)#,format='pandas.csv')\n",
    "#heasarc.query()"
   ]
  },
  {
   "cell_type": "code",
   "execution_count": null,
   "metadata": {},
   "outputs": [],
   "source": [
    "|"
   ]
  }
 ],
 "metadata": {
  "kernelspec": {
   "display_name": "Python 3",
   "language": "python",
   "name": "python3"
  },
  "language_info": {
   "codemirror_mode": {
    "name": "ipython",
    "version": 3
   },
   "file_extension": ".py",
   "mimetype": "text/x-python",
   "name": "python",
   "nbconvert_exporter": "python",
   "pygments_lexer": "ipython3",
   "version": "3.6.5"
  }
 },
 "nbformat": 4,
 "nbformat_minor": 4
}
